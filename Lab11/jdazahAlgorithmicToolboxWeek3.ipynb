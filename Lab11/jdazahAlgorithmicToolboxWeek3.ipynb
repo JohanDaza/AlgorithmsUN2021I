{
  "nbformat": 4,
  "nbformat_minor": 0,
  "metadata": {
    "colab": {
      "name": "jdazahAlgorithmicToolboxWeek3.ipynb",
      "provenance": [],
      "collapsed_sections": []
    },
    "kernelspec": {
      "name": "python3",
      "display_name": "Python 3"
    },
    "language_info": {
      "name": "python"
    }
  },
  "cells": [
    {
      "cell_type": "markdown",
      "metadata": {
        "id": "uX20pTj78Pol"
      },
      "source": [
        "# **Introduction**\n",
        "\n",
        "In this programming assignment, you will be practicing implementing greedy solutions. As usual, in some\n",
        "problems you just need to implement an algorithm covered in the lectures, while for some others your goal\n",
        "will be to first design an algorithm and then to implement it. Thus, you will be practicing designing an\n",
        "algorithm, proving that it is correct, and implementing it.\n",
        "Recall that starting from this programming assignment, the grader will show you only the first few tests."
      ]
    },
    {
      "cell_type": "markdown",
      "metadata": {
        "id": "xTmlKbuE8T3U"
      },
      "source": [
        "## Money Change\n",
        "\n",
        "Problem Description\n",
        "\n",
        "**Task.** The goal in this problem is to find the minimum number of coins needed to change the input value (an integer) into coins with denominations 1, 5, and 10.\n",
        "\n",
        "**Input Format.** The input consists of a single integer 𝑚.\n",
        "\n",
        "**Constraints.** 1 ≤ 𝑚 ≤ $10^3$.\n",
        "\n",
        "**Output Format.** Output the minimum number of coins with denominations 1, 5, 10 that changes 𝑚.\n",
        "\n",
        "$\\underline{Sample \\hspace{0.2cm} 1.}$\n",
        "\n",
        "Input:\n",
        "\n",
        "`2`\n",
        "\n",
        "Output:\n",
        "\n",
        "`2`\n",
        "\n",
        "$2$ = $1 + 1$.\n",
        "\n",
        "$\\hspace{0.2cm}$\n",
        "\n",
        "$\\underline{Sample \\hspace{0.2cm} 2.}$\n",
        "\n",
        "Input:\n",
        "\n",
        "`28`\n",
        "\n",
        "Output:\n",
        "\n",
        "`6`\n",
        "\n",
        "$28 = 10 + 10 + 5 + 1 + 1 + 1$."
      ]
    },
    {
      "cell_type": "code",
      "metadata": {
        "colab": {
          "base_uri": "https://localhost:8080/"
        },
        "id": "kttoRlc57zmu",
        "outputId": "a613186c-aadd-4368-a6c8-6e364e88ef4b"
      },
      "source": [
        "# Naive Solution\n",
        "\n",
        "# Python 3\n",
        "\n",
        "import sys\n",
        "import time\n",
        "\n",
        "def get_change(m):\n",
        "  n = m / 10\n",
        "  m %= 10\n",
        "  n += m / 5\n",
        "  m %= 5\n",
        "  n += m\n",
        "  \n",
        "  return m\n",
        "  \n",
        "if __name__ == '__main__':\n",
        "    m = int(input())\n",
        "    start_time = time.time()\n",
        "    print(get_change(m))\n",
        "    print(\"--- %s seconds ---\" % (time.time() - start_time))"
      ],
      "execution_count": null,
      "outputs": [
        {
          "output_type": "stream",
          "text": [
            "2\n",
            "2\n",
            "--- 0.0008225440979003906 seconds ---\n"
          ],
          "name": "stdout"
        }
      ]
    },
    {
      "cell_type": "code",
      "metadata": {
        "colab": {
          "base_uri": "https://localhost:8080/"
        },
        "id": "QY2YLDwgCzRM",
        "outputId": "58f38ed3-23db-43b1-cf5d-4b5eaa0ba18e"
      },
      "source": [
        "# Fast Solution\n",
        "\n",
        "# Python3\n",
        "\n",
        "import sys\n",
        "import time\n",
        "\n",
        "n = int(input())\n",
        "\n",
        "start_time = time.time()\n",
        "\n",
        "count = 0\n",
        "for i in [10, 5, 1]:\n",
        "    if n>=i:\n",
        "        q = n//i\n",
        "        count += q\n",
        "        n = n%i\n",
        "        if n==0:\n",
        "            print(count)\n",
        "            quit()\n",
        "\n",
        "print(\"--- %s seconds ---\" % (time.time() - start_time))\n"
      ],
      "execution_count": null,
      "outputs": [
        {
          "output_type": "stream",
          "text": [
            "1028\n",
            "106\n",
            "--- 0.001041412353515625 seconds ---\n"
          ],
          "name": "stdout"
        }
      ]
    },
    {
      "cell_type": "markdown",
      "metadata": {
        "id": "lbLJWOQrDFos"
      },
      "source": [
        "## Maximum Value of the Loot\n",
        "\n",
        "Problem Description\n",
        "\n",
        "**Task.** The goal of this code problem is to implement an algorithm for the fractional knapsack problem.\n",
        "\n",
        "**Input Format.** The first line of the input contains the number 𝑛 of items and the capacity 𝑊 of a knapsack. The next 𝑛 lines define the values and weights of the items. The 𝑖-th line contains integers 𝑣𝑖 and 𝑤𝑖—the\n",
        "value and the weight of 𝑖-th item, respectively.\n",
        "\n",
        "**Constraints.** 1 ≤ 𝑛 ≤ $10^3$, 0 ≤ 𝑊 ≤ 2 · $10^6$; 0 ≤ 𝑣𝑖 ≤ 2 · $10^6$, 0 < 𝑤𝑖 ≤ 2 · $10^6$ for all 1 ≤ 𝑖 ≤ 𝑛. All the numbers are integers.\n",
        "\n",
        "**Output Format.** Output the maximal value of fractions of items that fit into the knapsack. The absolute value of the difference between the answer of your program and the optimal value should be at most $10^{-3}$. To ensure this,output your answer with at least four digits after the decimal point (otherwise your answer, while being computed correctly, can turn out to be wrong because of rounding issues).\n",
        "\n",
        "$\\underline{Sample \\hspace{0.2cm} 1.}$\n",
        "\n",
        "Input:\n",
        "\n",
        "`3 50`\n",
        "\n",
        "`60 20`\n",
        "\n",
        "`100 50`\n",
        "\n",
        "`120 30`\n",
        "\n",
        "Output:\n",
        "\n",
        "`180.0000`\n",
        "\n",
        "To achieve the value 180, we take the first item and the third item into the bag.\n",
        "\n",
        "$\\hspace{0.2cm}$\n",
        "\n",
        "$\\underline{Sample \\hspace{0.2cm} 2.}$\n",
        "\n",
        "Input:\n",
        "\n",
        "`1 10`\n",
        "\n",
        "`500 30`\n",
        "\n",
        "Output:\n",
        "\n",
        "`166.6667`\n",
        "\n",
        "To achieve the value 180, we take the first item and the third item into the bag."
      ]
    },
    {
      "cell_type": "code",
      "metadata": {
        "colab": {
          "base_uri": "https://localhost:8080/"
        },
        "id": "y1ybCLIHD9IL",
        "outputId": "f4c6788a-d407-4dfe-a893-dae7c6e95d45"
      },
      "source": [
        "# Direct Solution (no more naive BS)\n",
        "\n",
        "# Python3\n",
        "\n",
        "import sys\n",
        "import time\n",
        "\n",
        "n, W = [int(i) for i in input().split()]\n",
        "lst = []\n",
        "\n",
        "\n",
        "\n",
        "if W == 0:\n",
        "    print(0)\n",
        "    quit()\n",
        "\n",
        "for _ in range(n):\n",
        "    v, w = [int(i) for i in input().split()]\n",
        "    if v == 0:\n",
        "        continue\n",
        "    lst.append((v, w))\n",
        "\n",
        "lst.sort(key = lambda x: x[0]/x[1], reverse = True)\n",
        "\n",
        "total_value = 0\n",
        "\n",
        "start_time = time.time()\n",
        "\n",
        "for v,w in lst:\n",
        "    if W==0:\n",
        "        print(total_value)\n",
        "        quit()\n",
        "    amt = min(w, W)\n",
        "    total_value += amt*v/w\n",
        "    W -= amt\n",
        "\n",
        "print(total_value)\n",
        "print(\"--- %s seconds ---\" % (time.time() - start_time))"
      ],
      "execution_count": null,
      "outputs": [
        {
          "output_type": "stream",
          "text": [
            "1 10\n",
            "500 30\n",
            "166.66666666666666\n",
            "--- 0.0002703666687011719 seconds ---\n"
          ],
          "name": "stdout"
        }
      ]
    },
    {
      "cell_type": "markdown",
      "metadata": {
        "id": "TjgDySBqEqaV"
      },
      "source": [
        "## Car Fueling\n",
        "\n",
        "Problem Description\n",
        "\n",
        "You are going to travel to another city that is located 𝑑 miles away from your home city. Your car can travel at most 𝑚 miles on a full tank and you start with a full tank. Along your way, there are gas stations at distances stop1, stop2, . . . , stop𝑛 from your home city. What is the minimum number of refills needed?\n",
        "\n",
        "**Input Format.** The first line contains an integer 𝑑. The second line contains an integer 𝑚. The third line specifies an integer 𝑛. Finally, the last line contains integers stop1, stop2, . . . , stop𝑛.\n",
        "\n",
        "**Constraints.** 1 ≤ 𝑑 ≤ $10^5$. 1 ≤ 𝑚 ≤ 400. 1 ≤ 𝑛 ≤ 300. 0 < stop1 < stop2 < · · · < stop𝑛 < 𝑑.\n",
        "\n",
        "**Output Format.** Assuming that the distance between the cities is 𝑑 miles, a car can travel at most 𝑚 miles on a full tank, and there are gas stations at distances stop1, stop2, . . . , stop𝑛 along the way, output the minimum number of refills needed. Assume that the car starts with a full tank. If it is not possible to reach the destination, output −1.\n",
        "\n",
        "$\\underline{Sample \\hspace{0.2cm} 1.}$\n",
        "\n",
        "Input:\n",
        "\n",
        "`950`\n",
        "\n",
        "`400`\n",
        "\n",
        "`4`\n",
        "\n",
        "`200 375 550 750`\n",
        "\n",
        "Output:\n",
        "\n",
        "`2`\n",
        "\n",
        "The distance between the cities is 950, the car can travel at most 400 miles on a full tank. It suffices to make two refills: at points 375 and 750. This is the minimum number of refills as with a single refill one would only be able to travel at most 800 miles."
      ]
    },
    {
      "cell_type": "code",
      "metadata": {
        "colab": {
          "base_uri": "https://localhost:8080/"
        },
        "id": "FG5E2EktF5yF",
        "outputId": "3da63a0a-2917-4a23-e8bd-270c0626b18e"
      },
      "source": [
        "# Direct Solution (no more naive BS)\n",
        "\n",
        "# Python3\n",
        "\n",
        "import sys\n",
        "import time\n",
        "\n",
        "def compute_min_refills(distance, tank, stops):\n",
        "    stops.append(distance)\n",
        "    no_stops = 0\n",
        "    left_dist = distance\n",
        "    covered_dist = 0\n",
        "    for i in range(len(stops) - 1):\n",
        "        if (left_dist == 0):\n",
        "            break\n",
        "        elif ((stops[i + 1] - stops[i]) > tank):\n",
        "            no_stops = -1\n",
        "            break\n",
        "        elif ((covered_dist + tank) >= stops[i] and (covered_dist + tank) < stops[i + 1]):\n",
        "            covered_dist = stops[i]\n",
        "            left_dist = distance - stops[i]\n",
        "            no_stops +=  1\n",
        "    return no_stops\n",
        "\n",
        "\n",
        "if __name__ == '__main__':\n",
        "    d, m, _, *stops = map(int, input().split())\n",
        "    start_time = time.time()\n",
        "    print(compute_min_refills(d, m, stops))\n",
        "    print(\"--- %s seconds ---\" % (time.time() - start_time))\n"
      ],
      "execution_count": null,
      "outputs": [
        {
          "output_type": "stream",
          "text": [
            "950 400 4 200 375 550 750\n",
            "2\n",
            "--- 0.00014495849609375 seconds ---\n"
          ],
          "name": "stdout"
        }
      ]
    },
    {
      "cell_type": "markdown",
      "metadata": {
        "id": "F00kbH2EG_WE"
      },
      "source": [
        "## Maximum Advertisement Revenue\n",
        "\n",
        "Problem Description\n",
        "\n",
        "**Task.** Given two sequences 𝑎1, 𝑎2, . . . , 𝑎𝑛 (𝑎𝑖 is the profit per click of the 𝑖-th ad) and 𝑏1, 𝑏2, . . . , 𝑏𝑛 (𝑏𝑖 is the average number of clicks per day of the 𝑖-th slot), we need to partition them into 𝑛 pairs  𝑎𝑖, 𝑏𝑗) such that the sum of their products is maximized.\n",
        "\n",
        "**Input Format.** The first line contains an integer 𝑛, the second one contains a sequence of integers 𝑎1, 𝑎2, . . . , 𝑎𝑛, the third one contains a sequence of integers 𝑏1, 𝑏2, . . . , 𝑏𝑛.\n",
        "\n",
        "**Constraints.** 1 ≤ 𝑛 ≤ $10^3$; −$10^5$ ≤ 𝑎𝑖, 𝑏𝑖 ≤ $10^5$ for all 1 ≤ 𝑖 ≤ 𝑛.\n",
        "\n",
        "**Output Format.** Output the maximum value of $\\sum^n_{i=1}$ 𝑎𝑖 𝑐𝑖, where 𝑐1, 𝑐2, . . . , 𝑐𝑛 is a permutation of 𝑏1, 𝑏2, . . . , 𝑏𝑛.\n",
        "\n",
        "$\\underline{Sample \\hspace{0.2cm} 1.}$\n",
        "\n",
        "Input:\n",
        "\n",
        "`1`\n",
        "\n",
        "`23`\n",
        "\n",
        "`39`\n",
        "\n",
        "Output:\n",
        "\n",
        "`897`\n",
        "\n",
        "$897 = 23 · 39.$\n",
        "\n"
      ]
    },
    {
      "cell_type": "code",
      "metadata": {
        "colab": {
          "base_uri": "https://localhost:8080/"
        },
        "id": "c9-L323SH5Vs",
        "outputId": "b9a22f97-9a95-493f-805a-0494f231d2e4"
      },
      "source": [
        "# Direct Solution (no more naive BS)\n",
        "\n",
        "# Python3\n",
        "\n",
        "import sys\n",
        "import time\n",
        "\n",
        "n = int(input())\n",
        "a = [int(i) for i in input().split()]\n",
        "b = [int(i) for i in input().split()]\n",
        "start_time = time.time()\n",
        "a.sort()\n",
        "b.sort()\n",
        "ans = sum([a[i]*b[i] for i in range(n)])\n",
        "print(ans)\n",
        "print(\"--- %s seconds ---\" % (time.time() - start_time))"
      ],
      "execution_count": null,
      "outputs": [
        {
          "output_type": "stream",
          "text": [
            "1\n",
            "23\n",
            "39\n",
            "897\n",
            "--- 0.0003726482391357422 seconds ---\n"
          ],
          "name": "stdout"
        }
      ]
    },
    {
      "cell_type": "markdown",
      "metadata": {
        "id": "zIMsE24JIMqd"
      },
      "source": [
        "## Collecting Signatures\n",
        "\n",
        "Problem Description\n",
        "\n",
        "**Task.** Given a set of 𝑛 segments {[𝑎0, 𝑏0], [𝑎1, 𝑏1], . . . , [𝑎𝑛−1, 𝑏𝑛−1]} with integer coordinates on a line, find the minimum number 𝑚 of points such that each segment contains at least one point. That is, find a\n",
        "set of integers 𝑋 of the minimum size such that for any segment [𝑎𝑖, 𝑏𝑖] there is a point 𝑥 ∈ 𝑋 such that 𝑎𝑖 ≤ 𝑥 ≤ 𝑏𝑖.\n",
        "\n",
        "**Input Format.** The first line of the input contains the number 𝑛 of segments. Each of the following 𝑛 lines contains two integers 𝑎𝑖 and 𝑏𝑖 (separated by a space) defining the coordinates of endpoints of the 𝑖-th\n",
        "segment.\n",
        "\n",
        "**Constraints.** 1 ≤ 𝑛 ≤ 100; 0 ≤ 𝑎𝑖 ≤ 𝑏𝑖 ≤ $10^9$ for all 0 ≤ 𝑖 < 𝑛.\n",
        "\n",
        "**Output Format.** Output the minimum number 𝑚 of points on the first line and the integer coordinates of 𝑚 points (separated by spaces) on the second line. You can output the points in any order. If there are many such sets of points, you can output any set. (It is not difficult to see that there always exist a set of points of the minimum size such that all the coordinates of the points are integers.)\n",
        "\n",
        "$\\underline{Sample \\hspace{0.2cm} 1.}$\n",
        "\n",
        "Input:\n",
        "\n",
        "`3`\n",
        "\n",
        "`1 3`\n",
        "\n",
        "`2 5`\n",
        "\n",
        "`3 6`\n",
        "\n",
        "Output:\n",
        "\n",
        "`1`\n",
        "\n",
        "`3`\n",
        "\n",
        "In this sample, we have three segments: [1, 3], [2, 5], [3, 6] (of length 2, 3, 3 respectively). All of them contain the point with coordinate 3: 1 ≤ 3 ≤ 3, 2 ≤ 3 ≤ 5, 3 ≤ 3 ≤ 6.\n"
      ]
    },
    {
      "cell_type": "code",
      "metadata": {
        "colab": {
          "base_uri": "https://localhost:8080/"
        },
        "id": "4IWiKU8xJH1k",
        "outputId": "95d3f3ec-b83c-4c11-96f1-bdf5f550c59b"
      },
      "source": [
        "# Direct Solution (no more naive BS)\n",
        "\n",
        "# Python3\n",
        "\n",
        "import sys\n",
        "import time\n",
        "\n",
        "n = int(input())\n",
        "lst = []\n",
        "\n",
        "for _ in range(n):\n",
        "    a, b = [int(i) for i in input().split()]\n",
        "    lst.append((a,b))\n",
        "\n",
        "start_time = time.time()\n",
        "\n",
        "lst.sort(key = lambda x: x[1])\n",
        "\n",
        "index = 0\n",
        "coordinates = []\n",
        "\n",
        "while index < n:\n",
        "    curr = lst[index]\n",
        "    while index < n-1 and curr[1]>=lst[index+1][0]:\n",
        "        index += 1\n",
        "    coordinates.append(curr[1])\n",
        "    index += 1\n",
        "print(len(coordinates))\n",
        "print(' '.join([str(i) for i in coordinates]))\n",
        "print(\"--- %s seconds ---\" % (time.time() - start_time))"
      ],
      "execution_count": null,
      "outputs": [
        {
          "output_type": "stream",
          "text": [
            "3\n",
            "1 3\n",
            "2 5\n",
            "3 6\n",
            "1\n",
            "3\n",
            "--- 0.0004851818084716797 seconds ---\n"
          ],
          "name": "stdout"
        }
      ]
    },
    {
      "cell_type": "markdown",
      "metadata": {
        "id": "Mwe7zLxGJb2E"
      },
      "source": [
        "![image.png](data:image/png;base64,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)"
      ]
    }
  ]
}