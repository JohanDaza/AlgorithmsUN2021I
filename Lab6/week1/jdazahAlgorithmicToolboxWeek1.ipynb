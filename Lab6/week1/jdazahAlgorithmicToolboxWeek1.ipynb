{
  "nbformat": 4,
  "nbformat_minor": 0,
  "metadata": {
    "colab": {
      "name": "gjhernandezpAlgorithmicToolboxWeek1(1).ipynb",
      "provenance": [],
      "collapsed_sections": []
    },
    "kernelspec": {
      "name": "python3",
      "display_name": "Python 3"
    },
    "language_info": {
      "name": "python"
    }
  },
  "cells": [
    {
      "cell_type": "markdown",
      "metadata": {
        "id": "N1ok_-56OjB1"
      },
      "source": [
        "# I Solving the Sum of Two Digits Programming Challenge"
      ]
    },
    {
      "cell_type": "markdown",
      "metadata": {
        "id": "MMY7kmDSO0KM"
      },
      "source": [
        "## C++"
      ]
    },
    {
      "cell_type": "code",
      "metadata": {
        "colab": {
          "base_uri": "https://localhost:8080/"
        },
        "id": "2pGGf9BkPNIk",
        "outputId": "b499a0dd-0af6-467c-e068-6405c41f5ba3"
      },
      "source": [
        "%%writefile APlusB.cpp\n",
        "#include <iostream>\n",
        "\n",
        "int sum_of_two_digits(int first_digit, int second_digit) {\n",
        "    return first_digit + second_digit;\n",
        "}\n",
        "\n",
        "int main() {\n",
        "    int a = 0;\n",
        "    int b = 0;\n",
        "    std::cin >> a;\n",
        "    std::cin >> b;\n",
        "    std::cout << sum_of_two_digits(a, b);\n",
        "    return 0;\n",
        "}"
      ],
      "execution_count": null,
      "outputs": [
        {
          "output_type": "stream",
          "text": [
            "Writing APlusB.cpp\n"
          ],
          "name": "stdout"
        }
      ]
    },
    {
      "cell_type": "code",
      "metadata": {
        "colab": {
          "base_uri": "https://localhost:8080/"
        },
        "id": "0G3ZKOYAPXSU",
        "outputId": "793b10a9-1342-4eeb-a16d-728cf7ccb83c"
      },
      "source": [
        "!g++ APlusB.cpp -o APlusB\n",
        "!./APlusB"
      ],
      "execution_count": null,
      "outputs": [
        {
          "output_type": "stream",
          "text": [
            "10 5\n",
            "15"
          ],
          "name": "stdout"
        }
      ]
    },
    {
      "cell_type": "markdown",
      "metadata": {
        "id": "iNkG2HqfTl9c"
      },
      "source": [
        "### Test input output files"
      ]
    },
    {
      "cell_type": "code",
      "metadata": {
        "colab": {
          "base_uri": "https://localhost:8080/"
        },
        "id": "aTzU2efzMxly",
        "outputId": "13aac3b0-8c54-45f4-f0a9-d325b6025360"
      },
      "source": [
        "%%writefile input1.txt\n",
        "4 8"
      ],
      "execution_count": null,
      "outputs": [
        {
          "output_type": "stream",
          "text": [
            "Overwriting input1.txt\n"
          ],
          "name": "stdout"
        }
      ]
    },
    {
      "cell_type": "markdown",
      "metadata": {
        "id": "pdkfsvs-T0Wr"
      },
      "source": [
        ""
      ]
    },
    {
      "cell_type": "code",
      "metadata": {
        "colab": {
          "base_uri": "https://localhost:8080/"
        },
        "id": "zBJ0Gc0NQRet",
        "outputId": "43fce895-56aa-42cb-ef9e-da0e1c5cfc28"
      },
      "source": [
        "%%writefile output1.txt\n",
        "12"
      ],
      "execution_count": null,
      "outputs": [
        {
          "output_type": "stream",
          "text": [
            "Overwriting output1.txt\n"
          ],
          "name": "stdout"
        }
      ]
    },
    {
      "cell_type": "code",
      "metadata": {
        "colab": {
          "base_uri": "https://localhost:8080/"
        },
        "id": "IjEcIx63PJAN",
        "outputId": "8b1d0582-7e41-46cd-c303-829f65f71975"
      },
      "source": [
        "%%writefile input2.txt\n",
        "-5 9"
      ],
      "execution_count": null,
      "outputs": [
        {
          "output_type": "stream",
          "text": [
            "Overwriting input2.txt\n"
          ],
          "name": "stdout"
        }
      ]
    },
    {
      "cell_type": "code",
      "metadata": {
        "colab": {
          "base_uri": "https://localhost:8080/"
        },
        "id": "Up9gOrxURTmd",
        "outputId": "f00a7108-6e19-48b2-e162-9ee9421c82c5"
      },
      "source": [
        "%%writefile output2.txt\n",
        "4"
      ],
      "execution_count": null,
      "outputs": [
        {
          "output_type": "stream",
          "text": [
            "Overwriting output2.txt\n"
          ],
          "name": "stdout"
        }
      ]
    },
    {
      "cell_type": "code",
      "metadata": {
        "colab": {
          "base_uri": "https://localhost:8080/"
        },
        "id": "PST6G-s-Pwgc",
        "outputId": "24682c04-2a8d-4a6a-db76-2b34e43758ab"
      },
      "source": [
        "!./APlusB < input1.txt"
      ],
      "execution_count": null,
      "outputs": [
        {
          "output_type": "stream",
          "text": [
            "12"
          ],
          "name": "stdout"
        }
      ]
    },
    {
      "cell_type": "code",
      "metadata": {
        "colab": {
          "base_uri": "https://localhost:8080/"
        },
        "id": "cKxZOjSlRfIN",
        "outputId": "f6f40c04-4c80-46b0-bc40-b0f735fc9e9d"
      },
      "source": [
        "!./APlusB < input2.txt"
      ],
      "execution_count": null,
      "outputs": [
        {
          "output_type": "stream",
          "text": [
            "4"
          ],
          "name": "stdout"
        }
      ]
    },
    {
      "cell_type": "markdown",
      "metadata": {
        "id": "Qw2TQWCCUwqk"
      },
      "source": [
        "### Comparing files with grep\n",
        "\n",
        "https://askubuntu.com/questions/546796/comparing-two-text-files"
      ]
    },
    {
      "cell_type": "code",
      "metadata": {
        "id": "WVIaAmMKU4QM"
      },
      "source": [
        "!grep -xvFf output1.txt output1.txt "
      ],
      "execution_count": null,
      "outputs": []
    },
    {
      "cell_type": "code",
      "metadata": {
        "colab": {
          "base_uri": "https://localhost:8080/"
        },
        "id": "MQU8gPPjQuYO",
        "outputId": "7eb1e94d-d059-446c-c82d-b3acefb38b66"
      },
      "source": [
        "!grep -xvFf output1.txt output2.txt "
      ],
      "execution_count": null,
      "outputs": [
        {
          "output_type": "stream",
          "text": [
            "4\n"
          ],
          "name": "stdout"
        }
      ]
    },
    {
      "cell_type": "code",
      "metadata": {
        "colab": {
          "base_uri": "https://localhost:8080/"
        },
        "id": "jYL9OuYBTD_l",
        "outputId": "fa5f5521-b1ae-4a83-f400-6094ef77b4b2"
      },
      "source": [
        "!grep -xvFf output2.txt output1.txt "
      ],
      "execution_count": null,
      "outputs": [
        {
          "output_type": "stream",
          "text": [
            "12\n"
          ],
          "name": "stdout"
        }
      ]
    },
    {
      "cell_type": "code",
      "metadata": {
        "id": "Jlja0Xm4TX9M"
      },
      "source": [
        "!./APlusB < input1.txt> ctest1.txt\n",
        "!grep -xvFf output1.txt ctest1.txt"
      ],
      "execution_count": null,
      "outputs": []
    },
    {
      "cell_type": "code",
      "metadata": {
        "id": "g9OIUZA_QLCQ"
      },
      "source": [
        "!./APlusB < input2.txt > ctest2.txt\n",
        "!grep -xvFf output2.txt ctest2.txt"
      ],
      "execution_count": null,
      "outputs": []
    },
    {
      "cell_type": "markdown",
      "metadata": {
        "id": "3BgOaDjUVJk6"
      },
      "source": [
        "## Python"
      ]
    },
    {
      "cell_type": "code",
      "metadata": {
        "colab": {
          "base_uri": "https://localhost:8080/"
        },
        "id": "DBvl-T0CTN_8",
        "outputId": "b3d43f60-f592-498e-8168-fbb57ccb1537"
      },
      "source": [
        "%%writefile sum.py\n",
        "# python3\n",
        "\n",
        "def sum_of_two_digits(first_digit, second_digit):\n",
        "    return first_digit + second_digit\n",
        "\n",
        "if __name__ == '__main__':\n",
        "    a, b = map(int, input().split())\n",
        "    print(sum_of_two_digits(a, b))"
      ],
      "execution_count": null,
      "outputs": [
        {
          "output_type": "stream",
          "text": [
            "Writing sum.py\n"
          ],
          "name": "stdout"
        }
      ]
    },
    {
      "cell_type": "code",
      "metadata": {
        "colab": {
          "base_uri": "https://localhost:8080/"
        },
        "id": "QKoKM11_WGyF",
        "outputId": "487d1b9a-814b-49d5-a52d-cf4fcac0da3e"
      },
      "source": [
        "!python sum.py"
      ],
      "execution_count": null,
      "outputs": [
        {
          "output_type": "stream",
          "text": [
            "10 5\n",
            "15\n"
          ],
          "name": "stdout"
        }
      ]
    },
    {
      "cell_type": "code",
      "metadata": {
        "id": "cocFbPRTWrqt"
      },
      "source": [
        "!python sum.py  < input1.txt> ptest1.txt\n",
        "!grep -xvFf output1.txt ptest1.txt"
      ],
      "execution_count": null,
      "outputs": []
    },
    {
      "cell_type": "code",
      "metadata": {
        "id": "MorKTa-XXASN"
      },
      "source": [
        "!python sum.py  < input2.txt> ptest2.txt\n",
        "!grep -xvFf output2.txt ptest2.txt"
      ],
      "execution_count": null,
      "outputs": []
    },
    {
      "cell_type": "markdown",
      "metadata": {
        "id": "uvP-mOubW_5F"
      },
      "source": [
        "# II Solving The Maximum Pairwise Product Programming Challenge in C++"
      ]
    },
    {
      "cell_type": "markdown",
      "metadata": {
        "id": "C12yoFR6Xonl"
      },
      "source": [
        "## C++"
      ]
    },
    {
      "cell_type": "code",
      "metadata": {
        "colab": {
          "base_uri": "https://localhost:8080/"
        },
        "id": "YL4qJX3tXxdd",
        "outputId": "69d4b2b6-b42e-445d-fe7e-6747873e26c4"
      },
      "source": [
        "%%writefile max_pairwise_product.cpp\n",
        "#include <iostream>\n",
        "#include <vector>\n",
        "#include <algorithm>\n",
        "\n",
        "int MaxPairwiseProduct(const std::vector<int>& numbers) {\n",
        "    int max_product = 0;\n",
        "    int n = numbers.size();\n",
        "\n",
        "    for (int first = 0; first < n; ++first) {\n",
        "        for (int second = first + 1; second < n; ++second) {\n",
        "            max_product = std::max(max_product,\n",
        "                numbers[first] * numbers[second]);\n",
        "        }\n",
        "    }\n",
        "\n",
        "    return max_product;\n",
        "}\n",
        "\n",
        "int main() {\n",
        "    int n;\n",
        "    std::cin >> n;\n",
        "    std::vector<int> numbers(n);\n",
        "    for (int i = 0; i < n; ++i) {\n",
        "        std::cin >> numbers[i];\n",
        "    }\n",
        "\n",
        "    std::cout << MaxPairwiseProduct(numbers) << \"\\n\";\n",
        "    return 0;\n",
        "}\n"
      ],
      "execution_count": null,
      "outputs": [
        {
          "output_type": "stream",
          "text": [
            "Writing max_pairwise_product.cpp\n"
          ],
          "name": "stdout"
        }
      ]
    },
    {
      "cell_type": "code",
      "metadata": {
        "colab": {
          "base_uri": "https://localhost:8080/"
        },
        "id": "KGxaEjvWX__O",
        "outputId": "f4379366-2c7e-4019-c1ee-96e304e1201c"
      },
      "source": [
        "!g++ max_pairwise_product.cpp -o max_pairwise_product\n",
        "!./max_pairwise_product"
      ],
      "execution_count": null,
      "outputs": [
        {
          "output_type": "stream",
          "text": [
            "10\n",
            "5 8 69 2 5 14 63 7 15 2\n",
            "4347\n"
          ],
          "name": "stdout"
        }
      ]
    },
    {
      "cell_type": "markdown",
      "metadata": {
        "id": "e7KhxHGNS3i0"
      },
      "source": [
        "### Test 1: Small numbers"
      ]
    },
    {
      "cell_type": "code",
      "metadata": {
        "colab": {
          "base_uri": "https://localhost:8080/"
        },
        "id": "e1mmTzBgShT-",
        "outputId": "cd01e6df-ab50-4b7b-9584-e7e799291b54"
      },
      "source": [
        "%%writefile input1.txt\n",
        "10\n",
        "1 2 3 4 5 6 7 8 9 10"
      ],
      "execution_count": null,
      "outputs": [
        {
          "output_type": "stream",
          "text": [
            "Overwriting input1.txt\n"
          ],
          "name": "stdout"
        }
      ]
    },
    {
      "cell_type": "code",
      "metadata": {
        "colab": {
          "base_uri": "https://localhost:8080/"
        },
        "id": "vy_uI0x7TCId",
        "outputId": "57d7e322-24fa-4d13-8a7b-638717afbbd9"
      },
      "source": [
        "!./max_pairwise_product < input1.txt"
      ],
      "execution_count": null,
      "outputs": [
        {
          "output_type": "stream",
          "text": [
            "90\n"
          ],
          "name": "stdout"
        }
      ]
    },
    {
      "cell_type": "markdown",
      "metadata": {
        "id": "IeZ3kTjpYmR9"
      },
      "source": [
        "### Test 2: largest input numbers 200000 200000 in the input"
      ]
    },
    {
      "cell_type": "code",
      "metadata": {
        "colab": {
          "base_uri": "https://localhost:8080/"
        },
        "id": "LQNlZqaqYt7U",
        "outputId": "e3a1616a-f3c0-40b9-bee4-894db62ce2f1"
      },
      "source": [
        "%%writefile input2.txt\n",
        "6\n",
        "1 3 200000 9 200000 23"
      ],
      "execution_count": null,
      "outputs": [
        {
          "output_type": "stream",
          "text": [
            "Overwriting input2.txt\n"
          ],
          "name": "stdout"
        }
      ]
    },
    {
      "cell_type": "code",
      "metadata": {
        "colab": {
          "base_uri": "https://localhost:8080/"
        },
        "id": "2Wad2VZUZDxR",
        "outputId": "0707a0f6-15f9-46f1-a44b-d310de966c8b"
      },
      "source": [
        "!./max_pairwise_product < input2.txt"
      ],
      "execution_count": null,
      "outputs": [
        {
          "output_type": "stream",
          "text": [
            "1345294336\n"
          ],
          "name": "stdout"
        }
      ]
    },
    {
      "cell_type": "markdown",
      "metadata": {
        "id": "H2SC0Qt5HCzz"
      },
      "source": [
        "Changing the variables to long long"
      ]
    },
    {
      "cell_type": "code",
      "metadata": {
        "colab": {
          "base_uri": "https://localhost:8080/"
        },
        "id": "MPcmsxiQZSfE",
        "outputId": "7fa3fb3f-5290-4154-e184-59cea154956e"
      },
      "source": [
        "%%writefile max_pairwise_product_long.cpp\n",
        "#include <iostream>\n",
        "#include <vector>\n",
        "#include <algorithm>\n",
        "\n",
        "long long MaxPairwiseProduct(const std::vector<int>& numbers) {\n",
        "    long long max_product = 0LL;\n",
        "\t  long long aux_product = 0LL;\n",
        "    int n = numbers.size();\n",
        "\n",
        "    for (int first = 0; first < n; ++first) {\n",
        "        for (int second = first + 1; second < n; ++second) {\n",
        "\t\t\t       aux_product =  (long long) numbers[first] * numbers[second];\n",
        "            if ( max_product < aux_product)  {\n",
        "\t\t\t\t        max_product = aux_product;\n",
        "             }\n",
        "        }\n",
        "    }\n",
        "\n",
        "    return max_product;\n",
        "}\n",
        "\n",
        "int main() {\n",
        "    int n;\n",
        "    std::cin >> n;\n",
        "    std::vector<int> numbers(n);\n",
        "    for (int i = 0; i < n; ++i) {\n",
        "        std::cin >> numbers[i];\n",
        "    }\n",
        "\n",
        "    std::cout << MaxPairwiseProduct(numbers) << \"\\n\";\n",
        "    return 0;\n",
        "}\n"
      ],
      "execution_count": null,
      "outputs": [
        {
          "output_type": "stream",
          "text": [
            "Overwriting max_pairwise_product_long.cpp\n"
          ],
          "name": "stdout"
        }
      ]
    },
    {
      "cell_type": "code",
      "metadata": {
        "colab": {
          "base_uri": "https://localhost:8080/"
        },
        "id": "I5pCeOG1Zm7s",
        "outputId": "cc1f1a1a-2f68-42a0-c8a0-9ae0557f8ad7"
      },
      "source": [
        "!g++ max_pairwise_product_long.cpp -o max_pairwise_product_long\n",
        "!./max_pairwise_product_long < input1.txt\n",
        "!./max_pairwise_product_long < input2.txt"
      ],
      "execution_count": null,
      "outputs": [
        {
          "output_type": "stream",
          "text": [
            "90\n",
            "40000000000\n"
          ],
          "name": "stdout"
        }
      ]
    },
    {
      "cell_type": "markdown",
      "metadata": {
        "id": "XPVHkHxH6_7s"
      },
      "source": [
        "### Test 3  stress tests 20  times  random n in [2, 20] "
      ]
    },
    {
      "cell_type": "code",
      "metadata": {
        "id": "PwqpBmYr69fu"
      },
      "source": [
        "import random\n",
        "\n",
        "for i in range(1,20):\n",
        "  with open('/content/Test3.txt', 'a') as writefile:\n",
        "    writefile.write(str(random.randint(2,20))+\" \")\n"
      ],
      "execution_count": null,
      "outputs": []
    },
    {
      "cell_type": "code",
      "metadata": {
        "colab": {
          "base_uri": "https://localhost:8080/"
        },
        "id": "bVx6_dfmagxE",
        "outputId": "939e21cf-49dc-4938-b32c-ed400fa36720"
      },
      "source": [
        "%%time\n",
        "!./max_pairwise_product_long < Test3.txt"
      ],
      "execution_count": null,
      "outputs": [
        {
          "output_type": "stream",
          "text": [
            "270\n",
            "CPU times: user 5.89 ms, sys: 4.22 ms, total: 10.1 ms\n",
            "Wall time: 121 ms\n"
          ],
          "name": "stdout"
        }
      ]
    },
    {
      "cell_type": "markdown",
      "metadata": {
        "id": "9z9yr5QkeyJF"
      },
      "source": [
        "### Test 4  time test  measure the execution time running with the the largest worst case file (200000 increasing numbers, 200000 and 200000 the end) "
      ]
    },
    {
      "cell_type": "code",
      "metadata": {
        "id": "oLiMjbAIfPlX",
        "colab": {
          "base_uri": "https://localhost:8080/"
        },
        "outputId": "810c31d2-8d32-4876-df15-ee04ec9cf234"
      },
      "source": [
        "%%writefile Test2Write.cpp\n",
        "\n",
        "#include <iostream>\n",
        "#include <fstream>\n",
        "#include <cstdlib>\n",
        "\n",
        "using namespace std;\n",
        "\n",
        "int main() {\n",
        "  // Create and open a text file\n",
        "  ofstream MyFile(\"input3.txt\");\n",
        "\n",
        " MyFile << 200000 <<\"\\n\";  // n \n",
        " for (int i=1; i < 200001; i++){\n",
        "     MyFile << i <<\" \";\n",
        " }\n",
        "  \n",
        "  // Close the file\n",
        "  MyFile.close();\n",
        "}"
      ],
      "execution_count": null,
      "outputs": [
        {
          "output_type": "stream",
          "text": [
            "Overwriting Test2Write.cpp\n"
          ],
          "name": "stdout"
        }
      ]
    },
    {
      "cell_type": "code",
      "metadata": {
        "id": "EH25TkOkZfD9"
      },
      "source": [
        "!g++ Test2Write.cpp -o Test2Write\n",
        "!./Test2Write"
      ],
      "execution_count": null,
      "outputs": []
    },
    {
      "cell_type": "markdown",
      "metadata": {
        "id": "JB6f03qO-lj9"
      },
      "source": [
        "Measure time\n",
        "\n",
        "https://askubuntu.com/questions/53444/how-can-i-measure-the-execution-time-of-a-terminal-process"
      ]
    },
    {
      "cell_type": "code",
      "metadata": {
        "colab": {
          "base_uri": "https://localhost:8080/"
        },
        "id": "6p2QLEr576zk",
        "outputId": "e8e588ea-876a-4fa6-814c-2cf8e260d753"
      },
      "source": [
        "!g++ max_pairwise_product_long.cpp -o max_pairwise_product_long\n",
        "!time ./max_pairwise_product_long < input3.txt"
      ],
      "execution_count": null,
      "outputs": [
        {
          "output_type": "stream",
          "text": [
            "39999800000\n",
            "\n",
            "real\t2m8.984s\n",
            "user\t2m8.134s\n",
            "sys\t0m0.031s\n"
          ],
          "name": "stdout"
        }
      ]
    },
    {
      "cell_type": "markdown",
      "metadata": {
        "id": "AmZeB2wYjxy5"
      },
      "source": [
        "##### Calculate  the number of instructions executed by the algorithm as a function of n, add in each line a comment with the number of instructions that are executed in that line \n",
        "\n",
        "```cpp\n",
        " int main() {                         //N inst exec by line executed  \n",
        "   \n",
        "    int n;                            //1                      \n",
        "    std::cin >> n;                    //1\n",
        "                                              \n",
        "    std::vector<int> numbers(n);      //n    init vector\n",
        "    .\n",
        "    .\n",
        " }\n",
        "\n",
        "```"
      ]
    },
    {
      "cell_type": "code",
      "metadata": {
        "colab": {
          "base_uri": "https://localhost:8080/"
        },
        "id": "djGX3FL13g9b",
        "outputId": "e0b036be-332f-40dd-9e1f-753bb70f1609"
      },
      "source": [
        "%%writefile test_init_vectors.cpp\n",
        "#include <iostream>\n",
        "#include <vector>\n",
        "#include <algorithm>\n",
        "int main() {                                                               \n",
        "    int n = 10;                                                                                                                            //1\n",
        "    std::vector<int> numbers(n);                                            \n",
        "    for (int i = 0; i < n; ++i) {                                           \n",
        "        std::cout << numbers[i];                                             \n",
        "    }\n",
        "\n",
        "    std::cout << \"\\n\";                       \n",
        "    return 0;                                                              \n",
        "}  "
      ],
      "execution_count": null,
      "outputs": [
        {
          "output_type": "stream",
          "text": [
            "Writing test_init_vectors.cpp\n"
          ],
          "name": "stdout"
        }
      ]
    },
    {
      "cell_type": "code",
      "metadata": {
        "colab": {
          "base_uri": "https://localhost:8080/"
        },
        "id": "44gZcuE237-1",
        "outputId": "28539df8-88c6-4b8f-95f9-58c658713de8"
      },
      "source": [
        "!g++ test_init_vectors.cpp -o test_init_vectors\n",
        "!./test_init_vectors"
      ],
      "execution_count": null,
      "outputs": [
        {
          "output_type": "stream",
          "text": [
            "0000000000\n"
          ],
          "name": "stdout"
        }
      ]
    },
    {
      "cell_type": "code",
      "metadata": {
        "colab": {
          "base_uri": "https://localhost:8080/"
        },
        "id": "uG6Mv-Pwlkii",
        "outputId": "c4270cca-c012-4579-8046-08b303667f4a"
      },
      "source": [
        "%%writefile max_pairwise_product_long.cpp\n",
        "#include <iostream>\n",
        "#include <vector>\n",
        "#include <algorithm>\n",
        "\n",
        "long long MaxPairwiseProduct(const std::vector<int>& numbers) {              //N inst exec by line executed \n",
        "    long long max_product = 0LL;                                             //1                                          \n",
        "\t  long long aux_product = 0LL;                                             //1 \n",
        "    int n = numbers.size();                                                  //1 \n",
        "                                                                             \n",
        "    for (int first = 0; first < n; ++first) {                                //1+2n  \n",
        "        for (int second = first + 1; second < n; ++second) {                 //n + (n-1)n \n",
        "\t\t\t       aux_product =  (long long) numbers[first] * numbers[second];    //(n-1)n/2 \n",
        "            if (max_product < aux_product)  {                                //(n-1)n/2 \n",
        "\t\t\t\t        max_product = aux_product;                                   //[0, (n-1)n/2] \n",
        "             }\n",
        "        }\n",
        "    }\n",
        "                                                                             // -------------- \n",
        "    return max_product;                                                      // 4 + 3n + [2(n-1)n, 2.5 (n-1)n] \n",
        "}\n",
        "\n",
        "int main() {                                              //N inst exec by line executed \n",
        "    int n;                                                //1  \n",
        "    std::cin >> n;                                        //1\n",
        "    std::vector<int> numbers(n);                          //n\n",
        "    for (int i = 0; i < n; ++i) {                         //1 + 2n\n",
        "        std::cin >> numbers[i];                           //n\n",
        "    }\n",
        "\n",
        "    std::cout << MaxPairwiseProduct(numbers) << \"\\n\";     //1 + 1  + 4 + 3n + [2(n-1)n, 2.5 (n-1)n]\n",
        "    return 0;                                             // -------------- \n",
        "}                                                         // 9 + 7n + [2(n-1)n, 2.5 (n-1)n]\n"
      ],
      "execution_count": null,
      "outputs": [
        {
          "output_type": "stream",
          "text": [
            "Overwriting max_pairwise_product_long.cpp\n"
          ],
          "name": "stdout"
        }
      ]
    },
    {
      "cell_type": "markdown",
      "metadata": {
        "id": "0vTsUg8OwcHs"
      },
      "source": [
        "Count executed intructions in code and verify with inputs 1, 2 and 3"
      ]
    },
    {
      "cell_type": "code",
      "metadata": {
        "colab": {
          "base_uri": "https://localhost:8080/"
        },
        "id": "CuRKkqQc137V",
        "outputId": "f0fd18de-b4b1-4ac9-c105-18df8e2eeccd"
      },
      "source": [
        "%%writefile max_pairwise_product_long_execints.cpp\n",
        "#include <iostream>\n",
        "#include <vector>\n",
        "#include <algorithm>\n",
        "\n",
        "long long MaxPairwiseProduct(const std::vector<int>& numbers, long long &execints) {              //N inst exec by line executed \n",
        "    \n",
        "    long long m = 0LL;                                                       //1\n",
        "    \n",
        "    long long max_product = 0LL;                                             //1\n",
        "    execints++;\n",
        "\n",
        "\t  long long aux_product = 0LL;                                             //1\n",
        "    execints++;\n",
        "\n",
        "    int n = numbers.size();                                                  //1 \n",
        "    execints++;\n",
        "\n",
        "    execints++;                                                                         \n",
        "    for (int first = 0; first < n; ++first) {                                //1+2n  \n",
        "        execints += 2;\n",
        "\n",
        "        long long m = 0LL;\n",
        "\n",
        "        execints++;                                    \n",
        "        for (int second = first + 1; second < n; ++second) {                 //n + (n-1)n \n",
        "            execints += 2;                                                \n",
        "\n",
        "\t\t\t      aux_product =  (long long) numbers[first] * numbers[second];    //(n-1)n/2 \n",
        "            execints++; \n",
        "\n",
        "            execints++; \n",
        "            if ( max_product < aux_product)  {                               //(n-1)n/2 \n",
        "                       \n",
        "\t\t\t\t        max_product = aux_product;                                   //[0, (n-1)n/2] \n",
        "                execints++; \n",
        "                m++;\n",
        "             }\n",
        "        }\n",
        "        if ( (first <= 10) || (n- first <= 10)) std::cout << m << \"\\n\";\n",
        "    }\n",
        "                                                                            // -------------- \n",
        "    return max_product;                                                     // 4 + 3n + [2(n-1)n, 2.5 (n-1)n] \n",
        "}\n",
        "\n",
        "int main() {                                                 //N inst exec by line executed \n",
        "    long long execints =0LL;\n",
        "\n",
        "    int n;                                                   //1\n",
        "    execints++;                                                              \n",
        "    \n",
        "    std::cin >> n;                                           //1\n",
        "    execints++;\n",
        "\n",
        "    std::vector<int> numbers(n);                             //n\n",
        "    execints += n;\n",
        "    \n",
        "    execints++;\n",
        "    for (int i = 0; i < n; ++i) {                            //1 + 2n\n",
        "        execints += 2;\n",
        "\n",
        "        std::cin >> numbers[i];\n",
        "        execints++;                                          //n\n",
        "    }\n",
        "    \n",
        "    //std::cout << MaxPairwiseProduct(numbers) << \"\\n\";      //1 + 1  + 4 + 3n + [2(n-1)n, 2.5 (n-1)n]\n",
        "\n",
        "    execints++;\n",
        "    int M = MaxPairwiseProduct(numbers,execints);\n",
        "\n",
        "    execints++;\n",
        "    std::cout <<  execints << \"\\n\";                       \n",
        "    return 0;                                                // -------------- \n",
        "}                                                            // 9 + 7n + [2(n-1)n, 2.5 (n-1)n]"
      ],
      "execution_count": null,
      "outputs": [
        {
          "output_type": "stream",
          "text": [
            "Writing max_pairwise_product_long_execints.cpp\n"
          ],
          "name": "stdout"
        }
      ]
    },
    {
      "cell_type": "code",
      "metadata": {
        "colab": {
          "base_uri": "https://localhost:8080/"
        },
        "id": "Kuvm1C05ly2a",
        "outputId": "cacfaa24-5bc4-48ef-d5b3-1abea575cbb6"
      },
      "source": [
        "!g++ max_pairwise_product_long_execints.cpp -o max_pairwise_product_long_execints\n",
        "!./max_pairwise_product_long_execints < input1.txt\n",
        "!./max_pairwise_product_long_execints < input2.txt\n",
        "!./max_pairwise_product_long_execints < input3.txt"
      ],
      "execution_count": null,
      "outputs": [
        {
          "output_type": "stream",
          "text": [
            "9\n",
            "5\n",
            "4\n",
            "3\n",
            "2\n",
            "2\n",
            "2\n",
            "2\n",
            "1\n",
            "0\n",
            "289\n",
            "2\n",
            "1\n",
            "2\n",
            "0\n",
            "0\n",
            "0\n",
            "116\n",
            "199999\n",
            "100000\n",
            "66667\n",
            "50000\n",
            "40000\n",
            "33334\n",
            "28572\n",
            "25000\n",
            "22223\n",
            "20000\n",
            "18182\n",
            "2\n",
            "2\n",
            "2\n",
            "2\n",
            "2\n",
            "2\n",
            "2\n",
            "2\n",
            "1\n",
            "0\n",
            "80003672077\n"
          ],
          "name": "stdout"
        }
      ]
    },
    {
      "cell_type": "markdown",
      "metadata": {
        "id": "L_uaamxeAHK7"
      },
      "source": [
        "The number of instructions executed by the algooirithm with a list of size $n$ is  \n",
        "\n",
        "$$T = 9 + 7n + [2(n-1)n, 2.5 (n-1)n]$$\n",
        "\n",
        "It depends on the size of the lists and  the order of the list.\n",
        "\n",
        "For the input1.txt \n",
        "```\n",
        "10\n",
        "1 2 3 4 5 6 7 8 9 10\n",
        "```\n",
        "$$T = 9 + 7(10) + 2(9)(10) +  9 + 5 + 4 + 3 + 2 + 2 + 2 + 2 + 1 + 0  = 289 $$\n",
        "\n",
        "For the input2.txt \n",
        "```\n",
        "6\n",
        "1 3 200000 9 200000 23\n",
        "```\n",
        "$$T = 9 + 7(6) + 2(5)(6)  +  2 + 1 + 2 + 0 + 0 + 0 = 116 $$\n",
        "\n",
        "\n",
        "For the input3.txt that is the worst case (n=200000 and list in incresing order)\n",
        "\n",
        "```\n",
        "200000\n",
        "1 2 3 4 5 6 7 8 9 10 ... 199998 199999 200000\n",
        "```\n",
        "\n",
        "$$\n",
        "\\begin{array}{ll}\n",
        "T &= 9 + 7(200000) + (2)(199999)(200000)  + (199999 +\n",
        "100000 + 66667 +50000 \\cdots 2 + 2 + 1)\\\\\n",
        "&= 80003672077  \\\\\n",
        "  &< 9 + 7(200000) + (2.5)(199999)(200000) \\\\\n",
        "  & = 100000900009\n",
        "\\end{array}\n",
        "  $$"
      ]
    },
    {
      "cell_type": "markdown",
      "metadata": {
        "id": "NXW7QkoBL6xH"
      },
      "source": [
        "Calculate estimated time by instruction and number of instructions by second"
      ]
    },
    {
      "cell_type": "code",
      "metadata": {
        "colab": {
          "base_uri": "https://localhost:8080/"
        },
        "id": "pKqB3i7dIxnc",
        "outputId": "ce07a97f-5097-47a2-8408-d86c459b954a"
      },
      "source": [
        "# Estimated time by instruction\n",
        "\n",
        "128/80003672077 \n"
      ],
      "execution_count": null,
      "outputs": [
        {
          "output_type": "execute_result",
          "data": {
            "text/plain": [
              "1.5999265618308827e-09"
            ]
          },
          "metadata": {
            "tags": []
          },
          "execution_count": 66
        }
      ]
    },
    {
      "cell_type": "code",
      "metadata": {
        "colab": {
          "base_uri": "https://localhost:8080/"
        },
        "id": "18N1ouqeMhE1",
        "outputId": "5d5b799d-1cac-46ea-e487-dd2f59c3248b"
      },
      "source": [
        "# Estimated number of instructions by second\n",
        "\n",
        "1/(128/80003672077) "
      ],
      "execution_count": null,
      "outputs": [
        {
          "output_type": "execute_result",
          "data": {
            "text/plain": [
              "625028688.1015625"
            ]
          },
          "metadata": {
            "tags": []
          },
          "execution_count": 67
        }
      ]
    },
    {
      "cell_type": "markdown",
      "metadata": {
        "id": "CQufozXLNJwO"
      },
      "source": [
        "### Efficient solution"
      ]
    },
    {
      "cell_type": "markdown",
      "metadata": {
        "id": "nLcKBwbU0QsE"
      },
      "source": [
        "Add in each line a coment with the number of intstrcution that are executed in that line"
      ]
    },
    {
      "cell_type": "code",
      "metadata": {
        "id": "knls5Fh3NSt_",
        "colab": {
          "base_uri": "https://localhost:8080/"
        },
        "outputId": "17b48925-2396-4017-f032-06af6ebe9dc3"
      },
      "source": [
        "%%writefile max_pairwise_product3.cpp\n",
        "#include <iostream>\n",
        "#include <vector>\n",
        "#include <algorithm>\n",
        "\n",
        "long long MaxPairwiseProductFast(const std::vector<int>& numbers) {\n",
        "    int n = numbers.size();\n",
        "    int max_index1 = -1;\n",
        "\n",
        "    for(int i = 0; i < n; ++i){\n",
        "        if((max_index1 == -1) || (numbers[i]>numbers[max_index1])){\n",
        "            max_index1 = i;\n",
        "        }\n",
        "    }\n",
        "\n",
        "    int max_index2 = -1;\n",
        "    for(int j = 0; j<n;++j){\n",
        "        if((j != max_index1) && ((max_index2 == -1) || (numbers[j]>numbers[max_index2]))){\n",
        "            max_index2 = j;\n",
        "        }\n",
        "    }\n",
        "\n",
        "    return ((long long) (numbers[max_index1])*numbers[max_index2]);\n",
        "}\n",
        "\n",
        "int main() {\n",
        "    int n;\n",
        "    //std::cout <<\"ingrese n\"<< std::endl;\n",
        "    std::cin >> n;\n",
        "    std::vector<int> numbers(n);\n",
        "    for (int i = 0; i < n; ++i) {\n",
        "        //std::cout <<\"ingrese numbers\"<< i << std::endl;\n",
        "        std::cin >> numbers[i];\n",
        "    }\n",
        "\n",
        "    long long result = MaxPairwiseProductFast(numbers);\n",
        "    std::cout <<result<< \"\\n\";\n",
        "    return 0;\n",
        "\n",
        "}\n"
      ],
      "execution_count": null,
      "outputs": [
        {
          "output_type": "stream",
          "text": [
            "Overwriting max_pairwise_product3.cpp\n"
          ],
          "name": "stdout"
        }
      ]
    },
    {
      "cell_type": "markdown",
      "metadata": {
        "id": "-JCijbWxNSii"
      },
      "source": [
        "Test with inputs 1 and 2\n",
        "\n"
      ]
    },
    {
      "cell_type": "code",
      "metadata": {
        "id": "TrTGAfqlNVXT",
        "colab": {
          "base_uri": "https://localhost:8080/"
        },
        "outputId": "74e522bc-4b3c-4e36-adb3-06a47a3642d8"
      },
      "source": [
        "!g++ max_pairwise_product3.cpp -o max_pairwise_product3\n",
        "!time ./max_pairwise_product3 < input1.txt\n",
        "!time ./max_pairwise_product3 < input2.txt"
      ],
      "execution_count": null,
      "outputs": [
        {
          "output_type": "stream",
          "text": [
            "90\n",
            "\n",
            "real\t0m0.004s\n",
            "user\t0m0.002s\n",
            "sys\t0m0.001s\n",
            "40000000000\n",
            "\n",
            "real\t0m0.003s\n",
            "user\t0m0.002s\n",
            "sys\t0m0.001s\n"
          ],
          "name": "stdout"
        }
      ]
    },
    {
      "cell_type": "markdown",
      "metadata": {
        "id": "PRX51wADNR8b"
      },
      "source": [
        "Test and time it with input 3"
      ]
    },
    {
      "cell_type": "code",
      "metadata": {
        "id": "v4z7-Is_NRt7",
        "colab": {
          "base_uri": "https://localhost:8080/"
        },
        "outputId": "c184a82d-b9ad-481a-baa0-f0f1f9cb93e5"
      },
      "source": [
        "!time ./max_pairwise_product3 < input3.txt"
      ],
      "execution_count": null,
      "outputs": [
        {
          "output_type": "stream",
          "text": [
            "39999800000\n",
            "\n",
            "real\t0m0.066s\n",
            "user\t0m0.059s\n",
            "sys\t0m0.004s\n"
          ],
          "name": "stdout"
        }
      ]
    },
    {
      "cell_type": "markdown",
      "metadata": {
        "id": "rpdfs0_TNZJf"
      },
      "source": [
        "20 stress tests"
      ]
    },
    {
      "cell_type": "code",
      "metadata": {
        "id": "Lu4tYcKzNcTT",
        "colab": {
          "base_uri": "https://localhost:8080/"
        },
        "outputId": "634818f0-ae31-4495-e31d-ce752a82bc05"
      },
      "source": [
        "!time ./max_pairwise_product3 < Test3.txt"
      ],
      "execution_count": null,
      "outputs": [
        {
          "output_type": "stream",
          "text": [
            "270\n",
            "\n",
            "real\t0m0.004s\n",
            "user\t0m0.000s\n",
            "sys\t0m0.004s\n"
          ],
          "name": "stdout"
        }
      ]
    },
    {
      "cell_type": "markdown",
      "metadata": {
        "id": "L8U4151JNbxk"
      },
      "source": [
        "Count executed instructions in code and verify with inputs 1,2 and 3\n"
      ]
    },
    {
      "cell_type": "code",
      "metadata": {
        "id": "dh85RM8vNhFz",
        "colab": {
          "base_uri": "https://localhost:8080/"
        },
        "outputId": "9c6dfb5b-0bf2-4181-8cfd-2e03ef8c20c5"
      },
      "source": [
        "%%writefile max_pairwise_product3_execints.cpp\n",
        "#include <iostream>\n",
        "#include <vector>\n",
        "#include <algorithm>\n",
        "\n",
        "long long MaxPairwiseProductFast(const std::vector<int>& numbers, long long &execints) {\n",
        "    \n",
        "    long long m = 0LL;\n",
        "    \n",
        "    int n = numbers.size();\n",
        "    execints++;\n",
        "\n",
        "    int max_index1 = -1;\n",
        "    execints++;\n",
        "\n",
        "    execints++;\n",
        "    for(int i = 0; i < n; ++i){        \n",
        "        execints += 2;\n",
        "\n",
        "        execints++;\n",
        "        if((max_index1 == -1) || (numbers[i]>numbers[max_index1])){\n",
        "            \n",
        "            execints++;\n",
        "\n",
        "            max_index1 = i;\n",
        "            execints++;\n",
        "            m++;\n",
        "        }\n",
        "        if ( (i <= 10) || (n - i <= 10)) std::cout << m << \"\\n\";\n",
        "    }\n",
        "\n",
        "    int max_index2 = -1;\n",
        "\n",
        "    execints++;\n",
        "    \n",
        "    execints++;\n",
        "    for(int j = 0; j<n;++j){\n",
        "        execints += 2;\n",
        "        \n",
        "        execints++;\n",
        "        if((j != max_index1) && ((max_index2 == -1) || (numbers[j]>numbers[max_index2]))){\n",
        "            max_index2 = j;\n",
        "            execints++;\n",
        "            m++;\n",
        "        }\n",
        "        if ( (j <= 10) || (n - j <= 10)) std::cout << m << \"\\n\";\n",
        "    }\n",
        "    return ((long long) (numbers[max_index1])*numbers[max_index2]);\n",
        "}\n",
        "\n",
        "int main() {                                                 //N inst exec by line executed \n",
        "    long long execints =0LL;\n",
        "\n",
        "    int n;                                                   //1\n",
        "    execints++;                                                              \n",
        "    \n",
        "    std::cin >> n;                                           //1\n",
        "    execints++;\n",
        "\n",
        "    std::vector<int> numbers(n);                             //n\n",
        "    execints += n;\n",
        "    \n",
        "    execints++;\n",
        "    for (int i = 0; i < n; ++i) {                            //1 + 2n\n",
        "        execints += 2;\n",
        "\n",
        "        std::cin >> numbers[i];\n",
        "        execints++;                                          //n\n",
        "    }\n",
        "    \n",
        "    //std::cout << MaxPairwiseProductFast(numbers) << \"\\n\";      //1 + 1  + 4 + 3n + [2(n-1)n, 2.5 (n-1)n]\n",
        "\n",
        "    execints++;\n",
        "    int M = MaxPairwiseProductFast(numbers,execints);\n",
        "\n",
        "    execints++;\n",
        "    std::cout <<  execints << \"\\n\";                       \n",
        "    return 0;                                                // -------------- \n",
        "}"
      ],
      "execution_count": null,
      "outputs": [
        {
          "output_type": "stream",
          "text": [
            "Overwriting max_pairwise_product3_execints.cpp\n"
          ],
          "name": "stdout"
        }
      ]
    },
    {
      "cell_type": "markdown",
      "metadata": {
        "id": "K6ybgCmpNygr"
      },
      "source": [
        "Calculate estimated time by instruction and number of instructions by second"
      ]
    },
    {
      "cell_type": "code",
      "metadata": {
        "id": "kwe3G1O3Nz1w",
        "colab": {
          "base_uri": "https://localhost:8080/"
        },
        "outputId": "b6e48833-cea1-43b5-f737-f9b7981298f6"
      },
      "source": [
        "!g++ max_pairwise_product3_execints.cpp -o max_pairwise_product3_execints\n",
        "!./max_pairwise_product3_execints < input1.txt\n",
        "!./max_pairwise_product3_execints < input2.txt\n",
        "!./max_pairwise_product3_execints < input3.txt"
      ],
      "execution_count": null,
      "outputs": [
        {
          "output_type": "stream",
          "text": [
            "1\n",
            "2\n",
            "3\n",
            "4\n",
            "5\n",
            "6\n",
            "7\n",
            "8\n",
            "9\n",
            "10\n",
            "11\n",
            "12\n",
            "13\n",
            "14\n",
            "15\n",
            "16\n",
            "17\n",
            "18\n",
            "19\n",
            "19\n",
            "139\n",
            "1\n",
            "2\n",
            "3\n",
            "3\n",
            "3\n",
            "3\n",
            "4\n",
            "5\n",
            "5\n",
            "6\n",
            "7\n",
            "7\n",
            "80\n",
            "1\n",
            "2\n",
            "3\n",
            "4\n",
            "5\n",
            "6\n",
            "7\n",
            "8\n",
            "9\n",
            "10\n",
            "11\n",
            "199991\n",
            "199992\n",
            "199993\n",
            "199994\n",
            "199995\n",
            "199996\n",
            "199997\n",
            "199998\n",
            "199999\n",
            "200000\n",
            "200001\n",
            "200002\n",
            "200003\n",
            "200004\n",
            "200005\n",
            "200006\n",
            "200007\n",
            "200008\n",
            "200009\n",
            "200010\n",
            "200011\n",
            "399991\n",
            "399992\n",
            "399993\n",
            "399994\n",
            "399995\n",
            "399996\n",
            "399997\n",
            "399998\n",
            "399999\n",
            "399999\n",
            "2600009\n"
          ],
          "name": "stdout"
        }
      ]
    },
    {
      "cell_type": "markdown",
      "metadata": {
        "id": "sc9nOLQrfTm0"
      },
      "source": [
        "### Super efficient solution\n",
        "\n",
        "Without storing the list in memory and without calling a function, add in each line a coment with the number of instructions that are executed in that line "
      ]
    },
    {
      "cell_type": "code",
      "metadata": {
        "id": "hBLt_xBQLy8E",
        "colab": {
          "base_uri": "https://localhost:8080/"
        },
        "outputId": "2052a74c-9b65-4f87-dcd4-3c8d501efa5a"
      },
      "source": [
        "%%writefile max_pairwise_product3_super.cpp\n",
        "#include <iostream>\n",
        "#include <vector>\n",
        "#include <algorithm>\n",
        "\n",
        "int main() {\n",
        "    \n",
        "    int n;                                                                    //1\n",
        "      \n",
        "    std::cin >> n;                                                            //1\n",
        "    std::vector<int> numbers(n);                                              //n\n",
        "                                                       \n",
        "    int max_index1 = -1;\n",
        "\n",
        "    for (int i = 0; i < n; ++i) {                                             //1+2n\n",
        "        std::cin >> numbers[i];                                               //n\n",
        "    }\n",
        "\n",
        "    for(int i = 0; i < n; ++i){                                               //1 + 2n\n",
        "        if((max_index1 == -1) || (numbers[i]>numbers[max_index1])){           //(n-1)n\n",
        "            max_index1 = i;                                                       \n",
        "        }\n",
        "    }\n",
        "\n",
        "    int max_index2 = -1;                                                      //1\n",
        "    for(int j = 0; j < n; ++j){                                               //1+2n\n",
        "        if((j != max_index1) && ((max_index2 == -1) || (numbers[j]>numbers[max_index2]))){   //(2n-1)n\n",
        "            max_index2 = j;\n",
        "        }\n",
        "    }\n",
        "\n",
        "    std::cout <<((long long) (numbers[max_index1])*numbers[max_index2])<< \"\\n\"; //3 + 2n + 2[(1+2n)(n-1)n] + (1+2n)\n",
        "    return 0;\n",
        "\n",
        "}"
      ],
      "execution_count": null,
      "outputs": [
        {
          "output_type": "stream",
          "text": [
            "Overwriting max_pairwise_product3_super.cpp\n"
          ],
          "name": "stdout"
        }
      ]
    },
    {
      "cell_type": "markdown",
      "metadata": {
        "id": "683gc3roHqzb"
      },
      "source": [
        "Test with inputs 1 and 2\n",
        "\n",
        "\n",
        " "
      ]
    },
    {
      "cell_type": "code",
      "metadata": {
        "id": "b7d4LA8OIc2_",
        "colab": {
          "base_uri": "https://localhost:8080/"
        },
        "outputId": "fc220f5c-69c8-4d3e-fe9b-f788c51121b0"
      },
      "source": [
        "!g++ max_pairwise_product3_super.cpp -o max_pairwise_product3_super\n",
        "!./max_pairwise_product3_super < input1.txt\n",
        "!./max_pairwise_product3_super < input2.txt"
      ],
      "execution_count": null,
      "outputs": [
        {
          "output_type": "stream",
          "text": [
            "90\n",
            "40000000000\n"
          ],
          "name": "stdout"
        }
      ]
    },
    {
      "cell_type": "markdown",
      "metadata": {
        "id": "36Ugn1odIeJz"
      },
      "source": [
        "Test and time it with input 3"
      ]
    },
    {
      "cell_type": "code",
      "metadata": {
        "id": "jDyMbCnxHqSN",
        "colab": {
          "base_uri": "https://localhost:8080/"
        },
        "outputId": "a25e208a-0de2-40d5-e6d9-7f6de3dca513"
      },
      "source": [
        "!time ./max_pairwise_product3_super < input3.txt"
      ],
      "execution_count": null,
      "outputs": [
        {
          "output_type": "stream",
          "text": [
            "39999800000\n",
            "\n",
            "real\t0m0.066s\n",
            "user\t0m0.062s\n",
            "sys\t0m0.001s\n"
          ],
          "name": "stdout"
        }
      ]
    },
    {
      "cell_type": "markdown",
      "metadata": {
        "id": "bhqiKQG6fjKM"
      },
      "source": [
        "20 stress tests "
      ]
    },
    {
      "cell_type": "code",
      "metadata": {
        "id": "2KsiXKhALzwm",
        "colab": {
          "base_uri": "https://localhost:8080/"
        },
        "outputId": "14e4a516-e185-47cb-c892-b0e299b888ae"
      },
      "source": [
        "!time ./max_pairwise_product3_super < Test3.txt"
      ],
      "execution_count": null,
      "outputs": [
        {
          "output_type": "stream",
          "text": [
            "270\n",
            "\n",
            "real\t0m0.003s\n",
            "user\t0m0.002s\n",
            "sys\t0m0.001s\n"
          ],
          "name": "stdout"
        }
      ]
    },
    {
      "cell_type": "markdown",
      "metadata": {
        "id": "fEXj8GHJH5p1"
      },
      "source": [
        "Count executed instructions in code and verify with inputs 1,2 and 3"
      ]
    },
    {
      "cell_type": "code",
      "metadata": {
        "id": "LF1DHjKXIAsF",
        "colab": {
          "base_uri": "https://localhost:8080/"
        },
        "outputId": "87e5fe01-4013-44fc-d932-dba814850fff"
      },
      "source": [
        "%%writefile max_pairwise_product3_super_execints.cpp\n",
        "#include <iostream>\n",
        "#include <vector>\n",
        "#include <algorithm>\n",
        "\n",
        "int main() {\n",
        "    \n",
        "    long long m = 0LL;\n",
        "    \n",
        "    long long l = 0LL;\n",
        "\n",
        "    long long execints = 0LL;\n",
        "\n",
        "    int n;                                                                   //1\n",
        "    execints++;                                                                    \n",
        "      \n",
        "    std::cin >> n;                                                            //1\n",
        "    execints++;\n",
        "\n",
        "    std::vector<int> numbers(n);                                              //n\n",
        "    execints += n; \n",
        "                                                       \n",
        "    int max_index1 = -1;\n",
        "    execints++; \n",
        "\n",
        "    execints++; \n",
        "    for (int i = 0; i < n; ++i) {                                             //1+2n\n",
        "        \n",
        "        execints += 2;                                             \n",
        "        std::cin >> numbers[i];                                               //n\n",
        "        \n",
        "        execints++;                                               \n",
        "    }\n",
        "\n",
        "    execints++;  \n",
        "    for(int i = 0; i < n; ++i){                                               //1 + 2n\n",
        "        execints+=2;                       \n",
        "\n",
        "        execints++;\n",
        "        if((max_index1 == -1) || (numbers[i]>numbers[max_index1])){           //(n-1)n\n",
        "            max_index1 = i;\n",
        "            execints++;\n",
        "            m++;                                                       \n",
        "        }\n",
        "\n",
        "        if ( (i <= 10) || (n - i <= 10)) std::cout << m << \"\\n\";\n",
        "    }\n",
        "\n",
        "    int max_index2 = -1;                                                      //1\n",
        "    for(int j = 0; j < n; ++j){                                               //1+2n\n",
        "        execints+=2;                       \n",
        "\n",
        "        execints++;                       \n",
        "        if((j != max_index1) && ((max_index2 == -1) || (numbers[j]>numbers[max_index2]))){   //(2n-1)n\n",
        "            max_index2 = j;\n",
        "            execints++;\n",
        "            l++;  \n",
        "        }\n",
        "\n",
        "        if ( (j <= 10) || (n - j <= 10)) std::cout << l << \"\\n\";\n",
        "    }\n",
        "\n",
        "    std::cout <<((long long) (numbers[max_index1])*numbers[max_index2])<< \"\\n\";         //3 + 2n + 2[(1+2n)(n-1)n] + (1+2n)\n",
        "    return 0;\n",
        "\n",
        "}"
      ],
      "execution_count": null,
      "outputs": [
        {
          "output_type": "stream",
          "text": [
            "Overwriting max_pairwise_product3_super_execints.cpp\n"
          ],
          "name": "stdout"
        }
      ]
    },
    {
      "cell_type": "markdown",
      "metadata": {
        "id": "yae7sSm2IG9U"
      },
      "source": [
        "Calculate estimated time by instruction and number of instructions by second"
      ]
    },
    {
      "cell_type": "code",
      "metadata": {
        "id": "suouY7BYL2dz",
        "colab": {
          "base_uri": "https://localhost:8080/"
        },
        "outputId": "7cde40b1-4de5-4aa4-9178-fd4a48120139"
      },
      "source": [
        "!g++ max_pairwise_product3_super_execints.cpp -o max_pairwise_product3_super_execints\n",
        "!./max_pairwise_product3_super_execints < input1.txt\n",
        "!./max_pairwise_product3_super_execints < input2.txt\n",
        "!./max_pairwise_product3_super_execints < input3.txt"
      ],
      "execution_count": null,
      "outputs": [
        {
          "output_type": "stream",
          "text": [
            "1\n",
            "2\n",
            "3\n",
            "4\n",
            "5\n",
            "6\n",
            "7\n",
            "8\n",
            "9\n",
            "10\n",
            "1\n",
            "2\n",
            "3\n",
            "4\n",
            "5\n",
            "6\n",
            "7\n",
            "8\n",
            "9\n",
            "9\n",
            "90\n",
            "1\n",
            "2\n",
            "3\n",
            "3\n",
            "3\n",
            "3\n",
            "1\n",
            "2\n",
            "2\n",
            "3\n",
            "4\n",
            "4\n",
            "40000000000\n",
            "1\n",
            "2\n",
            "3\n",
            "4\n",
            "5\n",
            "6\n",
            "7\n",
            "8\n",
            "9\n",
            "10\n",
            "11\n",
            "199991\n",
            "199992\n",
            "199993\n",
            "199994\n",
            "199995\n",
            "199996\n",
            "199997\n",
            "199998\n",
            "199999\n",
            "200000\n",
            "1\n",
            "2\n",
            "3\n",
            "4\n",
            "5\n",
            "6\n",
            "7\n",
            "8\n",
            "9\n",
            "10\n",
            "11\n",
            "199991\n",
            "199992\n",
            "199993\n",
            "199994\n",
            "199995\n",
            "199996\n",
            "199997\n",
            "199998\n",
            "199999\n",
            "199999\n",
            "39999800000\n"
          ],
          "name": "stdout"
        }
      ]
    },
    {
      "cell_type": "markdown",
      "metadata": {
        "id": "rydCU4bFfrhG"
      },
      "source": [
        "## Python"
      ]
    },
    {
      "cell_type": "markdown",
      "metadata": {
        "id": "6n707zUXO0N0"
      },
      "source": [
        "Efficient cython file reading, string parsing, and array building\n",
        "\n",
        "https://stackoverflow.com/questions/37219875/efficient-cython-file-reading-string-parsing-and-array-building\n",
        "\n",
        "\n",
        "\n",
        "File PreProcessing With C and Cython\n",
        "\n",
        "https://github.com/EveryTimeIWill18/Cython_Repo/blob/master/FastFileProcessingWithCython.ipynb\n",
        "\n"
      ]
    },
    {
      "cell_type": "code",
      "metadata": {
        "id": "xwq0n_b4L3ML",
        "colab": {
          "base_uri": "https://localhost:8080/"
        },
        "outputId": "9ac8288c-a01b-44a7-95c6-f395a063549a"
      },
      "source": [
        "# python3\n",
        "\n",
        "%%writefile main.py\n",
        "import time\n",
        "\n",
        "def mpp(numbers):\n",
        "    n = len(numbers)\n",
        "    maximum = 0                                              # 1\n",
        "    for i in range(n):                                       # 1+2n\n",
        "        for j in range(i + 1, n):                            # n+(n-1)n\n",
        "            maximum = max(maximum, numbers[i] * numbers[j])  # 3\n",
        "    return maximum\n",
        "\n",
        "if __name__ == '__main__':\n",
        "    input_n = int(input())\n",
        "    list_numbers = [int(x) for x in input().split()]\n",
        "    assert (len(list_numbers) == input_n)\n",
        "    print(mpp(list_numbers))"
      ],
      "execution_count": 18,
      "outputs": [
        {
          "output_type": "stream",
          "text": [
            "Overwriting main.py\n"
          ],
          "name": "stdout"
        }
      ]
    },
    {
      "cell_type": "code",
      "metadata": {
        "colab": {
          "base_uri": "https://localhost:8080/"
        },
        "id": "Tm8PSZA3WOOH",
        "outputId": "2e089bb0-29d2-4041-8957-d4a8e6bf8719"
      },
      "source": [
        "# python3\n",
        "\n",
        "%%writefile main2.py\n",
        "import time\n",
        "\n",
        "def mpp_fast(n, numbers):\n",
        "    max_i1 = 0                                      # 1\n",
        "    max_i2 = 0                                      # 1\n",
        "    for i in range(n):                              # 1+2n\n",
        "        if (numbers[i] > numbers[max_i1]):          # n\n",
        "            max_i2 = max_i1                         # \n",
        "            max_i1 = i                              # 2[1, n]\n",
        "        if (numbers[i] > numbers[max_i2]):          # n\n",
        "            max_i2 = i                              # [1, n]\n",
        "\n",
        "    return numbers[max_i1] * numbers[max_i2]\n",
        "\n",
        "if __name__ == '__main__':\n",
        "    input_n = int(input())\n",
        "    list_numbers = [int(x) for x in input().split()]\n",
        "    assert (len(list_numbers) == input_n)\n",
        "    print(mpp_fast(input_n, list_numbers))"
      ],
      "execution_count": 15,
      "outputs": [
        {
          "output_type": "stream",
          "text": [
            "Overwriting main2.py\n"
          ],
          "name": "stdout"
        }
      ]
    },
    {
      "cell_type": "markdown",
      "metadata": {
        "id": "MW_r6ZOgQidc"
      },
      "source": [
        "The mpp_fast(n, numbers) method takes $$1+1+(1+2n)+n+(2[1,n])+n+([1,n]) = 3+4n+3[1,n]$$  steps to complete all the processing that means $3+7n$ in the worst case meanwhile the mpp(numbers) method takes $$1+(1+2n)+(n+(n-1)n)+3 = 5+2n+n^2$$ which is  $2-5n+n^2$ times slower than the fast algorithm"
      ]
    },
    {
      "cell_type": "code",
      "metadata": {
        "id": "en_foPBHtaL5"
      },
      "source": [
        "import random\n",
        "\n",
        "n = 20000\n",
        "l = []\n",
        "max1 = -1\n",
        "max2 = -1\n",
        "\n",
        "for i in range(n):\n",
        "  x = random.randint(0, n)\n",
        "  l.append(str(x))\n",
        "  if x >= max1:\n",
        "    max2 = max1\n",
        "    max1 = x\n",
        "  elif x >= max2:\n",
        "    max2 = x\n",
        "\n",
        "fin = open(\"test2.in\", \"w\")\n",
        "fout = open(\"test2.out\", \"w\")\n",
        "\n",
        "fin.write(str(n) + \"\\n\" + \" \".join(l))\n",
        "fout.write(str(max1 * max2))\n",
        "\n",
        "fin.close()\n",
        "fout.close()"
      ],
      "execution_count": 26,
      "outputs": []
    },
    {
      "cell_type": "code",
      "metadata": {
        "colab": {
          "base_uri": "https://localhost:8080/"
        },
        "id": "lVvrJypLtXPD",
        "outputId": "d920b120-c98a-4b4e-dbf3-3c7f39785725"
      },
      "source": [
        "%%time\n",
        "\n",
        "!python main.py < test2.in > result.out\n",
        "!grep -xvFf test2.out result.out"
      ],
      "execution_count": 27,
      "outputs": [
        {
          "output_type": "stream",
          "text": [
            "CPU times: user 368 ms, sys: 52.3 ms, total: 420 ms\n",
            "Wall time: 52 s\n"
          ],
          "name": "stdout"
        }
      ]
    },
    {
      "cell_type": "code",
      "metadata": {
        "colab": {
          "base_uri": "https://localhost:8080/"
        },
        "id": "uqgxM1-mWeMo",
        "outputId": "3a295b61-6fab-4bd9-e5cd-889281c713d9"
      },
      "source": [
        "%%time\n",
        "\n",
        "!python main2.py < test2.in > result.out\n",
        "!grep -xvFf test2.out result.out"
      ],
      "execution_count": 28,
      "outputs": [
        {
          "output_type": "stream",
          "text": [
            "400000000\n",
            "CPU times: user 10.5 ms, sys: 13.5 ms, total: 24 ms\n",
            "Wall time: 233 ms\n"
          ],
          "name": "stdout"
        }
      ]
    },
    {
      "cell_type": "markdown",
      "metadata": {
        "id": "LkVxxlhl9H98"
      },
      "source": [
        "# Screenhsoots of the Coursera Submissions in C++ and Python"
      ]
    },
    {
      "cell_type": "markdown",
      "metadata": {
        "id": "FRsK_FZ_BNJE"
      },
      "source": [
        "![AplasB](https://raw.githubusercontent.com/gjhernandezp/algorithms/master/Lab6/AplusB.jpg)"
      ]
    }
  ]
}