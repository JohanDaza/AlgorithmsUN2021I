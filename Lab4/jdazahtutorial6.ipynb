{
  "nbformat": 4,
  "nbformat_minor": 0,
  "metadata": {
    "colab": {
      "name": "jdazahtutorial6.ipynb",
      "provenance": []
    },
    "kernelspec": {
      "name": "python3",
      "display_name": "Python 3"
    },
    "language_info": {
      "name": "python"
    }
  },
  "cells": [
    {
      "cell_type": "markdown",
      "metadata": {
        "id": "21Tzq33hEEKp"
      },
      "source": [
        "# Rate of Return , Mean an Variance"
      ]
    },
    {
      "cell_type": "code",
      "metadata": {
        "id": "60jJ6CVh7mos"
      },
      "source": [
        "import numpy as np"
      ],
      "execution_count": 1,
      "outputs": []
    },
    {
      "cell_type": "code",
      "metadata": {
        "colab": {
          "base_uri": "https://localhost:8080/"
        },
        "id": "ETXOSo1gER1B",
        "outputId": "3a224ff4-b540-4382-b686-aaf6c432f22c"
      },
      "source": [
        "rate_return = 110/100 -1\n",
        "print(rate_return)"
      ],
      "execution_count": 2,
      "outputs": [
        {
          "output_type": "stream",
          "text": [
            "0.10000000000000009\n"
          ],
          "name": "stdout"
        }
      ]
    },
    {
      "cell_type": "markdown",
      "metadata": {
        "id": "xmk2QlBqEhOM"
      },
      "source": [
        "el ternorno para un periodo simple tiene la siguiente formula:\n",
        "$$r = \\frac{p_t}{p_0}-1=\\frac{p_t-p_0}{p_0}$$\n",
        "para dos periodos seria:\n",
        "$$r = (1+r_1)*(1+r_2)-1$$\n"
      ]
    },
    {
      "cell_type": "markdown",
      "metadata": {
        "id": "QOPXlEn9FRTc"
      },
      "source": [
        "#logaritmo de retorno\n",
        "la formula es:\n",
        "$$r_{efectivo} = (1+\\frac{r_{nominal}}{n})^{n}-1$$\n",
        "aplicando logaritmo podemos hacer que la formula quede:\n",
        "$$r_{efectivo} = e^{r_{nominal}}-1\\approx r_{nominal}$$"
      ]
    },
    {
      "cell_type": "code",
      "metadata": {
        "colab": {
          "base_uri": "https://localhost:8080/"
        },
        "id": "pLPq7F12Gb1E",
        "outputId": "4979cf3f-4a80-400b-ed6a-d5abdbdc95f0"
      },
      "source": [
        "pip install Quandl"
      ],
      "execution_count": 3,
      "outputs": [
        {
          "output_type": "stream",
          "text": [
            "Requirement already satisfied: Quandl in /usr/local/lib/python3.7/dist-packages (3.6.1)\n",
            "Requirement already satisfied: more-itertools in /usr/local/lib/python3.7/dist-packages (from Quandl) (8.7.0)\n",
            "Requirement already satisfied: inflection>=0.3.1 in /usr/local/lib/python3.7/dist-packages (from Quandl) (0.5.1)\n",
            "Requirement already satisfied: requests>=2.7.0 in /usr/local/lib/python3.7/dist-packages (from Quandl) (2.23.0)\n",
            "Requirement already satisfied: numpy>=1.8 in /usr/local/lib/python3.7/dist-packages (from Quandl) (1.19.5)\n",
            "Requirement already satisfied: python-dateutil in /usr/local/lib/python3.7/dist-packages (from Quandl) (2.8.1)\n",
            "Requirement already satisfied: six in /usr/local/lib/python3.7/dist-packages (from Quandl) (1.15.0)\n",
            "Requirement already satisfied: pandas>=0.14 in /usr/local/lib/python3.7/dist-packages (from Quandl) (1.1.5)\n",
            "Requirement already satisfied: urllib3!=1.25.0,!=1.25.1,<1.26,>=1.21.1 in /usr/local/lib/python3.7/dist-packages (from requests>=2.7.0->Quandl) (1.24.3)\n",
            "Requirement already satisfied: certifi>=2017.4.17 in /usr/local/lib/python3.7/dist-packages (from requests>=2.7.0->Quandl) (2020.12.5)\n",
            "Requirement already satisfied: idna<3,>=2.5 in /usr/local/lib/python3.7/dist-packages (from requests>=2.7.0->Quandl) (2.10)\n",
            "Requirement already satisfied: chardet<4,>=3.0.2 in /usr/local/lib/python3.7/dist-packages (from requests>=2.7.0->Quandl) (3.0.4)\n",
            "Requirement already satisfied: pytz>=2017.2 in /usr/local/lib/python3.7/dist-packages (from pandas>=0.14->Quandl) (2018.9)\n"
          ],
          "name": "stdout"
        }
      ]
    },
    {
      "cell_type": "code",
      "metadata": {
        "colab": {
          "base_uri": "https://localhost:8080/"
        },
        "id": "Nb658bndEZKh",
        "outputId": "3b5023b2-c923-46ac-e2a8-cc43e5a912ca"
      },
      "source": [
        "import numpy as np\n",
        "import quandl\n",
        "quandl.ApiConfig.api_key = '5aXPhTxNyrgdBN7iN9x4'\n",
        "#get quandl data\n",
        "tesla_table = quandl.get('WIKI/TSLA')\n",
        "tesla = tesla_table.loc['2018-3',['Open','Close']]\n",
        "#take log return\n",
        "tesla['log_price'] = np.log(tesla.Close)\n",
        "tesla['log_return'] = tesla['log_price'].diff()\n",
        "print(tesla)"
      ],
      "execution_count": 4,
      "outputs": [
        {
          "output_type": "stream",
          "text": [
            "              Open   Close  log_price  log_return\n",
            "Date                                             \n",
            "2018-03-01  345.01  330.93   5.801907         NaN\n",
            "2018-03-02  326.98  335.12   5.814489    0.012582\n",
            "2018-03-05  332.39  333.35   5.809193   -0.005296\n",
            "2018-03-06  333.75  328.20   5.793623   -0.015570\n",
            "2018-03-07  325.44  332.30   5.806038    0.012415\n",
            "2018-03-08  332.86  329.10   5.796362   -0.009677\n",
            "2018-03-09  324.10  327.17   5.790480   -0.005882\n",
            "2018-03-12  328.61  345.51   5.845022    0.054542\n",
            "2018-03-13  344.92  341.84   5.834343   -0.010679\n",
            "2018-03-14  336.76  326.63   5.788828   -0.045515\n",
            "2018-03-15  329.38  325.60   5.785670   -0.003158\n",
            "2018-03-16  325.96  321.35   5.772531   -0.013139\n",
            "2018-03-19  316.50  313.56   5.747991   -0.024540\n",
            "2018-03-20  314.87  310.55   5.738345   -0.009646\n",
            "2018-03-21  310.25  316.53   5.757418    0.019073\n",
            "2018-03-22  313.89  309.10   5.733665   -0.023753\n",
            "2018-03-23  311.25  301.54   5.708903   -0.024762\n",
            "2018-03-26  307.34  304.18   5.717620    0.008717\n",
            "2018-03-27  304.00  279.18   5.631857   -0.085763\n"
          ],
          "name": "stdout"
        }
      ]
    },
    {
      "cell_type": "markdown",
      "metadata": {
        "id": "qQOC0WDZG0Ty"
      },
      "source": [
        "podemos calcular el retorno mensual simplemente con la suma de todos los retornos diarios"
      ]
    },
    {
      "cell_type": "code",
      "metadata": {
        "colab": {
          "base_uri": "https://localhost:8080/"
        },
        "id": "EsHO75f8G6xS",
        "outputId": "1701c69e-ccc5-4e74-dbb9-a9ba99d2324e"
      },
      "source": [
        "retorno_mensual = tesla.log_return.sum()\n",
        "print(retorno_mensual)"
      ],
      "execution_count": 5,
      "outputs": [
        {
          "output_type": "stream",
          "text": [
            "-0.17005013756478782\n"
          ],
          "name": "stdout"
        }
      ]
    },
    {
      "cell_type": "markdown",
      "metadata": {
        "id": "5UtjIcNvHJVr"
      },
      "source": [
        "# Mean\n",
        "la media es una medida de tendencia central de una serie de datos, por default la media es aritmetica y tiene la siguiente formula:\n",
        "$$\\mu =\\frac{\\sum _{i=1}^{n}x_i}{n}$$"
      ]
    },
    {
      "cell_type": "code",
      "metadata": {
        "colab": {
          "base_uri": "https://localhost:8080/"
        },
        "id": "SG2ZDN85HmCi",
        "outputId": "0f049c97-75e1-4efd-9166-3056f5dd6298"
      },
      "source": [
        "#usamos numpy\n",
        "print(np.mean(tesla.log_price))"
      ],
      "execution_count": 6,
      "outputs": [
        {
          "output_type": "stream",
          "text": [
            "5.772330628547169\n"
          ],
          "name": "stdout"
        }
      ]
    },
    {
      "cell_type": "markdown",
      "metadata": {
        "id": "aUdiMnBXH8g0"
      },
      "source": [
        "otra media es la geometrica que tiene la siguiente formula:\n",
        "$$\\bar{x}=\\sqrt[n]{x_1x_2x_3...x_n}$$\n"
      ]
    },
    {
      "cell_type": "markdown",
      "metadata": {
        "id": "VDiZ3f3WIwd5"
      },
      "source": [
        "#Variance and Standart deviation\n",
        "la varianza en una medida de dispersion y tiene la siguiente formula:\n",
        "$$\\sigma^{2}=\\frac{\\sum _{i=1}^{n}(x_i-\\mu )^{2}}{n}$$\n",
        "con numpy lo calculamos con la funcion `var`"
      ]
    },
    {
      "cell_type": "code",
      "metadata": {
        "colab": {
          "base_uri": "https://localhost:8080/"
        },
        "id": "E4OPDql_H5Co",
        "outputId": "905b03e9-b631-4461-ba29-99ffe02ff36e"
      },
      "source": [
        "print(np.var(tesla.log_price))"
      ],
      "execution_count": 7,
      "outputs": [
        {
          "output_type": "stream",
          "text": [
            "0.002436903400424708\n"
          ],
          "name": "stdout"
        }
      ]
    },
    {
      "cell_type": "markdown",
      "metadata": {
        "id": "aQBLTbF2JfFQ"
      },
      "source": [
        "en finanzas la medida de dispersion mas usada es la desviacion estandar y tiene la siguiente formula:\n",
        "$$\\sigma=\\sqrt{\\sigma^{2}}=\\sqrt{\\frac{\\sum _{i=1}^{n}(x_i-\\mu )^{2}}{n}}$$\n",
        "con numpy usamos la funcion `std`"
      ]
    },
    {
      "cell_type": "code",
      "metadata": {
        "colab": {
          "base_uri": "https://localhost:8080/"
        },
        "id": "HBiqvRzBJcF-",
        "outputId": "a2ba899f-93b3-4e98-95b5-4b1a5af8a691"
      },
      "source": [
        "print(np.std(tesla.log_price))"
      ],
      "execution_count": 8,
      "outputs": [
        {
          "output_type": "stream",
          "text": [
            "0.049365001776812564\n"
          ],
          "name": "stdout"
        }
      ]
    }
  ]
}