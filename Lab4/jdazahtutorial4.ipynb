{
  "nbformat": 4,
  "nbformat_minor": 0,
  "metadata": {
    "colab": {
      "name": "jdazahtutorial4.ipynb",
      "provenance": [],
      "collapsed_sections": []
    },
    "kernelspec": {
      "name": "python3",
      "display_name": "Python 3"
    },
    "language_info": {
      "name": "python"
    }
  },
  "cells": [
    {
      "cell_type": "code",
      "metadata": {
        "id": "qiyNBDVlMGwZ"
      },
      "source": [
        "import numpy as np"
      ],
      "execution_count": 1,
      "outputs": []
    },
    {
      "cell_type": "code",
      "metadata": {
        "colab": {
          "base_uri": "https://localhost:8080/"
        },
        "id": "fXsWqxBnMMhJ",
        "outputId": "c750b15f-7d02-4dab-9b93-e0e52e35f04f"
      },
      "source": [
        "temperatura_lista  = [12.34 , 34.6, 65.2, 78.5, 12.7, 87.5]\n",
        "temperatura_array = np.array(temperatura_lista)\n",
        "print(temperatura_array, type(temperatura_array))"
      ],
      "execution_count": 2,
      "outputs": [
        {
          "output_type": "stream",
          "text": [
            "[12.34 34.6  65.2  78.5  12.7  87.5 ] <class 'numpy.ndarray'>\n"
          ],
          "name": "stdout"
        }
      ]
    },
    {
      "cell_type": "code",
      "metadata": {
        "colab": {
          "base_uri": "https://localhost:8080/"
        },
        "id": "BOy7safaMwbl",
        "outputId": "b7464234-29ed-4715-d8dc-3e210d08d40b"
      },
      "source": [
        "array2D = np.array([[5,8],[9,2]])\n",
        "print(array2D,type(array2D))"
      ],
      "execution_count": 3,
      "outputs": [
        {
          "output_type": "stream",
          "text": [
            "[[5 8]\n",
            " [9 2]] <class 'numpy.ndarray'>\n"
          ],
          "name": "stdout"
        }
      ]
    },
    {
      "cell_type": "code",
      "metadata": {
        "colab": {
          "base_uri": "https://localhost:8080/"
        },
        "id": "McIGJlmbM-P0",
        "outputId": "b21468f5-e96a-4511-a198-385cccd3754d"
      },
      "source": [
        "print(array2D.shape)"
      ],
      "execution_count": 4,
      "outputs": [
        {
          "output_type": "stream",
          "text": [
            "(2, 2)\n"
          ],
          "name": "stdout"
        }
      ]
    },
    {
      "cell_type": "code",
      "metadata": {
        "colab": {
          "base_uri": "https://localhost:8080/"
        },
        "id": "cdUFVUaQNEtj",
        "outputId": "91cbf024-67f3-4e7d-8b93-8b2c03551e3f"
      },
      "source": [
        "print(array2D[0])\n",
        "print(array2D[1])"
      ],
      "execution_count": 5,
      "outputs": [
        {
          "output_type": "stream",
          "text": [
            "[5 8]\n",
            "[9 2]\n"
          ],
          "name": "stdout"
        }
      ]
    },
    {
      "cell_type": "code",
      "metadata": {
        "colab": {
          "base_uri": "https://localhost:8080/"
        },
        "id": "b34GOAUUNIhQ",
        "outputId": "cec83941-2218-44ed-ea6a-b682da6baa80"
      },
      "source": [
        "print(\"primera columna\", array2D[:,0])\n",
        "print(\"Segunda columna\", array2D[:,1])"
      ],
      "execution_count": 6,
      "outputs": [
        {
          "output_type": "stream",
          "text": [
            "primera columna [5 9]\n",
            "Segunda columna [8 2]\n"
          ],
          "name": "stdout"
        }
      ]
    },
    {
      "cell_type": "markdown",
      "metadata": {
        "id": "XHBk76pvNejt"
      },
      "source": [
        "#Funciones"
      ]
    },
    {
      "cell_type": "code",
      "metadata": {
        "colab": {
          "base_uri": "https://localhost:8080/"
        },
        "id": "-7umW2tjNYmk",
        "outputId": "681a7378-3767-4ed9-9e90-46f2abe2717f"
      },
      "source": [
        "#algoritmo natural\n",
        "np.log(temperatura_array)"
      ],
      "execution_count": 7,
      "outputs": [
        {
          "output_type": "execute_result",
          "data": {
            "text/plain": [
              "array([2.51284602, 3.54385368, 4.17745947, 4.36309862, 2.54160199,\n",
              "       4.47163879])"
            ]
          },
          "metadata": {
            "tags": []
          },
          "execution_count": 7
        }
      ]
    },
    {
      "cell_type": "code",
      "metadata": {
        "colab": {
          "base_uri": "https://localhost:8080/"
        },
        "id": "urMlc0DxNjst",
        "outputId": "064ed441-6842-4597-d005-5ea73042dbd4"
      },
      "source": [
        "print(np.mean(temperatura_array))\n",
        "print(np.std(temperatura_array))\n",
        "print(np.sum(temperatura_array))\n",
        "print(np.max(temperatura_array))"
      ],
      "execution_count": 8,
      "outputs": [
        {
          "output_type": "stream",
          "text": [
            "48.47333333333333\n",
            "30.227695174385286\n",
            "290.84\n",
            "87.5\n"
          ],
          "name": "stdout"
        }
      ]
    },
    {
      "cell_type": "markdown",
      "metadata": {
        "id": "aKm8iOn8N5-1"
      },
      "source": [
        "#Pandas\n"
      ]
    },
    {
      "cell_type": "code",
      "metadata": {
        "id": "5RZqyjrDN3U6"
      },
      "source": [
        "import pandas as pd"
      ],
      "execution_count": 9,
      "outputs": []
    },
    {
      "cell_type": "code",
      "metadata": {
        "colab": {
          "base_uri": "https://localhost:8080/"
        },
        "id": "aA4YIrZEN9kC",
        "outputId": "57a4cb88-ff40-4719-ad6d-f626a3a4dc9b"
      },
      "source": [
        "precios = [123.5, 765.23, 345.6, 375.7, 152.6, 765.3]\n",
        "serie = pd.Series(precios)\n",
        "print(serie)"
      ],
      "execution_count": 10,
      "outputs": [
        {
          "output_type": "stream",
          "text": [
            "0    123.50\n",
            "1    765.23\n",
            "2    345.60\n",
            "3    375.70\n",
            "4    152.60\n",
            "5    765.30\n",
            "dtype: float64\n"
          ],
          "name": "stdout"
        }
      ]
    },
    {
      "cell_type": "code",
      "metadata": {
        "colab": {
          "base_uri": "https://localhost:8080/"
        },
        "id": "c5KQi0XoOPXg",
        "outputId": "145cf208-0b23-4a85-e853-8f0402d5a9f1"
      },
      "source": [
        "#para cambiar el index\n",
        "serie = pd.Series(precios,index = ['I','II','III','IV','V','VI'])\n",
        "print(serie)"
      ],
      "execution_count": 11,
      "outputs": [
        {
          "output_type": "stream",
          "text": [
            "I      123.50\n",
            "II     765.23\n",
            "III    345.60\n",
            "IV     375.70\n",
            "V      152.60\n",
            "VI     765.30\n",
            "dtype: float64\n"
          ],
          "name": "stdout"
        }
      ]
    },
    {
      "cell_type": "code",
      "metadata": {
        "colab": {
          "base_uri": "https://localhost:8080/"
        },
        "id": "24O3TCwbPbNr",
        "outputId": "54223678-7141-476d-c515-bdfdbaeb305e"
      },
      "source": [
        "serie.index = [4,8,9,3,6,1]\n",
        "print(serie)"
      ],
      "execution_count": 12,
      "outputs": [
        {
          "output_type": "stream",
          "text": [
            "4    123.50\n",
            "8    765.23\n",
            "9    345.60\n",
            "3    375.70\n",
            "6    152.60\n",
            "1    765.30\n",
            "dtype: float64\n"
          ],
          "name": "stdout"
        }
      ]
    },
    {
      "cell_type": "code",
      "metadata": {
        "colab": {
          "base_uri": "https://localhost:8080/"
        },
        "id": "GpeItBYEPlt9",
        "outputId": "0e6b0528-2d58-43bb-c0ff-f7e3db468571"
      },
      "source": [
        "print(serie[2:])\n",
        "print(serie[:-3])"
      ],
      "execution_count": 13,
      "outputs": [
        {
          "output_type": "stream",
          "text": [
            "9    345.6\n",
            "3    375.7\n",
            "6    152.6\n",
            "1    765.3\n",
            "dtype: float64\n",
            "4    123.50\n",
            "8    765.23\n",
            "9    345.60\n",
            "dtype: float64\n"
          ],
          "name": "stdout"
        }
      ]
    },
    {
      "cell_type": "code",
      "metadata": {
        "colab": {
          "base_uri": "https://localhost:8080/"
        },
        "id": "-2GOEqa0PuTz",
        "outputId": "2d21b0c4-fee6-40d4-8b5f-4e2ff9110e5e"
      },
      "source": [
        "# son como diccionarios\n",
        "print(serie[4])\n",
        "serie[4] = 0\n",
        "print(serie)"
      ],
      "execution_count": 14,
      "outputs": [
        {
          "output_type": "stream",
          "text": [
            "123.5\n",
            "4      0.00\n",
            "8    765.23\n",
            "9    345.60\n",
            "3    375.70\n",
            "6    152.60\n",
            "1    765.30\n",
            "dtype: float64\n"
          ],
          "name": "stdout"
        }
      ]
    },
    {
      "cell_type": "code",
      "metadata": {
        "colab": {
          "base_uri": "https://localhost:8080/"
        },
        "id": "svVJQ8r5P5IW",
        "outputId": "0e050cf5-3dab-4f36-c14c-f964b605d1d5"
      },
      "source": [
        "serie = pd.Series(precios,name = 'Acciones')\n",
        "print(serie)\n",
        "print(serie.name)"
      ],
      "execution_count": 15,
      "outputs": [
        {
          "output_type": "stream",
          "text": [
            "0    123.50\n",
            "1    765.23\n",
            "2    345.60\n",
            "3    375.70\n",
            "4    152.60\n",
            "5    765.30\n",
            "Name: Acciones, dtype: float64\n",
            "Acciones\n"
          ],
          "name": "stdout"
        }
      ]
    },
    {
      "cell_type": "code",
      "metadata": {
        "colab": {
          "base_uri": "https://localhost:8080/"
        },
        "id": "H1ycdwD7RRM_",
        "outputId": "c4c3482a-677d-4665-ccd9-d84461031060"
      },
      "source": [
        "print(serie.describe())"
      ],
      "execution_count": 16,
      "outputs": [
        {
          "output_type": "stream",
          "text": [
            "count      6.000000\n",
            "mean     421.321667\n",
            "std      284.716779\n",
            "min      123.500000\n",
            "25%      200.850000\n",
            "50%      360.650000\n",
            "75%      667.847500\n",
            "max      765.300000\n",
            "Name: Acciones, dtype: float64\n"
          ],
          "name": "stdout"
        }
      ]
    },
    {
      "cell_type": "markdown",
      "metadata": {
        "id": "_78z4uNpYLfF"
      },
      "source": [
        "#Time index\n"
      ]
    },
    {
      "cell_type": "code",
      "metadata": {
        "colab": {
          "base_uri": "https://localhost:8080/"
        },
        "id": "hIijpxE_YEf-",
        "outputId": "485f17d2-e28e-44a2-eb49-e8c3d0305537"
      },
      "source": [
        "tiempo_ind = pd.date_range('2021-01-01', periods = len(serie), freq = 'D')\n",
        "print(tiempo_ind)\n",
        "serie.index = tiempo_ind\n",
        "print(serie)"
      ],
      "execution_count": 17,
      "outputs": [
        {
          "output_type": "stream",
          "text": [
            "DatetimeIndex(['2021-01-01', '2021-01-02', '2021-01-03', '2021-01-04',\n",
            "               '2021-01-05', '2021-01-06'],\n",
            "              dtype='datetime64[ns]', freq='D')\n",
            "2021-01-01    123.50\n",
            "2021-01-02    765.23\n",
            "2021-01-03    345.60\n",
            "2021-01-04    375.70\n",
            "2021-01-05    152.60\n",
            "2021-01-06    765.30\n",
            "Freq: D, Name: Acciones, dtype: float64\n"
          ],
          "name": "stdout"
        }
      ]
    },
    {
      "cell_type": "markdown",
      "metadata": {
        "id": "3yO0bqaKbLah"
      },
      "source": [
        "Para acceder a las series se usa iloc y loc"
      ]
    },
    {
      "cell_type": "code",
      "metadata": {
        "colab": {
          "base_uri": "https://localhost:8080/"
        },
        "id": "n5YY8y3gSRav",
        "outputId": "a162b140-da44-486c-80cc-c97dfa8ddeec"
      },
      "source": [
        "serie.index = [1,2,3,4,5,6]\n",
        "print(serie)\n",
        "print(serie[1])"
      ],
      "execution_count": 18,
      "outputs": [
        {
          "output_type": "stream",
          "text": [
            "1    123.50\n",
            "2    765.23\n",
            "3    345.60\n",
            "4    375.70\n",
            "5    152.60\n",
            "6    765.30\n",
            "Name: Acciones, dtype: float64\n",
            "123.5\n"
          ],
          "name": "stdout"
        }
      ]
    },
    {
      "cell_type": "code",
      "metadata": {
        "colab": {
          "base_uri": "https://localhost:8080/"
        },
        "id": "9Ho8Fp2LbtPo",
        "outputId": "32b2a08d-8637-4922-b5c1-d2aec40eba9c"
      },
      "source": [
        "print(serie.iloc[2])"
      ],
      "execution_count": 19,
      "outputs": [
        {
          "output_type": "stream",
          "text": [
            "345.6\n"
          ],
          "name": "stdout"
        }
      ]
    },
    {
      "cell_type": "code",
      "metadata": {
        "colab": {
          "base_uri": "https://localhost:8080/"
        },
        "id": "pLC-PwJgb_yK",
        "outputId": "acfcdd23-42aa-4341-90b1-16553d02f2c5"
      },
      "source": [
        "serie.index = tiempo_ind #pone las fechas como indices a las serie\n",
        "print(serie['2021-01-03']) # acceder con index al "
      ],
      "execution_count": 20,
      "outputs": [
        {
          "output_type": "stream",
          "text": [
            "345.6\n"
          ],
          "name": "stdout"
        }
      ]
    },
    {
      "cell_type": "code",
      "metadata": {
        "colab": {
          "base_uri": "https://localhost:8080/"
        },
        "id": "zM32wnazk_ud",
        "outputId": "38345666-94fa-4140-8ad2-ba00e4e040f0"
      },
      "source": [
        "print(serie['2021-01-02':'2021-01-05'])"
      ],
      "execution_count": 21,
      "outputs": [
        {
          "output_type": "stream",
          "text": [
            "2021-01-02    765.23\n",
            "2021-01-03    345.60\n",
            "2021-01-04    375.70\n",
            "2021-01-05    152.60\n",
            "Freq: D, Name: Acciones, dtype: float64\n"
          ],
          "name": "stdout"
        }
      ]
    },
    {
      "cell_type": "code",
      "metadata": {
        "colab": {
          "base_uri": "https://localhost:8080/"
        },
        "id": "VABf3FUllOll",
        "outputId": "ff2a1906-8f3e-4757-fe1d-88e7b8af92a0"
      },
      "source": [
        "print(serie[serie < np.mean(serie)])\n",
        "print(serie[(serie > np.mean(serie)) & (serie < np.mean(serie) + 2*np.std(serie))])"
      ],
      "execution_count": 22,
      "outputs": [
        {
          "output_type": "stream",
          "text": [
            "2021-01-01    123.5\n",
            "2021-01-03    345.6\n",
            "2021-01-04    375.7\n",
            "2021-01-05    152.6\n",
            "Name: Acciones, dtype: float64\n",
            "2021-01-02    765.23\n",
            "2021-01-06    765.30\n",
            "Name: Acciones, dtype: float64\n"
          ],
          "name": "stdout"
        }
      ]
    }
  ]
}