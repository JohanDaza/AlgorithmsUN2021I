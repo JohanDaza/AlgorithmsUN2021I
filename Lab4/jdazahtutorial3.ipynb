{
  "nbformat": 4,
  "nbformat_minor": 0,
  "metadata": {
    "colab": {
      "name": "jdazahtutorial3.ipynb",
      "provenance": [],
      "collapsed_sections": []
    },
    "kernelspec": {
      "name": "python3",
      "display_name": "Python 3"
    },
    "language_info": {
      "name": "python"
    }
  },
  "cells": [
    {
      "cell_type": "code",
      "metadata": {
        "colab": {
          "base_uri": "https://localhost:8080/"
        },
        "id": "9IvpSDfD4BCZ",
        "outputId": "e4d5e414-0d6a-4082-c573-7596950e9d80"
      },
      "source": [
        "def product(x,y):\n",
        "  return x*y\n",
        "print(product(34,67))\n",
        "print(product(700,2345))"
      ],
      "execution_count": 1,
      "outputs": [
        {
          "output_type": "stream",
          "text": [
            "2278\n",
            "1641500\n"
          ],
          "name": "stdout"
        }
      ]
    },
    {
      "cell_type": "code",
      "metadata": {
        "colab": {
          "base_uri": "https://localhost:8080/"
        },
        "id": "9cAgWmOI5NMn",
        "outputId": "8024e6f1-c564-4f2a-a2af-8cb657284fc8"
      },
      "source": [
        "def decir_hola():\n",
        "  print(\"hola como estan, espero que muy bien\")\n",
        "\n",
        "decir_hola()"
      ],
      "execution_count": 2,
      "outputs": [
        {
          "output_type": "stream",
          "text": [
            "hola como estan, espero que muy bien\n"
          ],
          "name": "stdout"
        }
      ]
    },
    {
      "cell_type": "markdown",
      "metadata": {
        "id": "kZj7Xiea5YcQ"
      },
      "source": [
        "`Range` es na funcion que crea un objeto rango con una secuencia aritmetica"
      ]
    },
    {
      "cell_type": "code",
      "metadata": {
        "colab": {
          "base_uri": "https://localhost:8080/"
        },
        "id": "4POZKgL75V2v",
        "outputId": "9d3913bd-cb00-4678-b781-28a03ab1f6bf"
      },
      "source": [
        "print(type(range(15)))\n",
        "print(range(3,34))\n",
        "print(range(4,50,3))"
      ],
      "execution_count": 5,
      "outputs": [
        {
          "output_type": "stream",
          "text": [
            "<class 'range'>\n",
            "range(3, 34)\n",
            "range(4, 50, 3)\n"
          ],
          "name": "stdout"
        }
      ]
    },
    {
      "cell_type": "code",
      "metadata": {
        "colab": {
          "base_uri": "https://localhost:8080/"
        },
        "id": "zaU_J0AB5903",
        "outputId": "3b03d4eb-2c91-4470-e865-f9e185eaf3ed"
      },
      "source": [
        "animales = [\"perro\", \"gato\", \"cabra\", \"zebra\", \"murcielago\"]\n",
        "print(\"el numero de animales en animales es {} \".format(len(animales)))\n",
        "for k in range(len(animales)):\n",
        "  print(k+1, animales[k])"
      ],
      "execution_count": 7,
      "outputs": [
        {
          "output_type": "stream",
          "text": [
            "el numero de animales en animales es 5 \n",
            "1 perro\n",
            "2 gato\n",
            "3 cabra\n",
            "4 zebra\n",
            "5 murcielago\n"
          ],
          "name": "stdout"
        }
      ]
    },
    {
      "cell_type": "markdown",
      "metadata": {
        "id": "Px9iQh-86mQt"
      },
      "source": [
        "`Map` es una funcion que le aplica una funcion a cada item de la secuania o coleccion y retorna la lista de resultados"
      ]
    },
    {
      "cell_type": "code",
      "metadata": {
        "colab": {
          "base_uri": "https://localhost:8080/"
        },
        "id": "tjPgGZHA6zwn",
        "outputId": "8a8cdde7-69c1-4d5a-c29e-ae8826f63cc5"
      },
      "source": [
        "print(list(map(len,animales)))"
      ],
      "execution_count": 8,
      "outputs": [
        {
          "output_type": "stream",
          "text": [
            "[5, 4, 5, 5, 10]\n"
          ],
          "name": "stdout"
        }
      ]
    },
    {
      "cell_type": "markdown",
      "metadata": {
        "id": "V15jpzdW7Bo-"
      },
      "source": [
        "el operador lambda es una manera de crear pequeñas y anonimas funciones"
      ]
    },
    {
      "cell_type": "code",
      "metadata": {
        "colab": {
          "base_uri": "https://localhost:8080/"
        },
        "id": "pLncZfBF6_r-",
        "outputId": "8c178653-5ada-4071-859e-250dcb60523e"
      },
      "source": [
        "map(lambda x: x**4, range(10))"
      ],
      "execution_count": 11,
      "outputs": [
        {
          "output_type": "execute_result",
          "data": {
            "text/plain": [
              "<map at 0x7f370ef3e490>"
            ]
          },
          "metadata": {
            "tags": []
          },
          "execution_count": 11
        }
      ]
    },
    {
      "cell_type": "markdown",
      "metadata": {
        "id": "gx7XQlnW7qAV"
      },
      "source": [
        "map puede aplicarlo a mas de una lista pero tiene que tener el mismo tamaño si o si "
      ]
    },
    {
      "cell_type": "code",
      "metadata": {
        "colab": {
          "base_uri": "https://localhost:8080/"
        },
        "id": "5nfFHlDv7h5N",
        "outputId": "715a83f1-a1cb-4134-9796-46eb7ad93cdb"
      },
      "source": [
        "map(lambda a,b: a*b, [2,5,3,7],[2,4,6,8])"
      ],
      "execution_count": 13,
      "outputs": [
        {
          "output_type": "execute_result",
          "data": {
            "text/plain": [
              "<map at 0x7f370eefafd0>"
            ]
          },
          "metadata": {
            "tags": []
          },
          "execution_count": 13
        }
      ]
    },
    {
      "cell_type": "code",
      "metadata": {
        "colab": {
          "base_uri": "https://localhost:8080/"
        },
        "id": "Ihtq0WSG736F",
        "outputId": "c7bc6ef7-0eb8-4098-aa33-fdad66749758"
      },
      "source": [
        "sorted([3,5,7,3,1])"
      ],
      "execution_count": 14,
      "outputs": [
        {
          "output_type": "execute_result",
          "data": {
            "text/plain": [
              "[1, 3, 3, 5, 7]"
            ]
          },
          "metadata": {
            "tags": []
          },
          "execution_count": 14
        }
      ]
    },
    {
      "cell_type": "code",
      "metadata": {
        "colab": {
          "base_uri": "https://localhost:8080/"
        },
        "id": "7bnNVo1T8Ci1",
        "outputId": "636cd038-49da-4427-f144-6f96c57777d9"
      },
      "source": [
        "frutas_precio = [('manzana',1000),('pera',300),('durazno',500),('banano',800),('fresa',100)]\n",
        "sorted(frutas_precio, key = lambda x:x[1]) # lo ordena de menor a mayor precio x[1]"
      ],
      "execution_count": 15,
      "outputs": [
        {
          "output_type": "execute_result",
          "data": {
            "text/plain": [
              "[('fresa', 100),\n",
              " ('pera', 300),\n",
              " ('durazno', 500),\n",
              " ('banano', 800),\n",
              " ('manzana', 1000)]"
            ]
          },
          "metadata": {
            "tags": []
          },
          "execution_count": 15
        }
      ]
    },
    {
      "cell_type": "code",
      "metadata": {
        "colab": {
          "base_uri": "https://localhost:8080/"
        },
        "id": "mjAL9U3q8klN",
        "outputId": "a7f5a26e-42e6-4a83-cdb1-e7a961a9853c"
      },
      "source": [
        "frutas_precio = [('manzana',1000),('pera',300),('durazno',500),('banano',800),('fresa',100)]\n",
        "sorted(frutas_precio, key = lambda x:x[1], reverse = True) #en reversa"
      ],
      "execution_count": 17,
      "outputs": [
        {
          "output_type": "execute_result",
          "data": {
            "text/plain": [
              "[('manzana', 1000),\n",
              " ('banano', 800),\n",
              " ('durazno', 500),\n",
              " ('pera', 300),\n",
              " ('fresa', 100)]"
            ]
          },
          "metadata": {
            "tags": []
          },
          "execution_count": 17
        }
      ]
    },
    {
      "cell_type": "code",
      "metadata": {
        "colab": {
          "base_uri": "https://localhost:8080/"
        },
        "id": "rHPjf_uD8wzE",
        "outputId": "5cd2c794-6846-4756-ef28-f425b2ab5550"
      },
      "source": [
        "frutas_precio.sort(key = lambda x: x[1])# las listas tiene una funcion sort que hace lo mismo aunque no restor una nueva lista\n",
        "frutas_precio"
      ],
      "execution_count": 19,
      "outputs": [
        {
          "output_type": "execute_result",
          "data": {
            "text/plain": [
              "[('fresa', 100),\n",
              " ('pera', 300),\n",
              " ('durazno', 500),\n",
              " ('banano', 800),\n",
              " ('manzana', 1000)]"
            ]
          },
          "metadata": {
            "tags": []
          },
          "execution_count": 19
        }
      ]
    },
    {
      "cell_type": "markdown",
      "metadata": {
        "id": "BSu-EUQv9EbF"
      },
      "source": [
        "##ORIENTADO A OBJETOS"
      ]
    },
    {
      "cell_type": "code",
      "metadata": {
        "id": "tjnXLQfo9JZk"
      },
      "source": [
        "class Stock:# clase ejemplo de quantconnect\n",
        "    def __init__(self, ticker, open, close, volume):#constructor\n",
        "        self.ticker = ticker\n",
        "        self.open = open\n",
        "        self.close = close\n",
        "        self.volume = volume\n",
        "        self.rate_return = float(close)/open - 1\n",
        "\n",
        "    def update(self, open, close):#metodo actualizar\n",
        "        self.open = open\n",
        "        self.close = close\n",
        "        self.rate_return = float(self.close)/self.open - 1\n",
        "\n",
        "    def print_return(self):\n",
        "        print(self.rate_return)"
      ],
      "execution_count": 21,
      "outputs": []
    },
    {
      "cell_type": "code",
      "metadata": {
        "id": "MBRo-ako9hH8"
      },
      "source": [
        "#para crear un objeto\n",
        "\n",
        "tesla = Stock('TSLA', 143.6 , 456.03, 23456)"
      ],
      "execution_count": 23,
      "outputs": []
    },
    {
      "cell_type": "code",
      "metadata": {
        "colab": {
          "base_uri": "https://localhost:8080/"
        },
        "id": "jlmGQG1g-I2D",
        "outputId": "93492401-5c18-47bd-a612-2365ffa72203"
      },
      "source": [
        "print(tesla.ticker)\n",
        "tesla.print_return()\n",
        "tesla.update(234.56,456.2)\n",
        "tesla.print_return()"
      ],
      "execution_count": 24,
      "outputs": [
        {
          "output_type": "stream",
          "text": [
            "TSLA\n",
            "2.1756963788300836\n",
            "0.9449181446111867\n"
          ],
          "name": "stdout"
        }
      ]
    },
    {
      "cell_type": "markdown",
      "metadata": {
        "id": "PpP8UxLq_Del"
      },
      "source": [
        "podemos agregar un atributo a un objeto asi:"
      ]
    },
    {
      "cell_type": "code",
      "metadata": {
        "colab": {
          "base_uri": "https://localhost:8080/",
          "height": 35
        },
        "id": "dRynWiH6-xUr",
        "outputId": "609b82e6-0335-4800-e2a6-91574084a22d"
      },
      "source": [
        "tesla.ceo = \"elon musk\"\n",
        "tesla.ceo"
      ],
      "execution_count": 25,
      "outputs": [
        {
          "output_type": "execute_result",
          "data": {
            "application/vnd.google.colaboratory.intrinsic+json": {
              "type": "string"
            },
            "text/plain": [
              "'elon musk'"
            ]
          },
          "metadata": {
            "tags": []
          },
          "execution_count": 25
        }
      ]
    },
    {
      "cell_type": "markdown",
      "metadata": {
        "id": "GB3xNfkS_K4d"
      },
      "source": [
        "para ver los atributos del objeto usamos dir"
      ]
    },
    {
      "cell_type": "code",
      "metadata": {
        "colab": {
          "base_uri": "https://localhost:8080/"
        },
        "id": "CftjPmPI_OGK",
        "outputId": "5f006ca2-c400-4918-fcc7-c7eaa8490c1c"
      },
      "source": [
        "dir(tesla)"
      ],
      "execution_count": 26,
      "outputs": [
        {
          "output_type": "execute_result",
          "data": {
            "text/plain": [
              "['__class__',\n",
              " '__delattr__',\n",
              " '__dict__',\n",
              " '__dir__',\n",
              " '__doc__',\n",
              " '__eq__',\n",
              " '__format__',\n",
              " '__ge__',\n",
              " '__getattribute__',\n",
              " '__gt__',\n",
              " '__hash__',\n",
              " '__init__',\n",
              " '__init_subclass__',\n",
              " '__le__',\n",
              " '__lt__',\n",
              " '__module__',\n",
              " '__ne__',\n",
              " '__new__',\n",
              " '__reduce__',\n",
              " '__reduce_ex__',\n",
              " '__repr__',\n",
              " '__setattr__',\n",
              " '__sizeof__',\n",
              " '__str__',\n",
              " '__subclasshook__',\n",
              " '__weakref__',\n",
              " 'ceo',\n",
              " 'close',\n",
              " 'open',\n",
              " 'print_return',\n",
              " 'rate_return',\n",
              " 'ticker',\n",
              " 'update',\n",
              " 'volume']"
            ]
          },
          "metadata": {
            "tags": []
          },
          "execution_count": 26
        }
      ]
    },
    {
      "cell_type": "markdown",
      "metadata": {
        "id": "zc2iv3n0_UWx"
      },
      "source": [
        "###HERENCIA"
      ]
    },
    {
      "cell_type": "code",
      "metadata": {
        "id": "r-LgRkeQ_X8c"
      },
      "source": [
        "class Child(Stock):\n",
        "    def __init__(self, name):\n",
        "        self.name = name"
      ],
      "execution_count": 27,
      "outputs": []
    },
    {
      "cell_type": "code",
      "metadata": {
        "colab": {
          "base_uri": "https://localhost:8080/"
        },
        "id": "caJicgfd_4sq",
        "outputId": "6e4f89ef-e5f5-4090-b36b-05bb0e488c03"
      },
      "source": [
        "#creamos un objeto hijo\n",
        "\n",
        "teslito = Child('TSLTD')\n",
        "print(teslito.name)\n",
        "teslito.update(123,456)\n",
        "print(teslito.open)\n",
        "print(teslito.close)\n",
        "teslito.print_return()"
      ],
      "execution_count": 30,
      "outputs": [
        {
          "output_type": "stream",
          "text": [
            "TSLTD\n",
            "123\n",
            "456\n",
            "2.707317073170732\n"
          ],
          "name": "stdout"
        }
      ]
    }
  ]
}