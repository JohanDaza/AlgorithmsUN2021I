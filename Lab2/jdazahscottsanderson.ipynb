{
  "nbformat": 4,
  "nbformat_minor": 0,
  "metadata": {
    "celltoolbar": "Slideshow",
    "kernelspec": {
      "display_name": "Python 3",
      "language": "python",
      "name": "python3"
    },
    "language_info": {
      "codemirror_mode": {
        "name": "ipython",
        "version": 3
      },
      "file_extension": ".py",
      "mimetype": "text/x-python",
      "name": "python",
      "nbconvert_exporter": "python",
      "pygments_lexer": "ipython3",
      "version": "3.5.2"
    },
    "livereveal": {
      "start_slideshow_at": "selected"
    },
    "name": "Main.ipynb",
    "colab": {
      "name": "Main.ipynb",
      "provenance": [],
      "collapsed_sections": [
        "EUvhXPmRlMAa",
        "FkHyJ-9DlMAq",
        "LOLsW1dqlMAs",
        "Ayg2aRuglMA1",
        "EwT3iS7zlMA3",
        "c0YyduDPlMBE",
        "rp6ZT2r4lMBE"
      ]
    }
  },
  "cells": [
    {
      "cell_type": "code",
      "metadata": {
        "colab": {
          "base_uri": "https://localhost:8080/"
        },
        "id": "1mtAdcLonHMC",
        "outputId": "ae1bb699-e078-4edc-e7c7-7f5815fce806"
      },
      "source": [
        "pip install -U fortran-magic"
      ],
      "execution_count": 1,
      "outputs": [
        {
          "output_type": "stream",
          "text": [
            "Collecting fortran-magic\n",
            "  Downloading https://files.pythonhosted.org/packages/53/b1/d664bd431354c450f40fa436b2c9306666cd417b23098dd5636751c557a4/fortran_magic-0.7-py3-none-any.whl\n",
            "Requirement already satisfied, skipping upgrade: numpy in /usr/local/lib/python3.7/dist-packages (from fortran-magic) (1.19.5)\n",
            "Requirement already satisfied, skipping upgrade: ipython in /usr/local/lib/python3.7/dist-packages (from fortran-magic) (5.5.0)\n",
            "Requirement already satisfied, skipping upgrade: traitlets>=4.2 in /usr/local/lib/python3.7/dist-packages (from ipython->fortran-magic) (5.0.5)\n",
            "Requirement already satisfied, skipping upgrade: setuptools>=18.5 in /usr/local/lib/python3.7/dist-packages (from ipython->fortran-magic) (54.0.0)\n",
            "Requirement already satisfied, skipping upgrade: pygments in /usr/local/lib/python3.7/dist-packages (from ipython->fortran-magic) (2.6.1)\n",
            "Requirement already satisfied, skipping upgrade: decorator in /usr/local/lib/python3.7/dist-packages (from ipython->fortran-magic) (4.4.2)\n",
            "Requirement already satisfied, skipping upgrade: prompt-toolkit<2.0.0,>=1.0.4 in /usr/local/lib/python3.7/dist-packages (from ipython->fortran-magic) (1.0.18)\n",
            "Requirement already satisfied, skipping upgrade: simplegeneric>0.8 in /usr/local/lib/python3.7/dist-packages (from ipython->fortran-magic) (0.8.1)\n",
            "Requirement already satisfied, skipping upgrade: pexpect; sys_platform != \"win32\" in /usr/local/lib/python3.7/dist-packages (from ipython->fortran-magic) (4.8.0)\n",
            "Requirement already satisfied, skipping upgrade: pickleshare in /usr/local/lib/python3.7/dist-packages (from ipython->fortran-magic) (0.7.5)\n",
            "Requirement already satisfied, skipping upgrade: ipython-genutils in /usr/local/lib/python3.7/dist-packages (from traitlets>=4.2->ipython->fortran-magic) (0.2.0)\n",
            "Requirement already satisfied, skipping upgrade: six>=1.9.0 in /usr/local/lib/python3.7/dist-packages (from prompt-toolkit<2.0.0,>=1.0.4->ipython->fortran-magic) (1.15.0)\n",
            "Requirement already satisfied, skipping upgrade: wcwidth in /usr/local/lib/python3.7/dist-packages (from prompt-toolkit<2.0.0,>=1.0.4->ipython->fortran-magic) (0.2.5)\n",
            "Requirement already satisfied, skipping upgrade: ptyprocess>=0.5 in /usr/local/lib/python3.7/dist-packages (from pexpect; sys_platform != \"win32\"->ipython->fortran-magic) (0.7.0)\n",
            "Installing collected packages: fortran-magic\n",
            "Successfully installed fortran-magic-0.7\n"
          ],
          "name": "stdout"
        }
      ]
    },
    {
      "cell_type": "code",
      "metadata": {
        "autoscroll": false,
        "ein.tags": "worksheet-0",
        "colab": {
          "base_uri": "https://localhost:8080/",
          "height": 51
        },
        "id": "F5hY-saulMAK",
        "outputId": "2265cc40-c7ca-425e-af03-3181e3d193b0"
      },
      "source": [
        "\n",
        "%matplotlib inline\n",
        "%load_ext fortranmagic\n",
        "\n",
        "import sys; sys.path.append('..')\n",
        "\n",
        "import pandas as pd\n",
        "import numpy as np\n",
        "import matplotlib as mpl\n",
        "import matplotlib.pyplot as plt\n",
        "import seaborn as sns\n",
        "\n",
        "mpl.rc('figure', figsize=(12, 7))\n",
        "\n",
        "ran_the_first_cell = True\n",
        "\n",
        "jan2017 = pd.to_datetime(['2017-01-03 00:00:00+00:00',\n",
        " '2017-01-04 00:00:00+00:00',\n",
        " '2017-01-05 00:00:00+00:00',\n",
        " '2017-01-06 00:00:00+00:00',\n",
        " '2017-01-09 00:00:00+00:00',\n",
        " '2017-01-10 00:00:00+00:00',\n",
        " '2017-01-11 00:00:00+00:00',\n",
        " '2017-01-12 00:00:00+00:00',\n",
        " '2017-01-13 00:00:00+00:00',\n",
        " '2017-01-17 00:00:00+00:00',\n",
        " '2017-01-18 00:00:00+00:00',\n",
        " '2017-01-19 00:00:00+00:00',\n",
        " '2017-01-20 00:00:00+00:00',\n",
        " '2017-01-23 00:00:00+00:00',\n",
        " '2017-01-24 00:00:00+00:00',\n",
        " '2017-01-25 00:00:00+00:00',\n",
        " '2017-01-26 00:00:00+00:00',\n",
        " '2017-01-27 00:00:00+00:00',\n",
        " '2017-01-30 00:00:00+00:00',\n",
        " '2017-01-31 00:00:00+00:00',\n",
        " '2017-02-01 00:00:00+00:00'])\n",
        "calendar = jan2017.values.astype('datetime64[D]')\n",
        "\n",
        "event_dates = pd.to_datetime(['2017-01-06 00:00:00+00:00', \n",
        "                             '2017-01-07 00:00:00+00:00', \n",
        "                             '2017-01-08 00:00:00+00:00']).values.astype('datetime64[D]')\n",
        "event_values = np.array([10, 15, 20])"
      ],
      "execution_count": 2,
      "outputs": [
        {
          "output_type": "stream",
          "text": [
            "/usr/local/lib/python3.7/dist-packages/fortranmagic.py:147: UserWarning: get_ipython_cache_dir has moved to the IPython.paths module since IPython 4.0.\n",
            "  self._lib_dir = os.path.join(get_ipython_cache_dir(), 'fortran')\n"
          ],
          "name": "stderr"
        },
        {
          "output_type": "display_data",
          "data": {
            "application/javascript": [
              "$.getScript(\"https://raw.github.com/marijnh/CodeMirror/master/mode/fortran/fortran.js\", function () {\n",
              "IPython.config.cell_magic_highlight['magic_fortran'] = {'reg':[/^%%fortran/]};});\n"
            ]
          },
          "metadata": {
            "tags": []
          }
        }
      ]
    },
    {
      "cell_type": "markdown",
      "metadata": {
        "ein.tags": "worksheet-0",
        "id": "IYH_DVsqlMAT"
      },
      "source": [
        "<center>\n",
        "  <h1>The PyData Toolbox</h1>\n",
        "  <h3>Scott Sanderson (Twitter: @scottbsanderson, GitHub: ssanderson)</h3>\n",
        "  <h3><a href=\"https://github.com/ssanderson/pydata-toolbox\">https://github.com/ssanderson/pydata-toolbox</a></h3>\n",
        "</center>"
      ]
    },
    {
      "cell_type": "markdown",
      "metadata": {
        "collapsed": true,
        "ein.tags": "worksheet-0",
        "id": "LDXbmT-8lMAU"
      },
      "source": [
        "# About Me:\n",
        "\n",
        "<img src=\"https://github.com/ssanderson/pydata-toolbox/blob/master/notebooks/images/me.jpg?raw=true\" alt=\"Drawing\" style=\"width: 300px;\"/>\n",
        "\n",
        "- Senior Engineer at [Quantopian](www.quantopian.com)\n",
        "- Background in Mathematics and Philosophy\n",
        "- **Twitter:** [@scottbsanderson](https://twitter.com/scottbsanderson)\n",
        "- **GitHub:** [ssanderson](github.com/ssanderson)"
      ]
    },
    {
      "cell_type": "markdown",
      "metadata": {
        "id": "JH2eoF4zlMAU"
      },
      "source": [
        "## Outline\n",
        "\n",
        "- Built-in Data Structures\n",
        "- Numpy `array`\n",
        "- Pandas `Series`/`DataFrame`\n",
        "- Plotting and \"Real-World\" Analyses"
      ]
    },
    {
      "cell_type": "markdown",
      "metadata": {
        "id": "Gywy56rilMAV"
      },
      "source": [
        "# Data Structures"
      ]
    },
    {
      "cell_type": "markdown",
      "metadata": {
        "id": "yLBRsZRWlMAV"
      },
      "source": [
        "> Rule 5. Data dominates. If you've chosen the right data structures and organized things well, the algorithms\n",
        "will almost always be self-evident. Data structures, not algorithms, are central to programming.\n",
        "\n",
        "- *Notes on Programming in C*, by Rob Pike."
      ]
    },
    {
      "cell_type": "markdown",
      "metadata": {
        "id": "paewW0K8lMAV"
      },
      "source": [
        "# Lists"
      ]
    },
    {
      "cell_type": "code",
      "metadata": {
        "collapsed": true,
        "id": "IWvLzz3blMAW"
      },
      "source": [
        "assert ran_the_first_cell, \"Oh noes!\"#preguntar"
      ],
      "execution_count": 3,
      "outputs": []
    },
    {
      "cell_type": "code",
      "metadata": {
        "colab": {
          "base_uri": "https://localhost:8080/"
        },
        "id": "60D9Q-lWlMAW",
        "outputId": "f9470043-018f-42aa-9e37-9010c7cbcb10"
      },
      "source": [
        "# l = [1, 'two', 3.0, 4, 5.0, \"six\"]\n",
        "# l\n",
        "\n",
        "lista = [6, 'Seven', 7.2, 8, 8.0, \"ten\"]\n",
        "lista"
      ],
      "execution_count": 4,
      "outputs": [
        {
          "output_type": "execute_result",
          "data": {
            "text/plain": [
              "[6, 'Seven', 7.2, 8, 8.0, 'ten']"
            ]
          },
          "metadata": {
            "tags": []
          },
          "execution_count": 4
        }
      ]
    },
    {
      "cell_type": "code",
      "metadata": {
        "colab": {
          "base_uri": "https://localhost:8080/"
        },
        "id": "gO-rzmcNlMAW",
        "outputId": "2e49d0fb-d851-4936-ef77-469e112e3f80"
      },
      "source": [
        "# Lists can be indexed like C-style arrays.\n",
        "# first = l[0]\n",
        "# second = l[1]\n",
        "# print(\"first:\", first)\n",
        "# print(\"second:\", second)\n",
        "\n",
        "primero = lista[0]\n",
        "segundo= lista[1]\n",
        "print(\"primero:\", primero)\n",
        "print(\"segundo:\", segundo)"
      ],
      "execution_count": 5,
      "outputs": [
        {
          "output_type": "stream",
          "text": [
            "primero: 6\n",
            "segundo: Seven\n"
          ],
          "name": "stdout"
        }
      ]
    },
    {
      "cell_type": "code",
      "metadata": {
        "colab": {
          "base_uri": "https://localhost:8080/"
        },
        "id": "vEoveqUJlMAX",
        "outputId": "f402db5a-b548-4fc1-b18e-607b14a18a9d"
      },
      "source": [
        "# Negative indexing gives elements relative to the end of the list.\n",
        "# last = l[-1]\n",
        "# penultimate = l[-2]\n",
        "# print(\"last:\", last)\n",
        "# print(\"second to last:\", penultimate)\n",
        "\n",
        "ultimo = lista[-1]\n",
        "penultimo = lista[-2]\n",
        "print(\"ultimo:\", ultimo)\n",
        "print(\"penultmo:\", penultimo)"
      ],
      "execution_count": 6,
      "outputs": [
        {
          "output_type": "stream",
          "text": [
            "ultimo: ten\n",
            "penultmo: 8.0\n"
          ],
          "name": "stdout"
        }
      ]
    },
    {
      "cell_type": "code",
      "metadata": {
        "colab": {
          "base_uri": "https://localhost:8080/"
        },
        "id": "UxdT_wymlMAX",
        "outputId": "2db68e15-55a5-4a57-a1b3-146c037e4dea"
      },
      "source": [
        "# Lists can also be sliced, which makes a copy of elements between \n",
        "# start (inclusive) and stop (exclusive)\n",
        "# sublist = l[1:3]\n",
        "# sublist\n",
        "\n",
        "sublista = lista[2:6]\n",
        "sublista"
      ],
      "execution_count": 7,
      "outputs": [
        {
          "output_type": "execute_result",
          "data": {
            "text/plain": [
              "[7.2, 8, 8.0, 'ten']"
            ]
          },
          "metadata": {
            "tags": []
          },
          "execution_count": 7
        }
      ]
    },
    {
      "cell_type": "code",
      "metadata": {
        "colab": {
          "base_uri": "https://localhost:8080/"
        },
        "id": "qCA67hztlMAY",
        "outputId": "abc5512e-d4bb-43a2-a06c-85a432fbf2c1"
      },
      "source": [
        "# l[:N] is equivalent to l[0:N].\n",
        "# first_three = l[:3]\n",
        "# first_three\n",
        "\n",
        "primeros_tres = lista[:3]\n",
        "primeros_tres"
      ],
      "execution_count": 8,
      "outputs": [
        {
          "output_type": "execute_result",
          "data": {
            "text/plain": [
              "[6, 'Seven', 7.2]"
            ]
          },
          "metadata": {
            "tags": []
          },
          "execution_count": 8
        }
      ]
    },
    {
      "cell_type": "code",
      "metadata": {
        "colab": {
          "base_uri": "https://localhost:8080/"
        },
        "id": "5ajAcSUplMAY",
        "outputId": "dc1c075d-80f6-4cff-aaf2-81e26a6f2a8f"
      },
      "source": [
        "# l[3:] is equivalent to l[3:len(l)].\n",
        "# after_three = l[3:]\n",
        "# after_three\n",
        "\n",
        "despues_tres = lista[3:]\n",
        "despues_tres"
      ],
      "execution_count": 9,
      "outputs": [
        {
          "output_type": "execute_result",
          "data": {
            "text/plain": [
              "[8, 8.0, 'ten']"
            ]
          },
          "metadata": {
            "tags": []
          },
          "execution_count": 9
        }
      ]
    },
    {
      "cell_type": "code",
      "metadata": {
        "colab": {
          "base_uri": "https://localhost:8080/"
        },
        "id": "QEdkipZZlMAY",
        "outputId": "e604c510-0d39-4253-c143-1b5a5700c9cb"
      },
      "source": [
        "# There's also a third parameter, \"step\", which gets every Nth element.\n",
        "# l = ['a', 'b', 'c', 'd', 'e', 'f', 'g','h']\n",
        "# l[1:7:2]\n",
        "\n",
        "lista = ['hola', 'soy', 'una', 'lista', 'de', 'palabras', 'y','voy']\n",
        "lista[1:8:3]"
      ],
      "execution_count": 10,
      "outputs": [
        {
          "output_type": "execute_result",
          "data": {
            "text/plain": [
              "['soy', 'de', 'voy']"
            ]
          },
          "metadata": {
            "tags": []
          },
          "execution_count": 10
        }
      ]
    },
    {
      "cell_type": "code",
      "metadata": {
        "colab": {
          "base_uri": "https://localhost:8080/"
        },
        "id": "l-DDfYvmlMAZ",
        "outputId": "11de05b5-955f-42cf-bf06-86b74b6b03a4"
      },
      "source": [
        "# This is a cute way to reverse a list.\n",
        "# l[::-1]\n",
        "\n",
        "lista[::-1]"
      ],
      "execution_count": 11,
      "outputs": [
        {
          "output_type": "execute_result",
          "data": {
            "text/plain": [
              "['voy', 'y', 'palabras', 'de', 'lista', 'una', 'soy', 'hola']"
            ]
          },
          "metadata": {
            "tags": []
          },
          "execution_count": 11
        }
      ]
    },
    {
      "cell_type": "code",
      "metadata": {
        "colab": {
          "base_uri": "https://localhost:8080/"
        },
        "id": "Qc34FKwFlMAZ",
        "outputId": "06c84f59-a2c7-4c54-8425-96b3e603f583"
      },
      "source": [
        "# Lists can be grown efficiently (in O(1) amortized time).\n",
        "# l = [1, 2, 3, 4, 5]\n",
        "# print(\"Before:\", l)\n",
        "# l.append('six')\n",
        "# print(\"After:\", l)\n",
        "\n",
        "lista = [6, 3, 'hola', 1, 5.7]\n",
        "print(\"antes:\", lista)\n",
        "lista.append('veinte')\n",
        "print(\"Despues:\", lista)"
      ],
      "execution_count": 12,
      "outputs": [
        {
          "output_type": "stream",
          "text": [
            "antes: [6, 3, 'hola', 1, 5.7]\n",
            "Despues: [6, 3, 'hola', 1, 5.7, 'veinte']\n"
          ],
          "name": "stdout"
        }
      ]
    },
    {
      "cell_type": "code",
      "metadata": {
        "colab": {
          "base_uri": "https://localhost:8080/"
        },
        "id": "3LA8ULqzlMAZ",
        "outputId": "ddee002f-d605-46a2-fae2-a7fe5532afee"
      },
      "source": [
        "# Comprehensions let us perform elementwise computations.\n",
        "# l = [1, 2, 3, 4, 5]\n",
        "# [x * 2 for x in l]\n",
        "\n",
        "lista = [6, 2.2, 'lista', 4, 'hola']\n",
        "[x * 2 for x in lista]\n",
        "# print('hola'*2)"
      ],
      "execution_count": 13,
      "outputs": [
        {
          "output_type": "execute_result",
          "data": {
            "text/plain": [
              "[12, 4.4, 'listalista', 8, 'holahola']"
            ]
          },
          "metadata": {
            "tags": []
          },
          "execution_count": 13
        }
      ]
    },
    {
      "cell_type": "markdown",
      "metadata": {
        "id": "OiZYN-B4uhzd"
      },
      "source": [
        "**Nota:** si multiplicamos un string lo que haces es ponerlo dos veces"
      ]
    },
    {
      "cell_type": "markdown",
      "metadata": {
        "ein.tags": "worksheet-0",
        "id": "EUvhXPmRlMAa"
      },
      "source": [
        "## Review: Python Lists\n",
        "\n",
        "- Zero-indexed sequence of arbitrary Python values.\n",
        "- Slicing syntax: `l[start:stop:step]` copies elements at regular intervals from `start` to `stop`.\n",
        "- Efficient (`O(1)`) appends and removes from end.\n",
        "- Comprehension syntax: `[f(x) for x in l if cond(x)]`."
      ]
    },
    {
      "cell_type": "markdown",
      "metadata": {
        "id": "1CdTAI0AlMAa"
      },
      "source": [
        "# Dictionaries"
      ]
    },
    {
      "cell_type": "code",
      "metadata": {
        "colab": {
          "base_uri": "https://localhost:8080/"
        },
        "id": "81tczapWlMAa",
        "outputId": "49bdc0e5-693e-43ef-b72b-031f7b85e585"
      },
      "source": [
        "# Dictionaries are key-value mappings.\n",
        "# philosophers = {'David': 'Hume', 'Immanuel': 'Kant', 'Bertrand': 'Russell'}\n",
        "# philosophers\n",
        "\n",
        "pais_cap = {'colombia': 'bogota', 'mexico': 'ciudad de mexico', 'bolivia': 'la paz'}\n",
        "pais_cap"
      ],
      "execution_count": 14,
      "outputs": [
        {
          "output_type": "execute_result",
          "data": {
            "text/plain": [
              "{'bolivia': 'la paz', 'colombia': 'bogota', 'mexico': 'ciudad de mexico'}"
            ]
          },
          "metadata": {
            "tags": []
          },
          "execution_count": 14
        }
      ]
    },
    {
      "cell_type": "code",
      "metadata": {
        "colab": {
          "base_uri": "https://localhost:8080/"
        },
        "id": "iRI1MTjvlMAa",
        "outputId": "7674515f-f327-481e-c3a4-9c78c187f848"
      },
      "source": [
        "# Like lists, dictionaries are size-mutable.\n",
        "# philosophers['Ludwig'] = 'Wittgenstein'\n",
        "# philosophers\n",
        "\n",
        "pais_cap['Argentina'] = 'Buenos Aires'\n",
        "pais_cap"
      ],
      "execution_count": 15,
      "outputs": [
        {
          "output_type": "execute_result",
          "data": {
            "text/plain": [
              "{'Argentina': 'Buenos Aires',\n",
              " 'bolivia': 'la paz',\n",
              " 'colombia': 'bogota',\n",
              " 'mexico': 'ciudad de mexico'}"
            ]
          },
          "metadata": {
            "tags": []
          },
          "execution_count": 15
        }
      ]
    },
    {
      "cell_type": "code",
      "metadata": {
        "colab": {
          "base_uri": "https://localhost:8080/"
        },
        "id": "Dc4xMqRplMAb",
        "outputId": "71687f4e-981c-4e8f-adff-4b3cf2435dd4"
      },
      "source": [
        "# del philosophers['David']\n",
        "# philosophers\n",
        "\n",
        "del pais_cap['colombia']\n",
        "pais_cap"
      ],
      "execution_count": 16,
      "outputs": [
        {
          "output_type": "execute_result",
          "data": {
            "text/plain": [
              "{'Argentina': 'Buenos Aires',\n",
              " 'bolivia': 'la paz',\n",
              " 'mexico': 'ciudad de mexico'}"
            ]
          },
          "metadata": {
            "tags": []
          },
          "execution_count": 16
        }
      ]
    },
    {
      "cell_type": "code",
      "metadata": {
        "id": "3NKMTFTXlMAb"
      },
      "source": [
        "# No slicing.\n",
        "# philosophers['Bertrand':'Immanuel']\n",
        "\n",
        "# pais_cap['colombia':'bogota']"
      ],
      "execution_count": 17,
      "outputs": []
    },
    {
      "cell_type": "markdown",
      "metadata": {
        "ein.tags": "worksheet-0",
        "id": "A9yqcakAlMAb"
      },
      "source": [
        "## Review: Python Dictionaries\n",
        "\n",
        "- Unordered key-value mapping from (almost) arbitrary keys to arbitrary values.\n",
        "- Efficient (`O(1)`) lookup, insertion, and deletion.\n",
        "- No slicing (would require a notion of order)."
      ]
    },
    {
      "cell_type": "markdown",
      "metadata": {
        "id": "QwP0LUdMlMAc"
      },
      "source": [
        "<center><img src=\"https://github.com/ssanderson/pydata-toolbox/blob/master/notebooks/images/pacino.gif?raw=true\" alt=\"Drawing\" style=\"width: 100%;\"/></center>\n"
      ]
    },
    {
      "cell_type": "code",
      "metadata": {
        "collapsed": true,
        "id": "IJFqDGXwlMAc"
      },
      "source": [
        "# # Suppose we have some matrices...\n",
        "# a = [[1, 2, 3],\n",
        "#      [2, 3, 4],\n",
        "#      [5, 6, 7],\n",
        "#      [1, 1, 1]]\n",
        "\n",
        "# b = [[1, 2, 3, 4],\n",
        "#      [2, 3, 4, 5]]\n",
        "\n",
        "c = [[1, 2, 3],\n",
        "     [4, 5, 6],\n",
        "     [7, 8, 9],\n",
        "     [10, 11, 12]]\n",
        "\n",
        "d = [[13, 24, 35, 46],\n",
        "     [20, 39, 48, 57]]"
      ],
      "execution_count": 18,
      "outputs": []
    },
    {
      "cell_type": "code",
      "metadata": {
        "collapsed": true,
        "id": "-nwZ8U8DlMAc"
      },
      "source": [
        "def matmul(A, B):\n",
        "    \"\"\"Multiply matrix A by matrix B.\"\"\"\n",
        "    rows_out = len(A)\n",
        "    cols_out = len(B[0])\n",
        "    out = [[0 for col in range(cols_out)] for row in range(rows_out)]\n",
        "    \n",
        "    for i in range(rows_out):\n",
        "        for j in range(cols_out):\n",
        "            for k in range(len(B)):\n",
        "                out[i][j] += A[i][k] * B[k][j]\n",
        "    return out"
      ],
      "execution_count": 19,
      "outputs": []
    },
    {
      "cell_type": "markdown",
      "metadata": {
        "id": "rOPb14ONlMAc"
      },
      "source": [
        "<center><img src=\"https://github.com/ssanderson/pydata-toolbox/blob/master/notebooks/images/gross.gif?raw=true\" alt=\"Drawing\" style=\"width: 50%;\"/></center>\n"
      ]
    },
    {
      "cell_type": "code",
      "metadata": {
        "colab": {
          "base_uri": "https://localhost:8080/"
        },
        "id": "sS-jr3kblMAc",
        "outputId": "7595fb34-f028-4fe0-be81-13e93f19ab2f"
      },
      "source": [
        "%%time\n",
        "\n",
        "matmul(c, d)"
      ],
      "execution_count": 20,
      "outputs": [
        {
          "output_type": "stream",
          "text": [
            "CPU times: user 31 µs, sys: 9 µs, total: 40 µs\n",
            "Wall time: 44.8 µs\n"
          ],
          "name": "stdout"
        },
        {
          "output_type": "execute_result",
          "data": {
            "text/plain": [
              "[[53, 102, 131, 160],\n",
              " [152, 291, 380, 469],\n",
              " [251, 480, 629, 778],\n",
              " [350, 669, 878, 1087]]"
            ]
          },
          "metadata": {
            "tags": []
          },
          "execution_count": 20
        }
      ]
    },
    {
      "cell_type": "code",
      "metadata": {
        "colab": {
          "base_uri": "https://localhost:8080/"
        },
        "id": "XG1FLuI1lMAd",
        "outputId": "5d944e76-bf9b-4c06-f3b1-a8cfd781ebdd"
      },
      "source": [
        "import random\n",
        "def random_matrix(m, n):\n",
        "    out = []\n",
        "    for row in range(m):\n",
        "        out.append([random.random() for _ in range(n)])\n",
        "    return out\n",
        "\n",
        "randm = random_matrix(2, 3)\n",
        "randm"
      ],
      "execution_count": 21,
      "outputs": [
        {
          "output_type": "execute_result",
          "data": {
            "text/plain": [
              "[[0.08013845149584509, 0.009495943387776595, 0.08657048904339582],\n",
              " [0.8263167662017822, 0.5238858216145158, 0.2347261275722784]]"
            ]
          },
          "metadata": {
            "tags": []
          },
          "execution_count": 21
        }
      ]
    },
    {
      "cell_type": "code",
      "metadata": {
        "scrolled": true,
        "colab": {
          "base_uri": "https://localhost:8080/"
        },
        "id": "VgqQLuFFlMAd",
        "outputId": "3f3f2dcd-5674-4530-9ea8-63890a52a34f"
      },
      "source": [
        "%%time\n",
        "randa = random_matrix(600, 100)\n",
        "randb = random_matrix(100, 600)\n",
        "x = matmul(randa, randb)"
      ],
      "execution_count": 22,
      "outputs": [
        {
          "output_type": "stream",
          "text": [
            "CPU times: user 8.92 s, sys: 26.3 ms, total: 8.95 s\n",
            "Wall time: 8.98 s\n"
          ],
          "name": "stdout"
        }
      ]
    },
    {
      "cell_type": "code",
      "metadata": {
        "collapsed": true,
        "id": "LfJbCGqilMAd"
      },
      "source": [
        "# Maybe that's not that bad?  Let's try a simpler case.\n",
        "def python_dot_product(xs, ys):\n",
        "    return sum(x * y for x, y in zip(xs, ys))#zip convierte un par de lista en una lista de pares"
      ],
      "execution_count": 23,
      "outputs": []
    },
    {
      "cell_type": "code",
      "metadata": {
        "collapsed": true,
        "id": "fyDdgnmPlMAe"
      },
      "source": [
        "%%fortran\n",
        "subroutine fortran_dot_product(xs, ys, result)\n",
        "    double precision, intent(in) :: xs(:)\n",
        "    double precision, intent(in) :: ys(:)\n",
        "    double precision, intent(out) :: result\n",
        "    \n",
        "    result = sum(xs * ys)\n",
        "end"
      ],
      "execution_count": 24,
      "outputs": []
    },
    {
      "cell_type": "code",
      "metadata": {
        "collapsed": true,
        "id": "4777inAKlMAe"
      },
      "source": [
        "# list_data = [float(i) for i in range(100000)]\n",
        "# array_data = np.array(list_data)\n",
        "lista_datos = [float(i) for i in range(100000)]\n",
        "arreglo_datos = np.array(lista_datos)"
      ],
      "execution_count": 25,
      "outputs": []
    },
    {
      "cell_type": "code",
      "metadata": {
        "colab": {
          "base_uri": "https://localhost:8080/"
        },
        "id": "EVK3-WsRlMAe",
        "outputId": "2d7e4ac5-aa6b-42ed-94a6-ea47e6706342"
      },
      "source": [
        "%%time\n",
        "python_dot_product(lista_datos, lista_datos)"
      ],
      "execution_count": 26,
      "outputs": [
        {
          "output_type": "stream",
          "text": [
            "CPU times: user 11 ms, sys: 0 ns, total: 11 ms\n",
            "Wall time: 11.5 ms\n"
          ],
          "name": "stdout"
        },
        {
          "output_type": "execute_result",
          "data": {
            "text/plain": [
              "333328333350000.0"
            ]
          },
          "metadata": {
            "tags": []
          },
          "execution_count": 26
        }
      ]
    },
    {
      "cell_type": "code",
      "metadata": {
        "colab": {
          "base_uri": "https://localhost:8080/"
        },
        "id": "yOlutEv6lMAe",
        "outputId": "71e1d137-1644-4ffa-e974-2e399e670aee"
      },
      "source": [
        "%%time\n",
        "fortran_dot_product(arreglo_datos, arreglo_datos) # 40 veces mas rapido"
      ],
      "execution_count": 27,
      "outputs": [
        {
          "output_type": "stream",
          "text": [
            "CPU times: user 194 µs, sys: 10 µs, total: 204 µs\n",
            "Wall time: 223 µs\n"
          ],
          "name": "stdout"
        },
        {
          "output_type": "execute_result",
          "data": {
            "text/plain": [
              "333328333350000.0"
            ]
          },
          "metadata": {
            "tags": []
          },
          "execution_count": 27
        }
      ]
    },
    {
      "cell_type": "markdown",
      "metadata": {
        "id": "1_CeYOW6lMAf"
      },
      "source": [
        "<center><img src=\"https://github.com/ssanderson/pydata-toolbox/blob/master/notebooks/images/sloth.gif?raw=true\" alt=\"Drawing\" style=\"width: 1080px;\"/></center>\n"
      ]
    },
    {
      "cell_type": "markdown",
      "metadata": {
        "id": "0LGUo2HDlMAf"
      },
      "source": [
        "## Why is the Python Version so Much Slower?"
      ]
    },
    {
      "cell_type": "code",
      "metadata": {
        "colab": {
          "base_uri": "https://localhost:8080/"
        },
        "id": "iOJHRc0elMAf",
        "outputId": "c646629a-b35f-4ac3-ef88-a754aa5d2116"
      },
      "source": [
        "# Dynamic typing.\n",
        "def mul_elemwise(xs, ys):\n",
        "    return [x * y for x, y in zip(xs, ys)]\n",
        "\n",
        "mul_elemwise([5, 2, 38, 10], [9, 5 + 8j, 9.0, 'ten'])\n",
        "#[type(x) for x in _]"
      ],
      "execution_count": 28,
      "outputs": [
        {
          "output_type": "execute_result",
          "data": {
            "text/plain": [
              "[45, (10+16j), 342.0, 'tentententententententententen']"
            ]
          },
          "metadata": {
            "tags": []
          },
          "execution_count": 28
        }
      ]
    },
    {
      "cell_type": "code",
      "metadata": {
        "colab": {
          "base_uri": "https://localhost:8080/"
        },
        "id": "D7QdF9XllMAf",
        "outputId": "0f506ebe-f6a8-4b89-bce5-d3dd53a5b5f9"
      },
      "source": [
        "# Interpretation overhead.\n",
        "# source_code = 'a + b * c'\n",
        "# bytecode = compile(source_code, '', 'eval')\n",
        "\n",
        "codigo_fuente = 'x - y / z'\n",
        "bytecode = compile(codigo_fuente, '', 'eval')\n",
        "import dis; \n",
        "dis.dis(bytecode)"
      ],
      "execution_count": 29,
      "outputs": [
        {
          "output_type": "stream",
          "text": [
            "  1           0 LOAD_NAME                0 (x)\n",
            "              2 LOAD_NAME                1 (y)\n",
            "              4 LOAD_NAME                2 (z)\n",
            "              6 BINARY_TRUE_DIVIDE\n",
            "              8 BINARY_SUBTRACT\n",
            "             10 RETURN_VALUE\n"
          ],
          "name": "stdout"
        }
      ]
    },
    {
      "cell_type": "markdown",
      "metadata": {
        "id": "Alc-we4hlMAg"
      },
      "source": [
        "## Why is the Python Version so Slow?\n",
        "- Dynamic typing means that every single operation requires dispatching on the input type.\n",
        "- Having an interpreter means that every instruction is fetched and dispatched at runtime.\n",
        "- Other overheads:\n",
        "  - Arbitrary-size integers.\n",
        "  - Reference-counted garbage collection."
      ]
    },
    {
      "cell_type": "markdown",
      "metadata": {
        "id": "u0976FBblMAh"
      },
      "source": [
        "> This is the paradox that we have to work with when we're doing scientific or numerically-intensive Python. What makes Python fast for development -- this high-level, interpreted, and dynamically-typed aspect of the language -- is exactly what makes it slow for code execution.\n",
        "\n",
        "- Jake VanderPlas, [*Losing Your Loops: Fast Numerical Computing with NumPy*](https://www.youtube.com/watch?v=EEUXKG97YRw)"
      ]
    },
    {
      "cell_type": "markdown",
      "metadata": {
        "id": "HxKdoP93lMAh"
      },
      "source": [
        "# What Do We Do?"
      ]
    },
    {
      "cell_type": "markdown",
      "metadata": {
        "id": "WetgPiYdlMAi"
      },
      "source": [
        "<center><img src=\"https://github.com/ssanderson/pydata-toolbox/blob/master/notebooks/images/runaway.gif?raw=true\" alt=\"Drawing\" style=\"width: 50%;\"/></center>"
      ]
    },
    {
      "cell_type": "markdown",
      "metadata": {
        "id": "-ZdBYW-NlMAi"
      },
      "source": [
        "<center><img src=\"https://github.com/ssanderson/pydata-toolbox/blob/master/notebooks/images/thisisfine.gif?raw=true\" alt=\"Drawing\" style=\"width: 1080px;\"/></center>"
      ]
    },
    {
      "cell_type": "markdown",
      "metadata": {
        "id": "dLRURLr7lMAj"
      },
      "source": [
        "- Python is slow for numerical computation because it performs dynamic dispatch on every operation we perform..."
      ]
    },
    {
      "cell_type": "markdown",
      "metadata": {
        "collapsed": true,
        "id": "9x5d8CWmlMAj"
      },
      "source": [
        "- ...but often, we just want to do the same thing over and over in a loop!"
      ]
    },
    {
      "cell_type": "markdown",
      "metadata": {
        "id": "7WVLp4tFlMAj"
      },
      "source": [
        "- If we don't need Python's dynamicism, we don't want to pay (much) for it."
      ]
    },
    {
      "cell_type": "markdown",
      "metadata": {
        "id": "sx3dk0GolMAk"
      },
      "source": [
        "- **Idea:** Dispatch **once per operation** instead of **once per element**."
      ]
    },
    {
      "cell_type": "code",
      "metadata": {
        "colab": {
          "base_uri": "https://localhost:8080/"
        },
        "id": "KEo6j49RlMAk",
        "outputId": "18a1b403-174c-4084-8369-370d1a0e38a4"
      },
      "source": [
        "import numpy as np\n",
        "\n",
        "# data = np.array([1, 2, 3, 4])\n",
        "# data\n",
        "\n",
        "dato = np.array([19, 28, 37, 46])\n",
        "dato"
      ],
      "execution_count": 30,
      "outputs": [
        {
          "output_type": "execute_result",
          "data": {
            "text/plain": [
              "array([19, 28, 37, 46])"
            ]
          },
          "metadata": {
            "tags": []
          },
          "execution_count": 30
        }
      ]
    },
    {
      "cell_type": "code",
      "metadata": {
        "colab": {
          "base_uri": "https://localhost:8080/"
        },
        "id": "PnecQUbTlMAl",
        "outputId": "dacac5d7-eb78-4f68-a32f-2a07fedf9fe8"
      },
      "source": [
        "# data + data\r\n",
        "dato + dato"
      ],
      "execution_count": 31,
      "outputs": [
        {
          "output_type": "execute_result",
          "data": {
            "text/plain": [
              "array([38, 56, 74, 92])"
            ]
          },
          "metadata": {
            "tags": []
          },
          "execution_count": 31
        }
      ]
    },
    {
      "cell_type": "code",
      "metadata": {
        "colab": {
          "base_uri": "https://localhost:8080/"
        },
        "id": "XCevKVo4lMAl",
        "outputId": "46b46bfb-667a-4127-d80b-06580ec37d24"
      },
      "source": [
        "%%time\n",
        "# Naive dot product\n",
        "(arreglo_datos * arreglo_datos).sum()"
      ],
      "execution_count": 32,
      "outputs": [
        {
          "output_type": "stream",
          "text": [
            "CPU times: user 515 µs, sys: 26 µs, total: 541 µs\n",
            "Wall time: 551 µs\n"
          ],
          "name": "stdout"
        },
        {
          "output_type": "execute_result",
          "data": {
            "text/plain": [
              "333328333350000.0"
            ]
          },
          "metadata": {
            "tags": []
          },
          "execution_count": 32
        }
      ]
    },
    {
      "cell_type": "code",
      "metadata": {
        "id": "fQK1yy_NlMAl",
        "colab": {
          "base_uri": "https://localhost:8080/"
        },
        "outputId": "37f257c5-c929-4144-c20a-60bff8cea8b1"
      },
      "source": [
        "%%time\n",
        "# Built-in dot product.\n",
        "arreglo_datos.dot(arreglo_datos)#en el video esta opracion se hace en 0 ns, aqui varia, en este caso lo hizo en 218"
      ],
      "execution_count": 33,
      "outputs": [
        {
          "output_type": "stream",
          "text": [
            "CPU times: user 439 µs, sys: 6.97 ms, total: 7.41 ms\n",
            "Wall time: 9.53 ms\n"
          ],
          "name": "stdout"
        },
        {
          "output_type": "execute_result",
          "data": {
            "text/plain": [
              "333328333350000.0"
            ]
          },
          "metadata": {
            "tags": []
          },
          "execution_count": 33
        }
      ]
    },
    {
      "cell_type": "code",
      "metadata": {
        "id": "9lI4qVVYlMAn",
        "colab": {
          "base_uri": "https://localhost:8080/"
        },
        "outputId": "c95a3dac-46ca-4ad3-a5ca-d047a6e95abd"
      },
      "source": [
        "%%time\n",
        "fortran_dot_product(arreglo_datos, arreglo_datos)"
      ],
      "execution_count": 34,
      "outputs": [
        {
          "output_type": "stream",
          "text": [
            "CPU times: user 219 µs, sys: 0 ns, total: 219 µs\n",
            "Wall time: 227 µs\n"
          ],
          "name": "stdout"
        },
        {
          "output_type": "execute_result",
          "data": {
            "text/plain": [
              "333328333350000.0"
            ]
          },
          "metadata": {
            "tags": []
          },
          "execution_count": 34
        }
      ]
    },
    {
      "cell_type": "code",
      "metadata": {
        "id": "uQxTrjYWlMAn"
      },
      "source": [
        "# Numpy won't allow us to write a string into an int array.\n",
        "# data[0] = \"foo\"\n",
        "# dato[0] = \"no se peude escribir un string\""
      ],
      "execution_count": 35,
      "outputs": []
    },
    {
      "cell_type": "code",
      "metadata": {
        "collapsed": true,
        "id": "gddnA8QClMAo"
      },
      "source": [
        "# We also can't grow an array once it's created.\n",
        "# data.append(3)\n",
        "\n",
        "# dato.append(2)\n"
      ],
      "execution_count": 36,
      "outputs": []
    },
    {
      "cell_type": "code",
      "metadata": {
        "collapsed": true,
        "id": "2mmu9imZlMAo",
        "colab": {
          "base_uri": "https://localhost:8080/"
        },
        "outputId": "52b6e799-8057-431e-d562-ee3b4d3e5caf"
      },
      "source": [
        "# We **can** reshape an array though.\n",
        "# two_by_two = data.reshape(2, 2)\n",
        "# two_by_two\n",
        "\n",
        "re_array = dato.reshape(2, 2)\n",
        "re_array"
      ],
      "execution_count": 37,
      "outputs": [
        {
          "output_type": "execute_result",
          "data": {
            "text/plain": [
              "array([[19, 28],\n",
              "       [37, 46]])"
            ]
          },
          "metadata": {
            "tags": []
          },
          "execution_count": 37
        }
      ]
    },
    {
      "cell_type": "markdown",
      "metadata": {
        "id": "8LwrXKgKlMAo"
      },
      "source": [
        "Numpy arrays are:\n",
        "\n",
        "- Fixed-type"
      ]
    },
    {
      "cell_type": "markdown",
      "metadata": {
        "id": "JSLpwhrNlMAp"
      },
      "source": [
        "- Size-immutable"
      ]
    },
    {
      "cell_type": "markdown",
      "metadata": {
        "id": "HNCBZyAjlMAp"
      },
      "source": [
        "- Multi-dimensional"
      ]
    },
    {
      "cell_type": "markdown",
      "metadata": {
        "id": "oWJUHvKxlMAp"
      },
      "source": [
        "- Fast\\*"
      ]
    },
    {
      "cell_type": "markdown",
      "metadata": {
        "id": "iyaQRdsClMAp"
      },
      "source": [
        "\\* If you use them correctly."
      ]
    },
    {
      "cell_type": "markdown",
      "metadata": {
        "id": "DJwqrOublMAq"
      },
      "source": [
        "# What's in an Array?"
      ]
    },
    {
      "cell_type": "code",
      "metadata": {
        "id": "o5tLjdRylMAq",
        "colab": {
          "base_uri": "https://localhost:8080/"
        },
        "outputId": "29c9e859-5f61-4b69-e5b3-1a9301d6c53a"
      },
      "source": [
        "# arr = np.array([1, 2, 3, 4, 5, 6], dtype='int16').reshape(2, 3)\n",
        "# print(\"Array:\\n\", arr, sep='')\n",
        "# print(\"===========\")\n",
        "# print(\"DType:\", arr.dtype)\n",
        "# print(\"Shape:\", arr.shape)\n",
        "# print(\"Strides:\", arr.strides)\n",
        "# print(\"Data:\", arr.data.tobytes())\n",
        "\n",
        "arreglo = np.array([19, 29, 38, 47, 56, 65,43,27,85], dtype='int16').reshape(3, 3)\n",
        "print(\"Arreglo pasado a 3x3:\\n\", arreglo, sep='')\n",
        "print(\"tipo de dato:\", arreglo.dtype)\n",
        "print(\"forma:\", arreglo.shape)\n",
        "print(\"Strides:\", arreglo.strides)\n",
        "print(\"dato:\", arreglo.data.tobytes())"
      ],
      "execution_count": 38,
      "outputs": [
        {
          "output_type": "stream",
          "text": [
            "Arreglo pasado a 3x3:\n",
            "[[19 29 38]\n",
            " [47 56 65]\n",
            " [43 27 85]]\n",
            "tipo de dato: int16\n",
            "forma: (3, 3)\n",
            "Strides: (6, 2)\n",
            "dato: b'\\x13\\x00\\x1d\\x00&\\x00/\\x008\\x00A\\x00+\\x00\\x1b\\x00U\\x00'\n"
          ],
          "name": "stdout"
        }
      ]
    },
    {
      "cell_type": "markdown",
      "metadata": {
        "id": "FkHyJ-9DlMAq"
      },
      "source": [
        "# Core Operations\n",
        "\n",
        "- Vectorized **ufuncs** for elementwise operations.\n",
        "- Fancy indexing and masking for selection and filtering.\n",
        "- Aggregations across axes.\n",
        "- Broadcasting"
      ]
    },
    {
      "cell_type": "markdown",
      "metadata": {
        "id": "k1tBg331lMAq"
      },
      "source": [
        "# UFuncs\n",
        "\n",
        "UFuncs (universal functions) are functions that operate elementwise on one or more arrays."
      ]
    },
    {
      "cell_type": "code",
      "metadata": {
        "id": "zSYN64VjlMAq",
        "colab": {
          "base_uri": "https://localhost:8080/"
        },
        "outputId": "f0a19fe6-3223-4403-d41f-775c6620416e"
      },
      "source": [
        "# data = np.arange(15).reshape(3, 5)\n",
        "# data\n",
        "\n",
        "dato = np.arange(12).reshape(4, 3)\n",
        "dato"
      ],
      "execution_count": 39,
      "outputs": [
        {
          "output_type": "execute_result",
          "data": {
            "text/plain": [
              "array([[ 0,  1,  2],\n",
              "       [ 3,  4,  5],\n",
              "       [ 6,  7,  8],\n",
              "       [ 9, 10, 11]])"
            ]
          },
          "metadata": {
            "tags": []
          },
          "execution_count": 39
        }
      ]
    },
    {
      "cell_type": "code",
      "metadata": {
        "id": "_yVpQ8GWlMAr",
        "colab": {
          "base_uri": "https://localhost:8080/"
        },
        "outputId": "e40d2d74-26c1-4983-b175-b0c5136255bb"
      },
      "source": [
        "# Binary operators.\n",
        "# data * data\n",
        "\n",
        "dato * dato"
      ],
      "execution_count": 40,
      "outputs": [
        {
          "output_type": "execute_result",
          "data": {
            "text/plain": [
              "array([[  0,   1,   4],\n",
              "       [  9,  16,  25],\n",
              "       [ 36,  49,  64],\n",
              "       [ 81, 100, 121]])"
            ]
          },
          "metadata": {
            "tags": []
          },
          "execution_count": 40
        }
      ]
    },
    {
      "cell_type": "code",
      "metadata": {
        "id": "xUWt38lplMAr",
        "colab": {
          "base_uri": "https://localhost:8080/"
        },
        "outputId": "df080367-d87c-424a-f879-6a320b3e520f"
      },
      "source": [
        "# Unary functions.\n",
        "# np.sqrt(data)\n",
        "\n",
        "np.sqrt(dato)"
      ],
      "execution_count": 41,
      "outputs": [
        {
          "output_type": "execute_result",
          "data": {
            "text/plain": [
              "array([[0.        , 1.        , 1.41421356],\n",
              "       [1.73205081, 2.        , 2.23606798],\n",
              "       [2.44948974, 2.64575131, 2.82842712],\n",
              "       [3.        , 3.16227766, 3.31662479]])"
            ]
          },
          "metadata": {
            "tags": []
          },
          "execution_count": 41
        }
      ]
    },
    {
      "cell_type": "code",
      "metadata": {
        "id": "fx4H0VlzlMAr",
        "colab": {
          "base_uri": "https://localhost:8080/"
        },
        "outputId": "02606ab8-4fe0-428b-af5e-77fdaab61297"
      },
      "source": [
        "# Comparison operations\n",
        "# (data % 3) == 0\n",
        "\n",
        "(dato%5)==0"
      ],
      "execution_count": 42,
      "outputs": [
        {
          "output_type": "execute_result",
          "data": {
            "text/plain": [
              "array([[ True, False, False],\n",
              "       [False, False,  True],\n",
              "       [False, False, False],\n",
              "       [False,  True, False]])"
            ]
          },
          "metadata": {
            "tags": []
          },
          "execution_count": 42
        }
      ]
    },
    {
      "cell_type": "code",
      "metadata": {
        "id": "EdTgJnl9lMAr",
        "colab": {
          "base_uri": "https://localhost:8080/"
        },
        "outputId": "938767aa-0bcc-47cd-a354-0b959e623461"
      },
      "source": [
        "# Boolean combinators.\n",
        "((dato % 2) == 0) & ((dato % 3) == 0)"
      ],
      "execution_count": 43,
      "outputs": [
        {
          "output_type": "execute_result",
          "data": {
            "text/plain": [
              "array([[ True, False, False],\n",
              "       [False, False, False],\n",
              "       [ True, False, False],\n",
              "       [False, False, False]])"
            ]
          },
          "metadata": {
            "tags": []
          },
          "execution_count": 43
        }
      ]
    },
    {
      "cell_type": "code",
      "metadata": {
        "id": "sny3v1WclMAs",
        "colab": {
          "base_uri": "https://localhost:8080/"
        },
        "outputId": "8f74794f-7caa-4cdd-8ce2-d080d9ece4db"
      },
      "source": [
        "# as of python 3.5, @ is matrix-multiply\n",
        "# data @ data.T\n",
        "\n",
        "dato @ dato.T"
      ],
      "execution_count": 44,
      "outputs": [
        {
          "output_type": "execute_result",
          "data": {
            "text/plain": [
              "array([[  5,  14,  23,  32],\n",
              "       [ 14,  50,  86, 122],\n",
              "       [ 23,  86, 149, 212],\n",
              "       [ 32, 122, 212, 302]])"
            ]
          },
          "metadata": {
            "tags": []
          },
          "execution_count": 44
        }
      ]
    },
    {
      "cell_type": "markdown",
      "metadata": {
        "id": "LOLsW1dqlMAs"
      },
      "source": [
        "# UFuncs Review\n",
        "\n",
        "- UFuncs provide efficient elementwise operations applied across one or more arrays.\n",
        "- Arithmetic Operators (`+`, `*`, `/`)\n",
        "- Comparisons (`==`, `>`, `!=`)\n",
        "- Boolean Operators (`&`, `|`, `^`)\n",
        "- Trigonometric Functions (`sin`, `cos`)\n",
        "- Transcendental Functions (`exp`, `log`)"
      ]
    },
    {
      "cell_type": "markdown",
      "metadata": {
        "id": "8YK1xfzylMAt"
      },
      "source": [
        "# Selections"
      ]
    },
    {
      "cell_type": "markdown",
      "metadata": {
        "id": "ojc0RwovlMAt"
      },
      "source": [
        "We often want to perform an operation on just a subset of our data."
      ]
    },
    {
      "cell_type": "code",
      "metadata": {
        "id": "m5hB82Nx6fsM"
      },
      "source": [
        "import math as mt"
      ],
      "execution_count": 45,
      "outputs": []
    },
    {
      "cell_type": "code",
      "metadata": {
        "id": "gPWmhxgqlMAt",
        "colab": {
          "base_uri": "https://localhost:8080/"
        },
        "outputId": "7d4c40d9-fbe0-4439-9e2d-b2d5a5f3a697"
      },
      "source": [
        "# sines = np.sin(np.linspace(0, 3.14, 10))\n",
        "# cosines = np.cos(np.linspace(0, 3.14, 10))\n",
        "# sines\n",
        "\n",
        "senos = np.sin(np.linspace(0, mt.pi, 9))\n",
        "cosenos = np.cos(np.linspace(0,mt.pi, 9))\n",
        "print(senos)\n",
        "# print(cosenos)"
      ],
      "execution_count": 46,
      "outputs": [
        {
          "output_type": "stream",
          "text": [
            "[0.00000000e+00 3.82683432e-01 7.07106781e-01 9.23879533e-01\n",
            " 1.00000000e+00 9.23879533e-01 7.07106781e-01 3.82683432e-01\n",
            " 1.22464680e-16]\n"
          ],
          "name": "stdout"
        }
      ]
    },
    {
      "cell_type": "code",
      "metadata": {
        "id": "sQ52apoulMAt",
        "colab": {
          "base_uri": "https://localhost:8080/"
        },
        "outputId": "e9f13766-c1c3-400d-f132-0901fe668ae6"
      },
      "source": [
        "# Slicing works with the same semantics as Python lists.\n",
        "# sines[0]\n",
        "\n",
        "senos[1]"
      ],
      "execution_count": 47,
      "outputs": [
        {
          "output_type": "execute_result",
          "data": {
            "text/plain": [
              "0.3826834323650898"
            ]
          },
          "metadata": {
            "tags": []
          },
          "execution_count": 47
        }
      ]
    },
    {
      "cell_type": "code",
      "metadata": {
        "id": "kVjl7ORclMAt",
        "colab": {
          "base_uri": "https://localhost:8080/"
        },
        "outputId": "da9730fc-7283-4ef1-9454-e97c19beeb3a"
      },
      "source": [
        "# sines[:3]  # First three elements  \r\n",
        "\r\n",
        "senos[:7]"
      ],
      "execution_count": 48,
      "outputs": [
        {
          "output_type": "execute_result",
          "data": {
            "text/plain": [
              "array([0.        , 0.38268343, 0.70710678, 0.92387953, 1.        ,\n",
              "       0.92387953, 0.70710678])"
            ]
          },
          "metadata": {
            "tags": []
          },
          "execution_count": 48
        }
      ]
    },
    {
      "cell_type": "code",
      "metadata": {
        "id": "yMTIAfoflMAu",
        "colab": {
          "base_uri": "https://localhost:8080/"
        },
        "outputId": "ac9321e8-330b-4211-caf3-3043f731fbf9"
      },
      "source": [
        "# sines[5:]  # Elements from 5 on.\r\n",
        "\r\n",
        "senos[3:]"
      ],
      "execution_count": 49,
      "outputs": [
        {
          "output_type": "execute_result",
          "data": {
            "text/plain": [
              "array([9.23879533e-01, 1.00000000e+00, 9.23879533e-01, 7.07106781e-01,\n",
              "       3.82683432e-01, 1.22464680e-16])"
            ]
          },
          "metadata": {
            "tags": []
          },
          "execution_count": 49
        }
      ]
    },
    {
      "cell_type": "code",
      "metadata": {
        "id": "ajOdlDs-lMAu",
        "colab": {
          "base_uri": "https://localhost:8080/"
        },
        "outputId": "5aa854a2-ab2a-4a9b-fbb9-3cc60301cc4e"
      },
      "source": [
        "# sines[::2]  # Every other element.\r\n",
        "\r\n",
        "senos[::3]"
      ],
      "execution_count": 50,
      "outputs": [
        {
          "output_type": "execute_result",
          "data": {
            "text/plain": [
              "array([0.        , 0.92387953, 0.70710678])"
            ]
          },
          "metadata": {
            "tags": []
          },
          "execution_count": 50
        }
      ]
    },
    {
      "cell_type": "code",
      "metadata": {
        "id": "bYV58j70lMAv",
        "colab": {
          "base_uri": "https://localhost:8080/"
        },
        "outputId": "ebf3593d-dd3d-4702-d80c-fabd1fd2f713"
      },
      "source": [
        "# More interesting: we can index with boolean arrays to filter by a predicate.\n",
        "# print(\"sines:\\n\", sines)\n",
        "# print(\"sines > 0.5:\\n\", sines > 0.5)\n",
        "# print(\"sines[sines > 0.5]:\\n\", sines[sines > 0.5])\n",
        "\n",
        "print(\"senos:\\n\", senos)\n",
        "print(\"senos > 0.5:\\n\", senos > .9)\n",
        "print(\"senos[senos > 0.5]:\\n\", senos[senos > .3])"
      ],
      "execution_count": 51,
      "outputs": [
        {
          "output_type": "stream",
          "text": [
            "senos:\n",
            " [0.00000000e+00 3.82683432e-01 7.07106781e-01 9.23879533e-01\n",
            " 1.00000000e+00 9.23879533e-01 7.07106781e-01 3.82683432e-01\n",
            " 1.22464680e-16]\n",
            "senos > 0.5:\n",
            " [False False False  True  True  True False False False]\n",
            "senos[senos > 0.5]:\n",
            " [0.38268343 0.70710678 0.92387953 1.         0.92387953 0.70710678\n",
            " 0.38268343]\n"
          ],
          "name": "stdout"
        }
      ]
    },
    {
      "cell_type": "code",
      "metadata": {
        "id": "DOXe6-aPlMAv",
        "colab": {
          "base_uri": "https://localhost:8080/"
        },
        "outputId": "34068d95-c3f5-4b9f-a1d6-becd51f44133"
      },
      "source": [
        "# We index with lists/arrays of integers to select values at those indices.\n",
        "# print(sines)\n",
        "# sines[[0, 4, 7]]\n",
        "\n",
        "print(cosenos)\n",
        "cosenos[[1, 2, 3]]"
      ],
      "execution_count": 52,
      "outputs": [
        {
          "output_type": "stream",
          "text": [
            "[ 1.00000000e+00  9.23879533e-01  7.07106781e-01  3.82683432e-01\n",
            "  6.12323400e-17 -3.82683432e-01 -7.07106781e-01 -9.23879533e-01\n",
            " -1.00000000e+00]\n"
          ],
          "name": "stdout"
        },
        {
          "output_type": "execute_result",
          "data": {
            "text/plain": [
              "array([0.92387953, 0.70710678, 0.38268343])"
            ]
          },
          "metadata": {
            "tags": []
          },
          "execution_count": 52
        }
      ]
    },
    {
      "cell_type": "code",
      "metadata": {
        "collapsed": true,
        "id": "th5C1-z_lMAw"
      },
      "source": [
        "# Index arrays are often used for sorting one or more arrays.\n",
        "# unsorted_data = np.array([1, 3, 2, 12, -1, 5, 2])\n",
        "\n",
        "datos_desordenados = np.array([1, 9, 5, 23, -5, 6, 22])"
      ],
      "execution_count": 53,
      "outputs": []
    },
    {
      "cell_type": "code",
      "metadata": {
        "id": "1SGJbOJwlMAw",
        "colab": {
          "base_uri": "https://localhost:8080/"
        },
        "outputId": "7a018756-2f83-409e-e724-815282b36606"
      },
      "source": [
        "# sort_indices = np.argsort(unsorted_data)\n",
        "# sort_indices\n",
        "\n",
        "ind_ord = np.argsort(datos_desordenados)\n",
        "ind_ord"
      ],
      "execution_count": 54,
      "outputs": [
        {
          "output_type": "execute_result",
          "data": {
            "text/plain": [
              "array([4, 0, 2, 5, 1, 6, 3])"
            ]
          },
          "metadata": {
            "tags": []
          },
          "execution_count": 54
        }
      ]
    },
    {
      "cell_type": "code",
      "metadata": {
        "id": "QK0lPkCPlMAw",
        "colab": {
          "base_uri": "https://localhost:8080/"
        },
        "outputId": "3afed472-97e4-40db-ded9-76da00987a94"
      },
      "source": [
        "# unsorted_data[sort_indices]\r\n",
        "\r\n",
        "datos_desordenados[ind_ord]"
      ],
      "execution_count": 55,
      "outputs": [
        {
          "output_type": "execute_result",
          "data": {
            "text/plain": [
              "array([-5,  1,  5,  6,  9, 22, 23])"
            ]
          },
          "metadata": {
            "tags": []
          },
          "execution_count": 55
        }
      ]
    },
    {
      "cell_type": "code",
      "metadata": {
        "collapsed": true,
        "id": "c0hNpvYXlMAx"
      },
      "source": [
        "# market_caps = np.array([12, 6, 10, 5, 6])  # Presumably in dollars?\n",
        "# assets = np.array(['A', 'B', 'C', 'D', 'E'])\n",
        "\n",
        "mc = np.array([65, 63, 101, 57, 63])\n",
        "assets = np.array(['A', 'B', 'C', 'D', 'E'])"
      ],
      "execution_count": 56,
      "outputs": []
    },
    {
      "cell_type": "code",
      "metadata": {
        "id": "aksmREXnlMAx",
        "colab": {
          "base_uri": "https://localhost:8080/"
        },
        "outputId": "0f00480e-3187-4b9a-fc0e-a86ebb0288c7"
      },
      "source": [
        "# Sort assets by market cap by using the permutation that would sort market caps on ``assets``.\n",
        "sort_by_mc = np.argsort(mc)\n",
        "assets[sort_by_mc]"
      ],
      "execution_count": 57,
      "outputs": [
        {
          "output_type": "execute_result",
          "data": {
            "text/plain": [
              "array(['D', 'B', 'E', 'A', 'C'], dtype='<U1')"
            ]
          },
          "metadata": {
            "tags": []
          },
          "execution_count": 57
        }
      ]
    },
    {
      "cell_type": "code",
      "metadata": {
        "scrolled": true,
        "id": "QhYlxbYFlMAx",
        "colab": {
          "base_uri": "https://localhost:8080/"
        },
        "outputId": "05fff99a-9f02-4dea-8c92-f0a299a362b2"
      },
      "source": [
        "# Indexers are also useful for aligning data.\n",
        "print(\"Dates:\\n\", repr(event_dates))\n",
        "print(\"Values:\\n\", repr(event_values))\n",
        "print(\"Calendar:\\n\", repr(calendar))"
      ],
      "execution_count": 58,
      "outputs": [
        {
          "output_type": "stream",
          "text": [
            "Dates:\n",
            " array(['2017-01-06', '2017-01-07', '2017-01-08'], dtype='datetime64[D]')\n",
            "Values:\n",
            " array([10, 15, 20])\n",
            "Calendar:\n",
            " array(['2017-01-03', '2017-01-04', '2017-01-05', '2017-01-06',\n",
            "       '2017-01-09', '2017-01-10', '2017-01-11', '2017-01-12',\n",
            "       '2017-01-13', '2017-01-17', '2017-01-18', '2017-01-19',\n",
            "       '2017-01-20', '2017-01-23', '2017-01-24', '2017-01-25',\n",
            "       '2017-01-26', '2017-01-27', '2017-01-30', '2017-01-31',\n",
            "       '2017-02-01'], dtype='datetime64[D]')\n"
          ],
          "name": "stdout"
        }
      ]
    },
    {
      "cell_type": "code",
      "metadata": {
        "id": "KZwJAI5jlMAx",
        "colab": {
          "base_uri": "https://localhost:8080/"
        },
        "outputId": "85614d45-be1b-4e93-d8ea-0e7e8f6f00fc"
      },
      "source": [
        "print(\"Raw Dates:\", event_dates)\n",
        "print(\"Indices:\", calendar.searchsorted(event_dates))\n",
        "print(\"Forward-Filled Dates:\", calendar[calendar.searchsorted(event_dates)])"
      ],
      "execution_count": 59,
      "outputs": [
        {
          "output_type": "stream",
          "text": [
            "Raw Dates: ['2017-01-06' '2017-01-07' '2017-01-08']\n",
            "Indices: [3 4 4]\n",
            "Forward-Filled Dates: ['2017-01-06' '2017-01-09' '2017-01-09']\n"
          ],
          "name": "stdout"
        }
      ]
    },
    {
      "cell_type": "markdown",
      "metadata": {
        "id": "glpK4iBHlMAy"
      },
      "source": [
        "On multi-dimensional arrays, we can slice along each axis independently."
      ]
    },
    {
      "cell_type": "code",
      "metadata": {
        "id": "iUpGLIoXlMAy",
        "colab": {
          "base_uri": "https://localhost:8080/"
        },
        "outputId": "3af9f947-16c9-40fb-930e-b12192fa246b"
      },
      "source": [
        "# data = np.arange(25).reshape(5, 5)\n",
        "# data\n",
        "\n",
        "dato = np.arange(63).reshape(7, 9)\n",
        "dato"
      ],
      "execution_count": 60,
      "outputs": [
        {
          "output_type": "execute_result",
          "data": {
            "text/plain": [
              "array([[ 0,  1,  2,  3,  4,  5,  6,  7,  8],\n",
              "       [ 9, 10, 11, 12, 13, 14, 15, 16, 17],\n",
              "       [18, 19, 20, 21, 22, 23, 24, 25, 26],\n",
              "       [27, 28, 29, 30, 31, 32, 33, 34, 35],\n",
              "       [36, 37, 38, 39, 40, 41, 42, 43, 44],\n",
              "       [45, 46, 47, 48, 49, 50, 51, 52, 53],\n",
              "       [54, 55, 56, 57, 58, 59, 60, 61, 62]])"
            ]
          },
          "metadata": {
            "tags": []
          },
          "execution_count": 60
        }
      ]
    },
    {
      "cell_type": "code",
      "metadata": {
        "id": "KF1THBPglMAy",
        "colab": {
          "base_uri": "https://localhost:8080/"
        },
        "outputId": "5634c4b4-5659-4a86-e628-d43b652ab898"
      },
      "source": [
        "# data[:2, :2]  # First two rows and first two columns.\r\n",
        "\r\n",
        "dato[:3, :7]"
      ],
      "execution_count": 61,
      "outputs": [
        {
          "output_type": "execute_result",
          "data": {
            "text/plain": [
              "array([[ 0,  1,  2,  3,  4,  5,  6],\n",
              "       [ 9, 10, 11, 12, 13, 14, 15],\n",
              "       [18, 19, 20, 21, 22, 23, 24]])"
            ]
          },
          "metadata": {
            "tags": []
          },
          "execution_count": 61
        }
      ]
    },
    {
      "cell_type": "code",
      "metadata": {
        "id": "sLGXcXAulMAy",
        "colab": {
          "base_uri": "https://localhost:8080/"
        },
        "outputId": "557c0d37-94f0-4290-96ca-bf2b2a6c7e66"
      },
      "source": [
        "# data[:2, [0, -1]]  # First two rows, first and last columns.\r\n",
        "\r\n",
        "dato[:7,[3,-1]]"
      ],
      "execution_count": 62,
      "outputs": [
        {
          "output_type": "execute_result",
          "data": {
            "text/plain": [
              "array([[ 3,  8],\n",
              "       [12, 17],\n",
              "       [21, 26],\n",
              "       [30, 35],\n",
              "       [39, 44],\n",
              "       [48, 53],\n",
              "       [57, 62]])"
            ]
          },
          "metadata": {
            "tags": []
          },
          "execution_count": 62
        }
      ]
    },
    {
      "cell_type": "code",
      "metadata": {
        "id": "ADGqyx1UlMAz",
        "colab": {
          "base_uri": "https://localhost:8080/"
        },
        "outputId": "9bcb6a1f-c505-4e64-c9dc-0ab7d27d6b59"
      },
      "source": [
        "# data[(data[:, 0] % 2) == 0]  # Rows where the first column is divisible by two.\r\n",
        "\r\n",
        "dato[(dato[:,5]%2)==0]"
      ],
      "execution_count": 63,
      "outputs": [
        {
          "output_type": "execute_result",
          "data": {
            "text/plain": [
              "array([[ 9, 10, 11, 12, 13, 14, 15, 16, 17],\n",
              "       [27, 28, 29, 30, 31, 32, 33, 34, 35],\n",
              "       [45, 46, 47, 48, 49, 50, 51, 52, 53]])"
            ]
          },
          "metadata": {
            "tags": []
          },
          "execution_count": 63
        }
      ]
    },
    {
      "cell_type": "markdown",
      "metadata": {
        "id": "PJkTngenlMAz"
      },
      "source": [
        "# Selections Review\n",
        "\n",
        "- Indexing with an integer removes a dimension.\n",
        "- Slicing operations work on Numpy arrays the same way they do on lists.\n",
        "- Indexing with a boolean array filters to True locations.\n",
        "- Indexing with an integer array selects indices along an axis.\n",
        "- Multidimensional arrays can apply selections independently along different axes."
      ]
    },
    {
      "cell_type": "markdown",
      "metadata": {
        "id": "fawosYDhlMAz"
      },
      "source": [
        "## Reductions\n",
        "\n",
        "Functions that reduce an array to a scalar."
      ]
    },
    {
      "cell_type": "markdown",
      "metadata": {
        "id": "t5d-EW_9lMAz"
      },
      "source": [
        "$Var(X) = \\frac{1}{N}\\sqrt{\\sum_{i=1}^N (x_i - \\bar{x})^2}$"
      ]
    },
    {
      "cell_type": "code",
      "metadata": {
        "collapsed": true,
        "id": "GeHIy_I2lMAz"
      },
      "source": [
        "def variance(x):\n",
        "    return ((x - x.mean()) ** 2).sum() / len(x)"
      ],
      "execution_count": 64,
      "outputs": []
    },
    {
      "cell_type": "code",
      "metadata": {
        "id": "2_OORTfilMAz",
        "colab": {
          "base_uri": "https://localhost:8080/"
        },
        "outputId": "8e83375d-7573-4683-a518-b25fc1efd448"
      },
      "source": [
        "# variance(np.random.standard_normal(1000))\r\n",
        "\r\n",
        "variance(np.random.standard_normal(2000))"
      ],
      "execution_count": 65,
      "outputs": [
        {
          "output_type": "execute_result",
          "data": {
            "text/plain": [
              "1.0296269222808851"
            ]
          },
          "metadata": {
            "tags": []
          },
          "execution_count": 65
        }
      ]
    },
    {
      "cell_type": "markdown",
      "metadata": {
        "id": "p3kfJelMlMA0"
      },
      "source": [
        "- `sum()` and `mean()` are both **reductions**."
      ]
    },
    {
      "cell_type": "markdown",
      "metadata": {
        "id": "GH-VT0StlMA0"
      },
      "source": [
        "- In the simplest case, we use these to reduce an entire array into a single value..."
      ]
    },
    {
      "cell_type": "code",
      "metadata": {
        "id": "rrIwe9NelMA0",
        "colab": {
          "base_uri": "https://localhost:8080/"
        },
        "outputId": "5d53c8dd-207c-4b12-951e-b8fdd7c228b1"
      },
      "source": [
        "# data = np.arange(30)\n",
        "# data.mean()\n",
        "\n",
        "dato = np.arange(100)\n",
        "dato.mean()"
      ],
      "execution_count": 66,
      "outputs": [
        {
          "output_type": "execute_result",
          "data": {
            "text/plain": [
              "49.5"
            ]
          },
          "metadata": {
            "tags": []
          },
          "execution_count": 66
        }
      ]
    },
    {
      "cell_type": "markdown",
      "metadata": {
        "id": "uxxcahnplMA0"
      },
      "source": [
        "- ...but we can do more interesting things with multi-dimensional arrays."
      ]
    },
    {
      "cell_type": "code",
      "metadata": {
        "id": "xVVWNwsWlMA0",
        "colab": {
          "base_uri": "https://localhost:8080/"
        },
        "outputId": "9ca4bca6-f492-433a-d877-d9faecdad5c7"
      },
      "source": [
        "# data = np.arange(30).reshape(3, 10)\n",
        "# data\n",
        "\n",
        "dato = np.arange(28).reshape(7, 4)\n",
        "dato"
      ],
      "execution_count": 67,
      "outputs": [
        {
          "output_type": "execute_result",
          "data": {
            "text/plain": [
              "array([[ 0,  1,  2,  3],\n",
              "       [ 4,  5,  6,  7],\n",
              "       [ 8,  9, 10, 11],\n",
              "       [12, 13, 14, 15],\n",
              "       [16, 17, 18, 19],\n",
              "       [20, 21, 22, 23],\n",
              "       [24, 25, 26, 27]])"
            ]
          },
          "metadata": {
            "tags": []
          },
          "execution_count": 67
        }
      ]
    },
    {
      "cell_type": "code",
      "metadata": {
        "id": "SnX1hYOglMA1",
        "colab": {
          "base_uri": "https://localhost:8080/"
        },
        "outputId": "587c05f9-a7be-4a99-8e24-ea37d178ae67"
      },
      "source": [
        "# data.mean()\r\n",
        "\r\n",
        "dato.mean()"
      ],
      "execution_count": 68,
      "outputs": [
        {
          "output_type": "execute_result",
          "data": {
            "text/plain": [
              "13.5"
            ]
          },
          "metadata": {
            "tags": []
          },
          "execution_count": 68
        }
      ]
    },
    {
      "cell_type": "code",
      "metadata": {
        "id": "acjGZ0SalMA1",
        "colab": {
          "base_uri": "https://localhost:8080/"
        },
        "outputId": "0688c6f1-0dbc-4563-a81a-8129de467edc"
      },
      "source": [
        "# data.mean(axis=0)\r\n",
        "\r\n",
        "print(dato.mean(axis=0))"
      ],
      "execution_count": 69,
      "outputs": [
        {
          "output_type": "stream",
          "text": [
            "[12. 13. 14. 15.]\n"
          ],
          "name": "stdout"
        }
      ]
    },
    {
      "cell_type": "code",
      "metadata": {
        "id": "5JJwbE6HlMA1",
        "colab": {
          "base_uri": "https://localhost:8080/"
        },
        "outputId": "d494629e-e9a6-461c-b97f-1012b465ecc2"
      },
      "source": [
        "# data.mean(axis=1)\r\n",
        "\r\n",
        "dato.mean(axis=1)"
      ],
      "execution_count": 70,
      "outputs": [
        {
          "output_type": "execute_result",
          "data": {
            "text/plain": [
              "array([ 1.5,  5.5,  9.5, 13.5, 17.5, 21.5, 25.5])"
            ]
          },
          "metadata": {
            "tags": []
          },
          "execution_count": 70
        }
      ]
    },
    {
      "cell_type": "markdown",
      "metadata": {
        "id": "Ayg2aRuglMA1"
      },
      "source": [
        "## Reductions Review\n",
        "\n",
        "- Reductions allow us to perform efficient aggregations over arrays.\n",
        "- We can do aggregations over a single axis to collapse a single dimension.\n",
        "- Many built-in reductions (`mean`, `sum`, `min`, `max`, `median`, ...)."
      ]
    },
    {
      "cell_type": "markdown",
      "metadata": {
        "id": "8ybJjqmVlMA2"
      },
      "source": [
        "# Broadcasting"
      ]
    },
    {
      "cell_type": "code",
      "metadata": {
        "id": "npkcoI69lMA2",
        "colab": {
          "base_uri": "https://localhost:8080/"
        },
        "outputId": "2345ce2f-50d1-4854-fef8-babfabfa39fb"
      },
      "source": [
        "# row = np.array([1, 2, 3, 4])\n",
        "# column = np.array([[1], [2], [3]])\n",
        "# print(\"Row:\\n\", row, sep='')\n",
        "# print(\"Column:\\n\", column, sep='')\n",
        "\n",
        "fila = np.array([9, 22, 5, 76])\n",
        "columna = np.array([[14], [22], [33]])\n",
        "print(\"fila:\", fila, sep='')\n",
        "print(\"columna:\", columna, sep='')"
      ],
      "execution_count": 71,
      "outputs": [
        {
          "output_type": "stream",
          "text": [
            "fila:[ 9 22  5 76]\n",
            "columna:[[14]\n",
            " [22]\n",
            " [33]]\n"
          ],
          "name": "stdout"
        }
      ]
    },
    {
      "cell_type": "code",
      "metadata": {
        "id": "mqbBoBuWlMA2",
        "colab": {
          "base_uri": "https://localhost:8080/"
        },
        "outputId": "abab8c6b-dbd4-4271-8435-5b8aeab57089"
      },
      "source": [
        "# row + column\r\n",
        "\r\n",
        "fila + columna"
      ],
      "execution_count": 72,
      "outputs": [
        {
          "output_type": "execute_result",
          "data": {
            "text/plain": [
              "array([[ 23,  36,  19,  90],\n",
              "       [ 31,  44,  27,  98],\n",
              "       [ 42,  55,  38, 109]])"
            ]
          },
          "metadata": {
            "tags": []
          },
          "execution_count": 72
        }
      ]
    },
    {
      "cell_type": "markdown",
      "metadata": {
        "id": "bVerR0DhlMA2"
      },
      "source": [
        "<center><img src=\"https://github.com/ssanderson/pydata-toolbox/blob/master/notebooks/images/broadcasting.png?raw=true\" alt=\"Drawing\" style=\"width: 60%;\"/></center>\n",
        "\n",
        "<h5>Source: http://www.scipy-lectures.org/_images/numpy_broadcasting.png</h5>"
      ]
    },
    {
      "cell_type": "code",
      "metadata": {
        "id": "xWrF70lslMA2",
        "colab": {
          "base_uri": "https://localhost:8080/"
        },
        "outputId": "d426d56a-4d2a-4d5b-9919-ef29ee85df1e"
      },
      "source": [
        "# Broadcasting is particularly useful in conjunction with reductions.\n",
        "# print(\"Data:\\n\", data, sep='')\n",
        "# print(\"Mean:\\n\", data.mean(axis=0), sep='')\n",
        "# print(\"Data - Mean:\\n\", data - data.mean(axis=0), sep='')\n",
        "\n",
        "print(\"dato:\\n\", dato, sep='')\n",
        "print(\"media:\\n\", dato.mean(axis=0), sep='')\n",
        "print(\"dato - Mean:\\n\", dato - dato.mean(axis=0), sep='')"
      ],
      "execution_count": 73,
      "outputs": [
        {
          "output_type": "stream",
          "text": [
            "dato:\n",
            "[[ 0  1  2  3]\n",
            " [ 4  5  6  7]\n",
            " [ 8  9 10 11]\n",
            " [12 13 14 15]\n",
            " [16 17 18 19]\n",
            " [20 21 22 23]\n",
            " [24 25 26 27]]\n",
            "media:\n",
            "[12. 13. 14. 15.]\n",
            "dato - Mean:\n",
            "[[-12. -12. -12. -12.]\n",
            " [ -8.  -8.  -8.  -8.]\n",
            " [ -4.  -4.  -4.  -4.]\n",
            " [  0.   0.   0.   0.]\n",
            " [  4.   4.   4.   4.]\n",
            " [  8.   8.   8.   8.]\n",
            " [ 12.  12.  12.  12.]]\n"
          ],
          "name": "stdout"
        }
      ]
    },
    {
      "cell_type": "markdown",
      "metadata": {
        "id": "EwT3iS7zlMA3"
      },
      "source": [
        "# Broadcasting Review\n",
        "\n",
        "- Numpy operations can work on arrays of different dimensions as long as the arrays' shapes are still \"compatible\".\n",
        "- Broadcasting works by \"tiling\" the smaller array along the missing dimension.\n",
        "- The result of a broadcasted operation is always at least as large in each dimension as the largest array in that dimension."
      ]
    },
    {
      "cell_type": "markdown",
      "metadata": {
        "id": "0kCIgmNllMA3"
      },
      "source": [
        "# Numpy Review"
      ]
    },
    {
      "cell_type": "markdown",
      "metadata": {
        "id": "uBlPIbhmlMA3"
      },
      "source": [
        "- Numerical algorithms are slow in pure Python because the overhead dynamic dispatch dominates our runtime."
      ]
    },
    {
      "cell_type": "markdown",
      "metadata": {
        "id": "qmEyI6KUlMA3"
      },
      "source": [
        "- Numpy solves this problem by:\n",
        "  1. Imposing additional restrictions on the contents of arrays.\n",
        "  2. Moving the inner loops of our algorithms into compiled C code."
      ]
    },
    {
      "cell_type": "markdown",
      "metadata": {
        "id": "qg-tgwxSlMA3"
      },
      "source": [
        "- Using Numpy effectively often requires reworking an algorithms to use vectorized operations instead of for-loops, but the resulting operations are usually simpler, clearer, and faster than the pure Python equivalent."
      ]
    },
    {
      "cell_type": "markdown",
      "metadata": {
        "id": "jdBfflXXlMA4"
      },
      "source": [
        "<center><img src=\"https://github.com/ssanderson/pydata-toolbox/blob/master/notebooks/images/unicorn.jpg?raw=true\" alt=\"Drawing\" style=\"width: 75%;\"/></center>"
      ]
    },
    {
      "cell_type": "markdown",
      "metadata": {
        "id": "7OF0YBd_lMA4"
      },
      "source": [
        "Numpy is great for many things, but..."
      ]
    },
    {
      "cell_type": "markdown",
      "metadata": {
        "id": "Vs6DenARlMA4"
      },
      "source": [
        "- Sometimes our data is equipped with a natural set of **labels**:\n",
        "  - Dates/Times\n",
        "  - Stock Tickers\n",
        "  - Field Names (e.g. Open/High/Low/Close)"
      ]
    },
    {
      "cell_type": "markdown",
      "metadata": {
        "id": "H0ExgZ4GlMA4"
      },
      "source": [
        "- Sometimes we have **more than one type of data** that we want to keep grouped together.\n",
        "  - Tables with a mix of real-valued and categorical data."
      ]
    },
    {
      "cell_type": "markdown",
      "metadata": {
        "id": "8VeO_1t0lMA4"
      },
      "source": [
        "- Sometimes we have **missing** data, which we need to ignore, fill, or otherwise work around."
      ]
    },
    {
      "cell_type": "markdown",
      "metadata": {
        "id": "BcOfyzeQlMA4"
      },
      "source": [
        "<center><img src=\"https://github.com/ssanderson/pydata-toolbox/blob/master/notebooks/images/panda-wrangling.gif?raw=true\" alt=\"Drawing\" style=\"width: 75%;\"/></center>"
      ]
    },
    {
      "cell_type": "markdown",
      "metadata": {
        "id": "VkMvq-APlMA5"
      },
      "source": [
        "<center><img src=\"https://github.com/ssanderson/pydata-toolbox/blob/master/notebooks/images/pandas_logo.png?raw=true\" alt=\"Drawing\" style=\"width: 75%;\"/></center>\n"
      ]
    },
    {
      "cell_type": "markdown",
      "metadata": {
        "id": "nQsr-19ylMA5"
      },
      "source": [
        "Pandas extends Numpy with more complex data structures:\n",
        "\n",
        "- `Series`: 1-dimensional, homogenously-typed, labelled array.\n",
        "- `DataFrame`: 2-dimensional, semi-homogenous, labelled table."
      ]
    },
    {
      "cell_type": "markdown",
      "metadata": {
        "id": "fQ41mnTWlMA5"
      },
      "source": [
        "Pandas also provides many utilities for: \n",
        "- Input/Output\n",
        "- Data Cleaning\n",
        "- Rolling Algorithms\n",
        "- Plotting"
      ]
    },
    {
      "cell_type": "markdown",
      "metadata": {
        "id": "qHUHNZj0lMA5"
      },
      "source": [
        "# Selection in Pandas"
      ]
    },
    {
      "cell_type": "code",
      "metadata": {
        "id": "XvNJlDr3lMA5",
        "colab": {
          "base_uri": "https://localhost:8080/"
        },
        "outputId": "fee4b602-0cec-44ef-e08d-8f5a5ab27038"
      },
      "source": [
        "# s = pd.Series(index=['a', 'b', 'c', 'd', 'e'], data=[1, 2, 3, 4, 5])\n",
        "# s\n",
        "\n",
        "s = pd.Series(index=['z', 'x', 'y', 'v', 'w'], data=[45, 12, 74, 84, 19])\n",
        "print(s, type(s))"
      ],
      "execution_count": 74,
      "outputs": [
        {
          "output_type": "stream",
          "text": [
            "z    45\n",
            "x    12\n",
            "y    74\n",
            "v    84\n",
            "w    19\n",
            "dtype: int64 <class 'pandas.core.series.Series'>\n"
          ],
          "name": "stdout"
        }
      ]
    },
    {
      "cell_type": "code",
      "metadata": {
        "id": "FZnzou83lMA6",
        "colab": {
          "base_uri": "https://localhost:8080/"
        },
        "outputId": "b0cc6616-2ef9-4c09-d3df-44af0adf5f79"
      },
      "source": [
        "# There are two pieces to a Series: the index and the values.\n",
        "print(\"The index is:\", s.index)\n",
        "print(\"The values are:\", s.values)"
      ],
      "execution_count": 75,
      "outputs": [
        {
          "output_type": "stream",
          "text": [
            "The index is: Index(['z', 'x', 'y', 'v', 'w'], dtype='object')\n",
            "The values are: [45 12 74 84 19]\n"
          ],
          "name": "stdout"
        }
      ]
    },
    {
      "cell_type": "code",
      "metadata": {
        "id": "rM3oAUYglMA6",
        "colab": {
          "base_uri": "https://localhost:8080/"
        },
        "outputId": "9601bf52-0a85-48ef-c5ae-2b125462ce71"
      },
      "source": [
        "# We can look up values out of a Series by position...\n",
        "# s.iloc[0]\n",
        "s.iloc[3]"
      ],
      "execution_count": 76,
      "outputs": [
        {
          "output_type": "execute_result",
          "data": {
            "text/plain": [
              "84"
            ]
          },
          "metadata": {
            "tags": []
          },
          "execution_count": 76
        }
      ]
    },
    {
      "cell_type": "code",
      "metadata": {
        "id": "y6gMf63rlMA6",
        "colab": {
          "base_uri": "https://localhost:8080/"
        },
        "outputId": "1775e255-0ee5-4843-f156-5d10c8a51d34"
      },
      "source": [
        "# ... or by label.\n",
        "# s.loc['a']\n",
        "\n",
        "s.loc['w']"
      ],
      "execution_count": 77,
      "outputs": [
        {
          "output_type": "execute_result",
          "data": {
            "text/plain": [
              "19"
            ]
          },
          "metadata": {
            "tags": []
          },
          "execution_count": 77
        }
      ]
    },
    {
      "cell_type": "code",
      "metadata": {
        "id": "71IkspSBlMA6",
        "colab": {
          "base_uri": "https://localhost:8080/"
        },
        "outputId": "8310ec6a-6dfc-45c0-fc4e-f88142fe5b2e"
      },
      "source": [
        "# Slicing works as expected...\n",
        "# s.iloc[:2]\n",
        "\n",
        "s.iloc[:3]\n"
      ],
      "execution_count": 78,
      "outputs": [
        {
          "output_type": "execute_result",
          "data": {
            "text/plain": [
              "z    45\n",
              "x    12\n",
              "y    74\n",
              "dtype: int64"
            ]
          },
          "metadata": {
            "tags": []
          },
          "execution_count": 78
        }
      ]
    },
    {
      "cell_type": "code",
      "metadata": {
        "id": "6Kp54kWGlMA6",
        "colab": {
          "base_uri": "https://localhost:8080/"
        },
        "outputId": "b9fe929f-0eeb-4de0-91b9-4c1f55f5c6e6"
      },
      "source": [
        "# ...but it works with labels too!\n",
        "s.loc[:'y']"
      ],
      "execution_count": 79,
      "outputs": [
        {
          "output_type": "execute_result",
          "data": {
            "text/plain": [
              "z    45\n",
              "x    12\n",
              "y    74\n",
              "dtype: int64"
            ]
          },
          "metadata": {
            "tags": []
          },
          "execution_count": 79
        }
      ]
    },
    {
      "cell_type": "code",
      "metadata": {
        "id": "YCC2k9DFlMA7",
        "colab": {
          "base_uri": "https://localhost:8080/"
        },
        "outputId": "de1a0338-4698-4632-995d-a75aca801eb2"
      },
      "source": [
        "# Fancy indexing works the same as in numpy.\n",
        "s.iloc[[0, -1]]"
      ],
      "execution_count": 80,
      "outputs": [
        {
          "output_type": "execute_result",
          "data": {
            "text/plain": [
              "z    45\n",
              "w    19\n",
              "dtype: int64"
            ]
          },
          "metadata": {
            "tags": []
          },
          "execution_count": 80
        }
      ]
    },
    {
      "cell_type": "code",
      "metadata": {
        "id": "IHhqVc47lMA7",
        "colab": {
          "base_uri": "https://localhost:8080/"
        },
        "outputId": "1b8e5f5f-d97d-430f-ed73-1d68b455ea86"
      },
      "source": [
        "# As does boolean masking.\n",
        "# s.loc[s > 2]\n",
        "\n",
        "s.loc[s > 1]"
      ],
      "execution_count": 81,
      "outputs": [
        {
          "output_type": "execute_result",
          "data": {
            "text/plain": [
              "z    45\n",
              "x    12\n",
              "y    74\n",
              "v    84\n",
              "w    19\n",
              "dtype: int64"
            ]
          },
          "metadata": {
            "tags": []
          },
          "execution_count": 81
        }
      ]
    },
    {
      "cell_type": "code",
      "metadata": {
        "id": "XH8SJ6TSlMA7",
        "colab": {
          "base_uri": "https://localhost:8080/"
        },
        "outputId": "92b75288-7785-4b79-f974-e5586ad9f190"
      },
      "source": [
        "# Element-wise operations are aligned by index.\n",
        "# other_s = pd.Series({'a': 10.0, 'c': 20.0, 'd': 30.0, 'z': 40.0})\n",
        "# other_s\n",
        "\n",
        "other_s = pd.Series({'y': 53.7, 'b': 78.3, 'x': 12.4, 'd': 82.2})\n",
        "other_s"
      ],
      "execution_count": 82,
      "outputs": [
        {
          "output_type": "execute_result",
          "data": {
            "text/plain": [
              "y    53.7\n",
              "b    78.3\n",
              "x    12.4\n",
              "d    82.2\n",
              "dtype: float64"
            ]
          },
          "metadata": {
            "tags": []
          },
          "execution_count": 82
        }
      ]
    },
    {
      "cell_type": "code",
      "metadata": {
        "id": "tbonSRK0lMA7",
        "colab": {
          "base_uri": "https://localhost:8080/"
        },
        "outputId": "4c1b45f5-e54e-41fb-894f-3465b0ba3b9f"
      },
      "source": [
        "s + other_s"
      ],
      "execution_count": 83,
      "outputs": [
        {
          "output_type": "execute_result",
          "data": {
            "text/plain": [
              "b      NaN\n",
              "d      NaN\n",
              "v      NaN\n",
              "w      NaN\n",
              "x     24.4\n",
              "y    127.7\n",
              "z      NaN\n",
              "dtype: float64"
            ]
          },
          "metadata": {
            "tags": []
          },
          "execution_count": 83
        }
      ]
    },
    {
      "cell_type": "code",
      "metadata": {
        "id": "5xdDp7bvlMA8",
        "colab": {
          "base_uri": "https://localhost:8080/"
        },
        "outputId": "a100a2fb-d7b1-4774-d8b4-db04a9b79895"
      },
      "source": [
        "# We can fill in missing values with fillna().\n",
        "# (s + other_s).fillna(0.0)\n",
        "\n",
        "(s + other_s).fillna(458.23)"
      ],
      "execution_count": 84,
      "outputs": [
        {
          "output_type": "execute_result",
          "data": {
            "text/plain": [
              "b    458.23\n",
              "d    458.23\n",
              "v    458.23\n",
              "w    458.23\n",
              "x     24.40\n",
              "y    127.70\n",
              "z    458.23\n",
              "dtype: float64"
            ]
          },
          "metadata": {
            "tags": []
          },
          "execution_count": 84
        }
      ]
    },
    {
      "cell_type": "code",
      "metadata": {
        "id": "QCzoGNUmnpHk"
      },
      "source": [
        "import pandas_datareader as pdr\r\n",
        "import datetime"
      ],
      "execution_count": 85,
      "outputs": []
    },
    {
      "cell_type": "code",
      "metadata": {
        "id": "rhEWlv3zlMA8",
        "colab": {
          "base_uri": "https://localhost:8080/",
          "height": 235
        },
        "outputId": "2094a900-0c47-4a7f-fb98-7684ea4dbebb"
      },
      "source": [
        "# Most real datasets are read in from an external file format.\n",
        "# import pandas_datareader as pdr\n",
        "# aapl = pd.read_csv('AAPL.csv', parse_dates=['Date'], index_col='Date')\n",
        "\n",
        "aapl = pdr.get_data_yahoo('AAPL',start=datetime.datetime(2020,1,4),end=datetime.datetime(2021,2,1))\n",
        "aapl.head()"
      ],
      "execution_count": 86,
      "outputs": [
        {
          "output_type": "execute_result",
          "data": {
            "text/html": [
              "<div>\n",
              "<style scoped>\n",
              "    .dataframe tbody tr th:only-of-type {\n",
              "        vertical-align: middle;\n",
              "    }\n",
              "\n",
              "    .dataframe tbody tr th {\n",
              "        vertical-align: top;\n",
              "    }\n",
              "\n",
              "    .dataframe thead th {\n",
              "        text-align: right;\n",
              "    }\n",
              "</style>\n",
              "<table border=\"1\" class=\"dataframe\">\n",
              "  <thead>\n",
              "    <tr style=\"text-align: right;\">\n",
              "      <th></th>\n",
              "      <th>High</th>\n",
              "      <th>Low</th>\n",
              "      <th>Open</th>\n",
              "      <th>Close</th>\n",
              "      <th>Volume</th>\n",
              "      <th>Adj Close</th>\n",
              "    </tr>\n",
              "    <tr>\n",
              "      <th>Date</th>\n",
              "      <th></th>\n",
              "      <th></th>\n",
              "      <th></th>\n",
              "      <th></th>\n",
              "      <th></th>\n",
              "      <th></th>\n",
              "    </tr>\n",
              "  </thead>\n",
              "  <tbody>\n",
              "    <tr>\n",
              "      <th>2020-01-06</th>\n",
              "      <td>74.989998</td>\n",
              "      <td>73.187500</td>\n",
              "      <td>73.447502</td>\n",
              "      <td>74.949997</td>\n",
              "      <td>118387200.0</td>\n",
              "      <td>74.197395</td>\n",
              "    </tr>\n",
              "    <tr>\n",
              "      <th>2020-01-07</th>\n",
              "      <td>75.224998</td>\n",
              "      <td>74.370003</td>\n",
              "      <td>74.959999</td>\n",
              "      <td>74.597504</td>\n",
              "      <td>108872000.0</td>\n",
              "      <td>73.848442</td>\n",
              "    </tr>\n",
              "    <tr>\n",
              "      <th>2020-01-08</th>\n",
              "      <td>76.110001</td>\n",
              "      <td>74.290001</td>\n",
              "      <td>74.290001</td>\n",
              "      <td>75.797501</td>\n",
              "      <td>132079200.0</td>\n",
              "      <td>75.036385</td>\n",
              "    </tr>\n",
              "    <tr>\n",
              "      <th>2020-01-09</th>\n",
              "      <td>77.607498</td>\n",
              "      <td>76.550003</td>\n",
              "      <td>76.809998</td>\n",
              "      <td>77.407501</td>\n",
              "      <td>170108400.0</td>\n",
              "      <td>76.630219</td>\n",
              "    </tr>\n",
              "    <tr>\n",
              "      <th>2020-01-10</th>\n",
              "      <td>78.167503</td>\n",
              "      <td>77.062500</td>\n",
              "      <td>77.650002</td>\n",
              "      <td>77.582497</td>\n",
              "      <td>140644800.0</td>\n",
              "      <td>76.803459</td>\n",
              "    </tr>\n",
              "  </tbody>\n",
              "</table>\n",
              "</div>"
            ],
            "text/plain": [
              "                 High        Low       Open      Close       Volume  Adj Close\n",
              "Date                                                                          \n",
              "2020-01-06  74.989998  73.187500  73.447502  74.949997  118387200.0  74.197395\n",
              "2020-01-07  75.224998  74.370003  74.959999  74.597504  108872000.0  73.848442\n",
              "2020-01-08  76.110001  74.290001  74.290001  75.797501  132079200.0  75.036385\n",
              "2020-01-09  77.607498  76.550003  76.809998  77.407501  170108400.0  76.630219\n",
              "2020-01-10  78.167503  77.062500  77.650002  77.582497  140644800.0  76.803459"
            ]
          },
          "metadata": {
            "tags": []
          },
          "execution_count": 86
        }
      ]
    },
    {
      "cell_type": "code",
      "metadata": {
        "id": "b1pLv2PolMA8",
        "colab": {
          "base_uri": "https://localhost:8080/",
          "height": 173
        },
        "outputId": "2dda7bff-3116-4845-9b30-9f3de7ba8988"
      },
      "source": [
        "# Slicing generalizes to two dimensions as you'd expect:\n",
        "# aapl.iloc[:2, :2]\n",
        "\n",
        "aapl.iloc[:3, :6]"
      ],
      "execution_count": 87,
      "outputs": [
        {
          "output_type": "execute_result",
          "data": {
            "text/html": [
              "<div>\n",
              "<style scoped>\n",
              "    .dataframe tbody tr th:only-of-type {\n",
              "        vertical-align: middle;\n",
              "    }\n",
              "\n",
              "    .dataframe tbody tr th {\n",
              "        vertical-align: top;\n",
              "    }\n",
              "\n",
              "    .dataframe thead th {\n",
              "        text-align: right;\n",
              "    }\n",
              "</style>\n",
              "<table border=\"1\" class=\"dataframe\">\n",
              "  <thead>\n",
              "    <tr style=\"text-align: right;\">\n",
              "      <th></th>\n",
              "      <th>High</th>\n",
              "      <th>Low</th>\n",
              "      <th>Open</th>\n",
              "      <th>Close</th>\n",
              "      <th>Volume</th>\n",
              "      <th>Adj Close</th>\n",
              "    </tr>\n",
              "    <tr>\n",
              "      <th>Date</th>\n",
              "      <th></th>\n",
              "      <th></th>\n",
              "      <th></th>\n",
              "      <th></th>\n",
              "      <th></th>\n",
              "      <th></th>\n",
              "    </tr>\n",
              "  </thead>\n",
              "  <tbody>\n",
              "    <tr>\n",
              "      <th>2020-01-06</th>\n",
              "      <td>74.989998</td>\n",
              "      <td>73.187500</td>\n",
              "      <td>73.447502</td>\n",
              "      <td>74.949997</td>\n",
              "      <td>118387200.0</td>\n",
              "      <td>74.197395</td>\n",
              "    </tr>\n",
              "    <tr>\n",
              "      <th>2020-01-07</th>\n",
              "      <td>75.224998</td>\n",
              "      <td>74.370003</td>\n",
              "      <td>74.959999</td>\n",
              "      <td>74.597504</td>\n",
              "      <td>108872000.0</td>\n",
              "      <td>73.848442</td>\n",
              "    </tr>\n",
              "    <tr>\n",
              "      <th>2020-01-08</th>\n",
              "      <td>76.110001</td>\n",
              "      <td>74.290001</td>\n",
              "      <td>74.290001</td>\n",
              "      <td>75.797501</td>\n",
              "      <td>132079200.0</td>\n",
              "      <td>75.036385</td>\n",
              "    </tr>\n",
              "  </tbody>\n",
              "</table>\n",
              "</div>"
            ],
            "text/plain": [
              "                 High        Low       Open      Close       Volume  Adj Close\n",
              "Date                                                                          \n",
              "2020-01-06  74.989998  73.187500  73.447502  74.949997  118387200.0  74.197395\n",
              "2020-01-07  75.224998  74.370003  74.959999  74.597504  108872000.0  73.848442\n",
              "2020-01-08  76.110001  74.290001  74.290001  75.797501  132079200.0  75.036385"
            ]
          },
          "metadata": {
            "tags": []
          },
          "execution_count": 87
        }
      ]
    },
    {
      "cell_type": "code",
      "metadata": {
        "id": "2ZOoImbglMA8",
        "colab": {
          "base_uri": "https://localhost:8080/",
          "height": 450
        },
        "outputId": "0ec8bd57-dc01-41cc-d4f0-013f3c123797"
      },
      "source": [
        "# aapl.loc[pd.Timestamp('2010-02-01'):pd.Timestamp('2010-02-04'), ['Close', 'Volume']]\r\n",
        "\r\n",
        "aapl.loc[pd.Timestamp('2020-02-01'):pd.Timestamp('2021-02-04'), ['Close', 'Volume']]"
      ],
      "execution_count": 88,
      "outputs": [
        {
          "output_type": "execute_result",
          "data": {
            "text/html": [
              "<div>\n",
              "<style scoped>\n",
              "    .dataframe tbody tr th:only-of-type {\n",
              "        vertical-align: middle;\n",
              "    }\n",
              "\n",
              "    .dataframe tbody tr th {\n",
              "        vertical-align: top;\n",
              "    }\n",
              "\n",
              "    .dataframe thead th {\n",
              "        text-align: right;\n",
              "    }\n",
              "</style>\n",
              "<table border=\"1\" class=\"dataframe\">\n",
              "  <thead>\n",
              "    <tr style=\"text-align: right;\">\n",
              "      <th></th>\n",
              "      <th>Close</th>\n",
              "      <th>Volume</th>\n",
              "    </tr>\n",
              "    <tr>\n",
              "      <th>Date</th>\n",
              "      <th></th>\n",
              "      <th></th>\n",
              "    </tr>\n",
              "  </thead>\n",
              "  <tbody>\n",
              "    <tr>\n",
              "      <th>2020-02-03</th>\n",
              "      <td>77.165001</td>\n",
              "      <td>173985600.0</td>\n",
              "    </tr>\n",
              "    <tr>\n",
              "      <th>2020-02-04</th>\n",
              "      <td>79.712502</td>\n",
              "      <td>136616400.0</td>\n",
              "    </tr>\n",
              "    <tr>\n",
              "      <th>2020-02-05</th>\n",
              "      <td>80.362503</td>\n",
              "      <td>118826800.0</td>\n",
              "    </tr>\n",
              "    <tr>\n",
              "      <th>2020-02-06</th>\n",
              "      <td>81.302498</td>\n",
              "      <td>105425600.0</td>\n",
              "    </tr>\n",
              "    <tr>\n",
              "      <th>2020-02-07</th>\n",
              "      <td>80.007500</td>\n",
              "      <td>117684000.0</td>\n",
              "    </tr>\n",
              "    <tr>\n",
              "      <th>...</th>\n",
              "      <td>...</td>\n",
              "      <td>...</td>\n",
              "    </tr>\n",
              "    <tr>\n",
              "      <th>2021-01-26</th>\n",
              "      <td>143.160004</td>\n",
              "      <td>98390600.0</td>\n",
              "    </tr>\n",
              "    <tr>\n",
              "      <th>2021-01-27</th>\n",
              "      <td>142.059998</td>\n",
              "      <td>140843800.0</td>\n",
              "    </tr>\n",
              "    <tr>\n",
              "      <th>2021-01-28</th>\n",
              "      <td>137.089996</td>\n",
              "      <td>142621100.0</td>\n",
              "    </tr>\n",
              "    <tr>\n",
              "      <th>2021-01-29</th>\n",
              "      <td>131.960007</td>\n",
              "      <td>177180600.0</td>\n",
              "    </tr>\n",
              "    <tr>\n",
              "      <th>2021-02-01</th>\n",
              "      <td>134.139999</td>\n",
              "      <td>106239800.0</td>\n",
              "    </tr>\n",
              "  </tbody>\n",
              "</table>\n",
              "<p>252 rows × 2 columns</p>\n",
              "</div>"
            ],
            "text/plain": [
              "                 Close       Volume\n",
              "Date                               \n",
              "2020-02-03   77.165001  173985600.0\n",
              "2020-02-04   79.712502  136616400.0\n",
              "2020-02-05   80.362503  118826800.0\n",
              "2020-02-06   81.302498  105425600.0\n",
              "2020-02-07   80.007500  117684000.0\n",
              "...                ...          ...\n",
              "2021-01-26  143.160004   98390600.0\n",
              "2021-01-27  142.059998  140843800.0\n",
              "2021-01-28  137.089996  142621100.0\n",
              "2021-01-29  131.960007  177180600.0\n",
              "2021-02-01  134.139999  106239800.0\n",
              "\n",
              "[252 rows x 2 columns]"
            ]
          },
          "metadata": {
            "tags": []
          },
          "execution_count": 88
        }
      ]
    },
    {
      "cell_type": "markdown",
      "metadata": {
        "id": "5mHQjoZmlMA9"
      },
      "source": [
        "# Rolling Operations"
      ]
    },
    {
      "cell_type": "markdown",
      "metadata": {
        "id": "N4xB-VivlMA9"
      },
      "source": [
        "<center><img src=\"https://github.com/ssanderson/pydata-toolbox/blob/master/notebooks/images/rolling.gif?raw=true\" alt=\"Drawing\" style=\"width: 75%;\"/></center>"
      ]
    },
    {
      "cell_type": "code",
      "metadata": {
        "id": "dyZ0-5HFlMA9",
        "colab": {
          "base_uri": "https://localhost:8080/",
          "height": 424
        },
        "outputId": "864047ff-12bc-4f71-8f99-4ac3cbb9c1d6"
      },
      "source": [
        "# aapl.rolling(5)[['Close', 'Adj Close']].mean().plot();\r\n",
        "\r\n",
        "aapl.rolling(2)[['High', 'Low']].mean().plot();"
      ],
      "execution_count": 89,
      "outputs": [
        {
          "output_type": "display_data",
          "data": {
            "image/png": "[encoded data removed]",
            "text/plain": [
              "<Figure size 864x504 with 1 Axes>"
            ]
          },
          "metadata": {
            "tags": [],
            "needs_background": "light"
          }
        }
      ]
    },
    {
      "cell_type": "code",
      "metadata": {
        "id": "EhiMuqbwlMA9",
        "colab": {
          "base_uri": "https://localhost:8080/",
          "height": 454
        },
        "outputId": "3f892d5d-782e-40fa-9a8b-dab3c1e2564a"
      },
      "source": [
        "# Drop `Volume`, since it's way bigger than everything else.\n",
        "# aapl.drop('Volume', axis=1).resample('2W').max().plot();\n",
        "\n",
        "aapl.drop('Volume', axis=1).resample('4W').max().plot();#W de weeks"
      ],
      "execution_count": 90,
      "outputs": [
        {
          "output_type": "display_data",
          "data": {
            "image/png": "[encoded data removed]",
            "text/plain": [
              "<Figure size 864x504 with 1 Axes>"
            ]
          },
          "metadata": {
            "tags": [],
            "needs_background": "light"
          }
        }
      ]
    },
    {
      "cell_type": "code",
      "metadata": {
        "id": "3e9VMloilMA-",
        "colab": {
          "base_uri": "https://localhost:8080/",
          "height": 424
        },
        "outputId": "76f074d9-5b6a-430d-8730-a893ad9c2270"
      },
      "source": [
        "# 30-day rolling exponentially-weighted stddev of returns.\n",
        "# aapl['Close'].pct_change().ewm(span=30).std().plot();\n",
        "\n",
        "aapl['Close'].pct_change().ewm(span=10).std().plot();#ewn exponencial\n"
      ],
      "execution_count": 91,
      "outputs": [
        {
          "output_type": "display_data",
          "data": {
            "image/png": "[encoded data removed]",
            "text/plain": [
              "<Figure size 864x504 with 1 Axes>"
            ]
          },
          "metadata": {
            "tags": [],
            "needs_background": "light"
          }
        }
      ]
    },
    {
      "cell_type": "markdown",
      "metadata": {
        "id": "F9nS-J6qlMA-"
      },
      "source": [
        "# \"Real World\" Data"
      ]
    },
    {
      "cell_type": "code",
      "metadata": {
        "id": "qJSXMrdFyq9D"
      },
      "source": [
        "from io import BytesIO\r\n",
        "import os\r\n",
        "from urllib.parse import urlencode\r\n",
        "\r\n",
        "import requests\r\n",
        "import numpy as np\r\n",
        "import pandas as pd\r\n",
        "\r\n",
        "\r\n",
        "def read_avocadata(start_date, end_date, cache_loc='avocadata.html'):\r\n",
        "    \"\"\"Download avocado data to a dataframe.\r\n",
        "    Parameters\r\n",
        "    ----------\r\n",
        "    \"\"\"\r\n",
        "    start_date = pd.Timestamp(start_date)\r\n",
        "    end_date = pd.Timestamp(end_date)\r\n",
        "    base_url = 'https://www.marketnews.usda.gov/mnp/fv-report-retail'\r\n",
        "    query_params = {\r\n",
        "        'class': ['FRUITS'],\r\n",
        "        'commodity': ['AVOCADOS'],\r\n",
        "        'compareLy': ['No'],\r\n",
        "        'endDate': [end_date.strftime(\"%m/%d/%Y\")],\r\n",
        "        'format': ['excel'],\r\n",
        "        'organic': ['ALL'],\r\n",
        "        'portal': ['fv'],\r\n",
        "        'region': ['ALL'],\r\n",
        "        'repDate': [start_date.strftime(\"%m/%d/%Y\")],\r\n",
        "        'type': ['retail'],\r\n",
        "    }\r\n",
        "\r\n",
        "    url = base_url + '?' + urlencode(query_params, doseq=1)\r\n",
        "\r\n",
        "    if not os.path.exists(cache_loc):\r\n",
        "        resp = requests.get(url, stream=True)\r\n",
        "        resp.raise_for_status()\r\n",
        "\r\n",
        "        with open(cache_loc, 'wb') as f:\r\n",
        "            for block in resp.iter_content(chunk_size=4096):\r\n",
        "                f.write(block)\r\n",
        "        f.close()\r\n",
        "\r\n",
        "    with open(cache_loc, 'rb') as f:\r\n",
        "        frame = pd.read_html(f, header=0)[0]\r\n",
        "\r\n",
        "    # Cleanup\r\n",
        "    frame = frame[frame['Unit'] == 'each']\r\n",
        "    frame['Organic'] = (frame['Organic'] == 'Y')\r\n",
        "    frame['Variety'].replace(\r\n",
        "        {'VARIOUS GREENSKIN VARIETIES': 'GREENSKIN'},\r\n",
        "        inplace=True,\r\n",
        "    )\r\n",
        "    frame['Date'] = pd.to_datetime(frame['Date'].values, utc=True)\r\n",
        "\r\n",
        "    frame['Region'] = frame['Region'].str.replace(' U.S.', '')\r\n",
        "    frame['Region'] = frame['Region'].str.replace(' ', '_')\r\n",
        "\r\n",
        "    # Drop useless columns.\r\n",
        "    return frame.drop(\r\n",
        "        ['Class', 'Commodity', 'Environment', 'Unit', '% Marked Local'],\r\n",
        "        axis=1,\r\n",
        "    )"
      ],
      "execution_count": 92,
      "outputs": []
    },
    {
      "cell_type": "code",
      "metadata": {
        "id": "s0nZZGzPlMA-",
        "colab": {
          "base_uri": "https://localhost:8080/",
          "height": 204
        },
        "outputId": "0cb53edf-2e6e-41a7-9511-e4cc1c6b056e"
      },
      "source": [
        "# from demos.avocados import read_avocadata\n",
        "# import read_avocadata\n",
        "\n",
        "# avocados = read_avocadata('2014', '2016')\n",
        "# avocados.head()\n",
        "\n",
        "avocados = read_avocadata('2014', '2015')\n",
        "avocados.head()"
      ],
      "execution_count": 93,
      "outputs": [
        {
          "output_type": "execute_result",
          "data": {
            "text/html": [
              "<div>\n",
              "<style scoped>\n",
              "    .dataframe tbody tr th:only-of-type {\n",
              "        vertical-align: middle;\n",
              "    }\n",
              "\n",
              "    .dataframe tbody tr th {\n",
              "        vertical-align: top;\n",
              "    }\n",
              "\n",
              "    .dataframe thead th {\n",
              "        text-align: right;\n",
              "    }\n",
              "</style>\n",
              "<table border=\"1\" class=\"dataframe\">\n",
              "  <thead>\n",
              "    <tr style=\"text-align: right;\">\n",
              "      <th></th>\n",
              "      <th>Date</th>\n",
              "      <th>Region</th>\n",
              "      <th>Variety</th>\n",
              "      <th>Organic</th>\n",
              "      <th>Number of Stores</th>\n",
              "      <th>Weighted Avg Price</th>\n",
              "      <th>Low Price</th>\n",
              "      <th>High Price</th>\n",
              "    </tr>\n",
              "  </thead>\n",
              "  <tbody>\n",
              "    <tr>\n",
              "      <th>0</th>\n",
              "      <td>2014-01-03 00:00:00+00:00</td>\n",
              "      <td>NATIONAL</td>\n",
              "      <td>HASS</td>\n",
              "      <td>False</td>\n",
              "      <td>9184</td>\n",
              "      <td>0.93</td>\n",
              "      <td>NaN</td>\n",
              "      <td>NaN</td>\n",
              "    </tr>\n",
              "    <tr>\n",
              "      <th>1</th>\n",
              "      <td>2014-01-03 00:00:00+00:00</td>\n",
              "      <td>NATIONAL</td>\n",
              "      <td>HASS</td>\n",
              "      <td>True</td>\n",
              "      <td>872</td>\n",
              "      <td>1.44</td>\n",
              "      <td>NaN</td>\n",
              "      <td>NaN</td>\n",
              "    </tr>\n",
              "    <tr>\n",
              "      <th>2</th>\n",
              "      <td>2014-01-03 00:00:00+00:00</td>\n",
              "      <td>NORTHEAST</td>\n",
              "      <td>HASS</td>\n",
              "      <td>False</td>\n",
              "      <td>1449</td>\n",
              "      <td>1.08</td>\n",
              "      <td>0.5</td>\n",
              "      <td>1.67</td>\n",
              "    </tr>\n",
              "    <tr>\n",
              "      <th>3</th>\n",
              "      <td>2014-01-03 00:00:00+00:00</td>\n",
              "      <td>NORTHEAST</td>\n",
              "      <td>HASS</td>\n",
              "      <td>True</td>\n",
              "      <td>66</td>\n",
              "      <td>1.54</td>\n",
              "      <td>1.5</td>\n",
              "      <td>2.00</td>\n",
              "    </tr>\n",
              "    <tr>\n",
              "      <th>4</th>\n",
              "      <td>2014-01-03 00:00:00+00:00</td>\n",
              "      <td>SOUTHEAST</td>\n",
              "      <td>HASS</td>\n",
              "      <td>False</td>\n",
              "      <td>2286</td>\n",
              "      <td>0.98</td>\n",
              "      <td>0.5</td>\n",
              "      <td>1.99</td>\n",
              "    </tr>\n",
              "  </tbody>\n",
              "</table>\n",
              "</div>"
            ],
            "text/plain": [
              "                       Date     Region  ... Low Price  High Price\n",
              "0 2014-01-03 00:00:00+00:00   NATIONAL  ...       NaN         NaN\n",
              "1 2014-01-03 00:00:00+00:00   NATIONAL  ...       NaN         NaN\n",
              "2 2014-01-03 00:00:00+00:00  NORTHEAST  ...       0.5        1.67\n",
              "3 2014-01-03 00:00:00+00:00  NORTHEAST  ...       1.5        2.00\n",
              "4 2014-01-03 00:00:00+00:00  SOUTHEAST  ...       0.5        1.99\n",
              "\n",
              "[5 rows x 8 columns]"
            ]
          },
          "metadata": {
            "tags": []
          },
          "execution_count": 93
        }
      ]
    },
    {
      "cell_type": "code",
      "metadata": {
        "id": "IT6uFpVrlMA-",
        "colab": {
          "base_uri": "https://localhost:8080/"
        },
        "outputId": "7caf0707-ce2a-4841-8f8d-2a1c775fcc3b"
      },
      "source": [
        "# Unlike numpy arrays, pandas DataFrames can have a different dtype for each column.\n",
        "avocados.dtypes"
      ],
      "execution_count": 94,
      "outputs": [
        {
          "output_type": "execute_result",
          "data": {
            "text/plain": [
              "Date                  datetime64[ns, UTC]\n",
              "Region                             object\n",
              "Variety                            object\n",
              "Organic                              bool\n",
              "Number of Stores                    int64\n",
              "Weighted Avg Price                float64\n",
              "Low Price                         float64\n",
              "High Price                        float64\n",
              "dtype: object"
            ]
          },
          "metadata": {
            "tags": []
          },
          "execution_count": 94
        }
      ]
    },
    {
      "cell_type": "code",
      "metadata": {
        "id": "4PauOZsVlMA-",
        "colab": {
          "base_uri": "https://localhost:8080/",
          "height": 424
        },
        "outputId": "ece9e11f-6fc1-4e30-d18d-3ce71ca4feda"
      },
      "source": [
        "# What's the regional average price of a HASS avocado every day?\n",
        "# hass = avocados[avocados.Variety == 'HASS']\n",
        "# hass.groupby(['Date', 'Region'])['Weighted Avg Price'].mean().unstack().ffill().plot();\n",
        "\n",
        "hass = avocados[avocados.Variety == 'HASS']\n",
        "hass.groupby(['Date', 'Variety'])['Weighted Avg Price'].mean().unstack().ffill().plot();"
      ],
      "execution_count": 95,
      "outputs": [
        {
          "output_type": "display_data",
          "data": {
            "image/png": "[encoded data removed]",
            "text/plain": [
              "<Figure size 864x504 with 1 Axes>"
            ]
          },
          "metadata": {
            "tags": [],
            "needs_background": "light"
          }
        }
      ]
    },
    {
      "cell_type": "code",
      "metadata": {
        "collapsed": true,
        "id": "oaod7igplMA_"
      },
      "source": [
        "def _organic_spread(group):\n",
        "\n",
        "    if len(group.columns) != 2:\n",
        "        return pd.Series(index=group.index, data=0.0)\n",
        "    \n",
        "    is_organic = group.columns.get_level_values('Organic').values.astype(bool)\n",
        "    organics = group.loc[:, is_organic].squeeze()\n",
        "    non_organics = group.loc[:, ~is_organic].squeeze()\n",
        "    diff = organics - non_organics\n",
        "    return diff\n",
        "\n",
        "def organic_spread_by_region(df):\n",
        "    \"\"\"What's the difference between the price of an organic \n",
        "    and non-organic avocado within each region?\n",
        "    \"\"\"\n",
        "    return (\n",
        "        df\n",
        "        .set_index(['Date', 'Region', 'Organic'])\n",
        "         ['Weighted Avg Price']\n",
        "        .unstack(level=['Region', 'Organic'])\n",
        "        .ffill()\n",
        "        .groupby(level='Region', axis=1)\n",
        "        .apply(_organic_spread)\n",
        "    )"
      ],
      "execution_count": 96,
      "outputs": []
    },
    {
      "cell_type": "code",
      "metadata": {
        "id": "LI2aK_QdlMA_",
        "colab": {
          "base_uri": "https://localhost:8080/",
          "height": 440
        },
        "outputId": "8e41facb-bab1-485a-c51a-3808d740a2de"
      },
      "source": [
        "organic_spread_by_region(hass).plot();\n",
        "plt.gca().set_title(\"Daily Regional Organic Spread\");\n",
        "plt.legend(bbox_to_anchor=(1, 1));"
      ],
      "execution_count": 97,
      "outputs": [
        {
          "output_type": "display_data",
          "data": {
            "image/png": "[encoded data removed]",
            "text/plain": [
              "<Figure size 864x504 with 1 Axes>"
            ]
          },
          "metadata": {
            "tags": [],
            "needs_background": "light"
          }
        }
      ]
    },
    {
      "cell_type": "code",
      "metadata": {
        "id": "wjxD7ebClMBA",
        "colab": {
          "base_uri": "https://localhost:8080/",
          "height": 359
        },
        "outputId": "ce51b532-ae42-45fe-b141-54c1ded1214c"
      },
      "source": [
        "spread_correlation = organic_spread_by_region(hass).corr()\n",
        "spread_correlation"
      ],
      "execution_count": 98,
      "outputs": [
        {
          "output_type": "execute_result",
          "data": {
            "text/html": [
              "<div>\n",
              "<style scoped>\n",
              "    .dataframe tbody tr th:only-of-type {\n",
              "        vertical-align: middle;\n",
              "    }\n",
              "\n",
              "    .dataframe tbody tr th {\n",
              "        vertical-align: top;\n",
              "    }\n",
              "\n",
              "    .dataframe thead th {\n",
              "        text-align: right;\n",
              "    }\n",
              "</style>\n",
              "<table border=\"1\" class=\"dataframe\">\n",
              "  <thead>\n",
              "    <tr style=\"text-align: right;\">\n",
              "      <th>Region</th>\n",
              "      <th>ALASKA</th>\n",
              "      <th>HAWAII</th>\n",
              "      <th>MIDWEST</th>\n",
              "      <th>NATIONAL</th>\n",
              "      <th>NORTHEAST</th>\n",
              "      <th>NORTHWEST</th>\n",
              "      <th>SOUTHEAST</th>\n",
              "      <th>SOUTHWEST</th>\n",
              "      <th>SOUTH_CENTRAL</th>\n",
              "    </tr>\n",
              "    <tr>\n",
              "      <th>Region</th>\n",
              "      <th></th>\n",
              "      <th></th>\n",
              "      <th></th>\n",
              "      <th></th>\n",
              "      <th></th>\n",
              "      <th></th>\n",
              "      <th></th>\n",
              "      <th></th>\n",
              "      <th></th>\n",
              "    </tr>\n",
              "  </thead>\n",
              "  <tbody>\n",
              "    <tr>\n",
              "      <th>ALASKA</th>\n",
              "      <td>1.000000</td>\n",
              "      <td>0.202723</td>\n",
              "      <td>0.175251</td>\n",
              "      <td>0.007844</td>\n",
              "      <td>0.051049</td>\n",
              "      <td>0.087575</td>\n",
              "      <td>0.129079</td>\n",
              "      <td>-0.070868</td>\n",
              "      <td>0.161624</td>\n",
              "    </tr>\n",
              "    <tr>\n",
              "      <th>HAWAII</th>\n",
              "      <td>0.202723</td>\n",
              "      <td>1.000000</td>\n",
              "      <td>-0.021116</td>\n",
              "      <td>0.373914</td>\n",
              "      <td>0.247171</td>\n",
              "      <td>0.341155</td>\n",
              "      <td>0.019388</td>\n",
              "      <td>0.159192</td>\n",
              "      <td>0.092632</td>\n",
              "    </tr>\n",
              "    <tr>\n",
              "      <th>MIDWEST</th>\n",
              "      <td>0.175251</td>\n",
              "      <td>-0.021116</td>\n",
              "      <td>1.000000</td>\n",
              "      <td>0.062595</td>\n",
              "      <td>-0.010213</td>\n",
              "      <td>-0.043783</td>\n",
              "      <td>0.047437</td>\n",
              "      <td>-0.059128</td>\n",
              "      <td>0.068902</td>\n",
              "    </tr>\n",
              "    <tr>\n",
              "      <th>NATIONAL</th>\n",
              "      <td>0.007844</td>\n",
              "      <td>0.373914</td>\n",
              "      <td>0.062595</td>\n",
              "      <td>1.000000</td>\n",
              "      <td>0.502035</td>\n",
              "      <td>0.579102</td>\n",
              "      <td>-0.040539</td>\n",
              "      <td>0.635006</td>\n",
              "      <td>0.486524</td>\n",
              "    </tr>\n",
              "    <tr>\n",
              "      <th>NORTHEAST</th>\n",
              "      <td>0.051049</td>\n",
              "      <td>0.247171</td>\n",
              "      <td>-0.010213</td>\n",
              "      <td>0.502035</td>\n",
              "      <td>1.000000</td>\n",
              "      <td>0.242039</td>\n",
              "      <td>-0.236225</td>\n",
              "      <td>0.360389</td>\n",
              "      <td>0.149881</td>\n",
              "    </tr>\n",
              "    <tr>\n",
              "      <th>NORTHWEST</th>\n",
              "      <td>0.087575</td>\n",
              "      <td>0.341155</td>\n",
              "      <td>-0.043783</td>\n",
              "      <td>0.579102</td>\n",
              "      <td>0.242039</td>\n",
              "      <td>1.000000</td>\n",
              "      <td>-0.032306</td>\n",
              "      <td>0.165992</td>\n",
              "      <td>0.349935</td>\n",
              "    </tr>\n",
              "    <tr>\n",
              "      <th>SOUTHEAST</th>\n",
              "      <td>0.129079</td>\n",
              "      <td>0.019388</td>\n",
              "      <td>0.047437</td>\n",
              "      <td>-0.040539</td>\n",
              "      <td>-0.236225</td>\n",
              "      <td>-0.032306</td>\n",
              "      <td>1.000000</td>\n",
              "      <td>-0.167631</td>\n",
              "      <td>-0.021176</td>\n",
              "    </tr>\n",
              "    <tr>\n",
              "      <th>SOUTHWEST</th>\n",
              "      <td>-0.070868</td>\n",
              "      <td>0.159192</td>\n",
              "      <td>-0.059128</td>\n",
              "      <td>0.635006</td>\n",
              "      <td>0.360389</td>\n",
              "      <td>0.165992</td>\n",
              "      <td>-0.167631</td>\n",
              "      <td>1.000000</td>\n",
              "      <td>0.254504</td>\n",
              "    </tr>\n",
              "    <tr>\n",
              "      <th>SOUTH_CENTRAL</th>\n",
              "      <td>0.161624</td>\n",
              "      <td>0.092632</td>\n",
              "      <td>0.068902</td>\n",
              "      <td>0.486524</td>\n",
              "      <td>0.149881</td>\n",
              "      <td>0.349935</td>\n",
              "      <td>-0.021176</td>\n",
              "      <td>0.254504</td>\n",
              "      <td>1.000000</td>\n",
              "    </tr>\n",
              "  </tbody>\n",
              "</table>\n",
              "</div>"
            ],
            "text/plain": [
              "Region           ALASKA    HAWAII  ...  SOUTHWEST  SOUTH_CENTRAL\n",
              "Region                             ...                          \n",
              "ALASKA         1.000000  0.202723  ...  -0.070868       0.161624\n",
              "HAWAII         0.202723  1.000000  ...   0.159192       0.092632\n",
              "MIDWEST        0.175251 -0.021116  ...  -0.059128       0.068902\n",
              "NATIONAL       0.007844  0.373914  ...   0.635006       0.486524\n",
              "NORTHEAST      0.051049  0.247171  ...   0.360389       0.149881\n",
              "NORTHWEST      0.087575  0.341155  ...   0.165992       0.349935\n",
              "SOUTHEAST      0.129079  0.019388  ...  -0.167631      -0.021176\n",
              "SOUTHWEST     -0.070868  0.159192  ...   1.000000       0.254504\n",
              "SOUTH_CENTRAL  0.161624  0.092632  ...   0.254504       1.000000\n",
              "\n",
              "[9 rows x 9 columns]"
            ]
          },
          "metadata": {
            "tags": []
          },
          "execution_count": 98
        }
      ]
    },
    {
      "cell_type": "code",
      "metadata": {
        "id": "BZrlRKKSlMBA",
        "colab": {
          "base_uri": "https://localhost:8080/",
          "height": 712
        },
        "outputId": "94f43a09-b401-4143-c785-3f0c6d078d1d"
      },
      "source": [
        "import seaborn as sns\n",
        "grid = sns.clustermap(spread_correlation, annot=True)\n",
        "fig = grid.fig\n",
        "axes = fig.axes\n",
        "ax = axes[2]\n",
        "ax.set_xticklabels(ax.get_xticklabels(), rotation=45);"
      ],
      "execution_count": 99,
      "outputs": [
        {
          "output_type": "display_data",
          "data": {
            "image/png": "[encoded data removed]",
            "text/plain": [
              "<Figure size 720x720 with 4 Axes>"
            ]
          },
          "metadata": {
            "tags": [],
            "needs_background": "light"
          }
        }
      ]
    },
    {
      "cell_type": "markdown",
      "metadata": {
        "id": "c0YyduDPlMBE"
      },
      "source": [
        "# Pandas Review\n",
        "\n",
        "- Pandas extends numpy with more complex datastructures and algorithms.\n",
        "- If you understand numpy, you understand 90% of pandas.\n",
        "- `groupby`, `set_index`, and `unstack` are powerful tools for working with categorical data.\n",
        "- Avocado prices are surprisingly interesting :)"
      ]
    },
    {
      "cell_type": "markdown",
      "metadata": {
        "id": "rp6ZT2r4lMBE"
      },
      "source": [
        "# Thanks!"
      ]
    }
  ]
}