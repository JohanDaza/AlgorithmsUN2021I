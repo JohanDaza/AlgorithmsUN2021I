{
  "nbformat": 4,
  "nbformat_minor": 0,
  "metadata": {
    "colab": {
      "name": "jdazahAlgorithmicToolboxWeek4.ipynb",
      "provenance": [],
      "collapsed_sections": []
    },
    "kernelspec": {
      "name": "python3",
      "display_name": "Python 3"
    },
    "language_info": {
      "name": "python"
    }
  },
  "cells": [
    {
      "cell_type": "markdown",
      "metadata": {
        "id": "hRoBoSVGKCQ3"
      },
      "source": [
        "# **Introduction**\n",
        "\n",
        "In this programming assignment, you will be practicing implementing divide-and-conquer solutions."
      ]
    },
    {
      "cell_type": "markdown",
      "metadata": {
        "id": "fidqKjaVKPl0"
      },
      "source": [
        "## Binary Search\n",
        "\n",
        "Problem Description\n",
        "\n",
        "**Task.** The goal in this code problem is to implement the binary search algorithm.\n",
        "\n",
        "**Input Format.** The first line of the input contains an integer 𝑛 and a sequence 𝑎0 < 𝑎1 < . . . < 𝑎𝑛−1 of 𝑛 pairwise distinct positive integers in increasing order. The next line contains an integer 𝑘 and 𝑘 positive integers 𝑏0, 𝑏1, . . . , 𝑏𝑘−1.\n",
        "\n",
        "**Constraints.** 1 ≤ 𝑘 ≤ $10^5$; 1 ≤ 𝑛 ≤ 3 · $10^4$; 1 ≤ 𝑎𝑖 ≤ $10^9$ for all 0 ≤ 𝑖 < 𝑛; 1 ≤ 𝑏𝑗 ≤ $10^9$ for all 0 ≤ 𝑗 < 𝑘;\n",
        "\n",
        "**Output Format.** For all 𝑖 from 0 to 𝑘 − 1, output an index 0 ≤ 𝑗 ≤ 𝑛 − 1 such that 𝑎𝑗 = 𝑏𝑖 or −1 if there is no such index.\n",
        "\n",
        "$\\underline{Sample \\hspace{0.2cm} 1.}$\n",
        "\n",
        "Input:\n",
        "\n",
        "`5 1 5 8 12 13`\n",
        "\n",
        "`5 8 1 23 1 11`\n",
        "\n",
        "Output:\n",
        "\n",
        "`2 0 -1 0 -1`\n",
        "\n",
        "In this sample, we are given an increasing sequence 𝑎0 = 1, 𝑎1 = 5, 𝑎2 = 8, 𝑎3 = 12, 𝑎4 = 13 of length five and five keys to search: 8, 1, 23, 1, 11. We see that 𝑎2 = 8 and 𝑎0 = 1, but the keys 23 and 11 do not appear in the sequence 𝑎. For this reason, we output a sequence 2, 0,−1, 0,−1."
      ]
    },
    {
      "cell_type": "code",
      "metadata": {
        "colab": {
          "base_uri": "https://localhost:8080/"
        },
        "id": "wGb3kFlrJxsk",
        "outputId": "6a1fa54f-3f5d-4e77-ebb8-5f283e19315d"
      },
      "source": [
        "# Direct Solution\n",
        "\n",
        "# Python3\n",
        "\n",
        "import sys\n",
        "import time\n",
        "\n",
        "seq = [int(i) for i in input().split()]\n",
        "search_seq = [int(i) for i in input().split()]\n",
        "\n",
        "start_time = time.time()\n",
        "n = seq[0]\n",
        "seq = seq[1:]\n",
        "\n",
        "def fast_binary_search(seq, elt, r):\n",
        "    l = 0\n",
        "    while l<=r: \n",
        "        m = (l+r)//2\n",
        "        if elt > seq[m]:\n",
        "            l = m + 1\n",
        "        elif elt < seq[m]:\n",
        "            r = m - 1\n",
        "        else:\n",
        "            return m\n",
        "    return -1\n",
        "\n",
        "soln = list()\n",
        "for i in search_seq[1:]:\n",
        "    ans = fast_binary_search(seq, i, n-1)\n",
        "    soln.append(ans)\n",
        "print(' '.join([str(i) for i in soln]))\n",
        "print(\"--- %s seconds ---\" % (time.time() - start_time))"
      ],
      "execution_count": null,
      "outputs": [
        {
          "output_type": "stream",
          "text": [
            "5 1 5 8 12 13\n",
            "5 8 1 23 1 11\n",
            "2 0 -1 0 -1\n",
            "--- 0.0005540847778320312 seconds ---\n"
          ],
          "name": "stdout"
        }
      ]
    },
    {
      "cell_type": "markdown",
      "metadata": {
        "id": "KoNLkspGLMVs"
      },
      "source": [
        "## Majority Element\n",
        "\n",
        "Problem Description\n",
        "\n",
        "**Task.** The goal in this code problem is to check whether an input sequence contains a majority element.\n",
        "\n",
        "**Input Format.** The first line contains an integer 𝑛, the next one contains a sequence of 𝑛 non-negative integers 𝑎0, 𝑎1, . . . , 𝑎𝑛−1.\n",
        "\n",
        "**Constraints.** 1 ≤ 𝑛 ≤ $10^5$; 0 ≤ 𝑎𝑖 ≤ $10^9$ for all 0 ≤ 𝑖 < 𝑛.\n",
        "\n",
        "**Output Format.** Output 1 if the sequence contains an element that appears strictly more than 𝑛/2 times, and 0 otherwise.\n",
        "\n",
        "$\\underline{Sample \\hspace{0.2cm} 1.}$\n",
        "\n",
        "Input:\n",
        "\n",
        "`5`\n",
        "\n",
        "`2 3 9 2 2`\n",
        "\n",
        "Output:\n",
        "\n",
        "`1`\n",
        "\n",
        "2 is the majority element."
      ]
    },
    {
      "cell_type": "code",
      "metadata": {
        "colab": {
          "base_uri": "https://localhost:8080/"
        },
        "id": "2Pt2zq24Lixs",
        "outputId": "4052dcdb-d4bb-4225-c80e-e5ddff2ba9e0"
      },
      "source": [
        "# Direct Solution\n",
        "\n",
        "# Python3\n",
        "\n",
        "import sys\n",
        "import time\n",
        "\n",
        "n = int(input())\n",
        "seq = [int(i) for i in input().split()]\n",
        "\n",
        "\n",
        "def functional_divide(seq, l, r):\n",
        "    if l+1==r:\n",
        "        return seq[l]\n",
        "    elif l+2==r:\n",
        "        return seq[l]\n",
        "    m = (l+r)//2\n",
        "    left = functional_divide(seq, l, m)\n",
        "    right = functional_divide(seq, m, r)\n",
        "\n",
        "    c1, c2 = 0, 0\n",
        "    for i in seq[l:r]:\n",
        "        if i == left:\n",
        "            c1+=1\n",
        "        elif i == right:\n",
        "            c2+=1\n",
        "    if c1>(r-l)//2 and left != -1:\n",
        "        return left\n",
        "    elif c2>(r-l)//2 and right != -1:\n",
        "        return right\n",
        "    else: \n",
        "        return -1\n",
        "\n",
        "start_time = time.time()\n",
        "print(int(functional_divide(seq, 0, n) != -1))\n",
        "print(\"--- %s seconds ---\" % (time.time() - start_time))"
      ],
      "execution_count": null,
      "outputs": [
        {
          "output_type": "stream",
          "text": [
            "5\n",
            "2 3 9 2 2\n",
            "1\n",
            "--- 0.0002579689025878906 seconds ---\n"
          ],
          "name": "stdout"
        }
      ]
    },
    {
      "cell_type": "markdown",
      "metadata": {
        "id": "7kZvBEGvL0Mk"
      },
      "source": [
        "## Improving Quick Sort\n",
        "\n",
        "Problem Description\n",
        "\n",
        "**Task.** To force the given implementation of the quick sort algorithm to efficiently process sequences with few unique elements, your goal is replace a 2-way partition with a 3-way partition. That is, your new partition procedure should partition the array into three parts: < 𝑥 part, = 𝑥 part, and > 𝑥 part.\n",
        "\n",
        "**Input Format.** The first line of the input contains an integer 𝑛. The next line contains a sequence of 𝑛 integers 𝑎0, 𝑎1, . . . , 𝑎𝑛−1.\n",
        "\n",
        "**Constraints.** 1 ≤ 𝑛 ≤ $10^5$; 1 ≤ 𝑎𝑖 ≤ $10^9$ for all 0 ≤ 𝑖 < 𝑛.\n",
        "\n",
        "**Output Format.** Output this sequence sorted in non-decreasing order.\n",
        "\n",
        "$\\underline{Sample \\hspace{0.2cm} 1.}$\n",
        "\n",
        "Input:\n",
        "\n",
        "`5`\n",
        "\n",
        "`2 3 9 2 2`\n",
        "\n",
        "Output:\n",
        "\n",
        "`2 2 2 3 9`\n"
      ]
    },
    {
      "cell_type": "code",
      "metadata": {
        "colab": {
          "base_uri": "https://localhost:8080/"
        },
        "id": "fn_BfDA7MXPc",
        "outputId": "48c07bf6-0137-4c3a-eb79-bd3e5eb09261"
      },
      "source": [
        "# Direct Solution\n",
        "\n",
        "# Python3\n",
        "\n",
        "import sys\n",
        "import random\n",
        "import time\n",
        "\n",
        "def quicksort3(arr, l, r):\n",
        "    # print('Splitting:', arr[l:r])\n",
        "    if l + 1 >= r:\n",
        "        return\n",
        "\n",
        "    # Pivot selection; Return a random integer N such that l <= N <= r\n",
        "    m = random.randint(l, r-1)\n",
        "    # temp = sorted([(0,arr[0]), ((l+r)//2,arr[(l+r)//2]), (-1,arr[-1])], key = lambda x: x[1])\n",
        "    # m = temp[1][0]\n",
        "    arr[l], arr[m] = arr[m], arr[l]\n",
        "\n",
        "    # partition procedure\n",
        "    m1, m2 = partition3(arr, l, r)\n",
        "\n",
        "    quicksort3(arr, l, m1)\n",
        "    quicksort3(arr, m2+1, r)\n",
        "\n",
        "def partition3(arr, l, r):\n",
        "    m2 = l\n",
        "    for i in range(l+1, r):\n",
        "        if arr[i] <= arr[l]:\n",
        "            arr[m2+1], arr[i] = arr[i], arr[m2+1]\n",
        "            m2 += 1\n",
        "\n",
        "    arr[l], arr[m2] = arr[m2], arr[l]\n",
        "\n",
        "    m1 = l\n",
        "    for i in range(l, m2):\n",
        "        if arr[i] < arr[m2]:\n",
        "            arr[i], arr[m1] = arr[m1], arr[i]\n",
        "            m1 += 1\n",
        "    return m1, m2\n",
        "\n",
        "def create_array(size):\n",
        "    return [random.choice(list(range(10))) for _ in range(size)]\n",
        "\n",
        "# n = int(input())\n",
        "# seq = [int(i) for i in input().split()]\n",
        "# for x in seq:\n",
        "    # print(x, end=' ')\n",
        "\n",
        "t1 = time.time()\n",
        "seq = create_array(100000)\n",
        "quicksort3(seq, 0, 100000)\n",
        "t2 = time.time()\n",
        "print('Time taken:', t2-t1)"
      ],
      "execution_count": null,
      "outputs": [
        {
          "output_type": "stream",
          "text": [
            "Time taken: 0.2901473045349121\n"
          ],
          "name": "stdout"
        }
      ]
    },
    {
      "cell_type": "code",
      "metadata": {
        "colab": {
          "base_uri": "https://localhost:8080/"
        },
        "id": "2XFmB0lYNscM",
        "outputId": "fbf41072-33b0-4636-d40c-c7146d6ae0f0"
      },
      "source": [
        "# Direct Solution - C++ (Way Better)\n",
        "\n",
        "%%writefile Quicksort.cpp\n",
        "\n",
        "#include <cstdlib>\n",
        "#include <iostream>\n",
        "#include <utility>\n",
        "#include <vector>\n",
        "\n",
        "using std::swap;\n",
        "using std::vector;\n",
        "\n",
        "int partition2(vector<int> &a, int l, int r) {\n",
        "\tint x = a[l];\n",
        "\tint j = l;\n",
        "\tfor (int i = l + 1; i <= r; i++) {\n",
        "\t\tif (a[i] <= x) {\n",
        "\t\t\tj++;\n",
        "\t\t\tswap(a[i], a[j]);\n",
        "\t\t}\n",
        "\t}\n",
        "\tswap(a[l], a[j]);\n",
        "\treturn j;\n",
        "}\n",
        "\n",
        "std::pair<int, int> partition3(vector<int> &a, int l, int r) {\n",
        "\tint x = a[l];\n",
        "\tint j = l;\n",
        "\tint k = r;\n",
        "\tfor (int i = l; i <= r; i++) {\n",
        "\t\tif (a[i] < x) {\n",
        "\t\t\tswap(a[i], a[j]);\n",
        "\t\t\tj++;\n",
        "\t\t}\n",
        "\t}\n",
        "\tfor (int i = r; i >= l; i--) {\n",
        "\t\tif (a[i] > x) {\n",
        "\t\t\tswap(a[i], a[k]);\n",
        "\t\t\tk--;\n",
        "\t\t}\n",
        "\t}\n",
        "\n",
        "\tfor (int i = j; i <= k; i++) { a[i] = x; }\n",
        "\n",
        "\treturn std::make_pair(j, k);\n",
        "}\n",
        "\n",
        "void randomized_quick_sort(vector<int> &a, int l, int r) {\n",
        "\tif (l >= r) { return; }\n",
        "\n",
        "\tint k = l + rand() % (r - l + 1);\n",
        "\tswap(a[l], a[k]);\n",
        "\tauto m = partition3(a, l, r);\n",
        "\n",
        "\trandomized_quick_sort(a, l, m.first - 1);\n",
        "\trandomized_quick_sort(a, m.second + 1, r);\n",
        "}\n",
        "\n",
        "int main() {\n",
        "\tint n;\n",
        "\tstd::cin >> n;\n",
        "\tvector<int> a(n);\n",
        "\tfor (size_t i = 0; i < a.size(); ++i) { std::cin >> a[i]; }\n",
        "\trandomized_quick_sort(a, 0, a.size() - 1);\n",
        "\tfor (size_t i = 0; i < a.size(); ++i) { std::cout << a[i] << ' '; }\n",
        "}"
      ],
      "execution_count": null,
      "outputs": [
        {
          "output_type": "stream",
          "text": [
            "Writing Quicksort.cpp\n"
          ],
          "name": "stdout"
        }
      ]
    },
    {
      "cell_type": "code",
      "metadata": {
        "colab": {
          "base_uri": "https://localhost:8080/"
        },
        "id": "McIShDeOOYF0",
        "outputId": "763f7a1f-2357-4767-d913-ef6679d1181d"
      },
      "source": [
        "%%shell \n",
        "g++ Quicksort.cpp -o output\n",
        "./output"
      ],
      "execution_count": null,
      "outputs": [
        {
          "output_type": "stream",
          "text": [
            "5\n",
            "2 3 9 2 2\n",
            "2 2 2 3 9 "
          ],
          "name": "stdout"
        },
        {
          "output_type": "execute_result",
          "data": {
            "text/plain": [
              ""
            ]
          },
          "metadata": {
            "tags": []
          },
          "execution_count": 14
        }
      ]
    },
    {
      "cell_type": "markdown",
      "metadata": {
        "id": "cT2vpvWlOprt"
      },
      "source": [
        "## Number of Inversions\n",
        "\n",
        "Problem Description\n",
        "\n",
        "**Task.** The goal in this problem is to count the number of inversions of a given sequence.\n",
        "\n",
        "**Input Format.** The first line contains an integer 𝑛, the next one contains a sequence of integers 𝑎0, 𝑎1, . . . , 𝑎𝑛−1.\n",
        "\n",
        "**Constraints.** 1 ≤ 𝑛 ≤ $10^5$; 1 ≤ 𝑎𝑖 ≤ $10^9$ for all 0 ≤ 𝑖 < 𝑛.\n",
        "\n",
        "**Output Format.** Output the number of inversions in the sequence.\n",
        "\n",
        "$\\underline{Sample \\hspace{0.2cm} 1.}$\n",
        "\n",
        "Input:\n",
        "\n",
        "`5`\n",
        "\n",
        "`2 3 9 2 2`\n",
        "\n",
        "Output:\n",
        "\n",
        "`2`\n",
        "\n",
        "The two inversions here are (1, 3) (𝑎1 = 3 > 2 = 𝑎3) and (2, 3) (𝑎2 = 9 > 2 = 𝑎3)."
      ]
    },
    {
      "cell_type": "code",
      "metadata": {
        "colab": {
          "base_uri": "https://localhost:8080/"
        },
        "id": "zdjw2bIqPCp2",
        "outputId": "f4ae238c-61b3-4ec7-f83a-2ad7fa24e752"
      },
      "source": [
        "# Direct Solution\n",
        "\n",
        "# Python3\n",
        "\n",
        "def merge(left, right):\n",
        "    i, j, inversion_counter = 0, 0, 0\n",
        "    final = list()\n",
        "    while i < len(left) and j< len(right):\n",
        "        if left[i] <= right[j]:\n",
        "            final.append(left[i])\n",
        "            i += 1\n",
        "        else:\n",
        "            final.append(right[j])\n",
        "            inversion_counter += len(left) - i\n",
        "            j += 1\n",
        "\n",
        "    final += left[i:]\n",
        "    final += right[j:]\n",
        "        \n",
        "    return final, inversion_counter\n",
        "\n",
        "def mergesort(arr):\n",
        "    global tot_count\n",
        "    if len(arr) <= 1:\n",
        "        return arr\n",
        "    mid = len(arr)//2\n",
        "\n",
        "    left = mergesort(arr[:mid])\n",
        "    right = mergesort(arr[mid:])\n",
        "\n",
        "    sorted_arr, temp = merge(left, right)\n",
        "    tot_count += temp\n",
        "\n",
        "    return sorted_arr\n",
        "\n",
        "tot_count = 0\n",
        "n = int(input())\n",
        "seq = [int(i) for i in input().split()]\n",
        "start_time = time.time()\n",
        "mergesort(seq)\n",
        "print(int(tot_count/2))\n",
        "print(\"--- %s seconds ---\" % (time.time() - start_time))"
      ],
      "execution_count": null,
      "outputs": [
        {
          "output_type": "stream",
          "text": [
            "5\n",
            "2 3 9 2 2\n",
            "2\n",
            "--- 0.000274658203125 seconds ---\n"
          ],
          "name": "stdout"
        }
      ]
    },
    {
      "cell_type": "markdown",
      "metadata": {
        "id": "lEv9KkC_PsTs"
      },
      "source": [
        "![image.png](data:image/png;base64,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)"
      ]
    }
  ]
}