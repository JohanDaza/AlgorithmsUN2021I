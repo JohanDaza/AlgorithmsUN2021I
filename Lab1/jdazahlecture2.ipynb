{
  "nbformat": 4,
  "nbformat_minor": 0,
  "metadata": {
    "kernelspec": {
      "display_name": "Python 3.5",
      "language": "python",
      "name": "py35"
    },
    "language_info": {
      "codemirror_mode": {
        "name": "ipython",
        "version": 3
      },
      "file_extension": ".py",
      "mimetype": "text/x-python",
      "name": "python",
      "nbconvert_exporter": "python",
      "pygments_lexer": "ipython3",
      "version": "3.6.5"
    },
    "colab": {
      "name": "introduction to python.ipynb",
      "provenance": [],
      "collapsed_sections": []
    }
  },
  "cells": [
    {
      "cell_type": "markdown",
      "metadata": {
        "id": "5PpEcP3QltcC"
      },
      "source": [
        "# Introduction to Python\n",
        "by Maxwell Margenot\n",
        "\n",
        "Part of the Quantopian Lecture Series:\n",
        "\n",
        "* [www.quantopian.com/lectures](https://www.quantopian.com/lectures)\n",
        "* [github.com/quantopian/research_public](https://github.com/quantopian/research_public)\n",
        "\n",
        "\n",
        "---\n",
        "\n",
        "All of the coding that you will do on the Quantopian platform will be in Python. It is also just a good, jack-of-all-trades language to know! Here we will provide you with the basics so that you can feel confident going through our other lectures and understanding what is happening."
      ]
    },
    {
      "cell_type": "markdown",
      "metadata": {
        "id": "Aaa91VXSltcK"
      },
      "source": [
        "## Code Comments\n",
        "\n",
        "A comment is a note made by a programmer in the source code of a program. Its purpose is to clarify the source code and make it easier for people to follow along with what is happening. Anything in a comment is generally ignored when the code is actually run, making comments useful for including explanations and reasoning as well as removing specific lines of code that you may be unsure about. Comments in Python are created by using the pound symbol (`# Insert Text Here`). Including a `#` in a line of code will comment out anything that follows it."
      ]
    },
    {
      "cell_type": "code",
      "metadata": {
        "id": "SAXw9zx-ltcL"
      },
      "source": [
        "# This is a comment\n",
        "# These lines of code will not change any values\n",
        "# Anything following the first # is not run as code\n",
        "# hola esto es un comnetario"
      ],
      "execution_count": 1,
      "outputs": []
    },
    {
      "cell_type": "markdown",
      "metadata": {
        "id": "lSgW7eeyltcM"
      },
      "source": [
        "You may hear text enclosed in triple quotes (`\"\"\" Insert Text Here \"\"\"`) referred to as multi-line comments, but this is not entirely accurate. This is a special type of `string` (a data type we will cover), called a `docstring`, used to explain the purpose of a function."
      ]
    },
    {
      "cell_type": "code",
      "metadata": {
        "colab": {
          "base_uri": "https://localhost:8080/",
          "height": 35
        },
        "id": "yBFYxlQIltcN",
        "outputId": "a74992b2-2eff-4502-e656-695e0d3a2f4b"
      },
      "source": [
        "\"\"\" This is a special string \"\"\"\r\n",
        "\"\"\" string especial\"\"\"\r\n",
        "'''string especial 2'''"
      ],
      "execution_count": 2,
      "outputs": [
        {
          "output_type": "execute_result",
          "data": {
            "application/vnd.google.colaboratory.intrinsic+json": {
              "type": "string"
            },
            "text/plain": [
              "'string especial 2'"
            ]
          },
          "metadata": {
            "tags": []
          },
          "execution_count": 2
        }
      ]
    },
    {
      "cell_type": "markdown",
      "metadata": {
        "id": "ngu0IM9VltcO"
      },
      "source": [
        "Make sure you read the comments within each code cell (if they are there). They will provide more real-time explanations of what is going on as you look at each line of code."
      ]
    },
    {
      "cell_type": "markdown",
      "metadata": {
        "id": "TxTjN8JIltcP"
      },
      "source": [
        "## Variables\n",
        "\n",
        "Variables provide names for values in programming. If you want to save a value for later or repeated use, you give the value a name, storing the contents in a variable. Variables in programming work in a fundamentally similar way to variables in algebra, but in Python they can take on various different data types.\n",
        "\n",
        "The basic variable types that we will cover in this section are `integers`, `floating point numbers`, `booleans`, and `strings`. \n",
        "\n",
        "An `integer` in programming is the same as in mathematics, a round number with no values after the decimal point. We use the built-in `print` function here to display the values of our variables as well as their types!"
      ]
    },
    {
      "cell_type": "code",
      "metadata": {
        "colab": {
          "base_uri": "https://localhost:8080/"
        },
        "id": "4cd2s4H3ltcP",
        "outputId": "5b497b6e-f33d-4afc-c9dc-3494dc08d20d"
      },
      "source": [
        "# my_integer = 50\n",
        "# print my_integer, type(my_integer)\n",
        "\n",
        "my_integer = 34\n",
        "print(my_integer)\n",
        "print(type(my_integer))"
      ],
      "execution_count": 3,
      "outputs": [
        {
          "output_type": "stream",
          "text": [
            "34\n",
            "<class 'int'>\n"
          ],
          "name": "stdout"
        }
      ]
    },
    {
      "cell_type": "markdown",
      "metadata": {
        "id": "k-xkLrAKltcQ"
      },
      "source": [
        "Variables, regardless of type, are assigned by using a single equals sign (`=`). Variables are case-sensitive so any changes in variation in the capitals of a variable name will reference a different variable entirely."
      ]
    },
    {
      "cell_type": "code",
      "metadata": {
        "colab": {
          "base_uri": "https://localhost:8080/"
        },
        "id": "P3B8IGQKltcQ",
        "outputId": "3156674c-ea3e-41c9-8843-d5c3df86a98e"
      },
      "source": [
        "# one = 1\n",
        "# print One\n",
        "\n",
        "two = 2\n",
        "print(two)\n",
        "print(type(two))"
      ],
      "execution_count": 4,
      "outputs": [
        {
          "output_type": "stream",
          "text": [
            "2\n",
            "<class 'int'>\n"
          ],
          "name": "stdout"
        }
      ]
    },
    {
      "cell_type": "markdown",
      "metadata": {
        "id": "7Jy4iwyiltcQ"
      },
      "source": [
        "A `floating point` number, or a `float` is a fancy name for a real number (again as in mathematics). To define a `float`, we need to either include a decimal point or specify that the value is a float."
      ]
    },
    {
      "cell_type": "code",
      "metadata": {
        "scrolled": true,
        "colab": {
          "base_uri": "https://localhost:8080/"
        },
        "id": "mYScMMGkltcR",
        "outputId": "6baae6b3-60a9-4474-a186-5066116a4cf5"
      },
      "source": [
        "# my_float = 1.0\n",
        "# print my_float, type(my_float)\n",
        "# my_float = float(1)\n",
        "# print my_float, type(my_float)\n",
        "\n",
        "mi_flotante = 4.0\n",
        "print(mi_flotante , type(mi_flotante))\n",
        "mi_flotante = 4\n",
        "print(mi_flotante , type(mi_flotante))"
      ],
      "execution_count": 5,
      "outputs": [
        {
          "output_type": "stream",
          "text": [
            "4.0 <class 'float'>\n",
            "4 <class 'int'>\n"
          ],
          "name": "stdout"
        }
      ]
    },
    {
      "cell_type": "markdown",
      "metadata": {
        "id": "YnCLVaPmltcR"
      },
      "source": [
        "A variable of type `float` will not round the number that you store in it, while a variable of type `integer` will. This makes `floats` more suitable for mathematical calculations where you want more than just integers.\n",
        "\n",
        "Note that as we used the `float()` function to force an number to be considered a `float`, we can use the `int()` function to force a number to be considered an `int`."
      ]
    },
    {
      "cell_type": "code",
      "metadata": {
        "colab": {
          "base_uri": "https://localhost:8080/"
        },
        "id": "wM9Om7R7ltcR",
        "outputId": "5d2ac581-2fbc-4a69-c7e3-9379c7fc3041"
      },
      "source": [
        "# my_int = int(3.14159)\n",
        "# print my_int, type(my_int)\n",
        "\n",
        "mi_entero = int(1.56)\n",
        "print(mi_entero, type(mi_entero))"
      ],
      "execution_count": 6,
      "outputs": [
        {
          "output_type": "stream",
          "text": [
            "1 <class 'int'>\n"
          ],
          "name": "stdout"
        }
      ]
    },
    {
      "cell_type": "markdown",
      "metadata": {
        "id": "r-3riA-jltcR"
      },
      "source": [
        "The `int()` function will also truncate any digits that a number may have after the decimal point!\n",
        "\n",
        "Strings allow you to include text as a variable to operate on. They are defined using either single quotes ('') or double quotes (\"\")."
      ]
    },
    {
      "cell_type": "code",
      "metadata": {
        "colab": {
          "base_uri": "https://localhost:8080/"
        },
        "id": "TyHiOKh8ltcS",
        "outputId": "49dd395b-66c7-460a-f3ee-f9402bc2a043"
      },
      "source": [
        "# my_string = 'This is a string with single quotes'\n",
        "# print my_string\n",
        "# my_string = \"This is a string with double quotes\"\n",
        "# print my_string\n",
        "\n",
        "mi_string = 'strign con comilla simple'\n",
        "print(mi_string)\n",
        "mi_string = \"string con comilla doble\"\n",
        "print(mi_string)"
      ],
      "execution_count": 7,
      "outputs": [
        {
          "output_type": "stream",
          "text": [
            "strign con comilla simple\n",
            "string con comilla doble\n"
          ],
          "name": "stdout"
        }
      ]
    },
    {
      "cell_type": "markdown",
      "metadata": {
        "id": "087Ec1wJltcS"
      },
      "source": [
        "Both are allowed so that we can include apostrophes or quotation marks in a string if we so choose."
      ]
    },
    {
      "cell_type": "code",
      "metadata": {
        "colab": {
          "base_uri": "https://localhost:8080/"
        },
        "id": "_72_wq49ltcT",
        "outputId": "157ec1e5-708b-44e8-c714-97fd8a5cf8e5"
      },
      "source": [
        "# my_string = '\"Jabberwocky\", by Lewis Carroll'\n",
        "# print my_string\n",
        "# my_string = \"'Twas brillig, and the slithy toves / Did gyre and gimble in the wabe;\"\n",
        "# print my_string\n",
        "\n",
        "mi_string = '\"imprime comillas\", by Arnold'\n",
        "print(mi_string)\n",
        "mi_string = \"'apostrofe\"\n",
        "print(mi_string)"
      ],
      "execution_count": 8,
      "outputs": [
        {
          "output_type": "stream",
          "text": [
            "\"imprime comillas\", by Arnold\n",
            "'apostrofe\n"
          ],
          "name": "stdout"
        }
      ]
    },
    {
      "cell_type": "markdown",
      "metadata": {
        "id": "Hsv5muDiltcT"
      },
      "source": [
        "Booleans, or `bools` are binary variable types. A `bool` can only take on one of two values, these being `True` or `False`. There is much more to this idea of truth values when it comes to programming, which we cover later in the [Logical Operators](#id-section5) of this notebook."
      ]
    },
    {
      "cell_type": "code",
      "metadata": {
        "colab": {
          "base_uri": "https://localhost:8080/"
        },
        "id": "NkUOlzR6ltcT",
        "outputId": "af3a7254-b527-4446-8116-b55c3eacf082"
      },
      "source": [
        "# my_bool = True\n",
        "# print my_bool, type(my_bool)\n",
        "\n",
        "mi_bool = False\n",
        "print(mi_bool, type(mi_bool))"
      ],
      "execution_count": 9,
      "outputs": [
        {
          "output_type": "stream",
          "text": [
            "False <class 'bool'>\n"
          ],
          "name": "stdout"
        }
      ]
    },
    {
      "cell_type": "markdown",
      "metadata": {
        "id": "YlxMOIaLltcT"
      },
      "source": [
        "There are many more data types that you can assign as variables in Python, but these are the basic ones! We will cover a few more later as we move through this tutorial."
      ]
    },
    {
      "cell_type": "markdown",
      "metadata": {
        "id": "x_20eA3EltcU"
      },
      "source": [
        "## Basic Math\n",
        "\n",
        "Python has a number of built-in math functions. These can be extended even further by importing the **math** package or by including any number of other calculation-based packages.\n",
        "\n",
        "All of the basic arithmetic operations are supported: `+`, `-`, `/`, and `*`. You can create exponents by using `**` and modular arithmetic is introduced with the mod operator, `%`."
      ]
    },
    {
      "cell_type": "code",
      "metadata": {
        "colab": {
          "base_uri": "https://localhost:8080/"
        },
        "id": "9z05-xdlltcU",
        "outputId": "ad8d89c0-b148-4dff-a146-7e4f674690bc"
      },
      "source": [
        "# print 'Addition: ', 2 + 2\n",
        "# print 'Subtraction: ', 7 - 4\n",
        "# print 'Multiplication: ', 2 * 5\n",
        "# print 'Division: ', 10 / 2\n",
        "# print 'Exponentiation: ', 3**2\n",
        "\n",
        "print(\"suma\", 2+3456)\n",
        "print(\"resta\", 1234-5)\n",
        "print(\"multiplicacion\",679*6)\n",
        "print(\"division\", 567/4) \n",
        "print(\"exponencial\" , 6**7)"
      ],
      "execution_count": 10,
      "outputs": [
        {
          "output_type": "stream",
          "text": [
            "suma 3458\n",
            "resta 1229\n",
            "multiplicacion 4074\n",
            "division 141.75\n",
            "exponencial 279936\n"
          ],
          "name": "stdout"
        }
      ]
    },
    {
      "cell_type": "markdown",
      "metadata": {
        "id": "dYDAOZ1CltcU"
      },
      "source": [
        "If you are not familiar with the the mod operator, it operates like a remainder function. If we type $15 \\ \\% \\ 4$, it will return the remainder after dividing $15$ by $4$."
      ]
    },
    {
      "cell_type": "code",
      "metadata": {
        "colab": {
          "base_uri": "https://localhost:8080/"
        },
        "id": "cL8YeGDgltcU",
        "outputId": "b679e1f7-7a5b-4a51-fbe3-38d893a34f14"
      },
      "source": [
        "# print 'Modulo: ', 15 % 4\r\n",
        "\r\n",
        "print(\"modulo\" , 32%23)"
      ],
      "execution_count": 11,
      "outputs": [
        {
          "output_type": "stream",
          "text": [
            "modulo 9\n"
          ],
          "name": "stdout"
        }
      ]
    },
    {
      "cell_type": "markdown",
      "metadata": {
        "id": "V5KyBOZMltcU"
      },
      "source": [
        "Mathematical functions also work on variables!"
      ]
    },
    {
      "cell_type": "code",
      "metadata": {
        "scrolled": true,
        "colab": {
          "base_uri": "https://localhost:8080/"
        },
        "id": "tqz2bueHltcV",
        "outputId": "18803de9-8cc7-46c4-fa36-2db548f787ca"
      },
      "source": [
        "# first_integer = 4\n",
        "# second_integer = 5\n",
        "# print first_integer * second_integer\n",
        "primer_entero = 3\n",
        "segundo_entero = 9\n",
        "print(primer_entero*segundo_entero)"
      ],
      "execution_count": 12,
      "outputs": [
        {
          "output_type": "stream",
          "text": [
            "27\n"
          ],
          "name": "stdout"
        }
      ]
    },
    {
      "cell_type": "markdown",
      "metadata": {
        "id": "y42qhkHAltcV"
      },
      "source": [
        "Make sure that your variables are floats if you want to have decimal points in your answer. If you perform math exclusively with integers, you get an integer. Including any float in the calculation will make the result a float."
      ]
    },
    {
      "cell_type": "code",
      "metadata": {
        "colab": {
          "base_uri": "https://localhost:8080/"
        },
        "id": "17xxuMDwltcV",
        "outputId": "beab4330-42ee-4223-92bb-17b7289d451e"
      },
      "source": [
        "# first_integer = 11\n",
        "# second_integer = 3\n",
        "# print first_integer / second_integer\n",
        "\n",
        "p_entero = 234\n",
        "s_entero = 876\n",
        "print(p_entero/s_entero)"
      ],
      "execution_count": 13,
      "outputs": [
        {
          "output_type": "stream",
          "text": [
            "0.2671232876712329\n"
          ],
          "name": "stdout"
        }
      ]
    },
    {
      "cell_type": "code",
      "metadata": {
        "colab": {
          "base_uri": "https://localhost:8080/"
        },
        "id": "tytbDswIltcW",
        "outputId": "2bc045f8-d012-4dd6-9c28-2f16ca074847"
      },
      "source": [
        "# first_number = 11.0\n",
        "# second_number = 3.0\n",
        "# print first_number / second_number\n",
        "\n",
        "num1 = 45.0\n",
        "num2 = 12.0\n",
        "print(num1/num2)"
      ],
      "execution_count": 14,
      "outputs": [
        {
          "output_type": "stream",
          "text": [
            "3.75\n"
          ],
          "name": "stdout"
        }
      ]
    },
    {
      "cell_type": "markdown",
      "metadata": {
        "id": "3YSyZJ1ZltcW"
      },
      "source": [
        "Python has a few built-in math functions. The most notable of these are:\n",
        "\n",
        "* `abs()`\n",
        "* `round()`\n",
        "* `max()`\n",
        "* `min()`\n",
        "* `sum()`\n",
        "\n",
        "These functions all act as you would expect, given their names. Calling `abs()` on a number will return its absolute value. The `round()` function will round a number to a specified number of the decimal points (the default is $0$). Calling `max()` or `min()` on a collection of numbers will return, respectively, the maximum or minimum value in the collection. Calling `sum()` on a collection of numbers will add them all up. If you're not familiar with how collections of values in Python work, don't worry! We will cover collections in-depth in the next section. \n",
        "\n",
        "Additional math functionality can be added in with the `math` package."
      ]
    },
    {
      "cell_type": "code",
      "metadata": {
        "id": "afi94jDzltcW"
      },
      "source": [
        "import math as mt"
      ],
      "execution_count": 15,
      "outputs": []
    },
    {
      "cell_type": "markdown",
      "metadata": {
        "id": "Ir7wCbXUltcX"
      },
      "source": [
        "The math library adds a long list of new mathematical functions to Python. Feel free to check out the [documentation](https://docs.python.org/2/library/math.html) for the full list and details. It concludes some mathematical constants"
      ]
    },
    {
      "cell_type": "code",
      "metadata": {
        "colab": {
          "base_uri": "https://localhost:8080/"
        },
        "id": "uVsiqA7UltcX",
        "outputId": "5e62ccf0-459c-4121-d1be-396a4c6662ed"
      },
      "source": [
        "# print 'Pi: ', math.pi\n",
        "# print \"Euler's Constant: \", math.e\n",
        "\n",
        "print(mt.pi)\n",
        "print(mt.e)\n",
        "print(mt.nan)\n",
        "print(mt.tau)\n",
        "print(mt.inf)"
      ],
      "execution_count": 16,
      "outputs": [
        {
          "output_type": "stream",
          "text": [
            "3.141592653589793\n",
            "2.718281828459045\n",
            "nan\n",
            "6.283185307179586\n",
            "inf\n"
          ],
          "name": "stdout"
        }
      ]
    },
    {
      "cell_type": "markdown",
      "metadata": {
        "id": "SkkeROhqltcX"
      },
      "source": [
        "As well as some commonly used math functions"
      ]
    },
    {
      "cell_type": "code",
      "metadata": {
        "colab": {
          "base_uri": "https://localhost:8080/"
        },
        "id": "fBHt_FLkltcX",
        "outputId": "cec3b1f6-de15-4abe-b1a5-ac7a4c4dfa10"
      },
      "source": [
        "# print 'Cosine of pi: ', math.cos(math.pi)\r\n",
        "print(mt.sin(mt.pi))"
      ],
      "execution_count": 17,
      "outputs": [
        {
          "output_type": "stream",
          "text": [
            "1.2246467991473532e-16\n"
          ],
          "name": "stdout"
        }
      ]
    },
    {
      "cell_type": "markdown",
      "metadata": {
        "id": "d-EadBDVltcX"
      },
      "source": [
        "## Collections\n",
        "### Lists\n",
        "\n",
        "A `list` in Python is an ordered collection of objects that can contain any data type. We define a `list` using brackets (`[]`)."
      ]
    },
    {
      "cell_type": "code",
      "metadata": {
        "colab": {
          "base_uri": "https://localhost:8080/"
        },
        "id": "-aQaCuqtltcY",
        "outputId": "d9d892d5-de38-4874-cac0-a702cbcbdb49"
      },
      "source": [
        "# my_list = [1, 2, 3]\n",
        "# print my_list\n",
        "\n",
        "lista = [4,8,1234]\n",
        "print(lista)"
      ],
      "execution_count": 18,
      "outputs": [
        {
          "output_type": "stream",
          "text": [
            "[4, 8, 1234]\n"
          ],
          "name": "stdout"
        }
      ]
    },
    {
      "cell_type": "markdown",
      "metadata": {
        "id": "mtDXPBZlltcY"
      },
      "source": [
        "We can access and index the list by using brackets as well. In order to select an individual element, simply type the list name followed by the index of the item you are looking for in braces."
      ]
    },
    {
      "cell_type": "code",
      "metadata": {
        "colab": {
          "base_uri": "https://localhost:8080/"
        },
        "id": "XRngCM8YltcY",
        "outputId": "ec2017d1-e862-40a7-d536-2a303ce92c92"
      },
      "source": [
        "print(lista[0])\n",
        "print(lista[2])"
      ],
      "execution_count": 19,
      "outputs": [
        {
          "output_type": "stream",
          "text": [
            "4\n",
            "1234\n"
          ],
          "name": "stdout"
        }
      ]
    },
    {
      "cell_type": "markdown",
      "metadata": {
        "id": "9T_5xjtxltcY"
      },
      "source": [
        "Indexing in Python starts from $0$. If you have a list of length $n$, the first element of the list is at index $0$, the second element is at index $1$, and so on and so forth. The final element of the list will be at index $n-1$. Be careful! Trying to access a non-existent index will cause an error."
      ]
    },
    {
      "cell_type": "code",
      "metadata": {
        "colab": {
          "base_uri": "https://localhost:8080/"
        },
        "id": "YBhsKhBSltcY",
        "outputId": "099ae5ea-3d54-44f8-d294-fdb7c2285660"
      },
      "source": [
        "# print 'The first, second, and third list elements: ', my_list[0], my_list[1], my_list[2]\n",
        "# print 'Accessing outside the list bounds causes an error: ', my_list[3]\n",
        "\n",
        "print(\"index primero segundo y tercero\",lista[0],lista[1],lista[2])\n",
        "# print(\"accedio fuera de la lista\",lista[6])"
      ],
      "execution_count": 20,
      "outputs": [
        {
          "output_type": "stream",
          "text": [
            "index primero segundo y tercero 4 8 1234\n"
          ],
          "name": "stdout"
        }
      ]
    },
    {
      "cell_type": "markdown",
      "metadata": {
        "id": "1QUx1pKIltcZ"
      },
      "source": [
        "We can see the number of elements in a list by calling the `len()` function."
      ]
    },
    {
      "cell_type": "code",
      "metadata": {
        "colab": {
          "base_uri": "https://localhost:8080/"
        },
        "id": "2fdaKNjgltcZ",
        "outputId": "e8bdf7f0-bb5e-4ad5-9efc-b9e58092e03d"
      },
      "source": [
        "print(len(lista))"
      ],
      "execution_count": 21,
      "outputs": [
        {
          "output_type": "stream",
          "text": [
            "3\n"
          ],
          "name": "stdout"
        }
      ]
    },
    {
      "cell_type": "markdown",
      "metadata": {
        "id": "bkrBnViKltcZ"
      },
      "source": [
        "We can update and change a list by accessing an index and assigning new value."
      ]
    },
    {
      "cell_type": "code",
      "metadata": {
        "colab": {
          "base_uri": "https://localhost:8080/"
        },
        "id": "JeJbF-UJltcZ",
        "outputId": "6c82725d-3fbf-4653-ff7a-8c7a3600fca1"
      },
      "source": [
        "# print my_list\n",
        "# my_list[0] = 42\n",
        "# print my_list\n",
        "\n",
        "print(lista)\n",
        "lista[0] = 4732345\n",
        "print(lista)"
      ],
      "execution_count": 22,
      "outputs": [
        {
          "output_type": "stream",
          "text": [
            "[4, 8, 1234]\n",
            "[4732345, 8, 1234]\n"
          ],
          "name": "stdout"
        }
      ]
    },
    {
      "cell_type": "markdown",
      "metadata": {
        "id": "RlJ7_VFkltca"
      },
      "source": [
        "This is fundamentally different from how strings are handled. A `list` is mutable, meaning that you can change a `list`'s elements without changing the list itself. Some data types, like `strings`, are immutable, meaning you cannot change them at all. Once a `string` or other immutable data type has been created, it cannot be directly modified without creating an entirely new object."
      ]
    },
    {
      "cell_type": "code",
      "metadata": {
        "id": "7p7I-8Gdltca"
      },
      "source": [
        "my_string = \"Strings never change\"\n",
        "# my_string[0] = 'Z'"
      ],
      "execution_count": 23,
      "outputs": []
    },
    {
      "cell_type": "markdown",
      "metadata": {
        "id": "qbfWHIadltca"
      },
      "source": [
        "As we stated before, a list can contain any data type. Thus, lists can also contain strings."
      ]
    },
    {
      "cell_type": "code",
      "metadata": {
        "id": "iFpHRdnrltca",
        "colab": {
          "base_uri": "https://localhost:8080/"
        },
        "outputId": "854576ff-2e34-4233-c030-284c52af530f"
      },
      "source": [
        "# my_list_2 = ['one', 'two', 'three']\n",
        "# print my_list_2\n",
        "\n",
        "lista2 = ['hola', 'que', 'tal']\n",
        "print(lista2)"
      ],
      "execution_count": 24,
      "outputs": [
        {
          "output_type": "stream",
          "text": [
            "['hola', 'que', 'tal']\n"
          ],
          "name": "stdout"
        }
      ]
    },
    {
      "cell_type": "markdown",
      "metadata": {
        "id": "cSee8Vp9ltcb"
      },
      "source": [
        "Lists can also contain multiple different data types at once!"
      ]
    },
    {
      "cell_type": "code",
      "metadata": {
        "id": "Q8JY-qefltcb"
      },
      "source": [
        "# my_list_3 = [True, 'False', 42]\r\n",
        "\r\n",
        "lista3 = [True , \"hello\" , 56.9]"
      ],
      "execution_count": 25,
      "outputs": []
    },
    {
      "cell_type": "markdown",
      "metadata": {
        "id": "aS7qHEgOltcb"
      },
      "source": [
        "If you want to put two lists together, they can be combined with a `+` symbol."
      ]
    },
    {
      "cell_type": "code",
      "metadata": {
        "id": "o2lVBG0Rltcb",
        "colab": {
          "base_uri": "https://localhost:8080/"
        },
        "outputId": "036ed14f-9059-434f-8eac-e5db19bc4478"
      },
      "source": [
        "# my_list_4 = my_list + my_list_2 + my_list_3\n",
        "# print my_list_4\n",
        "\n",
        "listaUnida = lista2 + lista3\n",
        "print(listaUnida)"
      ],
      "execution_count": 26,
      "outputs": [
        {
          "output_type": "stream",
          "text": [
            "['hola', 'que', 'tal', True, 'hello', 56.9]\n"
          ],
          "name": "stdout"
        }
      ]
    },
    {
      "cell_type": "markdown",
      "metadata": {
        "id": "E4hJ71_lltcb"
      },
      "source": [
        "In addition to accessing individual elements of a list, we can access groups of elements through slicing."
      ]
    },
    {
      "cell_type": "code",
      "metadata": {
        "id": "ubLJmq-ultcb"
      },
      "source": [
        "# my_list = ['friends', 'romans', 'countrymen', 'lend', 'me', 'your', 'ears']\r\n",
        "mi_lista = ['colombia', 'peru', 'ecuador', 'venezuela', 'bolivia', 'nicaragua', 'puerto rico']"
      ],
      "execution_count": 27,
      "outputs": []
    },
    {
      "cell_type": "markdown",
      "metadata": {
        "id": "QwBtojaoltcc"
      },
      "source": [
        "#### Slicing\n",
        "\n",
        "We use the colon (`:`) to slice lists. "
      ]
    },
    {
      "cell_type": "code",
      "metadata": {
        "scrolled": true,
        "id": "K8RXUUnAltcc",
        "colab": {
          "base_uri": "https://localhost:8080/"
        },
        "outputId": "aba277f3-10cb-4ba7-bcc9-cca55c5f8c3f"
      },
      "source": [
        "# print my_list[2:4]\r\n",
        "\r\n",
        "print(mi_lista[1:4])"
      ],
      "execution_count": 28,
      "outputs": [
        {
          "output_type": "stream",
          "text": [
            "['peru', 'ecuador', 'venezuela']\n"
          ],
          "name": "stdout"
        }
      ]
    },
    {
      "cell_type": "markdown",
      "metadata": {
        "id": "MQaGcuyvltcc"
      },
      "source": [
        "Using `:` we can select a group of elements in the list starting from the first element indicated and going up to  (but not including) the last element indicated.\n",
        "\n",
        "We can also select everything after a certain point"
      ]
    },
    {
      "cell_type": "code",
      "metadata": {
        "scrolled": true,
        "id": "ey1ZfDPHltcc",
        "colab": {
          "base_uri": "https://localhost:8080/"
        },
        "outputId": "54be99e8-817b-4fed-a334-5b57cd189899"
      },
      "source": [
        "# print my_list[1:]\r\n",
        "\r\n",
        "print(mi_lista[3:])"
      ],
      "execution_count": 29,
      "outputs": [
        {
          "output_type": "stream",
          "text": [
            "['venezuela', 'bolivia', 'nicaragua', 'puerto rico']\n"
          ],
          "name": "stdout"
        }
      ]
    },
    {
      "cell_type": "markdown",
      "metadata": {
        "id": "8DQWNphVltcd"
      },
      "source": [
        "And everything before a certain point"
      ]
    },
    {
      "cell_type": "code",
      "metadata": {
        "scrolled": true,
        "id": "By26or3eltcd",
        "colab": {
          "base_uri": "https://localhost:8080/"
        },
        "outputId": "470bc45c-73aa-4096-a7b5-dcaa75062b50"
      },
      "source": [
        "# print my_list[:4]\r\n",
        "\r\n",
        "print(mi_lista[:4])"
      ],
      "execution_count": 30,
      "outputs": [
        {
          "output_type": "stream",
          "text": [
            "['colombia', 'peru', 'ecuador', 'venezuela']\n"
          ],
          "name": "stdout"
        }
      ]
    },
    {
      "cell_type": "markdown",
      "metadata": {
        "id": "vYkqdB1hltce"
      },
      "source": [
        "Using negative numbers will count from the end of the indices instead of from the beginning. For example, an index of `-1` indicates the last element of the list."
      ]
    },
    {
      "cell_type": "code",
      "metadata": {
        "id": "wR-234C3ltce",
        "colab": {
          "base_uri": "https://localhost:8080/"
        },
        "outputId": "cc1895dd-92ab-40fd-cd49-87107499ee0c"
      },
      "source": [
        "# print my_list[-1]\r\n",
        "\r\n",
        "print(mi_lista[-1])"
      ],
      "execution_count": 31,
      "outputs": [
        {
          "output_type": "stream",
          "text": [
            "puerto rico\n"
          ],
          "name": "stdout"
        }
      ]
    },
    {
      "cell_type": "markdown",
      "metadata": {
        "id": "D7ZUaqxWltcf"
      },
      "source": [
        "You can also add a third component to slicing. Instead of simply indicating the first and final parts of your slice, you can specify the step size that you want to take. So instead of taking every single element, you can take every other element."
      ]
    },
    {
      "cell_type": "code",
      "metadata": {
        "id": "ycblAUoFltcf",
        "colab": {
          "base_uri": "https://localhost:8080/"
        },
        "outputId": "4e4bc64c-16c4-4bbf-c59c-50ff903e072e"
      },
      "source": [
        "# print my_list[0:7:2]\r\n",
        "\r\n",
        "print(mi_lista[0:6:2])"
      ],
      "execution_count": 32,
      "outputs": [
        {
          "output_type": "stream",
          "text": [
            "['colombia', 'ecuador', 'bolivia']\n"
          ],
          "name": "stdout"
        }
      ]
    },
    {
      "cell_type": "markdown",
      "metadata": {
        "id": "lSrwuH0Wltcf"
      },
      "source": [
        "Here we have selected the entire list (because `0:7` will yield elements `0` through `6`) and we have selected a step size of `2`. So this will spit out element `0` , element `2`, element `4`, and so on through the list element selected. We can skip indicated the beginning and end of our slice, only indicating the step, if we like."
      ]
    },
    {
      "cell_type": "code",
      "metadata": {
        "id": "0wSF29G6ltcg",
        "colab": {
          "base_uri": "https://localhost:8080/"
        },
        "outputId": "c86e9366-7511-434f-db97-0f222034e378"
      },
      "source": [
        "# print my_list[::2]\r\n",
        "\r\n",
        "print(mi_lista[::3])"
      ],
      "execution_count": 33,
      "outputs": [
        {
          "output_type": "stream",
          "text": [
            "['colombia', 'venezuela', 'puerto rico']\n"
          ],
          "name": "stdout"
        }
      ]
    },
    {
      "cell_type": "markdown",
      "metadata": {
        "id": "jM13na1nltcg"
      },
      "source": [
        "Lists implictly select the beginning and end of the list when not otherwise specified."
      ]
    },
    {
      "cell_type": "code",
      "metadata": {
        "id": "TvxtWmpCltcg",
        "colab": {
          "base_uri": "https://localhost:8080/"
        },
        "outputId": "aed93eb2-fb3d-4b31-eabe-719855d194ae"
      },
      "source": [
        "# print(my_list[:])\r\n",
        "\r\n",
        "print(mi_lista[:])"
      ],
      "execution_count": 34,
      "outputs": [
        {
          "output_type": "stream",
          "text": [
            "['colombia', 'peru', 'ecuador', 'venezuela', 'bolivia', 'nicaragua', 'puerto rico']\n"
          ],
          "name": "stdout"
        }
      ]
    },
    {
      "cell_type": "markdown",
      "metadata": {
        "id": "MgpbISPBltch"
      },
      "source": [
        "With a negative step size we can even reverse the list!"
      ]
    },
    {
      "cell_type": "code",
      "metadata": {
        "id": "gAGULoN3ltch",
        "colab": {
          "base_uri": "https://localhost:8080/"
        },
        "outputId": "15b206e7-1229-48d3-9ffc-41cf58904720"
      },
      "source": [
        "# print(my_list[::-1])\r\n",
        "\r\n",
        "print(mi_lista[::-1])"
      ],
      "execution_count": 35,
      "outputs": [
        {
          "output_type": "stream",
          "text": [
            "['puerto rico', 'nicaragua', 'bolivia', 'venezuela', 'ecuador', 'peru', 'colombia']\n"
          ],
          "name": "stdout"
        }
      ]
    },
    {
      "cell_type": "markdown",
      "metadata": {
        "id": "B_9KaEpKltch"
      },
      "source": [
        "Python does not have native matrices, but with lists we can produce a working fascimile. Other packages, such as `numpy`, add matrices as a separate data type, but in base Python the best way to create a matrix is to use a list of lists."
      ]
    },
    {
      "cell_type": "markdown",
      "metadata": {
        "id": "iC2_E9kkltch"
      },
      "source": [
        "We can also use built-in functions to generate lists. In particular we will look at `range()` (because we will be using it later!). Range can take several different inputs and will return a list."
      ]
    },
    {
      "cell_type": "code",
      "metadata": {
        "id": "H3PR0b-Hltch",
        "colab": {
          "base_uri": "https://localhost:8080/"
        },
        "outputId": "4dba5cf0-69d6-4be8-dc72-417d5ced708e"
      },
      "source": [
        "# b = 10\n",
        "# my_list = range(b)\n",
        "# print(my_list)\n",
        "\n",
        "b = 15\n",
        "mi_lista = range(b)\n",
        "print(mi_lista)"
      ],
      "execution_count": 36,
      "outputs": [
        {
          "output_type": "stream",
          "text": [
            "range(0, 15)\n"
          ],
          "name": "stdout"
        }
      ]
    },
    {
      "cell_type": "markdown",
      "metadata": {
        "id": "EeN_BYZCltch"
      },
      "source": [
        "Similar to our list-slicing methods from before, we can define both a start and an end for our range. This will return a list that is includes the start and excludes the end, just like a slice."
      ]
    },
    {
      "cell_type": "code",
      "metadata": {
        "id": "-C1TWgr2ltci",
        "colab": {
          "base_uri": "https://localhost:8080/"
        },
        "outputId": "a5153c2e-b2af-4c1b-cba4-a95356b425b5"
      },
      "source": [
        "# a = 0\n",
        "# b = 10\n",
        "# my_list = range(a, b)\n",
        "# print my_list\n",
        "\n",
        "a = 3\n",
        "b = 14\n",
        "mi_lista = range(a, b)\n",
        "print(mi_lista)"
      ],
      "execution_count": 37,
      "outputs": [
        {
          "output_type": "stream",
          "text": [
            "range(3, 14)\n"
          ],
          "name": "stdout"
        }
      ]
    },
    {
      "cell_type": "markdown",
      "metadata": {
        "id": "wRrFTXwkltci"
      },
      "source": [
        "We can also specify a step size. This again has the same behavior as a slice."
      ]
    },
    {
      "cell_type": "code",
      "metadata": {
        "scrolled": true,
        "id": "lde8MAcpltci",
        "colab": {
          "base_uri": "https://localhost:8080/"
        },
        "outputId": "1867e0ca-afca-4744-8cdc-03d6ae5b343b"
      },
      "source": [
        "# a = 0\n",
        "# b = 10\n",
        "# step = 2\n",
        "# my_list = range(a, b, step)\n",
        "# print my_list\n",
        "\n",
        "a = 5\n",
        "b = 11\n",
        "paso = 3\n",
        "mi_lista = range(a, b, paso)\n",
        "print(mi_lista)"
      ],
      "execution_count": 38,
      "outputs": [
        {
          "output_type": "stream",
          "text": [
            "range(5, 11, 3)\n"
          ],
          "name": "stdout"
        }
      ]
    },
    {
      "cell_type": "markdown",
      "metadata": {
        "id": "c1yaKh-Xltci"
      },
      "source": [
        "### Tuples\n",
        "\n",
        "A `tuple` is a data type similar to a list in that it can hold different kinds of data types. The key difference here is that a `tuple` is immutable. We define a `tuple` by separating the elements we want to include by commas. It is conventional to surround a `tuple` with parentheses."
      ]
    },
    {
      "cell_type": "code",
      "metadata": {
        "id": "XNr2iSnoltci",
        "colab": {
          "base_uri": "https://localhost:8080/"
        },
        "outputId": "efdba186-b249-4921-96c2-db4466796941"
      },
      "source": [
        "# my_tuple = 'I', 'have', 30, 'cats'\n",
        "# print my_tuple\n",
        "\n",
        "tupla = 'yo', 'no', \"tengo\", 50, 'perros'\n",
        "print(tupla)"
      ],
      "execution_count": 39,
      "outputs": [
        {
          "output_type": "stream",
          "text": [
            "('yo', 'no', 'tengo', 50, 'perros')\n"
          ],
          "name": "stdout"
        }
      ]
    },
    {
      "cell_type": "markdown",
      "metadata": {
        "id": "opa_oUKXltcj"
      },
      "source": [
        "As mentioned before, tuples are immutable. You can't change any part of them without defining a new tuple."
      ]
    },
    {
      "cell_type": "code",
      "metadata": {
        "id": "J_0Yyuc7ltcj",
        "colab": {
          "base_uri": "https://localhost:8080/"
        },
        "outputId": "cc2cdab4-ed57-450d-9d9d-c413ca32965f"
      },
      "source": [
        "# my_tuple[3] = 'dogs' # Attempts to change the 'cats' value stored in the the tuple to 'dogs'\r\n",
        "# tupla[2] = 7 # Attempts to change the 'cats' value stored in the the tuple to 'dogs'\r\n",
        "# tupla[2] = \"hola\"\r\n",
        "\r\n",
        "print(tupla[2])"
      ],
      "execution_count": 40,
      "outputs": [
        {
          "output_type": "stream",
          "text": [
            "tengo\n"
          ],
          "name": "stdout"
        }
      ]
    },
    {
      "cell_type": "markdown",
      "metadata": {
        "id": "57RDv_I1ltcj"
      },
      "source": [
        "You can slice tuples the same way that you slice lists!"
      ]
    },
    {
      "cell_type": "code",
      "metadata": {
        "id": "J_leS2uJltcj",
        "colab": {
          "base_uri": "https://localhost:8080/"
        },
        "outputId": "4ac521e7-c454-417e-9c9f-5d7cd62b6e57"
      },
      "source": [
        "# print my_tuple[1:3]\r\n",
        "\r\n",
        "print(tupla[1:4])"
      ],
      "execution_count": 41,
      "outputs": [
        {
          "output_type": "stream",
          "text": [
            "('no', 'tengo', 50)\n"
          ],
          "name": "stdout"
        }
      ]
    },
    {
      "cell_type": "markdown",
      "metadata": {
        "id": "ygDRu_Ytltcj"
      },
      "source": [
        "And concatenate them the way that you would with strings!"
      ]
    },
    {
      "cell_type": "code",
      "metadata": {
        "id": "j0Xs6Z7zltcj",
        "colab": {
          "base_uri": "https://localhost:8080/"
        },
        "outputId": "f4d90142-61b4-43ed-8ee1-c8a85f9864d6"
      },
      "source": [
        "# my_other_tuple = ('make', 'that', 50)\n",
        "# print my_tuple + my_other_tuple\n",
        "\n",
        "otra_tupla = ('hola', 'que', 346, \"tal\")\n",
        "print(tupla + otra_tupla)"
      ],
      "execution_count": 42,
      "outputs": [
        {
          "output_type": "stream",
          "text": [
            "('yo', 'no', 'tengo', 50, 'perros', 'hola', 'que', 346, 'tal')\n"
          ],
          "name": "stdout"
        }
      ]
    },
    {
      "cell_type": "markdown",
      "metadata": {
        "id": "i86uzYCvltcj"
      },
      "source": [
        "We can 'pack' values together, creating a tuple (as above), or we can 'unpack' values from a tuple, taking them out."
      ]
    },
    {
      "cell_type": "code",
      "metadata": {
        "id": "EzFKYNP1ltck",
        "colab": {
          "base_uri": "https://localhost:8080/"
        },
        "outputId": "b1d82998-c0eb-455c-a54d-5bf5a4975ce8"
      },
      "source": [
        "# str_1, str_2, int_1 = my_other_tuple\n",
        "# print str_1, str_2, int_1\n",
        "\n",
        "str_1, str_2, int_1,str_3 = otra_tupla\n",
        "print(str_1, str_2, int_1, str_3)"
      ],
      "execution_count": 43,
      "outputs": [
        {
          "output_type": "stream",
          "text": [
            "hola que 346 tal\n"
          ],
          "name": "stdout"
        }
      ]
    },
    {
      "cell_type": "markdown",
      "metadata": {
        "id": "WxNydzpaltck"
      },
      "source": [
        "Unpacking assigns each value of the tuple in order to each variable on the left hand side of the equals sign. Some functions, including user-defined functions, may return tuples, so we can use this to directly unpack them and access the values that we want."
      ]
    },
    {
      "cell_type": "markdown",
      "metadata": {
        "id": "ZbEWfmgyltck"
      },
      "source": [
        "### Sets\n",
        "\n",
        "A `set` is a collection of unordered, unique elements. It works almost exactly as you would expect a normal set of things in mathematics to work and is defined using braces (`{}`)."
      ]
    },
    {
      "cell_type": "code",
      "metadata": {
        "id": "4ww0pz9Lltck",
        "colab": {
          "base_uri": "https://localhost:8080/"
        },
        "outputId": "79dae431-039e-4f53-eda5-cad9907864ab"
      },
      "source": [
        "# things_i_like = {'dogs', 7, 'the number 4', 4, 4, 4, 42, 'lizards', 'man I just LOVE the number 4'}\n",
        "# print things_i_like, type(things_i_like)\n",
        "\n",
        "cosas = {'alefantes', 2, 'numero 6', 1, 2, 2, 4.5, 'halo', 'cubos'}\n",
        "print(cosas,type(cosas))"
      ],
      "execution_count": 44,
      "outputs": [
        {
          "output_type": "stream",
          "text": [
            "{1, 2, 4.5, 'numero 6', 'alefantes', 'halo', 'cubos'} <class 'set'>\n"
          ],
          "name": "stdout"
        }
      ]
    },
    {
      "cell_type": "markdown",
      "metadata": {
        "id": "ZUhAeQ6xltck"
      },
      "source": [
        "Note how any extra instances of the same item are removed in the final set. We can also create a `set` from a list, using the `set()` function."
      ]
    },
    {
      "cell_type": "code",
      "metadata": {
        "id": "rl_t5AUzltck",
        "colab": {
          "base_uri": "https://localhost:8080/"
        },
        "outputId": "022749df-56c0-4694-c869-381234658b98"
      },
      "source": [
        "# animal_list = ['cats', 'dogs', 'dogs', 'dogs', 'lizards', 'sponges', 'cows', 'bats', 'sponges']\n",
        "# animal_set = set(animal_list)\n",
        "# print animal_set # Removes all extra instances from the list\n",
        "\n",
        "lista_comida = ['arroz', 'frijol', 'platano', 'huevo', 'tocino', 'aguacate', 'bbq', 'carne', 'costillas']\n",
        "conjunto_comida = set(lista_comida)\n",
        "print(conjunto_comida)"
      ],
      "execution_count": 45,
      "outputs": [
        {
          "output_type": "stream",
          "text": [
            "{'arroz', 'platano', 'bbq', 'frijol', 'costillas', 'tocino', 'carne', 'huevo', 'aguacate'}\n"
          ],
          "name": "stdout"
        }
      ]
    },
    {
      "cell_type": "markdown",
      "metadata": {
        "id": "16Mxc8N6ltcl"
      },
      "source": [
        "Calling `len()` on a set will tell you how many elements are in it."
      ]
    },
    {
      "cell_type": "code",
      "metadata": {
        "id": "7LTVh-S3ltcl",
        "colab": {
          "base_uri": "https://localhost:8080/"
        },
        "outputId": "d1a6d98e-f7c9-48d1-8535-6decc3698bc2"
      },
      "source": [
        "# print len(animal_set)\r\n",
        "print(len(conjunto_comida))"
      ],
      "execution_count": 46,
      "outputs": [
        {
          "output_type": "stream",
          "text": [
            "9\n"
          ],
          "name": "stdout"
        }
      ]
    },
    {
      "cell_type": "markdown",
      "metadata": {
        "id": "XK7GwgJMltcl"
      },
      "source": [
        "Because a `set` is unordered, we can't access individual elements using an index. We can, however, easily check for membership (to see if something is contained in a set) and take the unions and intersections of sets by using the built-in set functions."
      ]
    },
    {
      "cell_type": "code",
      "metadata": {
        "id": "5Skb7ceGltcl",
        "colab": {
          "base_uri": "https://localhost:8080/"
        },
        "outputId": "d02ea7aa-eeef-4fe7-a1e4-357c0bfb4cc4"
      },
      "source": [
        "# 'cats' in animal_set # Here we check for membership using the `in` keyword.\r\n",
        "\r\n",
        "'tocino' in conjunto_comida\r\n",
        "'tocisi' in conjunto_comida"
      ],
      "execution_count": 47,
      "outputs": [
        {
          "output_type": "execute_result",
          "data": {
            "text/plain": [
              "False"
            ]
          },
          "metadata": {
            "tags": []
          },
          "execution_count": 47
        }
      ]
    },
    {
      "cell_type": "markdown",
      "metadata": {
        "id": "j2SHYMGEltcl"
      },
      "source": [
        "Here we checked to see whether the string 'cats' was contained within our `animal_set` and it returned `True`, telling us that it is indeed in our set.\n",
        "\n",
        "We can connect sets by using typical mathematical set operators, namely `|`, for union, and `&`, for intersection. Using `|` or `&` will return exactly what you would expect if you are familiar with sets in mathematics."
      ]
    },
    {
      "cell_type": "code",
      "metadata": {
        "id": "dUB8x2L1ltcl",
        "colab": {
          "base_uri": "https://localhost:8080/"
        },
        "outputId": "a37a6231-5fc5-422c-9ca2-d7a2cec4ba68"
      },
      "source": [
        "# print animal_set | things_i_like # You can also write things_i_like | animal_set with no difference\r\n",
        "\r\n",
        "print(conjunto_comida|cosas)"
      ],
      "execution_count": 48,
      "outputs": [
        {
          "output_type": "stream",
          "text": [
            "{1, 2, 'arroz', 'platano', 4.5, 'bbq', 'numero 6', 'frijol', 'alefantes', 'costillas', 'halo', 'cubos', 'tocino', 'carne', 'huevo', 'aguacate'}\n"
          ],
          "name": "stdout"
        }
      ]
    },
    {
      "cell_type": "markdown",
      "metadata": {
        "id": "vwtRy0h3ltcm"
      },
      "source": [
        "Pairing two sets together with `|` combines the sets, removing any repetitions to make every set element unique."
      ]
    },
    {
      "cell_type": "code",
      "metadata": {
        "id": "z53tvRkxltcm",
        "colab": {
          "base_uri": "https://localhost:8080/"
        },
        "outputId": "488b8bc4-d03c-4c89-af76-45ba68700eab"
      },
      "source": [
        "# print animal_set & things_i_like # You can also write things_i_like & animal_set with no difference\r\n",
        "print(conjunto_comida&cosas)"
      ],
      "execution_count": 49,
      "outputs": [
        {
          "output_type": "stream",
          "text": [
            "set()\n"
          ],
          "name": "stdout"
        }
      ]
    },
    {
      "cell_type": "markdown",
      "metadata": {
        "id": "2wf96CSfltcm"
      },
      "source": [
        "Pairing two sets together with `&` will calculate the intersection of both sets, returning a set that only contains what they have in common.\n",
        "\n",
        "If you are interested in learning more about the built-in functions for sets, feel free to check out the [documentation](https://docs.python.org/2/library/sets.html)."
      ]
    },
    {
      "cell_type": "markdown",
      "metadata": {
        "id": "Ry68D3m8ltcm"
      },
      "source": [
        "### Dictionaries\n",
        "\n",
        "Another essential data structure in Python is the dictionary. Dictionaries are defined with a combination of curly braces (`{}`) and colons (`:`). The braces define the beginning and end of a dictionary and the colons indicate key-value pairs. A dictionary is essentially a set of key-value pairs. The key of any entry must be an immutable data type. This makes both strings and tuples candidates. Keys can be both added and deleted.\n",
        "\n",
        "In the following example, we have a dictionary composed of key-value pairs where the key is a genre of fiction (`string`) and the value is a list of books (`list`) within that genre. Since a collection is still considered a single entity, we can use one to collect multiple variables or values into one key-value pair."
      ]
    },
    {
      "cell_type": "code",
      "metadata": {
        "id": "joXzqzd3ltcm"
      },
      "source": [
        "# my_dict = {\"High Fantasy\": [\"Wheel of Time\", \"Lord of the Rings\"], \n",
        "#            \"Sci-fi\": [\"Book of the New Sun\", \"Neuromancer\", \"Snow Crash\"],\n",
        "#            \"Weird Fiction\": [\"At the Mountains of Madness\", \"The House on the Borderland\"]}\n",
        "\n",
        "generos_peliculas = {\"terror\" : [\"conjuro\",\"annabelle\",\"viernes 13\"],\n",
        "                     \"accion\" : [\"avengers\",\"rapido y furisoso\"],\n",
        "                     \"animacion\" : [\"toystory\",\"un gran dinosaurio\"]}"
      ],
      "execution_count": 50,
      "outputs": []
    },
    {
      "cell_type": "markdown",
      "metadata": {
        "id": "S9IY4_-Fltcn"
      },
      "source": [
        "After defining a dictionary, we can access any individual value by indicating its key in brackets."
      ]
    },
    {
      "cell_type": "code",
      "metadata": {
        "id": "NlcZUyIqltcn",
        "colab": {
          "base_uri": "https://localhost:8080/"
        },
        "outputId": "d13e6660-461c-4ee0-a848-b813fe62a77e"
      },
      "source": [
        "print(generos_peliculas[\"terror\"])"
      ],
      "execution_count": 51,
      "outputs": [
        {
          "output_type": "stream",
          "text": [
            "['conjuro', 'annabelle', 'viernes 13']\n"
          ],
          "name": "stdout"
        }
      ]
    },
    {
      "cell_type": "markdown",
      "metadata": {
        "id": "L6CwzAtEltcn"
      },
      "source": [
        "We can also change the value associated with a given key"
      ]
    },
    {
      "cell_type": "code",
      "metadata": {
        "id": "Hepih_35ltcn",
        "colab": {
          "base_uri": "https://localhost:8080/"
        },
        "outputId": "0c215ad1-fbfc-462e-aac9-1c94133888d0"
      },
      "source": [
        "generos_peliculas[\"terror\"] = \"freddy kruger\"\n",
        "print(generos_peliculas[\"terror\"])"
      ],
      "execution_count": 52,
      "outputs": [
        {
          "output_type": "stream",
          "text": [
            "freddy kruger\n"
          ],
          "name": "stdout"
        }
      ]
    },
    {
      "cell_type": "markdown",
      "metadata": {
        "id": "CV0APL08ltcn"
      },
      "source": [
        "Adding a new key-value pair is as simple as defining it."
      ]
    },
    {
      "cell_type": "code",
      "metadata": {
        "id": "9QECq777ltcn",
        "colab": {
          "base_uri": "https://localhost:8080/"
        },
        "outputId": "3a02f3fd-bc8d-418f-e918-0972cd7d9844"
      },
      "source": [
        "# my_dict[\"Historical Fiction\"] = [\"Pillars of the Earth\"]\n",
        "# print my_dict[\"Historical Fiction\"]\n",
        "\n",
        "generos_peliculas[\"accion\"] = [\"avengers\"]\n",
        "print(generos_peliculas[\"accion\"])"
      ],
      "execution_count": 53,
      "outputs": [
        {
          "output_type": "stream",
          "text": [
            "['avengers']\n"
          ],
          "name": "stdout"
        }
      ]
    },
    {
      "cell_type": "code",
      "metadata": {
        "id": "f1X6OCZXltco",
        "colab": {
          "base_uri": "https://localhost:8080/"
        },
        "outputId": "377bf12b-c2aa-488c-e4f6-be53fad69682"
      },
      "source": [
        "print(generos_peliculas)"
      ],
      "execution_count": 54,
      "outputs": [
        {
          "output_type": "stream",
          "text": [
            "{'terror': 'freddy kruger', 'accion': ['avengers'], 'animacion': ['toystory', 'un gran dinosaurio']}\n"
          ],
          "name": "stdout"
        }
      ]
    },
    {
      "cell_type": "markdown",
      "metadata": {
        "id": "nFmwGU9rltco"
      },
      "source": [
        "## String Shenanigans\n",
        "\n",
        "We already know that strings are generally used for text. We can used built-in operations to combine, split, and format strings easily, depending on our needs.\n",
        "\n",
        "The `+` symbol indicates concatenation in string language. It will combine two strings into a longer string."
      ]
    },
    {
      "cell_type": "code",
      "metadata": {
        "id": "vPIIBCdYltco",
        "colab": {
          "base_uri": "https://localhost:8080/"
        },
        "outputId": "0b0caac7-71e2-4a34-f51b-ea1be845329f"
      },
      "source": [
        "# first_string = '\"Beware the Jabberwock, my son! /The jaws that bite, the claws that catch! /'\n",
        "# second_string = 'Beware the Jubjub bird, and shun /The frumious Bandersnatch!\"/'\n",
        "# third_string = first_string + second_string\n",
        "# print third_string\n",
        "\n",
        "string1 = \"estoy jugando\"\n",
        "string2 = \"videojuegos con el teclado\"\n",
        "string3 = string1 + string2\n",
        "print(string3)"
      ],
      "execution_count": 55,
      "outputs": [
        {
          "output_type": "stream",
          "text": [
            "estoy jugandovideojuegos con el teclado\n"
          ],
          "name": "stdout"
        }
      ]
    },
    {
      "cell_type": "markdown",
      "metadata": {
        "id": "MqbHnMQiltco"
      },
      "source": [
        "Strings are also indexed much in the same way that lists are."
      ]
    },
    {
      "cell_type": "code",
      "metadata": {
        "id": "4gYRYS2altco",
        "colab": {
          "base_uri": "https://localhost:8080/"
        },
        "outputId": "fa135611-8292-44e5-a6c4-f27cae1030b5"
      },
      "source": [
        "my_string = 'Danceoftheknigth'\n",
        "print('The first letter is: ', my_string[0]) # Uppercase S\n",
        "print('The last letter is: ', my_string[-1]) # lowercase s\n",
        "print('The second to last letter is: ', my_string[-2]) # lowercase u\n",
        "print('The first five characters are: ', my_string[0:5]) \n",
        "print('Reverse it!: ', my_string[::-1])"
      ],
      "execution_count": 56,
      "outputs": [
        {
          "output_type": "stream",
          "text": [
            "The first letter is:  D\n",
            "The last letter is:  h\n",
            "The second to last letter is:  t\n",
            "The first five characters are:  Dance\n",
            "Reverse it!:  htginkehtfoecnaD\n"
          ],
          "name": "stdout"
        }
      ]
    },
    {
      "cell_type": "markdown",
      "metadata": {
        "id": "hmXXTzybltco"
      },
      "source": [
        "Built-in objects and classes often have special functions associated with them that are called methods. We access these methods by using a period ('.'). We will cover objects and their associated methods more in another lecture!\n",
        "\n",
        "Using string methods we can count instances of a character or group of characters."
      ]
    },
    {
      "cell_type": "code",
      "metadata": {
        "scrolled": true,
        "id": "fAAMYmmMltcp",
        "colab": {
          "base_uri": "https://localhost:8080/"
        },
        "outputId": "fcd95d92-28f3-4c39-c0a6-3f94dab17ce0"
      },
      "source": [
        "# print 'Count of the letter i in Supercalifragilisticexpialidocious: ', my_string.count('i')\n",
        "# print 'Count of \"li\" in the same word: ', my_string.count('li')\n",
        "\n",
        "print('veces que aparece la letra i: ', my_string.count('i'))\n",
        "print('veces que sale Li: ', my_string.count('li'))"
      ],
      "execution_count": 57,
      "outputs": [
        {
          "output_type": "stream",
          "text": [
            "veces que aparece la letra i:  1\n",
            "veces que sale Li:  0\n"
          ],
          "name": "stdout"
        }
      ]
    },
    {
      "cell_type": "markdown",
      "metadata": {
        "id": "8uEZG0WAltcp"
      },
      "source": [
        "We can also find the first instance of a character or group of characters in a string."
      ]
    },
    {
      "cell_type": "code",
      "metadata": {
        "id": "FoyohiFdltcp",
        "colab": {
          "base_uri": "https://localhost:8080/"
        },
        "outputId": "f55d1e04-cb8a-45ef-b212-466c38bec4ed"
      },
      "source": [
        "# print('The first time i appears is at index: ', my_string.find('i'))\r\n",
        "\r\n",
        "print('index de la primera vez que sale la letra e: ', my_string.find('e'))"
      ],
      "execution_count": 58,
      "outputs": [
        {
          "output_type": "stream",
          "text": [
            "index de la primera vez que sale la letra e:  4\n"
          ],
          "name": "stdout"
        }
      ]
    },
    {
      "cell_type": "markdown",
      "metadata": {
        "id": "S868YKUultcp"
      },
      "source": [
        "As well as replace characters in a string."
      ]
    },
    {
      "cell_type": "code",
      "metadata": {
        "id": "wf1y2FXiltcp",
        "colab": {
          "base_uri": "https://localhost:8080/"
        },
        "outputId": "e40d9765-9b37-4e2f-f5a3-4e452054c30a"
      },
      "source": [
        "# print \"All i's are now a's: \", my_string.replace('i', 'a')\r\n",
        "\r\n",
        "print(\"todas las e ahora son X: \", my_string.replace('e', 'X'))"
      ],
      "execution_count": 59,
      "outputs": [
        {
          "output_type": "stream",
          "text": [
            "todas las e ahora son X:  DancXofthXknigth\n"
          ],
          "name": "stdout"
        }
      ]
    },
    {
      "cell_type": "code",
      "metadata": {
        "id": "Hmc6RmS9ltcp",
        "colab": {
          "base_uri": "https://localhost:8080/"
        },
        "outputId": "7d83037f-3af2-4321-d564-ead8c0890f09"
      },
      "source": [
        "# print(\"It's raining cats and dogs\".replace('dogs', 'more cats'))\r\n",
        "\r\n",
        "print(\"It's raining super and dogs\".replace('super', 'batman'))"
      ],
      "execution_count": 60,
      "outputs": [
        {
          "output_type": "stream",
          "text": [
            "It's raining batman and dogs\n"
          ],
          "name": "stdout"
        }
      ]
    },
    {
      "cell_type": "markdown",
      "metadata": {
        "id": "6CUr9okBltcq"
      },
      "source": [
        "There are also some methods that are unique to strings. The function `upper()` will convert all characters in a string to uppercase, while `lower()` will convert all characters in a string to lowercase!"
      ]
    },
    {
      "cell_type": "code",
      "metadata": {
        "id": "7GMxWdaEltcq",
        "colab": {
          "base_uri": "https://localhost:8080/"
        },
        "outputId": "3554cbfc-812d-42eb-ac8a-39f56b02fc64"
      },
      "source": [
        "# my_string = \"I can't hear you\"\n",
        "# print(my_string.upper())\n",
        "# my_string = \"I said HELLO\"\n",
        "# print(my_string.lower())\n",
        "\n",
        "mi_string = \"yo puedo verlo todo\"\n",
        "print(mi_string.upper())\n",
        "mi_string = \"TODOS TIENEN QUE SALUDAR\"\n",
        "print(mi_string.lower())\n"
      ],
      "execution_count": 61,
      "outputs": [
        {
          "output_type": "stream",
          "text": [
            "YO PUEDO VERLO TODO\n",
            "todos tienen que saludar\n"
          ],
          "name": "stdout"
        }
      ]
    },
    {
      "cell_type": "markdown",
      "metadata": {
        "id": "Gxjsd3FYltcq"
      },
      "source": [
        "### String Formatting\n",
        "\n",
        "Using the `format()` method we can add in variable values and generally format our strings."
      ]
    },
    {
      "cell_type": "code",
      "metadata": {
        "id": "-RM5wVKJltcq",
        "colab": {
          "base_uri": "https://localhost:8080/"
        },
        "outputId": "8a1f83d0-e27d-4680-b390-32970399a467"
      },
      "source": [
        "# my_string = \"{0} {1}\".format('Marco', 'Polo')\n",
        "# print my_string\n",
        "\n",
        "mi_string = \"{0} {1}\".format('arturo', 'calle')\n",
        "print(mi_string)"
      ],
      "execution_count": 62,
      "outputs": [
        {
          "output_type": "stream",
          "text": [
            "arturo calle\n"
          ],
          "name": "stdout"
        }
      ]
    },
    {
      "cell_type": "code",
      "metadata": {
        "id": "uzFsVZ34ltcq",
        "colab": {
          "base_uri": "https://localhost:8080/"
        },
        "outputId": "64e29012-854d-45be-d233-c8d37c51628d"
      },
      "source": [
        "# my_string = \"{1} {0}\".format('Marco', 'Polo')\n",
        "# print my_string\n",
        "mi_string = \"{1} {0}\".format('arturo', 'calle')\n",
        "print(mi_string)"
      ],
      "execution_count": 63,
      "outputs": [
        {
          "output_type": "stream",
          "text": [
            "calle arturo\n"
          ],
          "name": "stdout"
        }
      ]
    },
    {
      "cell_type": "markdown",
      "metadata": {
        "id": "xOFb7j3Eltcq"
      },
      "source": [
        "We use braces (`{}`) to indicate parts of the string that will be filled in later and we use the arguments of the `format()` function to provide the values to substitute. The numbers within the braces indicate the index of the value in the `format()` arguments."
      ]
    },
    {
      "cell_type": "markdown",
      "metadata": {
        "id": "RF_Bw1owltcr"
      },
      "source": [
        "See the `format()` [documentation](https://docs.python.org/2/library/string.html#format-examples) for additional examples."
      ]
    },
    {
      "cell_type": "markdown",
      "metadata": {
        "id": "Do05j5iHltcr"
      },
      "source": [
        "If you need some quick and dirty formatting, you can instead use the `%` symbol, called the string formatting operator. "
      ]
    },
    {
      "cell_type": "code",
      "metadata": {
        "id": "8CscuEjeltcr",
        "colab": {
          "base_uri": "https://localhost:8080/"
        },
        "outputId": "0fd26a8c-cae5-4476-a9ed-b4a3d2945e28"
      },
      "source": [
        "print('inserta %s aqui' % 'valor')"
      ],
      "execution_count": 64,
      "outputs": [
        {
          "output_type": "stream",
          "text": [
            "inserta valor aqui\n"
          ],
          "name": "stdout"
        }
      ]
    },
    {
      "cell_type": "markdown",
      "metadata": {
        "id": "DuBX7--iltcr"
      },
      "source": [
        "The `%` symbol basically cues Python to create a placeholder. Whatever character follows the `%` (in the string) indicates what sort of type the value put into the placeholder will have. This character is called a *conversion type*. Once the string has been closed, we need another `%` that will be followed by the values to insert. In the case of one value, you can just put it there. If you are inserting more than one value, they must be enclosed in a tuple."
      ]
    },
    {
      "cell_type": "code",
      "metadata": {
        "id": "elOI1Qg-ltcr",
        "colab": {
          "base_uri": "https://localhost:8080/"
        },
        "outputId": "924609a9-a60c-4764-a0db-76ff7f1f9e1d"
      },
      "source": [
        "print('There are %s cats in my %s' % (13, 'apartment'))\r\n",
        "print('There are %s cats in my %s' % (576.9, 'avenida'))"
      ],
      "execution_count": 65,
      "outputs": [
        {
          "output_type": "stream",
          "text": [
            "There are 13 cats in my apartment\n",
            "There are 576.9 cats in my avenida\n"
          ],
          "name": "stdout"
        }
      ]
    },
    {
      "cell_type": "markdown",
      "metadata": {
        "id": "WD5VcwTzltcr"
      },
      "source": [
        "In these examples, the `%s` indicates that Python should convert the values into strings. There are multiple conversion types that you can use to get more specific with the the formatting. See the string formatting [documentation](https://docs.python.org/2/library/stdtypes.html#string-formatting) for additional examples and more complete details on use."
      ]
    },
    {
      "cell_type": "markdown",
      "metadata": {
        "id": "MrfZDu-Wltcs"
      },
      "source": [
        "## Logical Operators\n",
        "### Basic Logic\n",
        "\n",
        "Logical operators deal with `boolean` values, as we briefly covered before. If you recall, a `bool` takes on one of two values, `True` or `False` (or $1$ or $0$). The basic logical statements that we can make are defined using the built-in comparators. These are `==` (equal), `!=` (not equal), `<` (less than), `>` (greater than), `<=` (less than or equal to), and `>=` (greater than or equal to)."
      ]
    },
    {
      "cell_type": "code",
      "metadata": {
        "id": "oF490qJLltcs",
        "colab": {
          "base_uri": "https://localhost:8080/"
        },
        "outputId": "7ebe387b-6583-4f67-e2fc-1c99d63ad95f"
      },
      "source": [
        "# print 5 == 5\r\n",
        "\r\n",
        "print(5==5)"
      ],
      "execution_count": 66,
      "outputs": [
        {
          "output_type": "stream",
          "text": [
            "True\n"
          ],
          "name": "stdout"
        }
      ]
    },
    {
      "cell_type": "code",
      "metadata": {
        "id": "oa1e_LFsltcs",
        "colab": {
          "base_uri": "https://localhost:8080/"
        },
        "outputId": "192b78c0-0169-4b26-b26a-4c4af8d93513"
      },
      "source": [
        "# print 5 > 5\r\n",
        "\r\n",
        "print(5>5)"
      ],
      "execution_count": 67,
      "outputs": [
        {
          "output_type": "stream",
          "text": [
            "False\n"
          ],
          "name": "stdout"
        }
      ]
    },
    {
      "cell_type": "markdown",
      "metadata": {
        "id": "UQczKbzRltcs"
      },
      "source": [
        "These comparators also work in conjunction with variables."
      ]
    },
    {
      "cell_type": "code",
      "metadata": {
        "id": "gFF7feYGltcs",
        "colab": {
          "base_uri": "https://localhost:8080/"
        },
        "outputId": "0ca8305c-0112-414c-856a-e3b428dd3827"
      },
      "source": [
        "m = 2\n",
        "n = 23\n",
        "# print m < n\n",
        "\n",
        "x = 3\n",
        "y = 678\n",
        "print(x<y)"
      ],
      "execution_count": 68,
      "outputs": [
        {
          "output_type": "stream",
          "text": [
            "True\n"
          ],
          "name": "stdout"
        }
      ]
    },
    {
      "cell_type": "markdown",
      "metadata": {
        "id": "dAi_BM0dltcs"
      },
      "source": [
        "We can string these comparators together to make more complex logical statements using the logical operators `or`, `and`, and `not`. "
      ]
    },
    {
      "cell_type": "code",
      "metadata": {
        "id": "-ZSGQEbGltct",
        "colab": {
          "base_uri": "https://localhost:8080/"
        },
        "outputId": "7c3ce4ad-07bd-4245-8538-5896aaa65c47"
      },
      "source": [
        "st_1 = 4567 > 3\n",
        "st_2 = 5 <= 24\n",
        "print(\"st 1 truth value: {0}\".format(st_1))\n",
        "print(\"st 2 truth value: {0}\".format(st_2))\n",
        "print(\"st 1 and st 2: {0}\".format(st_1 and st_2))"
      ],
      "execution_count": 69,
      "outputs": [
        {
          "output_type": "stream",
          "text": [
            "st 1 truth value: True\n",
            "st 2 truth value: True\n",
            "st 1 and st 2: True\n"
          ],
          "name": "stdout"
        }
      ]
    },
    {
      "cell_type": "markdown",
      "metadata": {
        "id": "MiwoztFSltct"
      },
      "source": [
        "The `or` operator performs a logical `or` calculation. This is an inclusive `or`, so if either component paired together by `or` is `True`, the whole statement will be `True`. The `and` statement only outputs `True` if all components that are `and`ed together are True. Otherwise it will output `False`. The `not` statement simply inverts the truth value of whichever statement follows it. So a `True` statement will be evaluated as `False` when a `not` is placed in front of it. Similarly, a `False` statement will become `True` when a `not` is in front of it.\n",
        "\n",
        "Say that we have two logical statements, or assertions, $P$ and $Q$. The truth table for the basic logical operators is as follows:\n",
        "\n",
        "|  P  |  Q  | `not` P| P `and` Q | P `or` Q|\n",
        "|:-----:|:-----:|:---:|:---:|:---:|\n",
        "| `True` | `True` | `False` | `True` | `True` |\n",
        "| `False` | `True` | `True` | `False` | `True` |\n",
        "| `True` | `False` | `False` | `False` | `True` |\n",
        "| `False` | `False` | `True` | `False` | `False` |\n",
        "\n",
        "We can string multiple logical statements together using the logical operators."
      ]
    },
    {
      "cell_type": "code",
      "metadata": {
        "id": "TMqMPybqltct",
        "colab": {
          "base_uri": "https://localhost:8080/"
        },
        "outputId": "b9c7ee49-8b7c-4623-9c2f-5e19fd8dddf5"
      },
      "source": [
        "# print((2 < 3) and (3 > 0)) or ((5 > 6) and not (4 < 2))\r\n",
        "\r\n",
        "print((4<7) and (1>7) or (1346>9) and not (17876>65))"
      ],
      "execution_count": 70,
      "outputs": [
        {
          "output_type": "stream",
          "text": [
            "False\n"
          ],
          "name": "stdout"
        }
      ]
    },
    {
      "cell_type": "markdown",
      "metadata": {
        "id": "iBm7VVU5ltct"
      },
      "source": [
        "Logical statements can be as simple or complex as we like, depending on what we need to express. Evaluating the above logical statement step by step we see that we are evaluating (`True and True`) `or` (`False and not False`). This becomes `True or (False and True`), subsequently becoming `True or False`, ultimately being evaluated as `True`."
      ]
    },
    {
      "cell_type": "markdown",
      "metadata": {
        "id": "M3TS18ivltcu"
      },
      "source": [
        "#### Truthiness\n",
        "\n",
        "Data types in Python have a fun characteristic called truthiness. What this means is that most built-in types will evaluate as either `True` or `False` when a boolean value is needed (such as with an if-statement). As a general rule, containers like strings, tuples, dictionaries, lists, and sets, will return `True` if they contain anything at all and `False` if they contain nothing."
      ]
    },
    {
      "cell_type": "code",
      "metadata": {
        "id": "7twWqMBVltcv",
        "colab": {
          "base_uri": "https://localhost:8080/"
        },
        "outputId": "c1da9fb7-5091-4540-98ca-4df7278153b7"
      },
      "source": [
        "# Similar to how float() and int() work, bool() forces a value to be considered a boolean!\n",
        "print(bool(''))"
      ],
      "execution_count": 71,
      "outputs": [
        {
          "output_type": "stream",
          "text": [
            "False\n"
          ],
          "name": "stdout"
        }
      ]
    },
    {
      "cell_type": "code",
      "metadata": {
        "id": "aIGZFJM-ltcv",
        "colab": {
          "base_uri": "https://localhost:8080/"
        },
        "outputId": "75db8e4c-6428-4933-dbd0-873dcb4ea721"
      },
      "source": [
        "print(bool('I have character!'))"
      ],
      "execution_count": 72,
      "outputs": [
        {
          "output_type": "stream",
          "text": [
            "True\n"
          ],
          "name": "stdout"
        }
      ]
    },
    {
      "cell_type": "code",
      "metadata": {
        "id": "f5Bcf9B3ltcv",
        "colab": {
          "base_uri": "https://localhost:8080/"
        },
        "outputId": "9d04e0d5-e8d6-4682-a1ee-63cb9f5bfba3"
      },
      "source": [
        "print(bool([]))"
      ],
      "execution_count": 73,
      "outputs": [
        {
          "output_type": "stream",
          "text": [
            "False\n"
          ],
          "name": "stdout"
        }
      ]
    },
    {
      "cell_type": "code",
      "metadata": {
        "id": "sZddDpZDltcw",
        "colab": {
          "base_uri": "https://localhost:8080/"
        },
        "outputId": "7fd2118c-3fea-4e35-adb6-3642200ea7f0"
      },
      "source": [
        "print(bool([1, 2, 3]))"
      ],
      "execution_count": 74,
      "outputs": [
        {
          "output_type": "stream",
          "text": [
            "True\n"
          ],
          "name": "stdout"
        }
      ]
    },
    {
      "cell_type": "markdown",
      "metadata": {
        "id": "TmN5jA7fltcw"
      },
      "source": [
        "And so on, for the other collections and containers. `None` also evaluates as `False`. The number `1` is equivalent to `True` and the number `0` is equivalent to `False` as well, in a boolean context."
      ]
    },
    {
      "cell_type": "markdown",
      "metadata": {
        "id": "1mBI2edIltcw"
      },
      "source": [
        "### If-statements\n",
        "\n",
        "We can create segments of code that only execute if a set of conditions is met. We use if-statements in conjunction with logical statements in order to create branches in our code. \n",
        "\n",
        "An `if` block gets entered when the condition is considered to be `True`. If condition is evaluated as `False`, the `if` block will simply be skipped unless there is an `else` block to accompany it. Conditions are made using either logical operators or by using the truthiness of values in Python. An if-statement is defined with a colon and a block of indented text."
      ]
    },
    {
      "cell_type": "code",
      "metadata": {
        "id": "t4h3svK7ltcw",
        "colab": {
          "base_uri": "https://localhost:8080/"
        },
        "outputId": "7a18c3e1-cf0c-4dd9-df21-4408288f2971"
      },
      "source": [
        "# This is the basic format of an if statement. This is a vacuous example. \n",
        "# The string \"Condition\" will always evaluated as True because it is a\n",
        "# non-empty string. he purpose of this code is to show the formatting of\n",
        "# an if-statement.\n",
        "if \"Condition\": \n",
        "    # This block of code will execute because the string is non-empty\n",
        "    # Everything on these indented lines\n",
        "    print(True)\n",
        "else:\n",
        "    # So if the condition that we examined with if is in fact False\n",
        "    # This block of code will execute INSTEAD of the first block of code\n",
        "    # Everything on these indented lines\n",
        "    print(False)\n",
        "# The else block here will never execute because \"Condition\" is a non-empty string."
      ],
      "execution_count": 75,
      "outputs": [
        {
          "output_type": "stream",
          "text": [
            "True\n"
          ],
          "name": "stdout"
        }
      ]
    },
    {
      "cell_type": "code",
      "metadata": {
        "id": "WWCdd2cmltcw"
      },
      "source": [
        "# i = 4\n",
        "# if i == 5:\n",
        "#     print 'The variable i has a value of 5'\n",
        "\n",
        "j = 300\n",
        "if j == 301:\n",
        "  print(\"la variable j tiene valor de 300\")"
      ],
      "execution_count": 76,
      "outputs": []
    },
    {
      "cell_type": "markdown",
      "metadata": {
        "id": "4LeFpdqGltcw"
      },
      "source": [
        "Because in this example `i = 4` and the if-statement is only looking for whether `i` is equal to `5`, the print statement will never be executed. We can add in an `else` statement to create a contingency block of code in case the condition in the if-statement is not evaluated as `True`."
      ]
    },
    {
      "cell_type": "code",
      "metadata": {
        "id": "pzsnZJssltcx",
        "colab": {
          "base_uri": "https://localhost:8080/"
        },
        "outputId": "b923fd07-727c-423b-d4c5-23f9e066e8d8"
      },
      "source": [
        "# i = 4\n",
        "# if i == 5:\n",
        "#     print \"All lines in this indented block are part of this block\"\n",
        "#     print 'The variable i has a value of 5'\n",
        "# else:\n",
        "#     print \"All lines in this indented block are part of this block\"\n",
        "#     print 'The variable i is not equal to 5'\n",
        "\n",
        "j = 300\n",
        "if j == 301:\n",
        "  print(\"la variable j tiene valor de 300\")\n",
        "else:\n",
        "  print(\"la variable j tiene valor de 301\")"
      ],
      "execution_count": 77,
      "outputs": [
        {
          "output_type": "stream",
          "text": [
            "la variable j tiene valor de 301\n"
          ],
          "name": "stdout"
        }
      ]
    },
    {
      "cell_type": "markdown",
      "metadata": {
        "id": "jLW05A8dltcx"
      },
      "source": [
        "We can implement other branches off of the same if-statement by using `elif`, an abbreviation of \"else if\". We can include as many `elifs` as we like until we have exhausted all the logical branches of a condition."
      ]
    },
    {
      "cell_type": "code",
      "metadata": {
        "id": "oGLECZBMltcx",
        "colab": {
          "base_uri": "https://localhost:8080/"
        },
        "outputId": "62afd9d6-e10f-455c-90fd-46b178d03c17"
      },
      "source": [
        "# i = 1\n",
        "# if i == 1:\n",
        "#     print 'The variable i has a value of 1'\n",
        "# elif i == 2:\n",
        "#     print 'The variable i has a value of 2'\n",
        "# elif i == 3:\n",
        "#     print 'The variable i has a value of 3'\n",
        "# else:\n",
        "#     print \"I don't care what i is\"\n",
        "\n",
        "i = 4\n",
        "if i == 1:\n",
        "  print('i si es igual a 1')\n",
        "elif i == 2:\n",
        "  print('i si es igual a 2')\n",
        "elif i == 3:\n",
        "  print('i si es igual a 3')\n",
        "elif i == 4:\n",
        "  print(\"i si es igual a 4\")\n",
        "elif i == 5:\n",
        "  print(\"i si es igual a 5\")\n",
        "else:\n",
        "  print(\"ninguno\")"
      ],
      "execution_count": 78,
      "outputs": [
        {
          "output_type": "stream",
          "text": [
            "i si es igual a 4\n"
          ],
          "name": "stdout"
        }
      ]
    },
    {
      "cell_type": "markdown",
      "metadata": {
        "id": "cHQ6jgoCltcy"
      },
      "source": [
        "You can also nest if-statements within if-statements to check for further conditions."
      ]
    },
    {
      "cell_type": "code",
      "metadata": {
        "id": "aA6YvliFltcy",
        "colab": {
          "base_uri": "https://localhost:8080/"
        },
        "outputId": "9f8b6abb-4835-4b77-99dd-58bcd15117d5"
      },
      "source": [
        "# i = 10\n",
        "# if i % 2 == 0:\n",
        "#     if i % 3 == 0:\n",
        "#         print 'i is divisible by both 2 and 3! Wow!'\n",
        "#     elif i % 5 == 0:\n",
        "#         print 'i is divisible by both 2 and 5! Wow!'\n",
        "#     else:\n",
        "#         print 'i is divisible by 2, but not 3 or 5. Meh.'\n",
        "# else:\n",
        "#     print 'I guess that i is an odd number. Boring.'\n",
        "\n",
        "i = 22\n",
        "if i % 2 == 0:\n",
        "  if i % 3 == 0:\n",
        "    print(\"es divisible por 2 y 3\")\n",
        "  elif i % 5 == 0:\n",
        "    print(\"es divisible por 2 y 5\")\n",
        "  else:\n",
        "    print(\"es dibvisble por 2 pero no por 3 o 5\")\n",
        "else:\n",
        "  print(\"es impar\")"
      ],
      "execution_count": 79,
      "outputs": [
        {
          "output_type": "stream",
          "text": [
            "es dibvisble por 2 pero no por 3 o 5\n"
          ],
          "name": "stdout"
        }
      ]
    },
    {
      "cell_type": "markdown",
      "metadata": {
        "id": "W6Cgkr04ltcy"
      },
      "source": [
        "Remember that we can group multiple conditions together by using the logical operators!"
      ]
    },
    {
      "cell_type": "code",
      "metadata": {
        "id": "SwoumXUHltcy",
        "colab": {
          "base_uri": "https://localhost:8080/"
        },
        "outputId": "3b439cb3-7bd9-4f47-cad9-5109963d0361"
      },
      "source": [
        "# i = 5\n",
        "# j = 12\n",
        "# if i < 10 and j > 11:\n",
        "#     print '{0} is less than 10 and {1} is greater than 11! How novel and interesting!'.format(i, j)\n",
        "\n",
        "x = 2\n",
        "y = 9\n",
        "if i > 1 and j > 6:\n",
        "  print(\"{0} es mayor a 1 y {1} es mayo a 6\".format(x,y))"
      ],
      "execution_count": 80,
      "outputs": [
        {
          "output_type": "stream",
          "text": [
            "2 es mayor a 1 y 9 es mayo a 6\n"
          ],
          "name": "stdout"
        }
      ]
    },
    {
      "cell_type": "markdown",
      "metadata": {
        "id": "oca29ciFltcy"
      },
      "source": [
        "You can use the logical comparators to compare strings!"
      ]
    },
    {
      "cell_type": "code",
      "metadata": {
        "id": "9AVZbvkdltcy",
        "colab": {
          "base_uri": "https://localhost:8080/"
        },
        "outputId": "39fd128c-ee3e-4ec7-ee3e-7391feb4b6e0"
      },
      "source": [
        "# my_string = \"Carthago delenda est\"\n",
        "# if my_string == \"Carthago delenda est\":\n",
        "#     print 'And so it was! For the glory of Rome!'\n",
        "# else:\n",
        "#     print 'War elephants are TERRIFYING. I am staying home.'\n",
        "\n",
        "st = \"hola estoy comparando\"\n",
        "if st == \"hola estoy comparando\":\n",
        "  print(\"si es igual\")\n",
        "else:\n",
        "  print(\"no es igual\")"
      ],
      "execution_count": 81,
      "outputs": [
        {
          "output_type": "stream",
          "text": [
            "si es igual\n"
          ],
          "name": "stdout"
        }
      ]
    },
    {
      "cell_type": "markdown",
      "metadata": {
        "id": "8FDww1Fbltcy"
      },
      "source": [
        "As with other data types, `==` will check for whether the two things on either side of it have the same value. In this case, we compare whether the value of the strings are the same. Using `>` or `<` or any of the other comparators is not quite so intuitive, however, so we will stay from using comparators with strings in this lecture. Comparators will examine the [lexicographical order](https://en.wikipedia.org/wiki/Lexicographical_order) of the strings, which might be a bit more in-depth than you might like."
      ]
    },
    {
      "cell_type": "markdown",
      "metadata": {
        "id": "cFryYRJAltcz"
      },
      "source": [
        "Some built-in functions return a boolean value, so they can be used as conditions in an if-statement. User-defined functions can also be constructed so that they return a boolean value. This will be covered later with function definition!\n",
        "\n",
        "The `in` keyword is generally used to check membership of a value within another value. We can check memebership in the context of an if-statement and use it to output a truth value."
      ]
    },
    {
      "cell_type": "code",
      "metadata": {
        "id": "hXLgfcizltcz",
        "colab": {
          "base_uri": "https://localhost:8080/"
        },
        "outputId": "2b8c1f2e-2513-4f73-c409-7fdb31663b22"
      },
      "source": [
        "# if 'a' in my_string or 'e' in my_string:\n",
        "#     print 'Those are my favorite vowels!'\n",
        "\n",
        "if 'y' in st or 'x' in st:\n",
        "  print(\"hay alguna de las dos letras\")"
      ],
      "execution_count": 82,
      "outputs": [
        {
          "output_type": "stream",
          "text": [
            "hay alguna de las dos letras\n"
          ],
          "name": "stdout"
        }
      ]
    },
    {
      "cell_type": "markdown",
      "metadata": {
        "id": "BYg7cc9_ltcz"
      },
      "source": [
        "Here we use `in` to check whether the variable `my_string` contains any particular letters. We will later use `in` to iterate through lists!"
      ]
    },
    {
      "cell_type": "markdown",
      "metadata": {
        "id": "Oo5Rfa5Iltcz"
      },
      "source": [
        "## Loop Structures\n",
        "\n",
        "Loop structures are one of the most important parts of programming. The `for` loop and the `while` loop provide a way to repeatedly run a block of code repeatedly. A `while` loop will iterate until a certain condition has been met. If at any point after an iteration that condition is no longer satisfied, the loop terminates. A `for` loop will iterate over a sequence of values and terminate when the sequence has ended. You can instead include conditions within the `for` loop to decide whether it should terminate early or you could simply let it run its course."
      ]
    },
    {
      "cell_type": "code",
      "metadata": {
        "id": "rI7vDwRsltcz",
        "colab": {
          "base_uri": "https://localhost:8080/"
        },
        "outputId": "887f99a6-f2f0-42d9-d0d3-40809c8cf14a"
      },
      "source": [
        "# i = 5\n",
        "# while i > 0: # We can write this as 'while i:' because 0 is False!\n",
        "#     i -= 1\n",
        "#     print 'I am looping! {0} more to go!'.format(i)\n",
        "\n",
        "cont = 10\n",
        "while cont > 0:\n",
        "  cont-=2\n",
        "  print(\"estoy en un looooop\",cont)"
      ],
      "execution_count": 83,
      "outputs": [
        {
          "output_type": "stream",
          "text": [
            "estoy en un looooop 8\n",
            "estoy en un looooop 6\n",
            "estoy en un looooop 4\n",
            "estoy en un looooop 2\n",
            "estoy en un looooop 0\n"
          ],
          "name": "stdout"
        }
      ]
    },
    {
      "cell_type": "markdown",
      "metadata": {
        "id": "WrCSeRZNltcz"
      },
      "source": [
        "\n",
        "With `while` loops we need to make sure that something actually changes from iteration to iteration so that that the loop actually terminates. In this case, we use the shorthand `i -= 1` (short for `i = i - 1`) so that the value of `i` gets smaller with each iteration. Eventually `i` will be reduced to `0`, rendering the condition `False` and exiting the loop."
      ]
    },
    {
      "cell_type": "markdown",
      "metadata": {
        "id": "XnW35PY9ltc0"
      },
      "source": [
        "A `for` loop iterates a set number of times, determined when you state the entry into the loop. In this case we are iterating over the list returned from `range()`. The `for` loop selects a value from the list, in order, and temporarily assigns the value of `i` to it so that operations can be performed with the value."
      ]
    },
    {
      "cell_type": "code",
      "metadata": {
        "id": "BA7HWjrwltc0",
        "colab": {
          "base_uri": "https://localhost:8080/"
        },
        "outputId": "0fcd82ad-a56b-417f-9849-bfbdbe695988"
      },
      "source": [
        "# for i in range(5):\n",
        "#     print 'I am looping! I have looped {0} times!'.format(i + 1)\n",
        "\n",
        "for i in range(7):\n",
        "  print(\"estoy en un looooop\",i)"
      ],
      "execution_count": 84,
      "outputs": [
        {
          "output_type": "stream",
          "text": [
            "estoy en un looooop 0\n",
            "estoy en un looooop 1\n",
            "estoy en un looooop 2\n",
            "estoy en un looooop 3\n",
            "estoy en un looooop 4\n",
            "estoy en un looooop 5\n",
            "estoy en un looooop 6\n"
          ],
          "name": "stdout"
        }
      ]
    },
    {
      "cell_type": "markdown",
      "metadata": {
        "id": "T-T1bHVIltc0"
      },
      "source": [
        "Note that in this `for` loop we use the `in` keyword. Use of the `in` keyword is not limited to checking for membership as in the if-statement example. You can iterate over any collection with a `for` loop by using the `in` keyword.\n",
        "\n",
        "In this next example, we will iterate over a `set` because we want to check for containment and add to a new set."
      ]
    },
    {
      "cell_type": "code",
      "metadata": {
        "id": "zK9SU3Mzltc0",
        "colab": {
          "base_uri": "https://localhost:8080/"
        },
        "outputId": "63313fe5-8075-4285-f6b5-86b8f0213721"
      },
      "source": [
        "# my_list = {'cats', 'dogs', 'lizards', 'cows', 'bats', 'sponges', 'humans'} # Lists all the animals in the world\n",
        "# mammal_list = {'cats', 'dogs', 'cows', 'bats', 'humans'} # Lists all the mammals in the world\n",
        "# my_new_list = set()\n",
        "# for animal in my_list:\n",
        "#     if animal in mammal_list:\n",
        "#         # This adds any animal that is both in my_list and mammal_list to my_new_list\n",
        "#         my_new_list.add(animal) \n",
        "# print my_new_list\n",
        "\n",
        "comida = {\"arroz\", \"huevo\", \"pollo\", \"carne\", \"frijol\",\"ensalada\"}\n",
        "carnes = {\"carne\", \"pollo\", \"pescado\"}\n",
        "lista = set()\n",
        "for alimento in comida:\n",
        "  if alimento in carnes:\n",
        "    lista.add(alimento)\n",
        "print(lista) "
      ],
      "execution_count": 85,
      "outputs": [
        {
          "output_type": "stream",
          "text": [
            "{'carne', 'pollo'}\n"
          ],
          "name": "stdout"
        }
      ]
    },
    {
      "cell_type": "markdown",
      "metadata": {
        "id": "RdGyd9KLltc0"
      },
      "source": [
        "There are two statements that are very helpful in dealing with both `for` and `while` loops. These are `break` and `continue`. If `break` is encountered at any point while a loop is executing, the loop will immediately end."
      ]
    },
    {
      "cell_type": "code",
      "metadata": {
        "id": "_qI1B0Qzltc1",
        "colab": {
          "base_uri": "https://localhost:8080/"
        },
        "outputId": "d7f8aa7d-a122-4384-e1dd-f3c80eaa91c7"
      },
      "source": [
        "# i = 10\n",
        "# while True:\n",
        "#     if i == 14:\n",
        "#         break\n",
        "#     i += 1 # This is shorthand for i = i + 1. It increments i with each iteration.\n",
        "#     print i\n",
        "\n",
        "i = 3\n",
        "while True:\n",
        "  if i == 12:\n",
        "    break\n",
        "  i += 1\n",
        "  print(i)"
      ],
      "execution_count": 86,
      "outputs": [
        {
          "output_type": "stream",
          "text": [
            "4\n",
            "5\n",
            "6\n",
            "7\n",
            "8\n",
            "9\n",
            "10\n",
            "11\n",
            "12\n"
          ],
          "name": "stdout"
        }
      ]
    },
    {
      "cell_type": "code",
      "metadata": {
        "id": "UpE_LBapltc1",
        "colab": {
          "base_uri": "https://localhost:8080/"
        },
        "outputId": "6d69cdd8-54b5-4014-ccf2-84a450760bbf"
      },
      "source": [
        "# for i in range(5):\n",
        "#     if i == 2:\n",
        "#         break\n",
        "#     print i\n",
        "\n",
        "for i in range(7):\n",
        "  if i == 6:\n",
        "    break\n",
        "  print(i)"
      ],
      "execution_count": 87,
      "outputs": [
        {
          "output_type": "stream",
          "text": [
            "0\n",
            "1\n",
            "2\n",
            "3\n",
            "4\n",
            "5\n"
          ],
          "name": "stdout"
        }
      ]
    },
    {
      "cell_type": "markdown",
      "metadata": {
        "id": "cA1BtXc0ltc1"
      },
      "source": [
        "The `continue` statement will tell the loop to immediately end this iteration and continue onto the next iteration of the loop."
      ]
    },
    {
      "cell_type": "code",
      "metadata": {
        "id": "EuXtfE5Wltc1",
        "colab": {
          "base_uri": "https://localhost:8080/"
        },
        "outputId": "09590642-218e-42a0-c60d-c08986421b65"
      },
      "source": [
        "# i = 0\n",
        "# while i < 5:\n",
        "#     i += 1\n",
        "#     if i == 3:\n",
        "#         continue\n",
        "#     print i\n",
        "\n",
        "i = 1\n",
        "while i < 34:\n",
        "    i += 1\n",
        "    if i == 20:\n",
        "      continue\n",
        "    print(i)"
      ],
      "execution_count": 88,
      "outputs": [
        {
          "output_type": "stream",
          "text": [
            "2\n",
            "3\n",
            "4\n",
            "5\n",
            "6\n",
            "7\n",
            "8\n",
            "9\n",
            "10\n",
            "11\n",
            "12\n",
            "13\n",
            "14\n",
            "15\n",
            "16\n",
            "17\n",
            "18\n",
            "19\n",
            "21\n",
            "22\n",
            "23\n",
            "24\n",
            "25\n",
            "26\n",
            "27\n",
            "28\n",
            "29\n",
            "30\n",
            "31\n",
            "32\n",
            "33\n",
            "34\n"
          ],
          "name": "stdout"
        }
      ]
    },
    {
      "cell_type": "markdown",
      "metadata": {
        "id": "Hm7M39jbltc1"
      },
      "source": [
        "This loop skips printing the number $3$ because of the `continue` statement that executes when we enter the if-statement. The code never sees the command to print the number $3$ because it has already moved to the next iteration. The `break` and `continue` statements are further tools to help you control the flow of your loops and, as a result, your code."
      ]
    },
    {
      "cell_type": "markdown",
      "metadata": {
        "id": "Cthm6JTLltc1"
      },
      "source": [
        "The variable that we use to iterate over a loop will retain its value when the loop exits. Similarly, any variables defined within the context of the loop will continue to exist outside of it."
      ]
    },
    {
      "cell_type": "code",
      "metadata": {
        "id": "KJg9LzRkltc2",
        "colab": {
          "base_uri": "https://localhost:8080/"
        },
        "outputId": "4501a9fc-8777-43a9-f8f6-83a46b444b41"
      },
      "source": [
        "# for i in range(5):\n",
        "#     loop_string = 'I transcend the loop!'\n",
        "#     print 'I am eternal! I am {0} and I exist everywhere!'.format(i)\n",
        "\n",
        "# print 'I persist! My value is {0}'.format(i)\n",
        "# print loop_string\n",
        "\n",
        "for i in range(9):\n",
        "  loop = \"trasencdio\"\n",
        "  print(\"soy eterno\")\n",
        "print(\"persisto\")\n",
        "print(loop)"
      ],
      "execution_count": 89,
      "outputs": [
        {
          "output_type": "stream",
          "text": [
            "soy eterno\n",
            "soy eterno\n",
            "soy eterno\n",
            "soy eterno\n",
            "soy eterno\n",
            "soy eterno\n",
            "soy eterno\n",
            "soy eterno\n",
            "soy eterno\n",
            "persisto\n",
            "trasencdio\n"
          ],
          "name": "stdout"
        }
      ]
    },
    {
      "cell_type": "markdown",
      "metadata": {
        "id": "p4VzLqZYltc2"
      },
      "source": [
        "We can also iterate over a dictionary!"
      ]
    },
    {
      "cell_type": "code",
      "metadata": {
        "id": "wZgig-tMltc2"
      },
      "source": [
        "# my_dict = {'firstname' : 'Inigo', 'lastname' : 'Montoya', 'nemesis' : 'Rugen'}\r\n",
        "\r\n",
        "mi_diccionario = {'nombre' : 'robert', 'alias' : 'iron', 'edad' : '43'}"
      ],
      "execution_count": 90,
      "outputs": []
    },
    {
      "cell_type": "code",
      "metadata": {
        "id": "-MQZkrAkltc2",
        "colab": {
          "base_uri": "https://localhost:8080/"
        },
        "outputId": "99ed6a4f-4178-4ea9-a861-c91e212db5ff"
      },
      "source": [
        "# for key in my_dict:\n",
        "#     print key\n",
        "\n",
        "for x in mi_diccionario:\n",
        "    print(x)"
      ],
      "execution_count": 91,
      "outputs": [
        {
          "output_type": "stream",
          "text": [
            "nombre\n",
            "alias\n",
            "edad\n"
          ],
          "name": "stdout"
        }
      ]
    },
    {
      "cell_type": "markdown",
      "metadata": {
        "id": "NlxHrlGMltc2"
      },
      "source": [
        "If we just iterate over a dictionary without doing anything else, we will only get the keys. We can either use the keys to get the values, like so:"
      ]
    },
    {
      "cell_type": "code",
      "metadata": {
        "id": "EoMna7nNltc2",
        "colab": {
          "base_uri": "https://localhost:8080/"
        },
        "outputId": "5f3e17e0-ddac-4dab-af32-67db48af5bd4"
      },
      "source": [
        "# for key in my_dict:\n",
        "#     print my_dict[key]\n",
        "\n",
        "for cualquier in mi_diccionario:\n",
        "    print(mi_diccionario[cualquier])"
      ],
      "execution_count": 92,
      "outputs": [
        {
          "output_type": "stream",
          "text": [
            "robert\n",
            "iron\n",
            "43\n"
          ],
          "name": "stdout"
        }
      ]
    },
    {
      "cell_type": "markdown",
      "metadata": {
        "id": "GXzlkw7Xltc3"
      },
      "source": [
        "Or we can use the `items()` function to get both key and value at the same time."
      ]
    },
    {
      "cell_type": "code",
      "metadata": {
        "id": "HYEf0tdrltc3",
        "colab": {
          "base_uri": "https://localhost:8080/"
        },
        "outputId": "bf8c10eb-dbf0-409f-d04b-0bc56a61e078"
      },
      "source": [
        "for key, value in mi_diccionario.items():\n",
        "    print(key, ':', value)"
      ],
      "execution_count": 93,
      "outputs": [
        {
          "output_type": "stream",
          "text": [
            "nombre : robert\n",
            "alias : iron\n",
            "edad : 43\n"
          ],
          "name": "stdout"
        }
      ]
    },
    {
      "cell_type": "markdown",
      "metadata": {
        "id": "YOX-gh8Hltc3"
      },
      "source": [
        "The `items()` function creates a tuple of each key-value pair and the for loop unpacks that tuple into `key, value` on each separate execution of the loop!"
      ]
    },
    {
      "cell_type": "markdown",
      "metadata": {
        "id": "H6TicmZhltc3"
      },
      "source": [
        "## Functions\n",
        "\n",
        "A function is a reusable block of code that you can call repeatedly to make calculations, output data, or really do anything that you want. This is one of the key aspects of using a programming language. To add to the built-in functions in Python, you can define your own!"
      ]
    },
    {
      "cell_type": "code",
      "metadata": {
        "id": "mQXJT3yPltc3",
        "colab": {
          "base_uri": "https://localhost:8080/"
        },
        "outputId": "5cb67af3-efc7-4d02-89a4-9a699a788742"
      },
      "source": [
        "# def hello_world():\n",
        "#     \"\"\" Prints Hello, world! \"\"\"\n",
        "#     print 'Hello, world!'\n",
        "# hello_world()\n",
        "\n",
        "def holanda():\n",
        "  print(\"holanda\")\n",
        "\n",
        "holanda()"
      ],
      "execution_count": 94,
      "outputs": [
        {
          "output_type": "stream",
          "text": [
            "holanda\n"
          ],
          "name": "stdout"
        }
      ]
    },
    {
      "cell_type": "code",
      "metadata": {
        "id": "K9CJ2By0ltc3",
        "colab": {
          "base_uri": "https://localhost:8080/"
        },
        "outputId": "ca212122-d53a-4e8d-924f-b418cfe7adb8"
      },
      "source": [
        "for i in range(5):\n",
        "    holanda()"
      ],
      "execution_count": 95,
      "outputs": [
        {
          "output_type": "stream",
          "text": [
            "holanda\n",
            "holanda\n",
            "holanda\n",
            "holanda\n",
            "holanda\n"
          ],
          "name": "stdout"
        }
      ]
    },
    {
      "cell_type": "markdown",
      "metadata": {
        "id": "VaMZa84Rltc3"
      },
      "source": [
        "Functions are defined with `def`, a function name, a list of parameters, and a colon. Everything indented below the colon will be included in the definition of the function.\n",
        "\n",
        "We can have our functions do anything that you can do with a normal block of code. For example, our `hello_world()` function prints a string every time it is called. If we want to keep a value that a function calculates, we can define the function so that it will `return` the value we want. This is a very important feature of functions, as any variable defined purely within a function will not exist outside of it."
      ]
    },
    {
      "cell_type": "code",
      "metadata": {
        "id": "qjGtFpW0ltc4",
        "colab": {
          "base_uri": "https://localhost:8080/"
        },
        "outputId": "159c144e-d448-478a-cf92-3fcd441cb860"
      },
      "source": [
        "# def see_the_scope():\n",
        "#     in_function_string = \"I'm stuck in here!\"\n",
        "# see_the_scope()\n",
        "# print(in_function_string)\n",
        "\n",
        "def sin_retorno():\n",
        "  st = \"retorno?\"\n",
        "sin_retorno()\n",
        "print(sin_retorno())"
      ],
      "execution_count": 96,
      "outputs": [
        {
          "output_type": "stream",
          "text": [
            "None\n"
          ],
          "name": "stdout"
        }
      ]
    },
    {
      "cell_type": "markdown",
      "metadata": {
        "id": "TFiBiC5Oltc4"
      },
      "source": [
        " The **scope** of a variable is the part of a block of code where that variable is tied to a particular value. Functions in Python have an enclosed scope, making it so that variables defined within them can only be accessed directly within them. If we pass those values to a return statement we can get them out of the function. This makes it so that the function call returns values so that you can store them in variables that have a greater scope.\n",
        " \n",
        "In this case specifically, including a return statement allows us to keep the string value that we define in the function."
      ]
    },
    {
      "cell_type": "code",
      "metadata": {
        "id": "UOgRL5gpltc4",
        "colab": {
          "base_uri": "https://localhost:8080/"
        },
        "outputId": "7d689555-02d6-42af-9b1d-4746cb2f1187"
      },
      "source": [
        "# def free_the_scope():\n",
        "#     in_function_string = \"Anything you can do I can do better!\"\n",
        "#     return in_function_string\n",
        "# my_string = free_the_scope()\n",
        "# print my_string\n",
        "\n",
        "def con_retorno():\n",
        "  st = \"retorno?\"\n",
        "  return st\n",
        "con_retorno()\n",
        "print(con_retorno())"
      ],
      "execution_count": 97,
      "outputs": [
        {
          "output_type": "stream",
          "text": [
            "retorno?\n"
          ],
          "name": "stdout"
        }
      ]
    },
    {
      "cell_type": "markdown",
      "metadata": {
        "id": "PEzPoWX6ltc4"
      },
      "source": [
        "Just as we can get values out of a function, we can also put values into a function. We do this by defining our function with parameters."
      ]
    },
    {
      "cell_type": "code",
      "metadata": {
        "id": "2m1OOiazltc4",
        "colab": {
          "base_uri": "https://localhost:8080/"
        },
        "outputId": "257faf0d-1284-4ace-972f-3922e73b9016"
      },
      "source": [
        "# def multiply_by_five(x):\n",
        "#     \"\"\" Multiplies an input number by 5 \"\"\"\n",
        "#     return x * 5\n",
        "# n = 4\n",
        "# print n\n",
        "# print multiply_by_five(n)\n",
        "\n",
        "def multiplicacion_por_7(x):\n",
        "    return x * 7\n",
        "\n",
        "n = 4\n",
        "print(n)\n",
        "print(multiplicacion_por_7(n))"
      ],
      "execution_count": 98,
      "outputs": [
        {
          "output_type": "stream",
          "text": [
            "4\n",
            "28\n"
          ],
          "name": "stdout"
        }
      ]
    },
    {
      "cell_type": "markdown",
      "metadata": {
        "id": "vi18YlaOHqQv"
      },
      "source": [
        "La funcion expresada matematicamente quedaria:\r\n",
        "$$\\left ( \\mathbb{R} \\right )\\rightarrow \\mathbb{R}$$\r\n",
        "$$x \\mapsto x\\cdot 7$$"
      ]
    },
    {
      "cell_type": "markdown",
      "metadata": {
        "id": "m2Z7uCNDltc4"
      },
      "source": [
        "In this example we only had one parameter for our function, `x`. We can easily add more parameters, separating everything with a comma."
      ]
    },
    {
      "cell_type": "code",
      "metadata": {
        "id": "oc3dC4ukltc5"
      },
      "source": [
        "def calculate_area(length, width):\n",
        "    \"\"\" Calculates the area of a rectangle \"\"\"\n",
        "    return length * width\n",
        "    \n",
        "def area_triangulo(base,altura):\n",
        "  return (base*altura)/2"
      ],
      "execution_count": 99,
      "outputs": []
    },
    {
      "cell_type": "code",
      "metadata": {
        "id": "FytVrjlxltc5",
        "colab": {
          "base_uri": "https://localhost:8080/"
        },
        "outputId": "cb989a1d-6fd5-4d0f-b469-9f71ee8d468e"
      },
      "source": [
        "# l = 5\n",
        "# w = 10\n",
        "# print 'Area: ', calculate_area(l, w)\n",
        "# print 'Length: ', l\n",
        "# print 'Width: ', w\n",
        "\n",
        "b = 5\n",
        "a = 10\n",
        "print(\"area\",area_triangulo(b,a))"
      ],
      "execution_count": 100,
      "outputs": [
        {
          "output_type": "stream",
          "text": [
            "area 25.0\n"
          ],
          "name": "stdout"
        }
      ]
    },
    {
      "cell_type": "markdown",
      "metadata": {
        "id": "mH7__DJzIMYE"
      },
      "source": [
        "La funcion expresada matematicamente de area_triangulo quedaria:\r\n",
        "$$\\left ( \\mathbb{R}\\times \\mathbb{R} \\right )\\rightarrow \\mathbb{R}$$\r\n",
        "$$b,h \\mapsto \\frac{b\\cdot h}{2} $$"
      ]
    },
    {
      "cell_type": "code",
      "metadata": {
        "id": "dgM4udpFltc5"
      },
      "source": [
        "def calculate_volume(length, width, depth):\n",
        "    \"\"\" Calculates the volume of a rectangular prism \"\"\"\n",
        "    return length * width * depth"
      ],
      "execution_count": 101,
      "outputs": []
    },
    {
      "cell_type": "markdown",
      "metadata": {
        "id": "k_kxuieYIj-k"
      },
      "source": [
        "la funcion calculate_volume quedaria:\r\n",
        "$$\\left ( \\mathbb{R}\\times \\mathbb{R} \\times\\mathbb{R}\\right )\\rightarrow \\mathbb{R}$$\r\n",
        "$$l, w, d \\mapsto l\\cdot w\\cdot d $$"
      ]
    },
    {
      "cell_type": "markdown",
      "metadata": {
        "id": "cegv1Y1_ltc5"
      },
      "source": [
        "If we want to, we can define a function so that it takes an arbitrary number of parameters. We tell Python that we want this by using an asterisk (`*`)."
      ]
    },
    {
      "cell_type": "code",
      "metadata": {
        "id": "SsezPfybltc5"
      },
      "source": [
        "def sum_values(*args):\n",
        "    sum_val = 0\n",
        "    for i in args:\n",
        "        sum_val += i\n",
        "    return sum_val\n",
        "    \n",
        "def mul_valores(*args):\n",
        "  mul_val = 1\n",
        "  for i in args:\n",
        "    mul_val *= i\n",
        "    mul_val = mul_val * i\n",
        "  return mul_val"
      ],
      "execution_count": 102,
      "outputs": []
    },
    {
      "cell_type": "code",
      "metadata": {
        "id": "FPUyLbzhltc5",
        "colab": {
          "base_uri": "https://localhost:8080/"
        },
        "outputId": "94feb6e0-8177-404d-f12b-809afdc61ec1"
      },
      "source": [
        "print(sum_values(1, 2, 3))\n",
        "print(sum_values(10, 20, 30, 40, 50))\n",
        "print(sum_values(4, 2, 5, 1, 10, 249, 25, 24, 13, 6, 4))\n",
        "\n",
        "print(mul_valores(10, 20, 30, 40, 50))\n",
        "print(mul_valores(1,2,3,4))"
      ],
      "execution_count": 103,
      "outputs": [
        {
          "output_type": "stream",
          "text": [
            "6\n",
            "150\n",
            "343\n",
            "144000000000000\n",
            "576\n"
          ],
          "name": "stdout"
        }
      ]
    },
    {
      "cell_type": "markdown",
      "metadata": {
        "id": "ZK_HErcZJFkG"
      },
      "source": [
        "la funcion mul_valores quedaria expresada matematicamente de la siguiente manera:\r\n",
        "$$\\left ( \\mathbb{R}^{*} \\right )\\rightarrow \\mathbb{R}$$\r\n",
        "$$args^{*} \\mapsto \\prod ^{args.length} _{i=1}mulval = mulval \\cdot i $$"
      ]
    },
    {
      "cell_type": "markdown",
      "metadata": {
        "id": "9-Cr6TGgltc7"
      },
      "source": [
        "The time to use `*args` as a parameter for your function is when you do not know how many values may be passed to it, as in the case of our sum function. The asterisk in this case is the syntax that tells Python that you are going to pass an arbitrary number of parameters into your function. These parameters are stored in the form of a tuple."
      ]
    },
    {
      "cell_type": "code",
      "metadata": {
        "id": "Nj5r1b9mltc7",
        "colab": {
          "base_uri": "https://localhost:8080/"
        },
        "outputId": "23fc4ed5-ba91-42c4-b12e-198f0b052c69"
      },
      "source": [
        "def test_args(*args):\n",
        "    print(type(args))\n",
        "\n",
        "test_args(1, 2, 3, 4, 5, 6 , \"hola\" , 7.6)"
      ],
      "execution_count": 104,
      "outputs": [
        {
          "output_type": "stream",
          "text": [
            "<class 'tuple'>\n"
          ],
          "name": "stdout"
        }
      ]
    },
    {
      "cell_type": "markdown",
      "metadata": {
        "id": "V_TMWxkEltc7"
      },
      "source": [
        "We can put as many elements into the `args` tuple as we want to when we call the function. However, because `args` is a tuple, we cannot modify it after it has been created.\n",
        "\n",
        "The `args` name of the variable is purely by convention. You could just as easily name your parameter `*vars` or `*things`. You can treat the `args` tuple like you would any other tuple, easily accessing `arg`'s values and iterating over it, as in the above `sum_values(*args)` function."
      ]
    },
    {
      "cell_type": "markdown",
      "metadata": {
        "id": "mVdpADxMltc8"
      },
      "source": [
        "Our functions can return any data type. This makes it easy for us to create functions that check for conditions that we might want to monitor.\n",
        "\n",
        "Here we define a function that returns a boolean value. We can easily use this in conjunction with if-statements and  other situations that require a boolean."
      ]
    },
    {
      "cell_type": "code",
      "metadata": {
        "id": "qxMwEf_Iltc8"
      },
      "source": [
        "def has_a_vowel(word):\n",
        "    \"\"\" \n",
        "    Checks to see whether a word contains a vowel \n",
        "    If it doesn't contain a conventional vowel, it\n",
        "    will check for the presence of 'y' or 'w'. Does\n",
        "    not check to see whether those are in the word\n",
        "    in a vowel context.\n",
        "    \"\"\"\n",
        "    vowel_list = ['a', 'e', 'i', 'o', 'u']\n",
        "    \n",
        "    for vowel in vowel_list:\n",
        "        if vowel in word:\n",
        "            return True\n",
        "    # If there is a vowel in the word, the function returns, preventing anything after this loop from running\n",
        "    return False\n",
        "\n",
        "def tiene_abcde(palabra):\n",
        "  letras = ['a','b','c','d','e']\n",
        "  for l in letras:\n",
        "    if l in palabra:\n",
        "      return True\n",
        "  return False"
      ],
      "execution_count": 105,
      "outputs": []
    },
    {
      "cell_type": "code",
      "metadata": {
        "id": "yE1xZATGltc8",
        "colab": {
          "base_uri": "https://localhost:8080/"
        },
        "outputId": "772e9f61-c1f7-4042-ccec-0c804b4038a8"
      },
      "source": [
        "# my_word = 'catnapping'\n",
        "# if has_a_vowel(my_word):\n",
        "#     # print 'How surprising, an english word contains a vowel.'\n",
        "# else:\n",
        "#     # print 'This is actually surprising.'\n",
        "\n",
        "palabra = 'loco'\n",
        "if tiene_abcde(palabra):\n",
        "  print(\"tiene una letra\")\n",
        "else:\n",
        "  print(\"no tiene letra\")"
      ],
      "execution_count": 106,
      "outputs": [
        {
          "output_type": "stream",
          "text": [
            "tiene una letra\n"
          ],
          "name": "stdout"
        }
      ]
    },
    {
      "cell_type": "code",
      "metadata": {
        "id": "Xq8DyEgGltc8"
      },
      "source": [
        "def point_maker(x, y):\n",
        "    \"\"\" Groups x and y values into a point, technically a tuple \"\"\"\n",
        "    return x, y"
      ],
      "execution_count": 107,
      "outputs": []
    },
    {
      "cell_type": "markdown",
      "metadata": {
        "id": "RnIzk28gltc8"
      },
      "source": [
        "This above function returns an ordered pair of the input parameters, stored as a tuple."
      ]
    },
    {
      "cell_type": "code",
      "metadata": {
        "scrolled": true,
        "id": "_m8RnaiVltc8",
        "colab": {
          "base_uri": "https://localhost:8080/"
        },
        "outputId": "1b00221e-5e21-40d7-dfa5-266d244f12c3"
      },
      "source": [
        "a = point_maker(0, 10)\n",
        "b = point_maker(5, 3)\n",
        "\n",
        "def calculate_slope(point_a, point_b):\n",
        "    \"\"\" Calculates the linear slope between two points \"\"\"\n",
        "    return (point_b[1] - point_a[1])/(point_b[0] - point_a[0])\n",
        "\n",
        "# print \"The slope between a and b is {0}\".format(calculate_slope(a, b))\n",
        "print(\"la distancia etre esos dos puntos es de:\" , calculate_slope(a,b))"
      ],
      "execution_count": 108,
      "outputs": [
        {
          "output_type": "stream",
          "text": [
            "la distancia etre esos dos puntos es de: -1.4\n"
          ],
          "name": "stdout"
        }
      ]
    },
    {
      "cell_type": "markdown",
      "metadata": {
        "id": "4j-BE0vjKr9_"
      },
      "source": [
        "la expresion matematica de calculate_slope seria:\r\n",
        "$$\\left ( \\mathbb{R}^{*}\\times \\mathbb{R}^{*} \\right )\\rightarrow \\mathbb{R}$$\r\n",
        "$$a^{*},b^{*} \\mapsto \\frac{b_1 - a_1}{b_0 - a_0}  $$"
      ]
    },
    {
      "cell_type": "markdown",
      "metadata": {
        "id": "k6dTeZWgltc9"
      },
      "source": [
        "And that one calculates the slope between two points!"
      ]
    },
    {
      "cell_type": "code",
      "metadata": {
        "id": "jGYGYaGMltc9",
        "colab": {
          "base_uri": "https://localhost:8080/"
        },
        "outputId": "a2de1097-e479-468c-8d86-338a43ec0ffb"
      },
      "source": [
        "print(\"The slope-intercept form of the line between a and b, using point a, is: y - {0} = {2}(x - {1})\".format(a[1], a[0], calculate_slope(a, b)))"
      ],
      "execution_count": 109,
      "outputs": [
        {
          "output_type": "stream",
          "text": [
            "The slope-intercept form of the line between a and b, using point a, is: y - 10 = -1.4(x - 0)\n"
          ],
          "name": "stdout"
        }
      ]
    },
    {
      "cell_type": "markdown",
      "metadata": {
        "id": "b278iOJAltc9"
      },
      "source": [
        "With the proper syntax, you can define functions to do whatever calculations you want. This makes them an indispensible part of programming in any language."
      ]
    },
    {
      "cell_type": "markdown",
      "metadata": {
        "id": "Bc49MEV_ltc9"
      },
      "source": [
        "## Next Steps\n",
        "\n",
        "This was a lot of material and there is still even more to cover! Make sure you play around with the cells in each notebook to accustom yourself to the syntax featured here and to figure out any limitations. If you want to delve even deeper into the material, the [documentation for Python](https://docs.python.org/2/) is all available online. We are in the process of developing a second part to this Python tutorial, designed to provide you with even more programming knowledge, so keep an eye on the [Quantopian Lectures Page](quantopian.com/lectures) and the [forums](quantopian.com/posts) for any new lectures."
      ]
    },
    {
      "cell_type": "markdown",
      "metadata": {
        "id": "NHP1xsPsltc9"
      },
      "source": [
        "*This presentation is for informational purposes only and does not constitute an offer to sell, a solicitation to buy, or a recommendation for any security; nor does it constitute an offer to provide investment advisory or other services by Quantopian, Inc. (\"Quantopian\"). Nothing contained herein constitutes investment advice or offers any opinion with respect to the suitability of any security, and any views expressed herein should not be taken as advice to buy, sell, or hold any security or as an endorsement of any security or company.  In preparing the information contained herein, Quantopian, Inc. has not taken into account the investment needs, objectives, and financial circumstances of any particular investor. Any views expressed and data illustrated herein were prepared based upon information, believed to be reliable, available to Quantopian, Inc. at the time of publication. Quantopian makes no guarantees as to their accuracy or completeness. All information is subject to change and may quickly become unreliable for various reasons, including changes in market conditions or economic circumstances.*"
      ]
    }
  ]
}