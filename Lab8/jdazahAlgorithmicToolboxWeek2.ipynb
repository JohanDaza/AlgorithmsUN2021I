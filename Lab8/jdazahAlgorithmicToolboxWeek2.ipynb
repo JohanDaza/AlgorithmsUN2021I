{
  "nbformat": 4,
  "nbformat_minor": 0,
  "metadata": {
    "colab": {
      "name": "jdazahAlgorithmicToolboxWeek2.ipynb",
      "provenance": [],
      "collapsed_sections": []
    },
    "kernelspec": {
      "name": "python3",
      "display_name": "Python 3"
    },
    "language_info": {
      "name": "python"
    }
  },
  "cells": [
    {
      "cell_type": "markdown",
      "metadata": {
        "id": "E2QV_C-d64ft"
      },
      "source": [
        "# **Introduction**\n",
        "\n",
        "Welcome to your second programming assignment of the Algorithmic Toolbox at Coursera! It consists of eight\n",
        "programming challenges. Three of them require you just to implement carefully the algorithms covered in\n",
        "the lectures. The remaining challenges will require you to first design an algorithm and then to implement it.\n",
        "For all the challenges, we provide starter solutions in C++, Java, and Python3. These solutions implement\n",
        "straightforward algorithms that usually work only for small inputs. To verify this, you may want to submit\n",
        "these solutions to the grader. This will usually give you a “time limit exceeded” message for Python\n",
        "starter files and either “time limit exceeded” or “wrong answer” message for C++ and Java solutions (the\n",
        "reason for wrong answer being an integer overflow issue). Your goal is to replace a naive algorithm with\n",
        "an efficient one. In particular, you may want to use the naive implementation for stress testing your efficient\n",
        "implementation.\n",
        "In this programming assignment, the grader will show you the input data if your solution fails on any\n",
        "of the tests. This is done to help you to get used to the algorithmic problems in general and get some\n",
        "experience debugging your programs while knowing exactly on which tests they fail. However, for all the\n",
        "following programming assignments, the grader will show the input data only in case your solution fails on\n",
        "one of the first few tests."
      ]
    },
    {
      "cell_type": "markdown",
      "metadata": {
        "id": "AsXFDqug72Ub"
      },
      "source": [
        "## Fibonacci Number\n",
        "\n",
        "Problem Description\n",
        "\n",
        "**Task.** Given an integer $n$, find the $n$th Fibonacci number $Fn$.\n",
        "\n",
        "**Input Format.** The input consists of a single integer $n$.\n",
        "\n",
        "**Constraints.** 0 ≤ $n$ ≤ 45.\n",
        "\n",
        "**Output Format.** Output $Fn$.\n",
        "\n",
        "$\\underline{Sample \\hspace{0.2cm} 1.}$\n",
        "\n",
        "Input:\n",
        "\n",
        "`10`\n",
        "\n",
        "Output:\n",
        "\n",
        "`50`\n",
        "\n",
        "$𝐹_{10}$ = $55$."
      ]
    },
    {
      "cell_type": "code",
      "metadata": {
        "colab": {
          "base_uri": "https://localhost:8080/"
        },
        "id": "j_HgNUam3Pz9",
        "outputId": "289c46e7-4f61-4c43-82d0-eaa6601bb709"
      },
      "source": [
        "# Naive Solution\n",
        "\n",
        "# Python3\n",
        "\n",
        "import time\n",
        "\n",
        "def calc_fib(n):\n",
        "    if (n <= 1):\n",
        "        return n\n",
        "\n",
        "    return calc_fib(n - 1) + calc_fib(n - 2)\n",
        "\n",
        "n1 = int(input())\n",
        "start_time = time.time()\n",
        "print(calc_fib(n1))\n",
        "print(\"--- %s seconds ---\" % (time.time() - start_time))\n"
      ],
      "execution_count": null,
      "outputs": [
        {
          "output_type": "stream",
          "text": [
            "10\n",
            "55\n",
            "--- 0.00023293495178222656 seconds ---\n"
          ],
          "name": "stdout"
        }
      ]
    },
    {
      "cell_type": "code",
      "metadata": {
        "colab": {
          "base_uri": "https://localhost:8080/"
        },
        "id": "LfXJjXaU_5pR",
        "outputId": "ee0bba72-9fc4-47a7-c382-52a096b3fbcd"
      },
      "source": [
        "# List Solution\n",
        "\n",
        "# Python3\n",
        "\n",
        "import time\n",
        "\n",
        "def fib_list(n):\n",
        "     fib = [0, 1]\n",
        "     for i in range(2, n+1):\n",
        "         fib.append(fib[-1] + fib[-2])\n",
        "     return fib\n",
        "\n",
        "n2 = int(input())\n",
        "start_time = time.time()\n",
        "print(fib_list(n2)[n2])\n",
        "print(\"--- %s seconds ---\" % (time.time() - start_time))"
      ],
      "execution_count": null,
      "outputs": [
        {
          "output_type": "stream",
          "text": [
            "100\n",
            "354224848179261915075\n",
            "--- 0.00025200843811035156 seconds ---\n"
          ],
          "name": "stdout"
        }
      ]
    },
    {
      "cell_type": "markdown",
      "metadata": {
        "id": "zpy76AYz-F3a"
      },
      "source": [
        "## Last Digit of a Large Fibonacci Number\n",
        "\n",
        "Problem Description\n",
        "\n",
        "**Task.** Given an integer $n$, find the last digit of the $n$th Fibonacci number $Fn$ (that is, $Fn$ $mod 10$).\n",
        "\n",
        "**Input Format.** The input consists of a single integer 𝑛.\n",
        "\n",
        "**Constraints.** 0 ≤ 𝑛 ≤ 107.\n",
        "\n",
        "**Output Format.** Output the last digit of 𝐹𝑛.\n",
        "\n",
        "$\\underline{Sample \\hspace{0.2cm} 1.}$\n",
        "\n",
        "Input:\n",
        "\n",
        "`3`\n",
        "\n",
        "Output:\n",
        "\n",
        "`2`\n",
        "\n",
        "$F_3$ = $2$."
      ]
    },
    {
      "cell_type": "code",
      "metadata": {
        "id": "PUSE0bo9A--A"
      },
      "source": [
        "# Naive Solution\n",
        "\n",
        "# Python3\n",
        "\n",
        "import sys\n",
        "\n",
        "def get_fibonacci_last_digit_naive(n):\n",
        "    if n <= 1:\n",
        "        return n\n",
        "\n",
        "    previous = 0\n",
        "    current  = 1\n",
        "\n",
        "    for i in range(n - 1):\n",
        "        previous, current = current, previous + current\n",
        "\n",
        "    return current % 10\n",
        "\n",
        "if __name__ == '__main__':\n",
        "    input = sys.stdin.read()\n",
        "    n3 = int(input)\n",
        "    print(get_fibonacci_last_digit_naive(n3))"
      ],
      "execution_count": null,
      "outputs": []
    },
    {
      "cell_type": "code",
      "metadata": {
        "colab": {
          "base_uri": "https://localhost:8080/"
        },
        "id": "QQSQwSn5AmxB",
        "outputId": "3f5ae38e-1383-4999-9bcf-1dca00902ac7"
      },
      "source": [
        "# Solutions Study\n",
        "\n",
        "# Python3\n",
        "\n",
        "import time\n",
        "\n",
        "# MAKING USE OF THE PREVIOUS LIST ALGORITHM IS BLOODY SLOW FOR NUMBERS BIGGER THAN 1000\n",
        "\n",
        "# def fib_list(n):\n",
        "#      fib = [0, 1]\n",
        "#      for i in range(2, n+1):\n",
        "#          fib.append(fib[-1] + fib[-2])\n",
        "#      return fib\n",
        "\n",
        "def last_digit(n):\n",
        "    last = n % 10\n",
        "    return last     \n",
        "\n",
        "# n = int(input())\n",
        "# a = fib_list(n)[n]\n",
        "# print(last_digit(a))\n",
        "\n",
        "# THE DICTIONARY IS EVEN FASTER FOR SMALL FIBONACCI NUMBER, BUT ONCE AGAIN, DAMN SLOW FOR BIGGER NUMBERS\n",
        "\n",
        "# def fib_dic(n, prev_comp = {0: 0, 1: 1}):\n",
        "#      if n not in prev_comp:\n",
        "#          prev_comp[n] = fib_dic(n-1, prev_comp) + fib_dic(n-2, prev_comp)\n",
        "#      return prev_comp[n]\n",
        "\n",
        "# n = int(input())\n",
        "# a = fib_dic(n)\n",
        "# print(a)\n",
        "# print(last_digit(a))\n",
        "\n",
        "# IN DESPERATION I FOUND THE MATRIX METHOD!\n",
        "\n",
        "def fib_matrix(n):\n",
        "    v1, v2, v3 = 1, 1, 0    # make a new a matrix [[1,1],[1,0]], initialiazed\n",
        "    for rec in bin(n)[3:]:  # quickly raising it to the nth power\n",
        "        calc = v2*v2\n",
        "        v1, v2, v3 = v1*v1+calc, (v1+v3)*v2, calc+v3*v3\n",
        "        if (rec=='1'):\n",
        "            v1, v2, v3 = v1+v2, v1, v2\n",
        "    return v2\n",
        "\n",
        "fibnum = int(input())\n",
        "start_time = time.time()\n",
        "a = fib_matrix(fibnum)\n",
        "print(last_digit(a))\n",
        "print(\"--- %s seconds ---\" % (time.time() - start_time))"
      ],
      "execution_count": null,
      "outputs": [
        {
          "output_type": "stream",
          "text": [
            "10000\n",
            "5\n",
            "--- 0.0003058910369873047 seconds ---\n"
          ],
          "name": "stdout"
        }
      ]
    },
    {
      "cell_type": "markdown",
      "metadata": {
        "id": "abV435NXFzRh"
      },
      "source": [
        "## Greatest Common Divisor\n",
        "\n",
        "Problem Description\n",
        "\n",
        "**Task.** Given two integers $a$ and $b$, find their greatest common divisor.\n",
        "\n",
        "**Input Format.** The two integers $a$, $b$ are given in the same line separated by space.\n",
        "\n",
        "**Constraints.** 1 ≤ $a$, $b$ ≤ 2 · 109.\n",
        "\n",
        "**Output Format.** Output GCD($a$, $b$).\n",
        "\n",
        "$\\underline{Sample \\hspace{0.2cm} 1.}$\n",
        "\n",
        "Input:\n",
        "\n",
        "`18 35`\n",
        "\n",
        "Output:\n",
        "\n",
        "`1`\n",
        "\n",
        "18 and 35 do not have common non-trivial divisors."
      ]
    },
    {
      "cell_type": "code",
      "metadata": {
        "id": "CrXQMlImGZKO"
      },
      "source": [
        "#Naive Solution\n",
        "\n",
        "# Python3\n",
        "\n",
        "import sys\n",
        "\n",
        "def gcd_naive(a, b):\n",
        "    current_gcd = 1\n",
        "    for d in range(2, min(a, b) + 1):\n",
        "        if a % d == 0 and b % d == 0:\n",
        "            if d > current_gcd:\n",
        "                current_gcd = d\n",
        "\n",
        "    return current_gcd\n",
        "\n",
        "if __name__ == \"__main__\":\n",
        "    input = sys.stdin.read()\n",
        "    a, b = map(int, input.split())\n",
        "    print(gcd_naive(a, b))"
      ],
      "execution_count": null,
      "outputs": []
    },
    {
      "cell_type": "code",
      "metadata": {
        "colab": {
          "base_uri": "https://localhost:8080/"
        },
        "id": "barnLAGIHEa-",
        "outputId": "842a8e1e-82f4-4827-d8e7-6388bb3e9fc3"
      },
      "source": [
        "# Euclid Solution\n",
        "\n",
        "# Python3\n",
        "\n",
        "import time\n",
        "\n",
        "def euclid_gcd(a, b):\n",
        "    c = a % b\n",
        "    if(c != 0):\n",
        "        return euclid_gcd(b, c)\n",
        "    else:\n",
        "        return b\n",
        "\n",
        "\n",
        "if __name__ == \"__main__\": \n",
        "    a, b = [int(i) for i in input().split()]\n",
        "    start_time = time.time()\n",
        "    print(euclid_gcd(a, b))\n",
        "    print(\"--- %s seconds ---\" % (time.time() - start_time))"
      ],
      "execution_count": null,
      "outputs": [
        {
          "output_type": "stream",
          "text": [
            "18 35\n",
            "1\n",
            "--- 0.00011801719665527344 seconds ---\n"
          ],
          "name": "stdout"
        }
      ]
    },
    {
      "cell_type": "markdown",
      "metadata": {
        "id": "DOVLyvuTIcBG"
      },
      "source": [
        "## Least Common Multiple\n",
        "\n",
        "Problem Description\n",
        "\n",
        "**Task.** Given two integers 𝑎 and 𝑏, find their least common multiple.\n",
        "\n",
        "**Input Format.** The two integers 𝑎 and 𝑏 are given in the same line separated by space.\n",
        "\n",
        "**Constraints.** 1 ≤ 𝑎, 𝑏 ≤ 107.\n",
        "\n",
        "**Output Format.** Output the least common multiple of 𝑎 and 𝑏.\n",
        "\n",
        "$\\underline{Sample \\hspace{0.2cm} 1.}$\n",
        "\n",
        "Input:\n",
        "\n",
        "`6 8`\n",
        "\n",
        "Output:\n",
        "\n",
        "`24`\n",
        "\n",
        "Among all the positive integers that are divisible by both 6 and 8 (e.g., 48, 480, 24), 24 is the smallest one."
      ]
    },
    {
      "cell_type": "code",
      "metadata": {
        "id": "DkrFEZJeI39W"
      },
      "source": [
        "# Naive Solution\n",
        "\n",
        "# Python3\n",
        "\n",
        "import sys\n",
        "\n",
        "def lcm_naive(a, b):\n",
        "    for l in range(1, a*b + 1):\n",
        "        if l % a == 0 and l % b == 0:\n",
        "            return l\n",
        "\n",
        "    return a*b\n",
        "\n",
        "if __name__ == '__main__':\n",
        "    input = sys.stdin.read()\n",
        "    a, b = map(int, input.split())\n",
        "    print(lcm_naive(a, b))"
      ],
      "execution_count": null,
      "outputs": []
    },
    {
      "cell_type": "code",
      "metadata": {
        "colab": {
          "base_uri": "https://localhost:8080/"
        },
        "id": "pHsN8QPoJRTl",
        "outputId": "79aaf0e2-f2b1-40af-a11e-9aa97cfb759a"
      },
      "source": [
        "# Euclid Solution\n",
        "\n",
        "# Python3\n",
        "\n",
        "import time\n",
        "\n",
        "def euclid_lcm(a,b):\n",
        "    div = euclid_gcd(a, b)\n",
        "    val = (a * b) // div # divide with integral result (discard remainder)\n",
        "    return val\n",
        "\n",
        "if __name__ == \"__main__\":\n",
        "    a, b = map(int, input().split())\n",
        "    start_time = time.time()\n",
        "    print(euclid_lcm(a, b))\n",
        "    print(\"--- %s seconds ---\" % (time.time() - start_time))"
      ],
      "execution_count": null,
      "outputs": [
        {
          "output_type": "stream",
          "text": [
            "6 8\n",
            "24\n",
            "--- 0.000125885009765625 seconds ---\n"
          ],
          "name": "stdout"
        }
      ]
    },
    {
      "cell_type": "markdown",
      "metadata": {
        "id": "jScfDWpjJoi-"
      },
      "source": [
        "## Fibonacci Number Again\n",
        "\n",
        "Problem Description\n",
        "\n",
        "**Task.** Given two integers $n$ and $m$, output $Fn$ *mod* $m$ (that is, the remainder of $Fn$ when divided by $m$).\n",
        "\n",
        "**Input Format.** The input consists of two integers $n$ and $m$ given on the same line (separated by a space).\n",
        "\n",
        "**Constraints.** 1 ≤ $n$ ≤ 1014, 2 ≤ $m$ ≤ 103.\n",
        "\n",
        "**Output Format.** Output $Fn$ *mod* $m$.\n",
        "\n",
        "$\\underline{Sample \\hspace{0.2cm} 1.}$\n",
        "\n",
        "Input:\n",
        "\n",
        "`239 1000`\n",
        "\n",
        "Output:\n",
        "\n",
        "`161`\n",
        "\n",
        "$F_{239}$ *mod* $1000$ = $39 679 027 332 006 820 581 608 740 953 902 289 877 834 488 152 161$ $\\%$ $1000$ = $161$."
      ]
    },
    {
      "cell_type": "code",
      "metadata": {
        "id": "UL4DnSfFLZcV"
      },
      "source": [
        "# Naive Solution\n",
        "\n",
        "# Python3\n",
        "import sys\n",
        "\n",
        "def get_fibonacci_huge_naive(n, m):\n",
        "    if n <= 1:\n",
        "        return n\n",
        "\n",
        "    previous = 0\n",
        "    current  = 1\n",
        "\n",
        "    for _ in range(n - 1):\n",
        "        previous, current = current, previous + current\n",
        "\n",
        "    return current % m\n",
        "\n",
        "if __name__ == '__main__':\n",
        "    input = sys.stdin.read();\n",
        "    n, m = map(int, input.split())\n",
        "    print(get_fibonacci_huge_naive(n, m))"
      ],
      "execution_count": null,
      "outputs": []
    },
    {
      "cell_type": "code",
      "metadata": {
        "colab": {
          "base_uri": "https://localhost:8080/"
        },
        "id": "Vqy-l6JPLhvM",
        "outputId": "3dbc81e5-505f-4507-cffd-0d6f129fd648"
      },
      "source": [
        "# Dictionary Method\n",
        "\n",
        "# Python3\n",
        "\n",
        "import time\n",
        "\n",
        "def fib_mod(n, m):\n",
        "    \n",
        "    cache = {0: 0, 1: 1}\n",
        "\n",
        "    def fib_m(n):\n",
        "        if n in cache:\n",
        "            return cache[n]\n",
        "\n",
        "        if n % 2 == 0:\n",
        "            fib_half_n = fib_m(n // 2)\n",
        "            result = (2 * fib_m(n // 2 - 1) + fib_half_n) * fib_half_n\n",
        "        else:\n",
        "            result = fib_m((n + 1) // 2) ** 2 + fib_m((n - 1) // 2) ** 2\n",
        "\n",
        "        cache[n] = result = result % m\n",
        "        return result\n",
        "\n",
        "    return fib_m(n)\n",
        "\n",
        "if __name__ == \"__main__\":\n",
        "    n, m = map(int, input().split())\n",
        "    start_time = time.time()\n",
        "    print(fib_mod(n, m))\n",
        "    print(\"--- %s seconds ---\" % (time.time() - start_time))\n"
      ],
      "execution_count": null,
      "outputs": [
        {
          "output_type": "stream",
          "text": [
            "239 1000\n",
            "161\n",
            "--- 0.00015926361083984375 seconds ---\n"
          ],
          "name": "stdout"
        }
      ]
    },
    {
      "cell_type": "markdown",
      "metadata": {
        "id": "v2m1NFUeL4ZV"
      },
      "source": [
        "![image.png](data:image/png;base64,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)"
      ]
    }
  ]
}