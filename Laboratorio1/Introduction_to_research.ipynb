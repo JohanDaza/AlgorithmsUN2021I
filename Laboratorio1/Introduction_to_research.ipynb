{
  "nbformat": 4,
  "nbformat_minor": 0,
  "metadata": {
    "kernelspec": {
      "display_name": "Python 2",
      "language": "python",
      "name": "python2"
    },
    "language_info": {
      "codemirror_mode": {
        "name": "ipython",
        "version": 2
      },
      "file_extension": ".py",
      "mimetype": "text/x-python",
      "name": "python",
      "nbconvert_exporter": "python",
      "pygments_lexer": "ipython2",
      "version": "2.7.12"
    },
    "colab": {
      "name": "Introduction to research.ipynb",
      "provenance": [],
      "collapsed_sections": []
    }
  },
  "cells": [
    {
      "cell_type": "markdown",
      "metadata": {
        "id": "DQ12zzM_OAj0"
      },
      "source": [
        "#Introduction to the Research Environment\n",
        "\n",
        "The research environment is powered by IPython notebooks, which allow one to perform a great deal of data analysis and statistical validation. We'll demonstrate a few simple techniques here."
      ]
    },
    {
      "cell_type": "markdown",
      "metadata": {
        "id": "y8eFEwi_OAj9"
      },
      "source": [
        "##Code Cells vs. Text Cells\n",
        "\n",
        "As you can see, each cell can be either code or text. To select between them, choose from the 'Cell Type' dropdown menu on the top left."
      ]
    },
    {
      "cell_type": "markdown",
      "metadata": {
        "id": "Vm6RKZh-OAj-"
      },
      "source": [
        "##Executing a Command\n",
        "\n",
        "A code cell will be evaluated when you press play, or when you press the shortcut, shift-enter. Evaluating a cell evaluates each line of code in sequence, and prints the results of the last line below the cell."
      ]
    },
    {
      "cell_type": "code",
      "metadata": {
        "colab": {
          "base_uri": "https://localhost:8080/"
        },
        "id": "g0Vv84f0OAj-",
        "outputId": "86f66475-696d-495c-ca62-3319fa48a15d"
      },
      "source": [
        "2 + 2\r\n",
        "6 + 82"
      ],
      "execution_count": 1,
      "outputs": [
        {
          "output_type": "execute_result",
          "data": {
            "text/plain": [
              "88"
            ]
          },
          "metadata": {
            "tags": []
          },
          "execution_count": 1
        }
      ]
    },
    {
      "cell_type": "markdown",
      "metadata": {
        "id": "9OzN4H-bOAj_"
      },
      "source": [
        "Sometimes there is no result to be printed, as is the case with assignment."
      ]
    },
    {
      "cell_type": "code",
      "metadata": {
        "collapsed": true,
        "id": "LEH1He41OAkA"
      },
      "source": [
        "X = 2\r\n",
        "Y = 5"
      ],
      "execution_count": 2,
      "outputs": []
    },
    {
      "cell_type": "markdown",
      "metadata": {
        "id": "HJTL3kwjOAkA"
      },
      "source": [
        "Remember that only the result from the last line is printed."
      ]
    },
    {
      "cell_type": "code",
      "metadata": {
        "colab": {
          "base_uri": "https://localhost:8080/"
        },
        "id": "LXPwSHuGOAkA",
        "outputId": "f4f5624e-c93b-4dc0-f931-57769f430ab7"
      },
      "source": [
        "2 + 2\n",
        "3 + 3\n",
        "6 + 6 "
      ],
      "execution_count": 3,
      "outputs": [
        {
          "output_type": "execute_result",
          "data": {
            "text/plain": [
              "12"
            ]
          },
          "metadata": {
            "tags": []
          },
          "execution_count": 3
        }
      ]
    },
    {
      "cell_type": "markdown",
      "metadata": {
        "id": "9t1TcganOAkB"
      },
      "source": [
        "However, you can print whichever lines you want using the `print` statement."
      ]
    },
    {
      "cell_type": "code",
      "metadata": {
        "colab": {
          "base_uri": "https://localhost:8080/"
        },
        "id": "aOq4P6BtOAkB",
        "outputId": "004a8c38-00cc-456b-c171-ee2dd6cb88ec"
      },
      "source": [
        "print 2 + 2\n",
        "3 + 3\n",
        "\n",
        "print 5 + 20\n",
        "4 + 7"
      ],
      "execution_count": 4,
      "outputs": [
        {
          "output_type": "stream",
          "text": [
            "4\n",
            "25\n"
          ],
          "name": "stdout"
        },
        {
          "output_type": "execute_result",
          "data": {
            "text/plain": [
              "11"
            ]
          },
          "metadata": {
            "tags": []
          },
          "execution_count": 4
        }
      ]
    },
    {
      "cell_type": "markdown",
      "metadata": {
        "id": "3KTmrBbxOAkB"
      },
      "source": [
        "##Knowing When a Cell is Running\n",
        "\n",
        "While a cell is running, a `[*]` will display on the left. When a cell has yet to be executed, `[ ]` will display. When it has been run, a number will display indicating the order in which it was run during the execution of the notebook `[5]`. Try on this cell and note it happening."
      ]
    },
    {
      "cell_type": "code",
      "metadata": {
        "colab": {
          "base_uri": "https://localhost:8080/"
        },
        "id": "7LGIaaDTOAkC",
        "outputId": "eb0dd4a0-c602-43ec-8310-2d8965bc8f9d"
      },
      "source": [
        "#Take some time to run something\n",
        "c = 0\n",
        "for i in range(10000000):\n",
        "    c = c + i\n",
        "c\n",
        "\n",
        "h = 1\n",
        "for j in range(1,10):\n",
        "    h = h * j\n",
        "h"
      ],
      "execution_count": 5,
      "outputs": [
        {
          "output_type": "execute_result",
          "data": {
            "text/plain": [
              "362880"
            ]
          },
          "metadata": {
            "tags": []
          },
          "execution_count": 5
        }
      ]
    },
    {
      "cell_type": "markdown",
      "metadata": {
        "id": "0aMvN7G4OAkC"
      },
      "source": [
        "##Importing Libraries\n",
        "\n",
        "The vast majority of the time, you'll want to use functions from pre-built libraries. You can't import every library on Quantopian due to security issues, but you can import most of the common scientific ones. Here I import numpy and pandas, the two most common and useful libraries in quant finance. I recommend copying this import statement to every new notebook.\n",
        "\n",
        "Notice that you can rename libraries to whatever you want after importing. The `as` statement allows this. Here we use `np` and `pd` as aliases for `numpy` and `pandas`. This is a very common aliasing and will be found in most code snippets around the web. The point behind this is to allow you to type fewer characters when you are frequently accessing these libraries."
      ]
    },
    {
      "cell_type": "code",
      "metadata": {
        "colab": {
          "base_uri": "https://localhost:8080/"
        },
        "id": "1vLHNi5tqYo8",
        "outputId": "37de3dd6-8fdb-45b4-b5d0-2e2552e8200d"
      },
      "source": [
        "pip install pandas-datareader"
      ],
      "execution_count": 6,
      "outputs": [
        {
          "output_type": "stream",
          "text": [
            "Requirement already satisfied: pandas-datareader in /usr/local/lib/python2.7/dist-packages (0.7.0)\n",
            "Requirement already satisfied: lxml in /usr/local/lib/python2.7/dist-packages (from pandas-datareader) (4.2.6)\n",
            "Requirement already satisfied: pandas>=0.19.2 in /usr/local/lib/python2.7/dist-packages (from pandas-datareader) (0.24.2)\n",
            "Requirement already satisfied: wrapt in /usr/local/lib/python2.7/dist-packages (from pandas-datareader) (1.11.2)\n",
            "Requirement already satisfied: requests>=2.3.0 in /usr/local/lib/python2.7/dist-packages (from pandas-datareader) (2.23.0)\n",
            "Requirement already satisfied: numpy>=1.12.0 in /usr/local/lib/python2.7/dist-packages (from pandas>=0.19.2->pandas-datareader) (1.16.4)\n",
            "Requirement already satisfied: pytz>=2011k in /usr/local/lib/python2.7/dist-packages (from pandas>=0.19.2->pandas-datareader) (2018.9)\n",
            "Requirement already satisfied: python-dateutil>=2.5.0 in /usr/local/lib/python2.7/dist-packages (from pandas>=0.19.2->pandas-datareader) (2.5.3)\n",
            "Requirement already satisfied: urllib3!=1.25.0,!=1.25.1,<1.26,>=1.21.1 in /usr/local/lib/python2.7/dist-packages (from requests>=2.3.0->pandas-datareader) (1.24.3)\n",
            "Requirement already satisfied: chardet<4,>=3.0.2 in /usr/local/lib/python2.7/dist-packages (from requests>=2.3.0->pandas-datareader) (3.0.4)\n",
            "Requirement already satisfied: certifi>=2017.4.17 in /usr/local/lib/python2.7/dist-packages (from requests>=2.3.0->pandas-datareader) (2019.6.16)\n",
            "Requirement already satisfied: idna<3,>=2.5 in /usr/local/lib/python2.7/dist-packages (from requests>=2.3.0->pandas-datareader) (2.8)\n",
            "Requirement already satisfied: six>=1.5 in /usr/local/lib/python2.7/dist-packages (from python-dateutil>=2.5.0->pandas>=0.19.2->pandas-datareader) (1.15.0)\n"
          ],
          "name": "stdout"
        }
      ]
    },
    {
      "cell_type": "code",
      "metadata": {
        "collapsed": true,
        "id": "pk0UDOSLOAkC"
      },
      "source": [
        "import numpy as np\n",
        "import pandas as pd\n",
        "\n",
        "# This is a plotting library for pretty pictures.\n",
        "import matplotlib.pyplot as plt\n",
        "\n",
        "import tensorflow as tf\n",
        "from tensorflow import keras\n",
        "\n",
        "import pandas_datareader as pdr\n",
        "import datetime\n"
      ],
      "execution_count": 7,
      "outputs": []
    },
    {
      "cell_type": "markdown",
      "metadata": {
        "id": "C0qXXbxsOAkD"
      },
      "source": [
        "##Tab Autocomplete\n",
        "\n",
        "Pressing tab will give you a list of IPython's best guesses for what you might want to type next. This is incredibly valuable and will save you a lot of time. If there is only one possible option for what you could type next, IPython will fill that in for you. Try pressing tab very frequently, it will seldom fill in anything you don't want, as if there is ambiguity a list will be shown. This is a great way to see what functions are available in a library.\n",
        "\n",
        "Try placing your cursor after the `.` and pressing tab."
      ]
    },
    {
      "cell_type": "code",
      "metadata": {
        "id": "GwDC-OEeOAkD"
      },
      "source": [
        "# np.random.\r\n",
        "# np.cfloat.base."
      ],
      "execution_count": 8,
      "outputs": []
    },
    {
      "cell_type": "markdown",
      "metadata": {
        "id": "jTiOb9N7OAkD"
      },
      "source": [
        "##Getting Documentation Help\n",
        "\n",
        "Placing a question mark after a function and executing that line of code will give you the documentation IPython has for that function. It's often best to do this in a new cell, as you avoid re-executing other code and running into bugs."
      ]
    },
    {
      "cell_type": "code",
      "metadata": {
        "collapsed": true,
        "id": "Y8dt1ov9OAkD"
      },
      "source": [
        "# np.random.normal?\r\n",
        "\r\n",
        "np.random.beta?"
      ],
      "execution_count": 9,
      "outputs": []
    },
    {
      "cell_type": "markdown",
      "metadata": {
        "id": "3OwbeX73OAkE"
      },
      "source": [
        "##Sampling\n",
        "\n",
        "We'll sample some random data using a function from `numpy`."
      ]
    },
    {
      "cell_type": "code",
      "metadata": {
        "id": "Z8N7xe8bOAkE"
      },
      "source": [
        "# Sample 100 points with a mean of 0 and an std of 1. This is a standard normal distribution.\n",
        "X = np.random.normal(0, 1, 100)\n",
        "ej = np.random.normal(0,1,100)"
      ],
      "execution_count": 10,
      "outputs": []
    },
    {
      "cell_type": "markdown",
      "metadata": {
        "id": "bzKzl7qvOAkE"
      },
      "source": [
        "##Plotting\n",
        "\n",
        "We can use the plotting library we imported as follows."
      ]
    },
    {
      "cell_type": "code",
      "metadata": {
        "colab": {
          "base_uri": "https://localhost:8080/",
          "height": 286
        },
        "id": "xIhjobcVOAkE",
        "outputId": "87dc956d-06ff-4de1-b844-be97eaea4f64"
      },
      "source": [
        "plt.plot(X)"
      ],
      "execution_count": 11,
      "outputs": [
        {
          "output_type": "execute_result",
          "data": {
            "text/plain": [
              "[<matplotlib.lines.Line2D at 0x7faf8c9e8510>]"
            ]
          },
          "metadata": {
            "tags": []
          },
          "execution_count": 11
        },
        {
          "output_type": "display_data",
          "data": {
            "image/png": "[encoded data removed]",
            "text/plain": [
              "<Figure size 432x288 with 1 Axes>"
            ]
          },
          "metadata": {
            "tags": [],
            "needs_background": "light"
          }
        }
      ]
    },
    {
      "cell_type": "code",
      "metadata": {
        "colab": {
          "base_uri": "https://localhost:8080/",
          "height": 286
        },
        "id": "qUtopeaeSrqW",
        "outputId": "baa862fa-a157-444c-c9d3-cdda4cdd86a0"
      },
      "source": [
        "plt.plot(ej)"
      ],
      "execution_count": 12,
      "outputs": [
        {
          "output_type": "execute_result",
          "data": {
            "text/plain": [
              "[<matplotlib.lines.Line2D at 0x7faf8a985f90>]"
            ]
          },
          "metadata": {
            "tags": []
          },
          "execution_count": 12
        },
        {
          "output_type": "display_data",
          "data": {
            "image/png": "[encoded data removed]",
            "text/plain": [
              "<Figure size 432x288 with 1 Axes>"
            ]
          },
          "metadata": {
            "tags": [],
            "needs_background": "light"
          }
        }
      ]
    },
    {
      "cell_type": "markdown",
      "metadata": {
        "id": "W0bd_g0eOAkE"
      },
      "source": [
        "###Squelching Line Output\n",
        "\n",
        "You might have noticed the annoying line of the form `[<matplotlib.lines.Line2D at 0x7f72fdbc1710>]` before the plots. This is because the `.plot` function actually produces output. Sometimes we wish not to display output, we can accomplish this with the semi-colon as follows."
      ]
    },
    {
      "cell_type": "code",
      "metadata": {
        "colab": {
          "base_uri": "https://localhost:8080/",
          "height": 269
        },
        "id": "3CdzvvcpOAkF",
        "outputId": "0ae71378-3688-4ae2-c54d-665cd2c9f540"
      },
      "source": [
        "plt.plot(X);"
      ],
      "execution_count": 13,
      "outputs": [
        {
          "output_type": "display_data",
          "data": {
            "image/png": "[encoded data removed]",
            "text/plain": [
              "<Figure size 432x288 with 1 Axes>"
            ]
          },
          "metadata": {
            "tags": [],
            "needs_background": "light"
          }
        }
      ]
    },
    {
      "cell_type": "markdown",
      "metadata": {
        "id": "JRfSLfqlOAkF"
      },
      "source": [
        "###Adding Axis Labels\n",
        "\n",
        "No self-respecting quant leaves a graph without labeled axes. Here are some commands to help with that."
      ]
    },
    {
      "cell_type": "code",
      "metadata": {
        "colab": {
          "base_uri": "https://localhost:8080/",
          "height": 283
        },
        "id": "DpgwtI9YOAkF",
        "outputId": "f6159274-5edd-4df7-c7a7-c4e384cf93d2"
      },
      "source": [
        "X = np.random.normal(0, 1, 100)\n",
        "X2 = np.random.normal(0, 1, 100)\n",
        "\n",
        "plt.plot(X);\n",
        "plt.plot(X2);\n",
        "plt.xlabel('Time') # The data we generated is unitless, but don't forget units in general.\n",
        "plt.ylabel('Returns')\n",
        "plt.legend(['X', 'X2']);"
      ],
      "execution_count": 14,
      "outputs": [
        {
          "output_type": "display_data",
          "data": {
            "image/png": "[encoded data removed]",
            "text/plain": [
              "<Figure size 432x288 with 1 Axes>"
            ]
          },
          "metadata": {
            "tags": [],
            "needs_background": "light"
          }
        }
      ]
    },
    {
      "cell_type": "code",
      "metadata": {
        "colab": {
          "base_uri": "https://localhost:8080/",
          "height": 283
        },
        "id": "Y2AO9-_PS_xP",
        "outputId": "10a45e40-20fa-4e36-c896-93056903d7f8"
      },
      "source": [
        "# ej = np.random.poisson?\r\n",
        "ej = np.random.poisson(.5,100)\r\n",
        "ej2 = np.random.normal(0, 1, 100)\r\n",
        "\r\n",
        "plt.plot(ej);\r\n",
        "plt.plot(ej2);\r\n",
        "plt.xlabel('Tiempo') # The data we generated is unitless, but don't forget units in general.\r\n",
        "plt.ylabel('Numeros aleatoreos')\r\n",
        "plt.legend(['ej', 'ej2']);"
      ],
      "execution_count": 15,
      "outputs": [
        {
          "output_type": "display_data",
          "data": {
            "image/png": "[encoded data removed]",
            "text/plain": [
              "<Figure size 432x288 with 1 Axes>"
            ]
          },
          "metadata": {
            "tags": [],
            "needs_background": "light"
          }
        }
      ]
    },
    {
      "cell_type": "markdown",
      "metadata": {
        "id": "8YJ1fTnPOAkF"
      },
      "source": [
        "##Generating Statistics\n",
        "\n",
        "Let's use `numpy` to take some simple statistics."
      ]
    },
    {
      "cell_type": "code",
      "metadata": {
        "colab": {
          "base_uri": "https://localhost:8080/"
        },
        "id": "556Oj5w8OAkF",
        "outputId": "b98f1549-3cb3-4783-e35d-1762986de11b"
      },
      "source": [
        "np.mean(X)\r\n",
        "np.mean(ej)"
      ],
      "execution_count": 16,
      "outputs": [
        {
          "output_type": "execute_result",
          "data": {
            "text/plain": [
              "0.57"
            ]
          },
          "metadata": {
            "tags": []
          },
          "execution_count": 16
        }
      ]
    },
    {
      "cell_type": "code",
      "metadata": {
        "colab": {
          "base_uri": "https://localhost:8080/"
        },
        "id": "wdb6i99NOAkG",
        "outputId": "b175d7fe-264e-4550-8a8d-dc16e8b51cf5"
      },
      "source": [
        "np.std(X)\r\n",
        "np.std(ej2)"
      ],
      "execution_count": 17,
      "outputs": [
        {
          "output_type": "execute_result",
          "data": {
            "text/plain": [
              "1.0471646843494935"
            ]
          },
          "metadata": {
            "tags": []
          },
          "execution_count": 17
        }
      ]
    },
    {
      "cell_type": "markdown",
      "metadata": {
        "id": "zO6TtDr8OAkG"
      },
      "source": [
        "##Getting Real Pricing Data\n",
        "\n",
        "Randomly sampled data can be great for testing ideas, but let's get some real data. We can use `get_pricing` to do that. You can use the `?` syntax as discussed above to get more information on `get_pricing`'s arguments."
      ]
    },
    {
      "cell_type": "code",
      "metadata": {
        "colab": {
          "base_uri": "https://localhost:8080/"
        },
        "id": "65YKCdMZr5kR",
        "outputId": "0a6eaa20-70e9-417a-e695-2c079adc6fe4"
      },
      "source": [
        "from google.colab import drive\n",
        "drive.mount('/content/drive')"
      ],
      "execution_count": 18,
      "outputs": [
        {
          "output_type": "stream",
          "text": [
            "Drive already mounted at /content/drive; to attempt to forcibly remount, call drive.mount(\"/content/drive\", force_remount=True).\n"
          ],
          "name": "stdout"
        }
      ]
    },
    {
      "cell_type": "code",
      "metadata": {
        "id": "yaJGHIeSOAkG"
      },
      "source": [
        "# data = get_pricing('MSFT', start_date='2012-1-1', end_date='2015-6-1')\r\n",
        "# data = get_price?\r\n",
        "# Object `get_pricing` not found.// este es el comentario que me sale\r\n",
        "# get_pricing?// lo que aparece es que era para quantopian pero cerro y se unio a robinhood\r\n",
        "# data = get_pricing('MSFT', start_date='2012-1-1', end_date='2015-6-1')\r\n",
        "\r\n",
        "# data = pd.read_csv(\"prices.cvs\")\r\n",
        "# data = pd.read_csv(\"AAPL.csv\")\r\n",
        "# data = pd.read_csv(\"/content/drive/MyDrive/SemestreVIII/a\")\r\n",
        "#el metodo anterior funciona sin mebargo el archivo no queda gaurdado pues es una maquina virtual\r\n",
        "# lo que hacemos es usar una libreria que nos extrae directamente la informacion desde yahoo finance\r\n",
        "data = pdr.get_data_yahoo('AAPL',start=datetime.datetime(2019,10,1),end=datetime.datetime(2021,2,1))"
      ],
      "execution_count": 19,
      "outputs": []
    },
    {
      "cell_type": "code",
      "metadata": {
        "id": "YLWacKrxq1TY"
      },
      "source": [
        "# print(data2)"
      ],
      "execution_count": 20,
      "outputs": []
    },
    {
      "cell_type": "markdown",
      "metadata": {
        "id": "OdKW47rXOAkG"
      },
      "source": [
        "Our data is now a dataframe. You can see the datetime index and the colums with different pricing data."
      ]
    },
    {
      "cell_type": "code",
      "metadata": {
        "colab": {
          "base_uri": "https://localhost:8080/",
          "height": 1000
        },
        "id": "0XY-vQIFOAkG",
        "outputId": "49fa42fc-f65a-4247-8af3-72573d5f9134"
      },
      "source": [
        "data"
      ],
      "execution_count": 21,
      "outputs": [
        {
          "output_type": "execute_result",
          "data": {
            "text/plain": [
              "                  High         Low        Open       Close       Volume  \\\n",
              "Date                                                                      \n",
              "2019-10-01   57.055000   56.049999   56.267502   56.147499  139223200.0   \n",
              "2019-10-02   55.895000   54.482498   55.764999   54.740002  138449200.0   \n",
              "2019-10-03   55.240002   53.782501   54.607498   55.205002  114426000.0   \n",
              "2019-10-04   56.872501   55.972500   56.410000   56.752499  138478800.0   \n",
              "2019-10-07   57.482498   56.459999   56.567501   56.764999  122306000.0   \n",
              "2019-10-08   57.014999   56.082500   56.455002   56.099998  111820000.0   \n",
              "2019-10-09   56.947498   56.410000   56.757500   56.757500   74770400.0   \n",
              "2019-10-10   57.610001   56.825001   56.982498   57.522499  113013600.0   \n",
              "2019-10-11   59.410000   58.077499   58.237499   59.052502  166795600.0   \n",
              "2019-10-14   59.532501   58.667500   58.724998   58.967499   96427600.0   \n",
              "2019-10-15   59.412498   58.720001   59.097500   58.830002   87360000.0   \n",
              "2019-10-16   58.810001   58.299999   58.342499   58.592499   73903200.0   \n",
              "2019-10-17   59.037498   58.380001   58.772499   58.820000   67585200.0   \n",
              "2019-10-18   59.395000   58.572498   58.647499   59.102501   97433600.0   \n",
              "2019-10-21   60.247501   59.330002   59.380001   60.127499   87247200.0   \n",
              "2019-10-22   60.549999   59.904999   60.290001   59.990002   82293600.0   \n",
              "2019-10-23   60.810001   60.305000   60.525002   60.794998   75828800.0   \n",
              "2019-10-24   61.200001   60.452499   61.127499   60.895000   69275200.0   \n",
              "2019-10-25   61.682499   60.720001   60.790001   61.645000   73477200.0   \n",
              "2019-10-28   62.312500   61.680000   61.855000   62.262501   96572800.0   \n",
              "2019-10-29   62.437500   60.642502   62.242500   60.822498  142839600.0   \n",
              "2019-10-30   61.325001   60.302502   61.189999   60.814999  124522000.0   \n",
              "2019-10-31   62.292500   59.314999   61.810001   62.189999  139162000.0   \n",
              "2019-11-01   63.982498   62.290001   62.384998   63.955002  151125200.0   \n",
              "2019-11-04   64.462502   63.845001   64.332497   64.375000  103272000.0   \n",
              "2019-11-05   64.547501   64.080002   64.262497   64.282501   79897600.0   \n",
              "2019-11-06   64.372498   63.842499   64.192497   64.309998   75864400.0   \n",
              "2019-11-07   65.087502   64.527496   64.684998   64.857498   94940400.0   \n",
              "2019-11-08   65.110001   64.212502   64.672501   65.035004   69986400.0   \n",
              "2019-11-11   65.617500   64.570000   64.574997   65.550003   81821200.0   \n",
              "...                ...         ...         ...         ...          ...   \n",
              "2020-12-17  129.580002  128.039993  128.899994  128.699997   94359800.0   \n",
              "2020-12-18  129.100006  126.120003  128.960007  126.660004  192541500.0   \n",
              "2020-12-21  128.309998  123.449997  125.019997  128.229996  121251600.0   \n",
              "2020-12-22  134.410004  129.649994  131.610001  131.880005  168904800.0   \n",
              "2020-12-23  132.429993  130.779999  132.160004  130.960007   88223700.0   \n",
              "2020-12-24  133.460007  131.100006  131.320007  131.970001   54930100.0   \n",
              "2020-12-28  137.339996  133.509995  133.990005  136.690002  124486200.0   \n",
              "2020-12-29  138.789993  134.339996  138.050003  134.869995  121047300.0   \n",
              "2020-12-30  135.990005  133.399994  135.580002  133.720001   96452100.0   \n",
              "2020-12-31  134.740005  131.720001  134.080002  132.690002   99116600.0   \n",
              "2021-01-04  133.610001  126.760002  133.520004  129.410004  143301900.0   \n",
              "2021-01-05  131.740005  128.429993  128.889999  131.009995   97664900.0   \n",
              "2021-01-06  131.050003  126.379997  127.720001  126.599998  155088000.0   \n",
              "2021-01-07  131.630005  127.860001  128.360001  130.919998  109578200.0   \n",
              "2021-01-08  132.630005  130.229996  132.429993  132.050003  105158200.0   \n",
              "2021-01-11  130.169998  128.500000  129.190002  128.979996  100620900.0   \n",
              "2021-01-12  129.690002  126.860001  128.500000  128.800003   91951100.0   \n",
              "2021-01-13  131.449997  128.490005  128.759995  130.889999   88636800.0   \n",
              "2021-01-14  131.000000  128.759995  130.800003  128.910004   90221800.0   \n",
              "2021-01-15  130.220001  127.000000  128.779999  127.139999  111598500.0   \n",
              "2021-01-19  128.710007  126.940002  127.779999  127.830002   90757300.0   \n",
              "2021-01-20  132.490005  128.550003  128.660004  132.029999  104319500.0   \n",
              "2021-01-21  139.669998  133.589996  133.800003  136.869995  120529500.0   \n",
              "2021-01-22  139.850006  135.020004  136.279999  139.070007  114459400.0   \n",
              "2021-01-25  145.089996  136.539993  143.070007  142.919998  157611700.0   \n",
              "2021-01-26  144.300003  141.369995  143.600006  143.160004   98390600.0   \n",
              "2021-01-27  144.300003  140.410004  143.429993  142.059998  140843800.0   \n",
              "2021-01-28  141.990005  136.699997  139.520004  137.089996  142621100.0   \n",
              "2021-01-29  136.740005  130.210007  135.830002  131.960007  177180600.0   \n",
              "2021-02-01  135.380005  130.929993  133.750000  134.139999  106239800.0   \n",
              "\n",
              "             Adj Close  \n",
              "Date                    \n",
              "2019-10-01   55.417320  \n",
              "2019-10-02   54.028126  \n",
              "2019-10-03   54.487080  \n",
              "2019-10-04   56.014454  \n",
              "2019-10-07   56.026794  \n",
              "2019-10-08   55.370438  \n",
              "2019-10-09   56.019390  \n",
              "2019-10-10   56.774445  \n",
              "2019-10-11   58.284546  \n",
              "2019-10-14   58.200645  \n",
              "2019-10-15   58.064941  \n",
              "2019-10-16   57.830528  \n",
              "2019-10-17   58.055065  \n",
              "2019-10-18   58.333900  \n",
              "2019-10-21   59.345562  \n",
              "2019-10-22   59.209858  \n",
              "2019-10-23   60.004383  \n",
              "2019-10-24   60.103081  \n",
              "2019-10-25   60.843334  \n",
              "2019-10-28   61.452797  \n",
              "2019-10-29   60.031528  \n",
              "2019-10-30   60.024124  \n",
              "2019-10-31   61.381241  \n",
              "2019-11-01   63.123295  \n",
              "2019-11-04   63.537827  \n",
              "2019-11-05   63.446533  \n",
              "2019-11-06   63.473675  \n",
              "2019-11-07   64.206245  \n",
              "2019-11-08   64.381958  \n",
              "2019-11-11   64.891792  \n",
              "...                ...  \n",
              "2020-12-17  128.507965  \n",
              "2020-12-18  126.471016  \n",
              "2020-12-21  128.038666  \n",
              "2020-12-22  131.683228  \n",
              "2020-12-23  130.764603  \n",
              "2020-12-24  131.773087  \n",
              "2020-12-28  136.486053  \n",
              "2020-12-29  134.668762  \n",
              "2020-12-30  133.520477  \n",
              "2020-12-31  132.492020  \n",
              "2021-01-04  129.216919  \n",
              "2021-01-05  130.814514  \n",
              "2021-01-06  126.411102  \n",
              "2021-01-07  130.724655  \n",
              "2021-01-08  131.852966  \n",
              "2021-01-11  128.787552  \n",
              "2021-01-12  128.607819  \n",
              "2021-01-13  130.694702  \n",
              "2021-01-14  128.717667  \n",
              "2021-01-15  126.950294  \n",
              "2021-01-19  127.639267  \n",
              "2021-01-20  131.832993  \n",
              "2021-01-21  136.665771  \n",
              "2021-01-22  138.862503  \n",
              "2021-01-25  142.706757  \n",
              "2021-01-26  142.946396  \n",
              "2021-01-27  141.848038  \n",
              "2021-01-28  136.885452  \n",
              "2021-01-29  131.763107  \n",
              "2021-02-01  133.939850  \n",
              "\n",
              "[337 rows x 6 columns]"
            ],
            "text/html": [
              "<div>\n",
              "<style scoped>\n",
              "    .dataframe tbody tr th:only-of-type {\n",
              "        vertical-align: middle;\n",
              "    }\n",
              "\n",
              "    .dataframe tbody tr th {\n",
              "        vertical-align: top;\n",
              "    }\n",
              "\n",
              "    .dataframe thead th {\n",
              "        text-align: right;\n",
              "    }\n",
              "</style>\n",
              "<table border=\"1\" class=\"dataframe\">\n",
              "  <thead>\n",
              "    <tr style=\"text-align: right;\">\n",
              "      <th></th>\n",
              "      <th>High</th>\n",
              "      <th>Low</th>\n",
              "      <th>Open</th>\n",
              "      <th>Close</th>\n",
              "      <th>Volume</th>\n",
              "      <th>Adj Close</th>\n",
              "    </tr>\n",
              "    <tr>\n",
              "      <th>Date</th>\n",
              "      <th></th>\n",
              "      <th></th>\n",
              "      <th></th>\n",
              "      <th></th>\n",
              "      <th></th>\n",
              "      <th></th>\n",
              "    </tr>\n",
              "  </thead>\n",
              "  <tbody>\n",
              "    <tr>\n",
              "      <th>2019-10-01</th>\n",
              "      <td>57.055000</td>\n",
              "      <td>56.049999</td>\n",
              "      <td>56.267502</td>\n",
              "      <td>56.147499</td>\n",
              "      <td>139223200.0</td>\n",
              "      <td>55.417320</td>\n",
              "    </tr>\n",
              "    <tr>\n",
              "      <th>2019-10-02</th>\n",
              "      <td>55.895000</td>\n",
              "      <td>54.482498</td>\n",
              "      <td>55.764999</td>\n",
              "      <td>54.740002</td>\n",
              "      <td>138449200.0</td>\n",
              "      <td>54.028126</td>\n",
              "    </tr>\n",
              "    <tr>\n",
              "      <th>2019-10-03</th>\n",
              "      <td>55.240002</td>\n",
              "      <td>53.782501</td>\n",
              "      <td>54.607498</td>\n",
              "      <td>55.205002</td>\n",
              "      <td>114426000.0</td>\n",
              "      <td>54.487080</td>\n",
              "    </tr>\n",
              "    <tr>\n",
              "      <th>2019-10-04</th>\n",
              "      <td>56.872501</td>\n",
              "      <td>55.972500</td>\n",
              "      <td>56.410000</td>\n",
              "      <td>56.752499</td>\n",
              "      <td>138478800.0</td>\n",
              "      <td>56.014454</td>\n",
              "    </tr>\n",
              "    <tr>\n",
              "      <th>2019-10-07</th>\n",
              "      <td>57.482498</td>\n",
              "      <td>56.459999</td>\n",
              "      <td>56.567501</td>\n",
              "      <td>56.764999</td>\n",
              "      <td>122306000.0</td>\n",
              "      <td>56.026794</td>\n",
              "    </tr>\n",
              "    <tr>\n",
              "      <th>2019-10-08</th>\n",
              "      <td>57.014999</td>\n",
              "      <td>56.082500</td>\n",
              "      <td>56.455002</td>\n",
              "      <td>56.099998</td>\n",
              "      <td>111820000.0</td>\n",
              "      <td>55.370438</td>\n",
              "    </tr>\n",
              "    <tr>\n",
              "      <th>2019-10-09</th>\n",
              "      <td>56.947498</td>\n",
              "      <td>56.410000</td>\n",
              "      <td>56.757500</td>\n",
              "      <td>56.757500</td>\n",
              "      <td>74770400.0</td>\n",
              "      <td>56.019390</td>\n",
              "    </tr>\n",
              "    <tr>\n",
              "      <th>2019-10-10</th>\n",
              "      <td>57.610001</td>\n",
              "      <td>56.825001</td>\n",
              "      <td>56.982498</td>\n",
              "      <td>57.522499</td>\n",
              "      <td>113013600.0</td>\n",
              "      <td>56.774445</td>\n",
              "    </tr>\n",
              "    <tr>\n",
              "      <th>2019-10-11</th>\n",
              "      <td>59.410000</td>\n",
              "      <td>58.077499</td>\n",
              "      <td>58.237499</td>\n",
              "      <td>59.052502</td>\n",
              "      <td>166795600.0</td>\n",
              "      <td>58.284546</td>\n",
              "    </tr>\n",
              "    <tr>\n",
              "      <th>2019-10-14</th>\n",
              "      <td>59.532501</td>\n",
              "      <td>58.667500</td>\n",
              "      <td>58.724998</td>\n",
              "      <td>58.967499</td>\n",
              "      <td>96427600.0</td>\n",
              "      <td>58.200645</td>\n",
              "    </tr>\n",
              "    <tr>\n",
              "      <th>2019-10-15</th>\n",
              "      <td>59.412498</td>\n",
              "      <td>58.720001</td>\n",
              "      <td>59.097500</td>\n",
              "      <td>58.830002</td>\n",
              "      <td>87360000.0</td>\n",
              "      <td>58.064941</td>\n",
              "    </tr>\n",
              "    <tr>\n",
              "      <th>2019-10-16</th>\n",
              "      <td>58.810001</td>\n",
              "      <td>58.299999</td>\n",
              "      <td>58.342499</td>\n",
              "      <td>58.592499</td>\n",
              "      <td>73903200.0</td>\n",
              "      <td>57.830528</td>\n",
              "    </tr>\n",
              "    <tr>\n",
              "      <th>2019-10-17</th>\n",
              "      <td>59.037498</td>\n",
              "      <td>58.380001</td>\n",
              "      <td>58.772499</td>\n",
              "      <td>58.820000</td>\n",
              "      <td>67585200.0</td>\n",
              "      <td>58.055065</td>\n",
              "    </tr>\n",
              "    <tr>\n",
              "      <th>2019-10-18</th>\n",
              "      <td>59.395000</td>\n",
              "      <td>58.572498</td>\n",
              "      <td>58.647499</td>\n",
              "      <td>59.102501</td>\n",
              "      <td>97433600.0</td>\n",
              "      <td>58.333900</td>\n",
              "    </tr>\n",
              "    <tr>\n",
              "      <th>2019-10-21</th>\n",
              "      <td>60.247501</td>\n",
              "      <td>59.330002</td>\n",
              "      <td>59.380001</td>\n",
              "      <td>60.127499</td>\n",
              "      <td>87247200.0</td>\n",
              "      <td>59.345562</td>\n",
              "    </tr>\n",
              "    <tr>\n",
              "      <th>2019-10-22</th>\n",
              "      <td>60.549999</td>\n",
              "      <td>59.904999</td>\n",
              "      <td>60.290001</td>\n",
              "      <td>59.990002</td>\n",
              "      <td>82293600.0</td>\n",
              "      <td>59.209858</td>\n",
              "    </tr>\n",
              "    <tr>\n",
              "      <th>2019-10-23</th>\n",
              "      <td>60.810001</td>\n",
              "      <td>60.305000</td>\n",
              "      <td>60.525002</td>\n",
              "      <td>60.794998</td>\n",
              "      <td>75828800.0</td>\n",
              "      <td>60.004383</td>\n",
              "    </tr>\n",
              "    <tr>\n",
              "      <th>2019-10-24</th>\n",
              "      <td>61.200001</td>\n",
              "      <td>60.452499</td>\n",
              "      <td>61.127499</td>\n",
              "      <td>60.895000</td>\n",
              "      <td>69275200.0</td>\n",
              "      <td>60.103081</td>\n",
              "    </tr>\n",
              "    <tr>\n",
              "      <th>2019-10-25</th>\n",
              "      <td>61.682499</td>\n",
              "      <td>60.720001</td>\n",
              "      <td>60.790001</td>\n",
              "      <td>61.645000</td>\n",
              "      <td>73477200.0</td>\n",
              "      <td>60.843334</td>\n",
              "    </tr>\n",
              "    <tr>\n",
              "      <th>2019-10-28</th>\n",
              "      <td>62.312500</td>\n",
              "      <td>61.680000</td>\n",
              "      <td>61.855000</td>\n",
              "      <td>62.262501</td>\n",
              "      <td>96572800.0</td>\n",
              "      <td>61.452797</td>\n",
              "    </tr>\n",
              "    <tr>\n",
              "      <th>2019-10-29</th>\n",
              "      <td>62.437500</td>\n",
              "      <td>60.642502</td>\n",
              "      <td>62.242500</td>\n",
              "      <td>60.822498</td>\n",
              "      <td>142839600.0</td>\n",
              "      <td>60.031528</td>\n",
              "    </tr>\n",
              "    <tr>\n",
              "      <th>2019-10-30</th>\n",
              "      <td>61.325001</td>\n",
              "      <td>60.302502</td>\n",
              "      <td>61.189999</td>\n",
              "      <td>60.814999</td>\n",
              "      <td>124522000.0</td>\n",
              "      <td>60.024124</td>\n",
              "    </tr>\n",
              "    <tr>\n",
              "      <th>2019-10-31</th>\n",
              "      <td>62.292500</td>\n",
              "      <td>59.314999</td>\n",
              "      <td>61.810001</td>\n",
              "      <td>62.189999</td>\n",
              "      <td>139162000.0</td>\n",
              "      <td>61.381241</td>\n",
              "    </tr>\n",
              "    <tr>\n",
              "      <th>2019-11-01</th>\n",
              "      <td>63.982498</td>\n",
              "      <td>62.290001</td>\n",
              "      <td>62.384998</td>\n",
              "      <td>63.955002</td>\n",
              "      <td>151125200.0</td>\n",
              "      <td>63.123295</td>\n",
              "    </tr>\n",
              "    <tr>\n",
              "      <th>2019-11-04</th>\n",
              "      <td>64.462502</td>\n",
              "      <td>63.845001</td>\n",
              "      <td>64.332497</td>\n",
              "      <td>64.375000</td>\n",
              "      <td>103272000.0</td>\n",
              "      <td>63.537827</td>\n",
              "    </tr>\n",
              "    <tr>\n",
              "      <th>2019-11-05</th>\n",
              "      <td>64.547501</td>\n",
              "      <td>64.080002</td>\n",
              "      <td>64.262497</td>\n",
              "      <td>64.282501</td>\n",
              "      <td>79897600.0</td>\n",
              "      <td>63.446533</td>\n",
              "    </tr>\n",
              "    <tr>\n",
              "      <th>2019-11-06</th>\n",
              "      <td>64.372498</td>\n",
              "      <td>63.842499</td>\n",
              "      <td>64.192497</td>\n",
              "      <td>64.309998</td>\n",
              "      <td>75864400.0</td>\n",
              "      <td>63.473675</td>\n",
              "    </tr>\n",
              "    <tr>\n",
              "      <th>2019-11-07</th>\n",
              "      <td>65.087502</td>\n",
              "      <td>64.527496</td>\n",
              "      <td>64.684998</td>\n",
              "      <td>64.857498</td>\n",
              "      <td>94940400.0</td>\n",
              "      <td>64.206245</td>\n",
              "    </tr>\n",
              "    <tr>\n",
              "      <th>2019-11-08</th>\n",
              "      <td>65.110001</td>\n",
              "      <td>64.212502</td>\n",
              "      <td>64.672501</td>\n",
              "      <td>65.035004</td>\n",
              "      <td>69986400.0</td>\n",
              "      <td>64.381958</td>\n",
              "    </tr>\n",
              "    <tr>\n",
              "      <th>2019-11-11</th>\n",
              "      <td>65.617500</td>\n",
              "      <td>64.570000</td>\n",
              "      <td>64.574997</td>\n",
              "      <td>65.550003</td>\n",
              "      <td>81821200.0</td>\n",
              "      <td>64.891792</td>\n",
              "    </tr>\n",
              "    <tr>\n",
              "      <th>...</th>\n",
              "      <td>...</td>\n",
              "      <td>...</td>\n",
              "      <td>...</td>\n",
              "      <td>...</td>\n",
              "      <td>...</td>\n",
              "      <td>...</td>\n",
              "    </tr>\n",
              "    <tr>\n",
              "      <th>2020-12-17</th>\n",
              "      <td>129.580002</td>\n",
              "      <td>128.039993</td>\n",
              "      <td>128.899994</td>\n",
              "      <td>128.699997</td>\n",
              "      <td>94359800.0</td>\n",
              "      <td>128.507965</td>\n",
              "    </tr>\n",
              "    <tr>\n",
              "      <th>2020-12-18</th>\n",
              "      <td>129.100006</td>\n",
              "      <td>126.120003</td>\n",
              "      <td>128.960007</td>\n",
              "      <td>126.660004</td>\n",
              "      <td>192541500.0</td>\n",
              "      <td>126.471016</td>\n",
              "    </tr>\n",
              "    <tr>\n",
              "      <th>2020-12-21</th>\n",
              "      <td>128.309998</td>\n",
              "      <td>123.449997</td>\n",
              "      <td>125.019997</td>\n",
              "      <td>128.229996</td>\n",
              "      <td>121251600.0</td>\n",
              "      <td>128.038666</td>\n",
              "    </tr>\n",
              "    <tr>\n",
              "      <th>2020-12-22</th>\n",
              "      <td>134.410004</td>\n",
              "      <td>129.649994</td>\n",
              "      <td>131.610001</td>\n",
              "      <td>131.880005</td>\n",
              "      <td>168904800.0</td>\n",
              "      <td>131.683228</td>\n",
              "    </tr>\n",
              "    <tr>\n",
              "      <th>2020-12-23</th>\n",
              "      <td>132.429993</td>\n",
              "      <td>130.779999</td>\n",
              "      <td>132.160004</td>\n",
              "      <td>130.960007</td>\n",
              "      <td>88223700.0</td>\n",
              "      <td>130.764603</td>\n",
              "    </tr>\n",
              "    <tr>\n",
              "      <th>2020-12-24</th>\n",
              "      <td>133.460007</td>\n",
              "      <td>131.100006</td>\n",
              "      <td>131.320007</td>\n",
              "      <td>131.970001</td>\n",
              "      <td>54930100.0</td>\n",
              "      <td>131.773087</td>\n",
              "    </tr>\n",
              "    <tr>\n",
              "      <th>2020-12-28</th>\n",
              "      <td>137.339996</td>\n",
              "      <td>133.509995</td>\n",
              "      <td>133.990005</td>\n",
              "      <td>136.690002</td>\n",
              "      <td>124486200.0</td>\n",
              "      <td>136.486053</td>\n",
              "    </tr>\n",
              "    <tr>\n",
              "      <th>2020-12-29</th>\n",
              "      <td>138.789993</td>\n",
              "      <td>134.339996</td>\n",
              "      <td>138.050003</td>\n",
              "      <td>134.869995</td>\n",
              "      <td>121047300.0</td>\n",
              "      <td>134.668762</td>\n",
              "    </tr>\n",
              "    <tr>\n",
              "      <th>2020-12-30</th>\n",
              "      <td>135.990005</td>\n",
              "      <td>133.399994</td>\n",
              "      <td>135.580002</td>\n",
              "      <td>133.720001</td>\n",
              "      <td>96452100.0</td>\n",
              "      <td>133.520477</td>\n",
              "    </tr>\n",
              "    <tr>\n",
              "      <th>2020-12-31</th>\n",
              "      <td>134.740005</td>\n",
              "      <td>131.720001</td>\n",
              "      <td>134.080002</td>\n",
              "      <td>132.690002</td>\n",
              "      <td>99116600.0</td>\n",
              "      <td>132.492020</td>\n",
              "    </tr>\n",
              "    <tr>\n",
              "      <th>2021-01-04</th>\n",
              "      <td>133.610001</td>\n",
              "      <td>126.760002</td>\n",
              "      <td>133.520004</td>\n",
              "      <td>129.410004</td>\n",
              "      <td>143301900.0</td>\n",
              "      <td>129.216919</td>\n",
              "    </tr>\n",
              "    <tr>\n",
              "      <th>2021-01-05</th>\n",
              "      <td>131.740005</td>\n",
              "      <td>128.429993</td>\n",
              "      <td>128.889999</td>\n",
              "      <td>131.009995</td>\n",
              "      <td>97664900.0</td>\n",
              "      <td>130.814514</td>\n",
              "    </tr>\n",
              "    <tr>\n",
              "      <th>2021-01-06</th>\n",
              "      <td>131.050003</td>\n",
              "      <td>126.379997</td>\n",
              "      <td>127.720001</td>\n",
              "      <td>126.599998</td>\n",
              "      <td>155088000.0</td>\n",
              "      <td>126.411102</td>\n",
              "    </tr>\n",
              "    <tr>\n",
              "      <th>2021-01-07</th>\n",
              "      <td>131.630005</td>\n",
              "      <td>127.860001</td>\n",
              "      <td>128.360001</td>\n",
              "      <td>130.919998</td>\n",
              "      <td>109578200.0</td>\n",
              "      <td>130.724655</td>\n",
              "    </tr>\n",
              "    <tr>\n",
              "      <th>2021-01-08</th>\n",
              "      <td>132.630005</td>\n",
              "      <td>130.229996</td>\n",
              "      <td>132.429993</td>\n",
              "      <td>132.050003</td>\n",
              "      <td>105158200.0</td>\n",
              "      <td>131.852966</td>\n",
              "    </tr>\n",
              "    <tr>\n",
              "      <th>2021-01-11</th>\n",
              "      <td>130.169998</td>\n",
              "      <td>128.500000</td>\n",
              "      <td>129.190002</td>\n",
              "      <td>128.979996</td>\n",
              "      <td>100620900.0</td>\n",
              "      <td>128.787552</td>\n",
              "    </tr>\n",
              "    <tr>\n",
              "      <th>2021-01-12</th>\n",
              "      <td>129.690002</td>\n",
              "      <td>126.860001</td>\n",
              "      <td>128.500000</td>\n",
              "      <td>128.800003</td>\n",
              "      <td>91951100.0</td>\n",
              "      <td>128.607819</td>\n",
              "    </tr>\n",
              "    <tr>\n",
              "      <th>2021-01-13</th>\n",
              "      <td>131.449997</td>\n",
              "      <td>128.490005</td>\n",
              "      <td>128.759995</td>\n",
              "      <td>130.889999</td>\n",
              "      <td>88636800.0</td>\n",
              "      <td>130.694702</td>\n",
              "    </tr>\n",
              "    <tr>\n",
              "      <th>2021-01-14</th>\n",
              "      <td>131.000000</td>\n",
              "      <td>128.759995</td>\n",
              "      <td>130.800003</td>\n",
              "      <td>128.910004</td>\n",
              "      <td>90221800.0</td>\n",
              "      <td>128.717667</td>\n",
              "    </tr>\n",
              "    <tr>\n",
              "      <th>2021-01-15</th>\n",
              "      <td>130.220001</td>\n",
              "      <td>127.000000</td>\n",
              "      <td>128.779999</td>\n",
              "      <td>127.139999</td>\n",
              "      <td>111598500.0</td>\n",
              "      <td>126.950294</td>\n",
              "    </tr>\n",
              "    <tr>\n",
              "      <th>2021-01-19</th>\n",
              "      <td>128.710007</td>\n",
              "      <td>126.940002</td>\n",
              "      <td>127.779999</td>\n",
              "      <td>127.830002</td>\n",
              "      <td>90757300.0</td>\n",
              "      <td>127.639267</td>\n",
              "    </tr>\n",
              "    <tr>\n",
              "      <th>2021-01-20</th>\n",
              "      <td>132.490005</td>\n",
              "      <td>128.550003</td>\n",
              "      <td>128.660004</td>\n",
              "      <td>132.029999</td>\n",
              "      <td>104319500.0</td>\n",
              "      <td>131.832993</td>\n",
              "    </tr>\n",
              "    <tr>\n",
              "      <th>2021-01-21</th>\n",
              "      <td>139.669998</td>\n",
              "      <td>133.589996</td>\n",
              "      <td>133.800003</td>\n",
              "      <td>136.869995</td>\n",
              "      <td>120529500.0</td>\n",
              "      <td>136.665771</td>\n",
              "    </tr>\n",
              "    <tr>\n",
              "      <th>2021-01-22</th>\n",
              "      <td>139.850006</td>\n",
              "      <td>135.020004</td>\n",
              "      <td>136.279999</td>\n",
              "      <td>139.070007</td>\n",
              "      <td>114459400.0</td>\n",
              "      <td>138.862503</td>\n",
              "    </tr>\n",
              "    <tr>\n",
              "      <th>2021-01-25</th>\n",
              "      <td>145.089996</td>\n",
              "      <td>136.539993</td>\n",
              "      <td>143.070007</td>\n",
              "      <td>142.919998</td>\n",
              "      <td>157611700.0</td>\n",
              "      <td>142.706757</td>\n",
              "    </tr>\n",
              "    <tr>\n",
              "      <th>2021-01-26</th>\n",
              "      <td>144.300003</td>\n",
              "      <td>141.369995</td>\n",
              "      <td>143.600006</td>\n",
              "      <td>143.160004</td>\n",
              "      <td>98390600.0</td>\n",
              "      <td>142.946396</td>\n",
              "    </tr>\n",
              "    <tr>\n",
              "      <th>2021-01-27</th>\n",
              "      <td>144.300003</td>\n",
              "      <td>140.410004</td>\n",
              "      <td>143.429993</td>\n",
              "      <td>142.059998</td>\n",
              "      <td>140843800.0</td>\n",
              "      <td>141.848038</td>\n",
              "    </tr>\n",
              "    <tr>\n",
              "      <th>2021-01-28</th>\n",
              "      <td>141.990005</td>\n",
              "      <td>136.699997</td>\n",
              "      <td>139.520004</td>\n",
              "      <td>137.089996</td>\n",
              "      <td>142621100.0</td>\n",
              "      <td>136.885452</td>\n",
              "    </tr>\n",
              "    <tr>\n",
              "      <th>2021-01-29</th>\n",
              "      <td>136.740005</td>\n",
              "      <td>130.210007</td>\n",
              "      <td>135.830002</td>\n",
              "      <td>131.960007</td>\n",
              "      <td>177180600.0</td>\n",
              "      <td>131.763107</td>\n",
              "    </tr>\n",
              "    <tr>\n",
              "      <th>2021-02-01</th>\n",
              "      <td>135.380005</td>\n",
              "      <td>130.929993</td>\n",
              "      <td>133.750000</td>\n",
              "      <td>134.139999</td>\n",
              "      <td>106239800.0</td>\n",
              "      <td>133.939850</td>\n",
              "    </tr>\n",
              "  </tbody>\n",
              "</table>\n",
              "<p>337 rows × 6 columns</p>\n",
              "</div>"
            ]
          },
          "metadata": {
            "tags": []
          },
          "execution_count": 21
        }
      ]
    },
    {
      "cell_type": "markdown",
      "metadata": {
        "id": "TLePJzITOAkH"
      },
      "source": [
        "This is a pandas dataframe, so we can index in to just get price like this. For more info on pandas, please [click here](http://pandas.pydata.org/pandas-docs/stable/10min.html)."
      ]
    },
    {
      "cell_type": "code",
      "metadata": {
        "id": "vSm5szEcOAkH"
      },
      "source": [
        "# X = data['price']\r\n",
        "Q = data['High']"
      ],
      "execution_count": 22,
      "outputs": []
    },
    {
      "cell_type": "markdown",
      "metadata": {
        "id": "_YpuSsguOAkH"
      },
      "source": [
        "Because there is now also date information in our data, we provide two series to `.plot`. `X.index` gives us the datetime index, and `X.values` gives us the pricing values. These are used as the X and Y coordinates to make a graph."
      ]
    },
    {
      "cell_type": "code",
      "metadata": {
        "colab": {
          "base_uri": "https://localhost:8080/",
          "height": 391
        },
        "id": "YMcgvdIyOAkH",
        "outputId": "fb8ef0ae-fe49-4eaf-8b79-39620b190e9e"
      },
      "source": [
        "plt.plot(Q.index, Q.values)\n",
        "plt.ylabel('Price')\n",
        "plt.legend(['AAPL']);"
      ],
      "execution_count": 23,
      "outputs": [
        {
          "output_type": "stream",
          "text": [
            "/usr/local/lib/python2.7/dist-packages/pandas/plotting/_converter.py:129: FutureWarning: Using an implicitly registered datetime converter for a matplotlib plotting method. The converter was registered by pandas on import. Future versions of pandas will require you to explicitly register matplotlib converters.\n",
            "\n",
            "To register the converters:\n",
            "\t>>> from pandas.plotting import register_matplotlib_converters\n",
            "\t>>> register_matplotlib_converters()\n",
            "  warnings.warn(msg, FutureWarning)\n"
          ],
          "name": "stderr"
        },
        {
          "output_type": "display_data",
          "data": {
            "image/png": "[encoded data removed]",
            "text/plain": [
              "<Figure size 432x288 with 1 Axes>"
            ]
          },
          "metadata": {
            "tags": [],
            "needs_background": "light"
          }
        }
      ]
    },
    {
      "cell_type": "markdown",
      "metadata": {
        "id": "tztIpdoUOAkH"
      },
      "source": [
        "We can get statistics again on real data."
      ]
    },
    {
      "cell_type": "code",
      "metadata": {
        "colab": {
          "base_uri": "https://localhost:8080/"
        },
        "id": "uW03AC06OAkI",
        "outputId": "9fec8ef0-3016-4513-f170-5ae74f9c0105"
      },
      "source": [
        "# np.mean(X)\r\n",
        "np.mean(Q)"
      ],
      "execution_count": 24,
      "outputs": [
        {
          "output_type": "execute_result",
          "data": {
            "text/plain": [
              "92.86619451279456"
            ]
          },
          "metadata": {
            "tags": []
          },
          "execution_count": 24
        }
      ]
    },
    {
      "cell_type": "code",
      "metadata": {
        "colab": {
          "base_uri": "https://localhost:8080/"
        },
        "id": "xqNuTZvVOAkI",
        "outputId": "9305203d-61c0-4c48-e572-342d9b7600fb"
      },
      "source": [
        "# np.std(X)\r\n",
        "np.std(Q)"
      ],
      "execution_count": 25,
      "outputs": [
        {
          "output_type": "execute_result",
          "data": {
            "text/plain": [
              "25.270463437185573"
            ]
          },
          "metadata": {
            "tags": []
          },
          "execution_count": 25
        }
      ]
    },
    {
      "cell_type": "markdown",
      "metadata": {
        "id": "B69-xdvoOAkI"
      },
      "source": [
        "##Getting Returns from Prices\n",
        "\n",
        "We can use the `pct_change` function to get returns. Notice how we drop the first element after doing this, as it will be `NaN` (nothing -> something results in a NaN percent change)."
      ]
    },
    {
      "cell_type": "code",
      "metadata": {
        "id": "s8In3beWOAkI"
      },
      "source": [
        "# R = X.pct_change()[1:]\r\n",
        "R = Q.pct_change()[1:]"
      ],
      "execution_count": 26,
      "outputs": []
    },
    {
      "cell_type": "markdown",
      "metadata": {
        "id": "fqlf26BNOAkI"
      },
      "source": [
        "We can plot the returns distribution as a histogram."
      ]
    },
    {
      "cell_type": "code",
      "metadata": {
        "colab": {
          "base_uri": "https://localhost:8080/",
          "height": 283
        },
        "id": "tRq23Ne9OAkI",
        "outputId": "a41b225d-8120-4ab6-ab7e-69c51ee43211"
      },
      "source": [
        "plt.hist(R, bins=20)\n",
        "plt.xlabel('Return')\n",
        "plt.ylabel('Frequency')\n",
        "plt.legend(['MSFT Returns']);"
      ],
      "execution_count": 27,
      "outputs": [
        {
          "output_type": "display_data",
          "data": {
            "image/png": "[encoded data removed]",
            "text/plain": [
              "<Figure size 432x288 with 1 Axes>"
            ]
          },
          "metadata": {
            "tags": [],
            "needs_background": "light"
          }
        }
      ]
    },
    {
      "cell_type": "markdown",
      "metadata": {
        "id": "cMst1SAZOAkJ"
      },
      "source": [
        "Get statistics again."
      ]
    },
    {
      "cell_type": "code",
      "metadata": {
        "colab": {
          "base_uri": "https://localhost:8080/"
        },
        "id": "308rSUUFOAkJ",
        "outputId": "8a098023-dab9-4fb9-e5c8-8eba9a4078a9"
      },
      "source": [
        "np.mean(R)"
      ],
      "execution_count": 28,
      "outputs": [
        {
          "output_type": "execute_result",
          "data": {
            "text/plain": [
              "0.0028035874690468515"
            ]
          },
          "metadata": {
            "tags": []
          },
          "execution_count": 28
        }
      ]
    },
    {
      "cell_type": "code",
      "metadata": {
        "colab": {
          "base_uri": "https://localhost:8080/"
        },
        "id": "jsyJwhaYOAkK",
        "outputId": "5c044f73-8c3f-408c-a5f0-4b91f83c7285"
      },
      "source": [
        "np.std(R)"
      ],
      "execution_count": 29,
      "outputs": [
        {
          "output_type": "execute_result",
          "data": {
            "text/plain": [
              "0.021435953032726184"
            ]
          },
          "metadata": {
            "tags": []
          },
          "execution_count": 29
        }
      ]
    },
    {
      "cell_type": "markdown",
      "metadata": {
        "id": "h_2_MXH-OAkK"
      },
      "source": [
        "Now let's go backwards and generate data out of a normal distribution using the statistics we estimated from Microsoft's returns. We'll see that we have good reason to suspect Microsoft's returns may not be normal, as the resulting normal distribution looks far different."
      ]
    },
    {
      "cell_type": "code",
      "metadata": {
        "colab": {
          "base_uri": "https://localhost:8080/",
          "height": 283
        },
        "id": "PXHwB-GhOAkK",
        "outputId": "babbc8f2-f6c2-4320-b607-428ae2b0783b"
      },
      "source": [
        "plt.hist(np.random.normal(np.mean(R), np.std(R), 10000), bins=20)\n",
        "plt.xlabel('Return')\n",
        "plt.ylabel('Frequency')\n",
        "plt.legend(['Normally Distributed Returns']);"
      ],
      "execution_count": 30,
      "outputs": [
        {
          "output_type": "display_data",
          "data": {
            "image/png": "[encoded data removed]",
            "text/plain": [
              "<Figure size 432x288 with 1 Axes>"
            ]
          },
          "metadata": {
            "tags": [],
            "needs_background": "light"
          }
        }
      ]
    },
    {
      "cell_type": "markdown",
      "metadata": {
        "id": "-_6qraFMOAkK"
      },
      "source": [
        "##Generating a Moving Average\n",
        "\n",
        "`pandas` has some nice tools to allow us to generate rolling statistics. Here's an example. Notice how there's no moving average for the first 60 days, as we don't have 60 days of data on which to generate the statistic."
      ]
    },
    {
      "cell_type": "code",
      "metadata": {
        "id": "mPfhGENfOAkK",
        "colab": {
          "base_uri": "https://localhost:8080/",
          "height": 269
        },
        "outputId": "b5f3d6a8-fcd1-4e28-bfb3-83c3b7d41e09"
      },
      "source": [
        "# Take the average of the last 60 days at each timepoint.\n",
        "# MAVG = pd.rolling_mean(X, window=60)\n",
        "# plt.plot(X.index, X.values)\n",
        "# plt.plot(MAVG.index, MAVG.values)\n",
        "# plt.ylabel('Price')\n",
        "# plt.legend(['MSFT', '60-day MAVG']);\n",
        "# MAVG = pd.rolling_mean(Q, window=60)\n",
        "# la funcion de rolling_mean solo aparece en las versiones anterirores, lo que \n",
        "# recomienda es cambiar lpor:\n",
        "\n",
        "MAVG = Q.rolling(12).mean()\n",
        "plt.plot(Q.index, Q.values)\n",
        "plt.plot(MAVG.index, MAVG.values)\n",
        "plt.ylabel('Price')\n",
        "plt.legend(['APPL', '60-day MAVG']);"
      ],
      "execution_count": 32,
      "outputs": [
        {
          "output_type": "display_data",
          "data": {
            "image/png": "[encoded data removed]",
            "text/plain": [
              "<Figure size 432x288 with 1 Axes>"
            ]
          },
          "metadata": {
            "tags": [],
            "needs_background": "light"
          }
        }
      ]
    },
    {
      "cell_type": "markdown",
      "metadata": {
        "id": "rDiVUl0zOAkL"
      },
      "source": [
        "This presentation is for informational purposes only and does not constitute an offer to sell, a solicitation to buy, or a recommendation for any security; nor does it constitute an offer to provide investment advisory or other services by Quantopian, Inc. (\"Quantopian\"). Nothing contained herein constitutes investment advice or offers any opinion with respect to the suitability of any security, and any views expressed herein should not be taken as advice to buy, sell, or hold any security or as an endorsement of any security or company. In preparing the information contained herein, Quantopian, Inc. has not taken into account the investment needs, objectives, and financial circumstances of any particular investor. Any views expressed and data illustrated herein were prepared based upon information, believed to be reliable, available to Quantopian, Inc. at the time of publication. Quantopian makes no guarantees as to their accuracy or completeness. All information is subject to change and may quickly become unreliable for various reasons, including changes in market conditions or economic circumstances."
      ]
    }
  ]
}