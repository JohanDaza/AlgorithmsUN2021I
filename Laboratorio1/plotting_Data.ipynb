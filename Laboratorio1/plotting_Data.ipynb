{
  "nbformat": 4,
  "nbformat_minor": 0,
  "metadata": {
    "kernelspec": {
      "name": "python3",
      "display_name": "Python 3"
    },
    "colab": {
      "name": "plotting Data.ipynb",
      "provenance": [],
      "collapsed_sections": []
    }
  },
  "cells": [
    {
      "cell_type": "markdown",
      "metadata": {
        "id": "UBtxFZAvAS-t"
      },
      "source": [
        "# Graphical Representations of Data\n",
        "By Evgenia \"Jenny\" Nitishinskaya, Maxwell Margenot, and Delaney Granizo-Mackenzie.\n",
        "\n",
        "Part of the Quantopian Lecture Series:\n",
        "\n",
        "* [www.quantopian.com/lectures](https://www.quantopian.com/lectures)\n",
        "* [github.com/quantopian/research_public](https://github.com/quantopian/research_public)\n",
        "\n",
        "\n",
        "\n",
        "Representing data graphically can be incredibly useful for learning how the data behaves and seeing potential structure or flaws. Care should be taken, as humans are incredibly good at seeing only evidence that confirms our beliefs, and visual data lends itself well to that. Plots are good to use when formulating a hypothesis, but should not be used to test a hypothesis.\n",
        "\n",
        "We will go over some common plots here."
      ]
    },
    {
      "cell_type": "code",
      "metadata": {
        "colab": {
          "base_uri": "https://localhost:8080/"
        },
        "id": "t_NrZiujHuI1",
        "outputId": "2ac747da-e062-465f-f863-4d1c4549a863"
      },
      "source": [
        "pip install pandas-datareader"
      ],
      "execution_count": 1,
      "outputs": [
        {
          "output_type": "stream",
          "text": [
            "Requirement already satisfied: pandas-datareader in /usr/local/lib/python3.7/dist-packages (0.9.0)\n",
            "Requirement already satisfied: requests>=2.19.0 in /usr/local/lib/python3.7/dist-packages (from pandas-datareader) (2.23.0)\n",
            "Requirement already satisfied: pandas>=0.23 in /usr/local/lib/python3.7/dist-packages (from pandas-datareader) (1.1.5)\n",
            "Requirement already satisfied: lxml in /usr/local/lib/python3.7/dist-packages (from pandas-datareader) (4.2.6)\n",
            "Requirement already satisfied: certifi>=2017.4.17 in /usr/local/lib/python3.7/dist-packages (from requests>=2.19.0->pandas-datareader) (2020.12.5)\n",
            "Requirement already satisfied: idna<3,>=2.5 in /usr/local/lib/python3.7/dist-packages (from requests>=2.19.0->pandas-datareader) (2.10)\n",
            "Requirement already satisfied: urllib3!=1.25.0,!=1.25.1,<1.26,>=1.21.1 in /usr/local/lib/python3.7/dist-packages (from requests>=2.19.0->pandas-datareader) (1.24.3)\n",
            "Requirement already satisfied: chardet<4,>=3.0.2 in /usr/local/lib/python3.7/dist-packages (from requests>=2.19.0->pandas-datareader) (3.0.4)\n",
            "Requirement already satisfied: python-dateutil>=2.7.3 in /usr/local/lib/python3.7/dist-packages (from pandas>=0.23->pandas-datareader) (2.8.1)\n",
            "Requirement already satisfied: numpy>=1.15.4 in /usr/local/lib/python3.7/dist-packages (from pandas>=0.23->pandas-datareader) (1.19.5)\n",
            "Requirement already satisfied: pytz>=2017.2 in /usr/local/lib/python3.7/dist-packages (from pandas>=0.23->pandas-datareader) (2018.9)\n",
            "Requirement already satisfied: six>=1.5 in /usr/local/lib/python3.7/dist-packages (from python-dateutil>=2.7.3->pandas>=0.23->pandas-datareader) (1.15.0)\n"
          ],
          "name": "stdout"
        }
      ]
    },
    {
      "cell_type": "code",
      "metadata": {
        "collapsed": true,
        "id": "fdwEYoNCAS-1"
      },
      "source": [
        "# Import our libraries\n",
        "\n",
        "# This is for numerical processing\n",
        "import numpy as np\n",
        "# This is the library most commonly used for plotting in Python.\n",
        "# Notice how we import it 'as' plt, this enables us to type plt\n",
        "# rather than the full string every time.\n",
        "import matplotlib.pyplot as plt\n",
        "import pandas_datareader as pdr\n",
        "import datetime"
      ],
      "execution_count": 2,
      "outputs": []
    },
    {
      "cell_type": "markdown",
      "metadata": {
        "id": "AVOsk6WFAS-2"
      },
      "source": [
        "## Getting Some Data\n",
        "\n",
        "If we're going to plot data we need some data to plot. We'll get the pricing data of Apple (AAPL) and Microsoft (MSFT) to use in our examples.\n",
        "\n",
        "### Data Structure\n",
        "\n",
        "Knowing the structure of your data is very important. Normally you'll have to do a ton of work molding your data into the form you need for testing. Quantopian has done a lot of cleaning on the data, but you still need to put it into the right shapes and formats for your purposes.\n",
        "\n",
        "In this case the data will be returned as a pandas dataframe object. The rows are timestamps, and the columns are the two assets, AAPL and MSFT."
      ]
    },
    {
      "cell_type": "code",
      "metadata": {
        "colab": {
          "base_uri": "https://localhost:8080/",
          "height": 266
        },
        "id": "SvGfJxlSAS-2",
        "outputId": "085dec37-daa8-47d3-e2ba-2dc1b26c89ae"
      },
      "source": [
        "# start = '2018-01-01'\n",
        "# end = '2020-01-01'\n",
        "# data = get_pricing(['AAPL', 'MSFT'], fields='price', start_date=start, end_date=end)\n",
        "# data = \n",
        "# data.head()\n",
        "start = datetime.datetime(2020,1,1)\n",
        "end = datetime.datetime(2020,3,1)\n",
        "data = pdr.get_data_yahoo(['AAPL', 'MSFT'],start,end)\n",
        "data.head()\n"
      ],
      "execution_count": 3,
      "outputs": [
        {
          "output_type": "execute_result",
          "data": {
            "text/html": [
              "<div>\n",
              "<style scoped>\n",
              "    .dataframe tbody tr th:only-of-type {\n",
              "        vertical-align: middle;\n",
              "    }\n",
              "\n",
              "    .dataframe tbody tr th {\n",
              "        vertical-align: top;\n",
              "    }\n",
              "\n",
              "    .dataframe thead tr th {\n",
              "        text-align: left;\n",
              "    }\n",
              "\n",
              "    .dataframe thead tr:last-of-type th {\n",
              "        text-align: right;\n",
              "    }\n",
              "</style>\n",
              "<table border=\"1\" class=\"dataframe\">\n",
              "  <thead>\n",
              "    <tr>\n",
              "      <th>Attributes</th>\n",
              "      <th colspan=\"2\" halign=\"left\">Adj Close</th>\n",
              "      <th colspan=\"2\" halign=\"left\">Close</th>\n",
              "      <th colspan=\"2\" halign=\"left\">High</th>\n",
              "      <th colspan=\"2\" halign=\"left\">Low</th>\n",
              "      <th colspan=\"2\" halign=\"left\">Open</th>\n",
              "      <th colspan=\"2\" halign=\"left\">Volume</th>\n",
              "    </tr>\n",
              "    <tr>\n",
              "      <th>Symbols</th>\n",
              "      <th>AAPL</th>\n",
              "      <th>MSFT</th>\n",
              "      <th>AAPL</th>\n",
              "      <th>MSFT</th>\n",
              "      <th>AAPL</th>\n",
              "      <th>MSFT</th>\n",
              "      <th>AAPL</th>\n",
              "      <th>MSFT</th>\n",
              "      <th>AAPL</th>\n",
              "      <th>MSFT</th>\n",
              "      <th>AAPL</th>\n",
              "      <th>MSFT</th>\n",
              "    </tr>\n",
              "    <tr>\n",
              "      <th>Date</th>\n",
              "      <th></th>\n",
              "      <th></th>\n",
              "      <th></th>\n",
              "      <th></th>\n",
              "      <th></th>\n",
              "      <th></th>\n",
              "      <th></th>\n",
              "      <th></th>\n",
              "      <th></th>\n",
              "      <th></th>\n",
              "      <th></th>\n",
              "      <th></th>\n",
              "    </tr>\n",
              "  </thead>\n",
              "  <tbody>\n",
              "    <tr>\n",
              "      <th>2020-01-02</th>\n",
              "      <td>74.333511</td>\n",
              "      <td>158.571075</td>\n",
              "      <td>75.087502</td>\n",
              "      <td>160.619995</td>\n",
              "      <td>75.150002</td>\n",
              "      <td>160.729996</td>\n",
              "      <td>73.797501</td>\n",
              "      <td>158.330002</td>\n",
              "      <td>74.059998</td>\n",
              "      <td>158.779999</td>\n",
              "      <td>135480400.0</td>\n",
              "      <td>22622100.0</td>\n",
              "    </tr>\n",
              "    <tr>\n",
              "      <th>2020-01-03</th>\n",
              "      <td>73.610840</td>\n",
              "      <td>156.596588</td>\n",
              "      <td>74.357498</td>\n",
              "      <td>158.619995</td>\n",
              "      <td>75.144997</td>\n",
              "      <td>159.949997</td>\n",
              "      <td>74.125000</td>\n",
              "      <td>158.059998</td>\n",
              "      <td>74.287498</td>\n",
              "      <td>158.320007</td>\n",
              "      <td>146322800.0</td>\n",
              "      <td>21116200.0</td>\n",
              "    </tr>\n",
              "    <tr>\n",
              "      <th>2020-01-06</th>\n",
              "      <td>74.197395</td>\n",
              "      <td>157.001373</td>\n",
              "      <td>74.949997</td>\n",
              "      <td>159.029999</td>\n",
              "      <td>74.989998</td>\n",
              "      <td>159.100006</td>\n",
              "      <td>73.187500</td>\n",
              "      <td>156.509995</td>\n",
              "      <td>73.447502</td>\n",
              "      <td>157.080002</td>\n",
              "      <td>118387200.0</td>\n",
              "      <td>20813700.0</td>\n",
              "    </tr>\n",
              "    <tr>\n",
              "      <th>2020-01-07</th>\n",
              "      <td>73.848442</td>\n",
              "      <td>155.569855</td>\n",
              "      <td>74.597504</td>\n",
              "      <td>157.580002</td>\n",
              "      <td>75.224998</td>\n",
              "      <td>159.669998</td>\n",
              "      <td>74.370003</td>\n",
              "      <td>157.320007</td>\n",
              "      <td>74.959999</td>\n",
              "      <td>159.320007</td>\n",
              "      <td>108872000.0</td>\n",
              "      <td>21634100.0</td>\n",
              "    </tr>\n",
              "    <tr>\n",
              "      <th>2020-01-08</th>\n",
              "      <td>75.036385</td>\n",
              "      <td>158.047836</td>\n",
              "      <td>75.797501</td>\n",
              "      <td>160.089996</td>\n",
              "      <td>76.110001</td>\n",
              "      <td>160.800003</td>\n",
              "      <td>74.290001</td>\n",
              "      <td>157.949997</td>\n",
              "      <td>74.290001</td>\n",
              "      <td>158.929993</td>\n",
              "      <td>132079200.0</td>\n",
              "      <td>27746500.0</td>\n",
              "    </tr>\n",
              "  </tbody>\n",
              "</table>\n",
              "</div>"
            ],
            "text/plain": [
              "Attributes  Adj Close              ...       Volume            \n",
              "Symbols          AAPL        MSFT  ...         AAPL        MSFT\n",
              "Date                               ...                         \n",
              "2020-01-02  74.333511  158.571075  ...  135480400.0  22622100.0\n",
              "2020-01-03  73.610840  156.596588  ...  146322800.0  21116200.0\n",
              "2020-01-06  74.197395  157.001373  ...  118387200.0  20813700.0\n",
              "2020-01-07  73.848442  155.569855  ...  108872000.0  21634100.0\n",
              "2020-01-08  75.036385  158.047836  ...  132079200.0  27746500.0\n",
              "\n",
              "[5 rows x 12 columns]"
            ]
          },
          "metadata": {
            "tags": []
          },
          "execution_count": 3
        }
      ]
    },
    {
      "cell_type": "markdown",
      "metadata": {
        "id": "N_Q7X-KhAS-3"
      },
      "source": [
        "Indexing into the data with `data['AAPL']` will yield an error because the type of the columns are equity objects and not simple strings. Let's change that using this little piece of Python code. Don't worry about understanding it right now, unless you do, in which case congratulations."
      ]
    },
    {
      "cell_type": "code",
      "metadata": {
        "id": "ZDCarBbkAS-4"
      },
      "source": [
        "# data.columns = [e.symbol for e in data.columns]\n",
        "# data.head()\n",
        "# data.columns = ['']\n",
        "# print(data.columns)\n",
        "# data.head()\n",
        "# data.colums = data.iloc[1]\n",
        "# data.head()\n",
        "# print(data.iloc[1])\n",
        "#para este caso lo que deberia cambiar la informacion de las columnas pero como aqui estan ya puestas no se cambia"
      ],
      "execution_count": 4,
      "outputs": []
    },
    {
      "cell_type": "markdown",
      "metadata": {
        "id": "5x0bQ7HWAS-4"
      },
      "source": [
        "Much nicer, now we can index. Indexing into the 2D dataframe will give us a 1D series object. The index for the series is timestamps, the value upon index is a price. Similar to an array except instead of integer indecies it's times."
      ]
    },
    {
      "cell_type": "code",
      "metadata": {
        "colab": {
          "base_uri": "https://localhost:8080/"
        },
        "id": "PJ8V9yvLAS-5",
        "outputId": "0ddf7ccd-8918-4f3c-fe15-38d52add36d7"
      },
      "source": [
        "# data['MSFT'].head()\r\n",
        "data['Close'].head()\r\n",
        "print(data['Close'])\r\n",
        "print(data['Close','AAPL'])"
      ],
      "execution_count": 5,
      "outputs": [
        {
          "output_type": "stream",
          "text": [
            "Symbols          AAPL        MSFT\n",
            "Date                             \n",
            "2020-01-02  75.087502  160.619995\n",
            "2020-01-03  74.357498  158.619995\n",
            "2020-01-06  74.949997  159.029999\n",
            "2020-01-07  74.597504  157.580002\n",
            "2020-01-08  75.797501  160.089996\n",
            "2020-01-09  77.407501  162.089996\n",
            "2020-01-10  77.582497  161.339996\n",
            "2020-01-13  79.239998  163.279999\n",
            "2020-01-14  78.169998  162.130005\n",
            "2020-01-15  77.834999  163.179993\n",
            "2020-01-16  78.809998  166.169998\n",
            "2020-01-17  79.682503  167.100006\n",
            "2020-01-21  79.142502  166.500000\n",
            "2020-01-22  79.425003  165.699997\n",
            "2020-01-23  79.807503  166.720001\n",
            "2020-01-24  79.577499  165.039993\n",
            "2020-01-27  77.237503  162.279999\n",
            "2020-01-28  79.422501  165.460007\n",
            "2020-01-29  81.084999  168.039993\n",
            "2020-01-30  80.967499  172.779999\n",
            "2020-01-31  77.377502  170.229996\n",
            "2020-02-03  77.165001  174.380005\n",
            "2020-02-04  79.712502  180.119995\n",
            "2020-02-05  80.362503  179.899994\n",
            "2020-02-06  81.302498  183.630005\n",
            "2020-02-07  80.007500  183.889999\n",
            "2020-02-10  80.387497  188.699997\n",
            "2020-02-11  79.902496  184.440002\n",
            "2020-02-12  81.800003  184.710007\n",
            "2020-02-13  81.217499  183.710007\n",
            "2020-02-14  81.237503  185.350006\n",
            "2020-02-18  79.750000  187.229996\n",
            "2020-02-19  80.904999  187.279999\n",
            "2020-02-20  80.074997  184.419998\n",
            "2020-02-21  78.262497  178.589996\n",
            "2020-02-24  74.544998  170.889999\n",
            "2020-02-25  72.019997  168.070007\n",
            "2020-02-26  73.162498  170.169998\n",
            "2020-02-27  68.379997  158.179993\n",
            "2020-02-28  68.339996  162.009995\n",
            "Date\n",
            "2020-01-02    75.087502\n",
            "2020-01-03    74.357498\n",
            "2020-01-06    74.949997\n",
            "2020-01-07    74.597504\n",
            "2020-01-08    75.797501\n",
            "2020-01-09    77.407501\n",
            "2020-01-10    77.582497\n",
            "2020-01-13    79.239998\n",
            "2020-01-14    78.169998\n",
            "2020-01-15    77.834999\n",
            "2020-01-16    78.809998\n",
            "2020-01-17    79.682503\n",
            "2020-01-21    79.142502\n",
            "2020-01-22    79.425003\n",
            "2020-01-23    79.807503\n",
            "2020-01-24    79.577499\n",
            "2020-01-27    77.237503\n",
            "2020-01-28    79.422501\n",
            "2020-01-29    81.084999\n",
            "2020-01-30    80.967499\n",
            "2020-01-31    77.377502\n",
            "2020-02-03    77.165001\n",
            "2020-02-04    79.712502\n",
            "2020-02-05    80.362503\n",
            "2020-02-06    81.302498\n",
            "2020-02-07    80.007500\n",
            "2020-02-10    80.387497\n",
            "2020-02-11    79.902496\n",
            "2020-02-12    81.800003\n",
            "2020-02-13    81.217499\n",
            "2020-02-14    81.237503\n",
            "2020-02-18    79.750000\n",
            "2020-02-19    80.904999\n",
            "2020-02-20    80.074997\n",
            "2020-02-21    78.262497\n",
            "2020-02-24    74.544998\n",
            "2020-02-25    72.019997\n",
            "2020-02-26    73.162498\n",
            "2020-02-27    68.379997\n",
            "2020-02-28    68.339996\n",
            "Name: (Close, AAPL), dtype: float64\n"
          ],
          "name": "stdout"
        }
      ]
    },
    {
      "cell_type": "markdown",
      "metadata": {
        "id": "d9usUz0LAS-5"
      },
      "source": [
        "##Histogram\n",
        "\n",
        "A histogram is a visualization of how frequent different values of data are. By displaying a frequency distribution using bars, it lets us quickly see where most of the observations are clustered. The height of each bar represents the number of observations that lie in each interval. You can think of a histogram as an empirical and discrete Probability Density Function (PDF)."
      ]
    },
    {
      "cell_type": "code",
      "metadata": {
        "colab": {
          "base_uri": "https://localhost:8080/",
          "height": 312
        },
        "id": "qiNIGWDVAS-5",
        "outputId": "3b27650c-f0a5-4de4-f90c-e6aa67d65064"
      },
      "source": [
        "# Plot a histogram using 20 bins\n",
        "# plt.hist(data['MSFT'], bins=20)\n",
        "# plt.xlabel('Price')\n",
        "# plt.ylabel('Number of Days Observed')\n",
        "# plt.title('Frequency Distribution of MSFT Prices, 2014');\n",
        "# print(data['Close'])\n",
        "# plt.hist(data['Close'],bins=20) # bins define el rango\n",
        "data = pdr.get_data_yahoo('AAPL',start,end)\n",
        "plt.hist(data['Close'], bins=20) # bins define el rango\n",
        "plt.xlabel('precio')\n",
        "plt.ylabel('numero de dias observados')\n",
        "plt.title('Frequency Distribution of Close Prices, 2020')\n",
        "#NOTA: para que se vea bien el data que se pasa solo debe tener la informacion de na epresa por ejemplo"
      ],
      "execution_count": 6,
      "outputs": [
        {
          "output_type": "execute_result",
          "data": {
            "text/plain": [
              "Text(0.5, 1.0, 'Frequency Distribution of Close Prices, 2020')"
            ]
          },
          "metadata": {
            "tags": []
          },
          "execution_count": 6
        },
        {
          "output_type": "display_data",
          "data": {
            "image/png": "[encoded data removed]",
            "text/plain": [
              "<Figure size 432x288 with 1 Axes>"
            ]
          },
          "metadata": {
            "tags": [],
            "needs_background": "light"
          }
        }
      ]
    },
    {
      "cell_type": "markdown",
      "metadata": {
        "id": "QRK20zUuAS-6"
      },
      "source": [
        "### Returns Histogram\n",
        "\n",
        "In finance rarely will we look at the distribution of prices. The reason for this is that prices are non-stationary and move around a lot. For more info on non-stationarity please see [this lecture](https://www.quantopian.com/lectures/integration-cointegration-and-stationarity). Instead we will use daily returns. Let's try that now."
      ]
    },
    {
      "cell_type": "code",
      "metadata": {
        "colab": {
          "base_uri": "https://localhost:8080/",
          "height": 295
        },
        "id": "RYB39SdOAS-6",
        "outputId": "fb93918d-b6d2-4714-c11c-45be12d711bf"
      },
      "source": [
        "# Remove the first element because percent change from nothing to something is NaN\n",
        "# R = data['MSFT'].pct_change()[1:]\n",
        "\n",
        "# # Plot a histogram using 20 bins\n",
        "# plt.hist(R, bins=20)\n",
        "# plt.xlabel('Return')\n",
        "# plt.ylabel('Number of Days Observed')\n",
        "# plt.title('Frequency Distribution of MSFT Returns, 2014');\n",
        "R = data['Close'].pct_change()[1:]\n",
        "\n",
        "# Plot a histogram using 20 bins\n",
        "plt.hist(R, bins=10)\n",
        "plt.xlabel('retorno')\n",
        "plt.ylabel('numero de dias observador')\n",
        "plt.title('Frequency Distribution of close Returns, 2020');"
      ],
      "execution_count": 7,
      "outputs": [
        {
          "output_type": "display_data",
          "data": {
            "image/png": "[encoded data removed]",
            "text/plain": [
              "<Figure size 432x288 with 1 Axes>"
            ]
          },
          "metadata": {
            "tags": [],
            "needs_background": "light"
          }
        }
      ]
    },
    {
      "cell_type": "markdown",
      "metadata": {
        "id": "OiwmiyCcAS-7"
      },
      "source": [
        "The graph above shows, for example, that the daily returns of MSFT were above 0.03 on fewer than 5 days in 2014. Note that we are completely discarding the dates corresponding to these returns. \n",
        "\n",
        "#####IMPORTANT: Note also that this does not imply that future returns will have the same distribution."
      ]
    },
    {
      "cell_type": "markdown",
      "metadata": {
        "id": "U8hBVB2iAS-7"
      },
      "source": [
        "### Cumulative Histogram (Discrete Estimated CDF)\n",
        "\n",
        "An alternative way to display the data would be using a cumulative distribution function, in which the height of a bar represents the number of observations that lie in that bin or in one of the previous ones. This graph is always nondecreasing since you cannot have a negative number of observations. The choice of graph depends on the information you are interested in."
      ]
    },
    {
      "cell_type": "code",
      "metadata": {
        "colab": {
          "base_uri": "https://localhost:8080/",
          "height": 295
        },
        "id": "fVuqCPBBAS-7",
        "outputId": "dd561740-efc1-4123-df5a-c7c1df0e70a8"
      },
      "source": [
        "# Remove the first element because percent change from nothing to something is NaN\n",
        "# R = data['MSFT'].pct_change()[1:]\n",
        "\n",
        "# # Plot a histogram using 20 bins\n",
        "# plt.hist(R, bins=20, cumulative=True)\n",
        "# plt.xlabel('Return')\n",
        "# plt.ylabel('Number of Days Observed')\n",
        "# plt.title('Cumulative Distribution of MSFT Returns, 2014');\n",
        "R = data['Close'].pct_change()[1:]\n",
        "\n",
        "# Plot a histogram using 20 bins\n",
        "plt.hist(R, bins=60, cumulative=True)\n",
        "plt.xlabel('retorno')\n",
        "plt.ylabel('numero de dias observados')\n",
        "plt.title('Distribucion acumulada, 2020');\n",
        "\n",
        "# plt.hist(R, bins=600, cumulative=True)\n",
        "# plt.xlabel('retorno')\n",
        "# plt.ylabel('numero de dias observados')\n",
        "# plt.title('Distribucion acumulada, 2020');"
      ],
      "execution_count": 8,
      "outputs": [
        {
          "output_type": "display_data",
          "data": {
            "image/png": "[encoded data removed]",
            "text/plain": [
              "<Figure size 432x288 with 1 Axes>"
            ]
          },
          "metadata": {
            "tags": [],
            "needs_background": "light"
          }
        }
      ]
    },
    {
      "cell_type": "markdown",
      "metadata": {
        "id": "wfj-ffeKAS-7"
      },
      "source": [
        "## Scatter plot\n",
        "\n",
        "A scatter plot is useful for visualizing the relationship between two data sets. We use two data sets which have some sort of correspondence, such as the date on which the measurement was taken. Each point represents two corresponding values from the two data sets. However, we don't plot the date that the measurements were taken on."
      ]
    },
    {
      "cell_type": "code",
      "metadata": {
        "colab": {
          "base_uri": "https://localhost:8080/",
          "height": 295
        },
        "id": "PCXJkFTMAS-8",
        "outputId": "a5400f09-d96d-4edc-86db-a08aca32f3bb"
      },
      "source": [
        "# plt.scatter(data['MSFT'], data['AAPL'])\n",
        "# plt.xlabel('MSFT')\n",
        "# plt.ylabel('AAPL')\n",
        "# plt.title('Daily Prices in 2014');\n",
        "plt.scatter(data['Close'], data['High'])\n",
        "plt.xlabel('Close')\n",
        "plt.ylabel('High')\n",
        "plt.title('Daily Prices in 2014');"
      ],
      "execution_count": 9,
      "outputs": [
        {
          "output_type": "display_data",
          "data": {
            "image/png": "[encoded data removed]",
            "text/plain": [
              "<Figure size 432x288 with 1 Axes>"
            ]
          },
          "metadata": {
            "tags": [],
            "needs_background": "light"
          }
        }
      ]
    },
    {
      "cell_type": "code",
      "metadata": {
        "colab": {
          "base_uri": "https://localhost:8080/",
          "height": 295
        },
        "id": "kqCPY-NYAS-8",
        "outputId": "6ae38a39-65c4-44fd-ac90-f88b29766a6d"
      },
      "source": [
        "# R_msft = data['MSFT'].pct_change()[1:]\n",
        "# R_aapl = data['AAPL'].pct_change()[1:]\n",
        "\n",
        "# plt.scatter(R_msft, R_aapl)\n",
        "# plt.xlabel('MSFT')\n",
        "# plt.ylabel('AAPL')\n",
        "# plt.title('Daily Returns in 2014');\n",
        "R_Close = data['Close'].pct_change()[1:]\n",
        "R_High = data['High'].pct_change()[1:]\n",
        "\n",
        "plt.scatter(R_Close, R_High)\n",
        "plt.xlabel('Close')\n",
        "plt.ylabel('High')\n",
        "plt.title('Daily Prices in 2014');"
      ],
      "execution_count": 10,
      "outputs": [
        {
          "output_type": "display_data",
          "data": {
            "image/png": "[encoded data removed]",
            "text/plain": [
              "<Figure size 432x288 with 1 Axes>"
            ]
          },
          "metadata": {
            "tags": [],
            "needs_background": "light"
          }
        }
      ]
    },
    {
      "cell_type": "markdown",
      "metadata": {
        "id": "xQzbffoBAS-9"
      },
      "source": [
        "# Line graph\n",
        "\n",
        "A line graph can be used when we want to track the development of the y value as the x value changes. For instance, when we are plotting the price of a stock, showing it as a line graph instead of just plotting the data points makes it easier to follow the price over time. This necessarily involves \"connecting the dots\" between the data points, which can mask out changes that happened between the time we took measurements."
      ]
    },
    {
      "cell_type": "code",
      "metadata": {
        "colab": {
          "base_uri": "https://localhost:8080/",
          "height": 265
        },
        "id": "JWAAnme6AS-9",
        "outputId": "8bcf4736-b206-4c17-f627-58757d6713b5"
      },
      "source": [
        "# plt.plot(data['MSFT'])\n",
        "# plt.plot(data['AAPL'])\n",
        "# plt.ylabel('Price')\n",
        "# plt.legend(['MSFT', 'AAPL']);\n",
        "# print(type(data))\n",
        "# plt.plot(data['Close':'AAPL'])\n",
        "# plt.plot(data['Close.MSFT'])\n",
        "# plt.ylabel('Price')\n",
        "# plt.legend(['MSFT', 'AAPL']);\n",
        "data = pdr.get_data_yahoo(['AAPL', 'MSFT'],start,end)\n",
        "# data['Close','AAPL']# con esta forma puedo imprimir por ejmplo Close pero solo de AAPL\n",
        "plt.plot(data['Open','AAPL'])\n",
        "plt.plot(data['Open','MSFT'])\n",
        "plt.ylabel('Price')\n",
        "plt.legend(['MSFT', 'AAPL']);"
      ],
      "execution_count": 11,
      "outputs": [
        {
          "output_type": "display_data",
          "data": {
            "image/png": "[encoded data removed]",
            "text/plain": [
              "<Figure size 432x288 with 1 Axes>"
            ]
          },
          "metadata": {
            "tags": [],
            "needs_background": "light"
          }
        }
      ]
    },
    {
      "cell_type": "code",
      "metadata": {
        "colab": {
          "base_uri": "https://localhost:8080/",
          "height": 281
        },
        "id": "-FiBqh1nAS--",
        "outputId": "baa90277-4f38-4f3e-b33c-82b7567c81e2"
      },
      "source": [
        "# # Remove the first element because percent change from nothing to something is NaN\n",
        "# R = data['MSFT'].pct_change()[1:]\n",
        "\n",
        "# plt.plot(R)\n",
        "# plt.ylabel('Return')\n",
        "# plt.title('MSFT Returns');\n",
        "# Remove the first element because percent change from nothing to something is NaN\n",
        "R = data['Open','MSFT'].pct_change()[1:]\n",
        "\n",
        "plt.plot(R)\n",
        "plt.ylabel('Return')\n",
        "plt.title('MSFT Returns');"
      ],
      "execution_count": 12,
      "outputs": [
        {
          "output_type": "display_data",
          "data": {
            "image/png": "[encoded data removed]",
            "text/plain": [
              "<Figure size 432x288 with 1 Axes>"
            ]
          },
          "metadata": {
            "tags": [],
            "needs_background": "light"
          }
        }
      ]
    },
    {
      "cell_type": "markdown",
      "metadata": {
        "id": "1nIr-8SbAS--"
      },
      "source": [
        "## Never Assume Conditions Hold\n",
        "\n",
        "Again, whenever using plots to visualize data, do not assume you can test a hypothesis by looking at a graph. Also do not assume that because a distribution or trend used to be true, it is still true. In general much more sophisticated and careful validation is required to test whether models hold. Plots are mainly useful when initially deciding how your models should work."
      ]
    },
    {
      "cell_type": "markdown",
      "metadata": {
        "id": "Z0f9c4LUAS-_"
      },
      "source": [
        "*This presentation is for informational purposes only and does not constitute an offer to sell, a solicitation to buy, or a recommendation for any security; nor does it constitute an offer to provide investment advisory or other services by Quantopian, Inc. (\"Quantopian\"). Nothing contained herein constitutes investment advice or offers any opinion with respect to the suitability of any security, and any views expressed herein should not be taken as advice to buy, sell, or hold any security or as an endorsement of any security or company.  In preparing the information contained herein, Quantopian, Inc. has not taken into account the investment needs, objectives, and financial circumstances of any particular investor. Any views expressed and data illustrated herein were prepared based upon information, believed to be reliable, available to Quantopian, Inc. at the time of publication. Quantopian makes no guarantees as to their accuracy or completeness. All information is subject to change and may quickly become unreliable for various reasons, including changes in market conditions or economic circumstances.*"
      ]
    }
  ]
}